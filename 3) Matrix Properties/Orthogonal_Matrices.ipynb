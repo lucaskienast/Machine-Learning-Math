{
  "nbformat": 4,
  "nbformat_minor": 0,
  "metadata": {
    "colab": {
      "name": "Orthogonal Matrices.ipynb",
      "provenance": [],
      "collapsed_sections": []
    },
    "kernelspec": {
      "name": "python3",
      "display_name": "Python 3"
    },
    "language_info": {
      "name": "python"
    }
  },
  "cells": [
    {
      "cell_type": "markdown",
      "metadata": {
        "id": "94lAaSIWL6JR"
      },
      "source": [
        "# Orthogonal Matrices\n",
        "\n",
        "- all rows and columns orthonormal (i.e. at 90° and with L2-Norm of 1)\n",
        "- hence, $A^{T}A=AA^{T}=I$\n",
        "- and $A^{T}=A^{-1}I=A^{-1}$\n",
        "- computationally efficient to use to produce inverse"
      ]
    },
    {
      "cell_type": "markdown",
      "metadata": {
        "id": "URDpw2A_MsUk"
      },
      "source": [
        "## Numpy: orthogonality of Identity Matrix\n",
        "\n",
        "- all rows and columns orthonormal (i.e. at 90° and with L2-Norm of 1)\n",
        "- hence, $A^{T}A=AA^{T}=I$"
      ]
    },
    {
      "cell_type": "code",
      "metadata": {
        "id": "6FH8Sx9FCtOj"
      },
      "source": [
        "import numpy as np"
      ],
      "execution_count": 1,
      "outputs": []
    },
    {
      "cell_type": "code",
      "metadata": {
        "colab": {
          "base_uri": "https://localhost:8080/"
        },
        "id": "gLdIo6DWM2DH",
        "outputId": "90cd2484-3a7d-4354-c969-1007af4e1b5f"
      },
      "source": [
        "I = np.array([[1,0,0], [0,1,0], [0,0,1]])\n",
        "I"
      ],
      "execution_count": 2,
      "outputs": [
        {
          "output_type": "execute_result",
          "data": {
            "text/plain": [
              "array([[1, 0, 0],\n",
              "       [0, 1, 0],\n",
              "       [0, 0, 1]])"
            ]
          },
          "metadata": {
            "tags": []
          },
          "execution_count": 2
        }
      ]
    },
    {
      "cell_type": "code",
      "metadata": {
        "colab": {
          "base_uri": "https://localhost:8080/"
        },
        "id": "-iSs7rjlM8-u",
        "outputId": "439e8db5-366a-4802-eaa5-776b7bd68889"
      },
      "source": [
        "column_1 = I[:,0]\n",
        "column_1"
      ],
      "execution_count": 3,
      "outputs": [
        {
          "output_type": "execute_result",
          "data": {
            "text/plain": [
              "array([1, 0, 0])"
            ]
          },
          "metadata": {
            "tags": []
          },
          "execution_count": 3
        }
      ]
    },
    {
      "cell_type": "code",
      "metadata": {
        "colab": {
          "base_uri": "https://localhost:8080/"
        },
        "id": "HKqqLrDfNEy4",
        "outputId": "54108942-e900-4f4a-b936-718172ad02c8"
      },
      "source": [
        "column_2 = I[:,1]\n",
        "column_2"
      ],
      "execution_count": 4,
      "outputs": [
        {
          "output_type": "execute_result",
          "data": {
            "text/plain": [
              "array([0, 1, 0])"
            ]
          },
          "metadata": {
            "tags": []
          },
          "execution_count": 4
        }
      ]
    },
    {
      "cell_type": "code",
      "metadata": {
        "colab": {
          "base_uri": "https://localhost:8080/"
        },
        "id": "HfhLgbJXNJhH",
        "outputId": "bfa67aaf-0432-4368-c81e-47836c9be72f"
      },
      "source": [
        "column_3 = I[:,2]\n",
        "column_3"
      ],
      "execution_count": 5,
      "outputs": [
        {
          "output_type": "execute_result",
          "data": {
            "text/plain": [
              "array([0, 0, 1])"
            ]
          },
          "metadata": {
            "tags": []
          },
          "execution_count": 5
        }
      ]
    },
    {
      "cell_type": "code",
      "metadata": {
        "colab": {
          "base_uri": "https://localhost:8080/"
        },
        "id": "nEi9FvagNNHH",
        "outputId": "dfff8fe9-5631-449d-b380-ac72d386dfc5"
      },
      "source": [
        "np.dot(column_1, column_2) # dot product must be 0"
      ],
      "execution_count": 6,
      "outputs": [
        {
          "output_type": "execute_result",
          "data": {
            "text/plain": [
              "0"
            ]
          },
          "metadata": {
            "tags": []
          },
          "execution_count": 6
        }
      ]
    },
    {
      "cell_type": "code",
      "metadata": {
        "colab": {
          "base_uri": "https://localhost:8080/"
        },
        "id": "EVafr4LbNT32",
        "outputId": "8353c66e-953d-4265-de94-73143fa75202"
      },
      "source": [
        "np.dot(column_1, column_3) # dot product must be 0"
      ],
      "execution_count": 7,
      "outputs": [
        {
          "output_type": "execute_result",
          "data": {
            "text/plain": [
              "0"
            ]
          },
          "metadata": {
            "tags": []
          },
          "execution_count": 7
        }
      ]
    },
    {
      "cell_type": "code",
      "metadata": {
        "colab": {
          "base_uri": "https://localhost:8080/"
        },
        "id": "wT1LLERCNWZQ",
        "outputId": "3b21b9b2-eea5-4aca-a5a4-73c0c882115c"
      },
      "source": [
        "np.dot(column_2, column_3) # dot product must be 0"
      ],
      "execution_count": 8,
      "outputs": [
        {
          "output_type": "execute_result",
          "data": {
            "text/plain": [
              "0"
            ]
          },
          "metadata": {
            "tags": []
          },
          "execution_count": 8
        }
      ]
    },
    {
      "cell_type": "code",
      "metadata": {
        "colab": {
          "base_uri": "https://localhost:8080/"
        },
        "id": "GpC16i5kNYfQ",
        "outputId": "debbe0f2-bb41-42fb-e28d-32ba05764510"
      },
      "source": [
        "np.linalg.norm(column_1) # L2 norm must be 1"
      ],
      "execution_count": 9,
      "outputs": [
        {
          "output_type": "execute_result",
          "data": {
            "text/plain": [
              "1.0"
            ]
          },
          "metadata": {
            "tags": []
          },
          "execution_count": 9
        }
      ]
    },
    {
      "cell_type": "code",
      "metadata": {
        "colab": {
          "base_uri": "https://localhost:8080/"
        },
        "id": "LsW4BHzvNcVw",
        "outputId": "739be080-53c2-4444-83a1-ef98237e7a6d"
      },
      "source": [
        "np.linalg.norm(column_2) # L2 norm must be 1"
      ],
      "execution_count": 10,
      "outputs": [
        {
          "output_type": "execute_result",
          "data": {
            "text/plain": [
              "1.0"
            ]
          },
          "metadata": {
            "tags": []
          },
          "execution_count": 10
        }
      ]
    },
    {
      "cell_type": "code",
      "metadata": {
        "colab": {
          "base_uri": "https://localhost:8080/"
        },
        "id": "xtwuZaVjNeZQ",
        "outputId": "2cfd48d9-9e43-4afa-bbe9-f863c41e1fca"
      },
      "source": [
        "np.linalg.norm(column_3) # L2 norm must be 1"
      ],
      "execution_count": 11,
      "outputs": [
        {
          "output_type": "execute_result",
          "data": {
            "text/plain": [
              "1.0"
            ]
          },
          "metadata": {
            "tags": []
          },
          "execution_count": 11
        }
      ]
    },
    {
      "cell_type": "code",
      "metadata": {
        "colab": {
          "base_uri": "https://localhost:8080/"
        },
        "id": "6CZlhdWoNe-g",
        "outputId": "9cd1178d-2b31-4357-daff-f08ad59b1166"
      },
      "source": [
        "I_T = I.T\n",
        "I_T"
      ],
      "execution_count": 12,
      "outputs": [
        {
          "output_type": "execute_result",
          "data": {
            "text/plain": [
              "array([[1, 0, 0],\n",
              "       [0, 1, 0],\n",
              "       [0, 0, 1]])"
            ]
          },
          "metadata": {
            "tags": []
          },
          "execution_count": 12
        }
      ]
    },
    {
      "cell_type": "code",
      "metadata": {
        "colab": {
          "base_uri": "https://localhost:8080/"
        },
        "id": "wycSE1MANpnR",
        "outputId": "daf19b9f-aa3a-476c-ef3b-005928efab03"
      },
      "source": [
        "np.dot(I_T, I) # transpose multiplied with original must be identity"
      ],
      "execution_count": 13,
      "outputs": [
        {
          "output_type": "execute_result",
          "data": {
            "text/plain": [
              "array([[1, 0, 0],\n",
              "       [0, 1, 0],\n",
              "       [0, 0, 1]])"
            ]
          },
          "metadata": {
            "tags": []
          },
          "execution_count": 13
        }
      ]
    },
    {
      "cell_type": "markdown",
      "metadata": {
        "id": "L95JH1c2N3qJ"
      },
      "source": [
        "## PyTorch: orthogonality of generic matrix\n",
        "\n",
        "All rows and columns orthonormal (i.e. at 90° and with L2-Norm of 1)"
      ]
    },
    {
      "cell_type": "code",
      "metadata": {
        "id": "7cnz6E2ZNuJ5"
      },
      "source": [
        "import torch"
      ],
      "execution_count": 14,
      "outputs": []
    },
    {
      "cell_type": "code",
      "metadata": {
        "colab": {
          "base_uri": "https://localhost:8080/"
        },
        "id": "cfyZtJs5ODZ7",
        "outputId": "420e131c-b2c5-4c81-ac45-a03825b756e5"
      },
      "source": [
        "A_torch = torch.tensor([[2/3, -2/3, 1/3], [1/3, 2/3, 2/3], [2/3, 1/3, -2/3]])\n",
        "A_torch"
      ],
      "execution_count": 15,
      "outputs": [
        {
          "output_type": "execute_result",
          "data": {
            "text/plain": [
              "tensor([[ 0.6667, -0.6667,  0.3333],\n",
              "        [ 0.3333,  0.6667,  0.6667],\n",
              "        [ 0.6667,  0.3333, -0.6667]])"
            ]
          },
          "metadata": {
            "tags": []
          },
          "execution_count": 15
        }
      ]
    },
    {
      "cell_type": "markdown",
      "metadata": {
        "id": "KqriDOxkOwYc"
      },
      "source": [
        "Check for orthonormal columns"
      ]
    },
    {
      "cell_type": "code",
      "metadata": {
        "colab": {
          "base_uri": "https://localhost:8080/"
        },
        "id": "cjCyOhWMOTOh",
        "outputId": "0fbca7a1-c947-483a-a76b-5ee45c8b5822"
      },
      "source": [
        "A_torch_col1 = A_torch[:,0]\n",
        "A_torch_col1"
      ],
      "execution_count": 16,
      "outputs": [
        {
          "output_type": "execute_result",
          "data": {
            "text/plain": [
              "tensor([0.6667, 0.3333, 0.6667])"
            ]
          },
          "metadata": {
            "tags": []
          },
          "execution_count": 16
        }
      ]
    },
    {
      "cell_type": "code",
      "metadata": {
        "colab": {
          "base_uri": "https://localhost:8080/"
        },
        "id": "ir8Q2jtFOapg",
        "outputId": "a3fbd031-c9d0-4faa-fa63-62d624a4a1da"
      },
      "source": [
        "A_torch_col2 = A_torch[:,1]\n",
        "A_torch_col2"
      ],
      "execution_count": 17,
      "outputs": [
        {
          "output_type": "execute_result",
          "data": {
            "text/plain": [
              "tensor([-0.6667,  0.6667,  0.3333])"
            ]
          },
          "metadata": {
            "tags": []
          },
          "execution_count": 17
        }
      ]
    },
    {
      "cell_type": "code",
      "metadata": {
        "colab": {
          "base_uri": "https://localhost:8080/"
        },
        "id": "88YDNopMOdro",
        "outputId": "5b602285-1711-4008-f270-0238de47ffec"
      },
      "source": [
        "A_torch_col3 = A_torch[:,2]\n",
        "A_torch_col3"
      ],
      "execution_count": 18,
      "outputs": [
        {
          "output_type": "execute_result",
          "data": {
            "text/plain": [
              "tensor([ 0.3333,  0.6667, -0.6667])"
            ]
          },
          "metadata": {
            "tags": []
          },
          "execution_count": 18
        }
      ]
    },
    {
      "cell_type": "code",
      "metadata": {
        "colab": {
          "base_uri": "https://localhost:8080/"
        },
        "id": "QvJttimMOfm7",
        "outputId": "dc04e551-a8a8-4b24-cbb6-f0e8bdee3d08"
      },
      "source": [
        "torch.matmul(A_torch_col1, A_torch_col2) # dot product must be 0"
      ],
      "execution_count": 19,
      "outputs": [
        {
          "output_type": "execute_result",
          "data": {
            "text/plain": [
              "tensor(0.)"
            ]
          },
          "metadata": {
            "tags": []
          },
          "execution_count": 19
        }
      ]
    },
    {
      "cell_type": "code",
      "metadata": {
        "colab": {
          "base_uri": "https://localhost:8080/"
        },
        "id": "tYaCi2niOlib",
        "outputId": "e8b4e452-77fd-4fa0-8f31-bf83b6fea09d"
      },
      "source": [
        "torch.matmul(A_torch_col1, A_torch_col3) # dot product must be 0"
      ],
      "execution_count": 20,
      "outputs": [
        {
          "output_type": "execute_result",
          "data": {
            "text/plain": [
              "tensor(0.)"
            ]
          },
          "metadata": {
            "tags": []
          },
          "execution_count": 20
        }
      ]
    },
    {
      "cell_type": "code",
      "metadata": {
        "colab": {
          "base_uri": "https://localhost:8080/"
        },
        "id": "GTKOa_EiOrcr",
        "outputId": "9af340cf-f16c-46e3-d35f-cb723cee13bc"
      },
      "source": [
        "torch.matmul(A_torch_col2, A_torch_col3) # dot product must be 0"
      ],
      "execution_count": 21,
      "outputs": [
        {
          "output_type": "execute_result",
          "data": {
            "text/plain": [
              "tensor(0.)"
            ]
          },
          "metadata": {
            "tags": []
          },
          "execution_count": 21
        }
      ]
    },
    {
      "cell_type": "code",
      "metadata": {
        "colab": {
          "base_uri": "https://localhost:8080/"
        },
        "id": "8cE4VrUoP3fu",
        "outputId": "10b6758a-2945-4117-9d87-08eb43f7c474"
      },
      "source": [
        "torch.norm(A_torch_col1) # L2 norm must be 1"
      ],
      "execution_count": 22,
      "outputs": [
        {
          "output_type": "execute_result",
          "data": {
            "text/plain": [
              "tensor(1.)"
            ]
          },
          "metadata": {
            "tags": []
          },
          "execution_count": 22
        }
      ]
    },
    {
      "cell_type": "code",
      "metadata": {
        "colab": {
          "base_uri": "https://localhost:8080/"
        },
        "id": "uoS65C5PP8A6",
        "outputId": "44a7f770-68b3-40b0-e01c-d95bf1f5834b"
      },
      "source": [
        "torch.norm(A_torch_col2) # L2 norm must be 1"
      ],
      "execution_count": 23,
      "outputs": [
        {
          "output_type": "execute_result",
          "data": {
            "text/plain": [
              "tensor(1.)"
            ]
          },
          "metadata": {
            "tags": []
          },
          "execution_count": 23
        }
      ]
    },
    {
      "cell_type": "code",
      "metadata": {
        "colab": {
          "base_uri": "https://localhost:8080/"
        },
        "id": "CFpRxcyhP7lr",
        "outputId": "64a15b5c-ce28-49fe-a553-6fc7d0172031"
      },
      "source": [
        "torch.norm(A_torch_col3) # L2 norm must be 1"
      ],
      "execution_count": 24,
      "outputs": [
        {
          "output_type": "execute_result",
          "data": {
            "text/plain": [
              "tensor(1.)"
            ]
          },
          "metadata": {
            "tags": []
          },
          "execution_count": 24
        }
      ]
    },
    {
      "cell_type": "markdown",
      "metadata": {
        "id": "p44m4zbzOzRU"
      },
      "source": [
        "Check for orthonormal rows"
      ]
    },
    {
      "cell_type": "code",
      "metadata": {
        "colab": {
          "base_uri": "https://localhost:8080/"
        },
        "id": "cqwScuTDPXo9",
        "outputId": "84fe5ae4-c565-4e77-f862-06a10e1165e2"
      },
      "source": [
        "A_torch_T = A_torch.T\n",
        "A_torch_T"
      ],
      "execution_count": 25,
      "outputs": [
        {
          "output_type": "execute_result",
          "data": {
            "text/plain": [
              "tensor([[ 0.6667,  0.3333,  0.6667],\n",
              "        [-0.6667,  0.6667,  0.3333],\n",
              "        [ 0.3333,  0.6667, -0.6667]])"
            ]
          },
          "metadata": {
            "tags": []
          },
          "execution_count": 25
        }
      ]
    },
    {
      "cell_type": "code",
      "metadata": {
        "colab": {
          "base_uri": "https://localhost:8080/"
        },
        "id": "uvmb1bQ5PiLZ",
        "outputId": "3a14077f-5099-4888-e9c4-f830d479eba9"
      },
      "source": [
        "A_torch_T == A_torch # if not equal then must check if rows are also orthonormal"
      ],
      "execution_count": 26,
      "outputs": [
        {
          "output_type": "execute_result",
          "data": {
            "text/plain": [
              "tensor([[ True, False, False],\n",
              "        [False,  True, False],\n",
              "        [False, False,  True]])"
            ]
          },
          "metadata": {
            "tags": []
          },
          "execution_count": 26
        }
      ]
    },
    {
      "cell_type": "code",
      "metadata": {
        "colab": {
          "base_uri": "https://localhost:8080/"
        },
        "id": "zZ-moaJoOtUk",
        "outputId": "e31f6400-9202-452a-be75-cb68f688a453"
      },
      "source": [
        "A_torch_row1 = A_torch[0,:]\n",
        "A_torch_row1"
      ],
      "execution_count": 27,
      "outputs": [
        {
          "output_type": "execute_result",
          "data": {
            "text/plain": [
              "tensor([ 0.6667, -0.6667,  0.3333])"
            ]
          },
          "metadata": {
            "tags": []
          },
          "execution_count": 27
        }
      ]
    },
    {
      "cell_type": "code",
      "metadata": {
        "colab": {
          "base_uri": "https://localhost:8080/"
        },
        "id": "sZXc-8HsO6gF",
        "outputId": "d6dc702e-0a5c-4f70-f042-4f5f66f6c991"
      },
      "source": [
        "A_torch_row2 = A_torch[1,:]\n",
        "A_torch_row2"
      ],
      "execution_count": 28,
      "outputs": [
        {
          "output_type": "execute_result",
          "data": {
            "text/plain": [
              "tensor([0.3333, 0.6667, 0.6667])"
            ]
          },
          "metadata": {
            "tags": []
          },
          "execution_count": 28
        }
      ]
    },
    {
      "cell_type": "code",
      "metadata": {
        "colab": {
          "base_uri": "https://localhost:8080/"
        },
        "id": "u-6QiCN9PAWt",
        "outputId": "2bb854a6-f409-4470-8831-1375130d7bd9"
      },
      "source": [
        "A_torch_row3 = A_torch[2,:]\n",
        "A_torch_row3"
      ],
      "execution_count": 29,
      "outputs": [
        {
          "output_type": "execute_result",
          "data": {
            "text/plain": [
              "tensor([ 0.6667,  0.3333, -0.6667])"
            ]
          },
          "metadata": {
            "tags": []
          },
          "execution_count": 29
        }
      ]
    },
    {
      "cell_type": "code",
      "metadata": {
        "colab": {
          "base_uri": "https://localhost:8080/"
        },
        "id": "MQa5nqvkPBrV",
        "outputId": "9faeabe7-5eb4-45b8-c63a-970f958a4a54"
      },
      "source": [
        "torch.matmul(A_torch_row1, A_torch_row2) # dot product must be 0"
      ],
      "execution_count": 30,
      "outputs": [
        {
          "output_type": "execute_result",
          "data": {
            "text/plain": [
              "tensor(0.)"
            ]
          },
          "metadata": {
            "tags": []
          },
          "execution_count": 30
        }
      ]
    },
    {
      "cell_type": "code",
      "metadata": {
        "colab": {
          "base_uri": "https://localhost:8080/"
        },
        "id": "Y9u-g5jePGEd",
        "outputId": "ef7e375c-64d8-440e-9131-e8c04811560a"
      },
      "source": [
        "torch.matmul(A_torch_row1, A_torch_row3) # dot product must be 0"
      ],
      "execution_count": 31,
      "outputs": [
        {
          "output_type": "execute_result",
          "data": {
            "text/plain": [
              "tensor(0.)"
            ]
          },
          "metadata": {
            "tags": []
          },
          "execution_count": 31
        }
      ]
    },
    {
      "cell_type": "code",
      "metadata": {
        "colab": {
          "base_uri": "https://localhost:8080/"
        },
        "id": "QTFRwM0TPJLG",
        "outputId": "c4a4d57f-5757-40b8-d3e7-ce695dc79f3d"
      },
      "source": [
        "torch.matmul(A_torch_row2, A_torch_row3) # dot product must be 0"
      ],
      "execution_count": 32,
      "outputs": [
        {
          "output_type": "execute_result",
          "data": {
            "text/plain": [
              "tensor(0.)"
            ]
          },
          "metadata": {
            "tags": []
          },
          "execution_count": 32
        }
      ]
    },
    {
      "cell_type": "code",
      "metadata": {
        "colab": {
          "base_uri": "https://localhost:8080/"
        },
        "id": "pP1OouUJQBoF",
        "outputId": "df7d8a2e-a80e-4123-9af9-c60791cc4c94"
      },
      "source": [
        "torch.norm(A_torch_row1) # L2 norm must be 1"
      ],
      "execution_count": 33,
      "outputs": [
        {
          "output_type": "execute_result",
          "data": {
            "text/plain": [
              "tensor(1.)"
            ]
          },
          "metadata": {
            "tags": []
          },
          "execution_count": 33
        }
      ]
    },
    {
      "cell_type": "code",
      "metadata": {
        "colab": {
          "base_uri": "https://localhost:8080/"
        },
        "id": "u-Dp7-TUQBfO",
        "outputId": "8dc46d72-802b-4124-c5f9-5dc1443bfe29"
      },
      "source": [
        "torch.norm(A_torch_row2) # L2 norm must be 1"
      ],
      "execution_count": 34,
      "outputs": [
        {
          "output_type": "execute_result",
          "data": {
            "text/plain": [
              "tensor(1.)"
            ]
          },
          "metadata": {
            "tags": []
          },
          "execution_count": 34
        }
      ]
    },
    {
      "cell_type": "code",
      "metadata": {
        "colab": {
          "base_uri": "https://localhost:8080/"
        },
        "id": "4SciGhjrQBTw",
        "outputId": "0d085bf4-1643-4b71-fa93-324a23bf144d"
      },
      "source": [
        "torch.norm(A_torch_row3) # L2 norm must be 1"
      ],
      "execution_count": 35,
      "outputs": [
        {
          "output_type": "execute_result",
          "data": {
            "text/plain": [
              "tensor(1.)"
            ]
          },
          "metadata": {
            "tags": []
          },
          "execution_count": 35
        }
      ]
    },
    {
      "cell_type": "markdown",
      "metadata": {
        "id": "43vI1Nm9PM4B"
      },
      "source": [
        "## TensorFlow: use same matrix with transpose to show orthogonality\n",
        "\n",
        "- $A^{T}A=AA^{T}=I$\n",
        "- $A^{T}=A^{-1}I=A^{-1}$\n"
      ]
    },
    {
      "cell_type": "code",
      "metadata": {
        "id": "L17RqSW-PLa2"
      },
      "source": [
        "import tensorflow as tf"
      ],
      "execution_count": 36,
      "outputs": []
    },
    {
      "cell_type": "code",
      "metadata": {
        "colab": {
          "base_uri": "https://localhost:8080/"
        },
        "id": "GCgYPkPzQWAe",
        "outputId": "8ea8f5e3-c7be-4ed8-9979-d27fa955762c"
      },
      "source": [
        "A_tf = tf.Variable([[2/3, -2/3, 1/3], [1/3, 2/3, 2/3], [2/3, 1/3, -2/3]])\n",
        "A_tf"
      ],
      "execution_count": 37,
      "outputs": [
        {
          "output_type": "execute_result",
          "data": {
            "text/plain": [
              "<tf.Variable 'Variable:0' shape=(3, 3) dtype=float32, numpy=\n",
              "array([[ 0.6666667 , -0.6666667 ,  0.33333334],\n",
              "       [ 0.33333334,  0.6666667 ,  0.6666667 ],\n",
              "       [ 0.6666667 ,  0.33333334, -0.6666667 ]], dtype=float32)>"
            ]
          },
          "metadata": {
            "tags": []
          },
          "execution_count": 37
        }
      ]
    },
    {
      "cell_type": "code",
      "metadata": {
        "colab": {
          "base_uri": "https://localhost:8080/"
        },
        "id": "4IAD83uHQYuc",
        "outputId": "b27f7340-50cf-45fb-8de2-9e0ba9435caf"
      },
      "source": [
        "A_tf_T = tf.transpose(A_tf)\n",
        "A_tf_T"
      ],
      "execution_count": 38,
      "outputs": [
        {
          "output_type": "execute_result",
          "data": {
            "text/plain": [
              "<tf.Tensor: shape=(3, 3), dtype=float32, numpy=\n",
              "array([[ 0.6666667 ,  0.33333334,  0.6666667 ],\n",
              "       [-0.6666667 ,  0.6666667 ,  0.33333334],\n",
              "       [ 0.33333334,  0.6666667 , -0.6666667 ]], dtype=float32)>"
            ]
          },
          "metadata": {
            "tags": []
          },
          "execution_count": 38
        }
      ]
    },
    {
      "cell_type": "code",
      "metadata": {
        "colab": {
          "base_uri": "https://localhost:8080/"
        },
        "id": "bnpc2I_PQns3",
        "outputId": "df19621a-f9d2-46c8-d1d3-ac6a349ece49"
      },
      "source": [
        "tf.matmul(A_tf, A_tf_T) # original multiplied with transpose must be identity"
      ],
      "execution_count": 39,
      "outputs": [
        {
          "output_type": "execute_result",
          "data": {
            "text/plain": [
              "<tf.Tensor: shape=(3, 3), dtype=float32, numpy=\n",
              "array([[ 1.0000001e+00, -3.3113690e-09,  3.3113690e-09],\n",
              "       [-3.3113690e-09,  1.0000000e+00,  6.6227379e-09],\n",
              "       [ 3.3113690e-09,  6.6227379e-09,  1.0000000e+00]], dtype=float32)>"
            ]
          },
          "metadata": {
            "tags": []
          },
          "execution_count": 39
        }
      ]
    },
    {
      "cell_type": "code",
      "metadata": {
        "colab": {
          "base_uri": "https://localhost:8080/"
        },
        "id": "chGrs1xVQtvu",
        "outputId": "e9b93491-dff1-4e2c-e82b-e9ad8e61a630"
      },
      "source": [
        "tf.linalg.inv(A_tf) # inverse must be equal to transpose"
      ],
      "execution_count": 40,
      "outputs": [
        {
          "output_type": "execute_result",
          "data": {
            "text/plain": [
              "<tf.Tensor: shape=(3, 3), dtype=float32, numpy=\n",
              "array([[ 0.6666666 ,  0.33333325,  0.66666675],\n",
              "       [-0.6666667 ,  0.6666666 ,  0.33333334],\n",
              "       [ 0.33333334,  0.6666667 , -0.6666667 ]], dtype=float32)>"
            ]
          },
          "metadata": {
            "tags": []
          },
          "execution_count": 40
        }
      ]
    },
    {
      "cell_type": "code",
      "metadata": {
        "id": "4LzMEU-kRcDT"
      },
      "source": [
        ""
      ],
      "execution_count": 40,
      "outputs": []
    }
  ]
}