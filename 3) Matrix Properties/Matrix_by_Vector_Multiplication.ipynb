{
  "nbformat": 4,
  "nbformat_minor": 0,
  "metadata": {
    "colab": {
      "name": "Matrix by Vector Multiplication.ipynb",
      "provenance": [],
      "collapsed_sections": []
    },
    "kernelspec": {
      "name": "python3",
      "display_name": "Python 3"
    },
    "language_info": {
      "name": "python"
    }
  },
  "cells": [
    {
      "cell_type": "markdown",
      "metadata": {
        "id": "r8obP_l0VP4H"
      },
      "source": [
        "# Matrix by Vector Multiplication\n",
        "\n",
        "Number of columns of first matrix must be equal to number of rows of second one."
      ]
    },
    {
      "cell_type": "markdown",
      "metadata": {
        "id": "xbs7T-wtVUOP"
      },
      "source": [
        "## Numpy"
      ]
    },
    {
      "cell_type": "code",
      "metadata": {
        "id": "rtXqfUDKQ1ZQ"
      },
      "source": [
        "import numpy as np"
      ],
      "execution_count": 1,
      "outputs": []
    },
    {
      "cell_type": "code",
      "metadata": {
        "colab": {
          "base_uri": "https://localhost:8080/"
        },
        "id": "ERG_h3eQVWxN",
        "outputId": "e1d65315-f47b-42b6-98e6-c0c48336a980"
      },
      "source": [
        "A = np.array([[3,4], [5,6], [7,8]])\n",
        "A"
      ],
      "execution_count": 2,
      "outputs": [
        {
          "output_type": "execute_result",
          "data": {
            "text/plain": [
              "array([[3, 4],\n",
              "       [5, 6],\n",
              "       [7, 8]])"
            ]
          },
          "metadata": {
            "tags": []
          },
          "execution_count": 2
        }
      ]
    },
    {
      "cell_type": "code",
      "metadata": {
        "colab": {
          "base_uri": "https://localhost:8080/"
        },
        "id": "5IfowFcPVe0U",
        "outputId": "3f21944a-f13f-4d25-a7e4-e777880954d8"
      },
      "source": [
        "b = np.array([1,2])\n",
        "b"
      ],
      "execution_count": 3,
      "outputs": [
        {
          "output_type": "execute_result",
          "data": {
            "text/plain": [
              "array([1, 2])"
            ]
          },
          "metadata": {
            "tags": []
          },
          "execution_count": 3
        }
      ]
    },
    {
      "cell_type": "code",
      "metadata": {
        "colab": {
          "base_uri": "https://localhost:8080/"
        },
        "id": "mKI-O0hbVjOc",
        "outputId": "30de47b0-aebb-4004-bc79-bae9703e5a95"
      },
      "source": [
        "np.dot(A,b) # even though technically dot product only b/w vectors"
      ],
      "execution_count": 4,
      "outputs": [
        {
          "output_type": "execute_result",
          "data": {
            "text/plain": [
              "array([11, 17, 23])"
            ]
          },
          "metadata": {
            "tags": []
          },
          "execution_count": 4
        }
      ]
    },
    {
      "cell_type": "markdown",
      "metadata": {
        "id": "dIUfuCy-VueZ"
      },
      "source": [
        "## PyTorch"
      ]
    },
    {
      "cell_type": "code",
      "metadata": {
        "id": "UnUi1qk8Vs31"
      },
      "source": [
        "import torch"
      ],
      "execution_count": 5,
      "outputs": []
    },
    {
      "cell_type": "code",
      "metadata": {
        "colab": {
          "base_uri": "https://localhost:8080/"
        },
        "id": "bf5jbf7RVxsy",
        "outputId": "c89f1a8b-89c2-4792-8e11-6d42cc935b85"
      },
      "source": [
        "A_torch = torch.tensor([[3,4], [5,6], [7,8]])\n",
        "A_torch"
      ],
      "execution_count": 6,
      "outputs": [
        {
          "output_type": "execute_result",
          "data": {
            "text/plain": [
              "tensor([[3, 4],\n",
              "        [5, 6],\n",
              "        [7, 8]])"
            ]
          },
          "metadata": {
            "tags": []
          },
          "execution_count": 6
        }
      ]
    },
    {
      "cell_type": "code",
      "metadata": {
        "colab": {
          "base_uri": "https://localhost:8080/"
        },
        "id": "wn0SR2IhV7Ti",
        "outputId": "b9daa9a2-1746-4309-95fa-824088f51235"
      },
      "source": [
        "b_torch = torch.tensor([1,2])\n",
        "b_torch"
      ],
      "execution_count": 7,
      "outputs": [
        {
          "output_type": "execute_result",
          "data": {
            "text/plain": [
              "tensor([1, 2])"
            ]
          },
          "metadata": {
            "tags": []
          },
          "execution_count": 7
        }
      ]
    },
    {
      "cell_type": "code",
      "metadata": {
        "colab": {
          "base_uri": "https://localhost:8080/"
        },
        "id": "_ix9vDP5WAFP",
        "outputId": "0b8a0fc6-140a-4da8-b764-b668947a50db"
      },
      "source": [
        "torch.matmul(A_torch, b_torch)"
      ],
      "execution_count": 8,
      "outputs": [
        {
          "output_type": "execute_result",
          "data": {
            "text/plain": [
              "tensor([11, 17, 23])"
            ]
          },
          "metadata": {
            "tags": []
          },
          "execution_count": 8
        }
      ]
    },
    {
      "cell_type": "markdown",
      "metadata": {
        "id": "iASzgy16WefS"
      },
      "source": [
        "## TensorFlow"
      ]
    },
    {
      "cell_type": "code",
      "metadata": {
        "id": "hJ1pyo7LWRio"
      },
      "source": [
        "import tensorflow as tf"
      ],
      "execution_count": 9,
      "outputs": []
    },
    {
      "cell_type": "code",
      "metadata": {
        "colab": {
          "base_uri": "https://localhost:8080/"
        },
        "id": "ygUVR9cMWpVa",
        "outputId": "78afb359-a439-4c07-ec3a-2565cefeeec3"
      },
      "source": [
        "A_tf = tf.Variable([[3,4], [5,6], [7,8]])\n",
        "A_tf"
      ],
      "execution_count": 10,
      "outputs": [
        {
          "output_type": "execute_result",
          "data": {
            "text/plain": [
              "<tf.Variable 'Variable:0' shape=(3, 2) dtype=int32, numpy=\n",
              "array([[3, 4],\n",
              "       [5, 6],\n",
              "       [7, 8]], dtype=int32)>"
            ]
          },
          "metadata": {
            "tags": []
          },
          "execution_count": 10
        }
      ]
    },
    {
      "cell_type": "code",
      "metadata": {
        "colab": {
          "base_uri": "https://localhost:8080/"
        },
        "id": "UJByD4O-Wv1a",
        "outputId": "0467d7c3-3cfe-43c2-9ed9-5d4cbbc8294b"
      },
      "source": [
        "b_tf = tf.Variable([1,2])\n",
        "b_tf"
      ],
      "execution_count": 11,
      "outputs": [
        {
          "output_type": "execute_result",
          "data": {
            "text/plain": [
              "<tf.Variable 'Variable:0' shape=(2,) dtype=int32, numpy=array([1, 2], dtype=int32)>"
            ]
          },
          "metadata": {
            "tags": []
          },
          "execution_count": 11
        }
      ]
    },
    {
      "cell_type": "code",
      "metadata": {
        "colab": {
          "base_uri": "https://localhost:8080/"
        },
        "id": "CXR5hdoiWz5h",
        "outputId": "382181df-0fbc-4b0d-ac23-176f561ae3aa"
      },
      "source": [
        "tf.linalg.matvec(A_tf, b_tf) # in TensorFlow required to specify if Matrix by Vector via matvec"
      ],
      "execution_count": 12,
      "outputs": [
        {
          "output_type": "execute_result",
          "data": {
            "text/plain": [
              "<tf.Tensor: shape=(3,), dtype=int32, numpy=array([11, 17, 23], dtype=int32)>"
            ]
          },
          "metadata": {
            "tags": []
          },
          "execution_count": 12
        }
      ]
    },
    {
      "cell_type": "code",
      "metadata": {
        "id": "tyoiy4lpXNds"
      },
      "source": [
        ""
      ],
      "execution_count": null,
      "outputs": []
    }
  ]
}