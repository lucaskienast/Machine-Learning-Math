{
  "nbformat": 4,
  "nbformat_minor": 0,
  "metadata": {
    "colab": {
      "name": "Cost vs Epochs.ipynb",
      "provenance": [],
      "collapsed_sections": [],
      "authorship_tag": "ABX9TyMd8J+2uI6ImcorYK/WpdSt"
    },
    "kernelspec": {
      "name": "python3",
      "display_name": "Python 3"
    },
    "language_info": {
      "name": "python"
    }
  },
  "cells": [
    {
      "cell_type": "markdown",
      "metadata": {
        "id": "splaUyFlkrCn"
      },
      "source": [
        "# PyTorch: Cost vs Epochs\n",
        "\n",
        "Constants:\n",
        "- $\\sigma = 1.0$\n",
        "- $y=-0.77x-3.26+noise(\\sigma)$, i.e. $m=-0.77$ and $b=-3.26$\n",
        "- $n=10$\n",
        "- $x_{max} - x_{min} = 20$"
      ]
    },
    {
      "cell_type": "markdown",
      "metadata": {
        "id": "v_Tpha4Vnh45"
      },
      "source": [
        "## Import libraries"
      ]
    },
    {
      "cell_type": "code",
      "metadata": {
        "id": "d8T300m1kqVc"
      },
      "source": [
        "import torch\n",
        "import numpy as np\n",
        "import matplotlib.pyplot as plt"
      ],
      "execution_count": null,
      "outputs": []
    },
    {
      "cell_type": "markdown",
      "metadata": {
        "id": "ps7_VQ6onlzT"
      },
      "source": [
        "## Define inputs and targets"
      ]
    },
    {
      "cell_type": "code",
      "metadata": {
        "id": "6bLKvX7Gda7B"
      },
      "source": [
        "x = torch.linspace(-10., 10., steps=10)\n",
        "y = -0.77*x -3.26 + torch.normal(mean=torch.zeros(10), std=1.0)"
      ],
      "execution_count": null,
      "outputs": []
    },
    {
      "cell_type": "code",
      "metadata": {
        "colab": {
          "base_uri": "https://localhost:8080/",
          "height": 295
        },
        "id": "qjGu0wGJla3P",
        "executionInfo": {
          "status": "ok",
          "timestamp": 1627921407401,
          "user_tz": -120,
          "elapsed": 9,
          "user": {
            "displayName": "Max Lucas Kienast",
            "photoUrl": "",
            "userId": "18136220580306165387"
          }
        },
        "outputId": "fc65db85-4f3d-45c6-9c74-6274b4bb5eee"
      },
      "source": [
        "fig, ax = plt.subplots()\n",
        "plt.title(\"Some study\")\n",
        "plt.xlabel(\"Input [unit]\")\n",
        "plt.ylabel(\"Target [unit]\")\n",
        "ax.scatter(x, y)\n",
        "plt.show()"
      ],
      "execution_count": null,
      "outputs": [
        {
          "output_type": "display_data",
          "data": {
            "image/png": "[encoded data removed]",
            "text/plain": [
              "<Figure size 432x288 with 1 Axes>"
            ]
          },
          "metadata": {
            "tags": [],
            "needs_background": "light"
          }
        }
      ]
    },
    {
      "cell_type": "markdown",
      "metadata": {
        "id": "MOmDwq9RowhE"
      },
      "source": [
        "## Define some helper functions"
      ]
    },
    {
      "cell_type": "code",
      "metadata": {
        "id": "U7vXAqcboMta"
      },
      "source": [
        "def regression(my_x, my_m, my_b):\n",
        "  return my_m * my_x + my_b"
      ],
      "execution_count": null,
      "outputs": []
    },
    {
      "cell_type": "code",
      "metadata": {
        "id": "n4CaUnr3oXQn"
      },
      "source": [
        "def mse(my_y_hat, my_y):\n",
        "  mse_cost = (1/(len(my_y))) * torch.sum((my_y_hat - my_y)**2)\n",
        "  return mse_cost"
      ],
      "execution_count": null,
      "outputs": []
    },
    {
      "cell_type": "code",
      "metadata": {
        "id": "YfJ2IXojoroR"
      },
      "source": [
        "def regression_plot(my_x, my_y, my_m, my_b): \n",
        "  fig, ax = plt.subplots()\n",
        "  ax.scatter(my_x, my_y)\n",
        "  x_min, x_max = ax.get_xlim()\n",
        "  y_min = regression(x_min, my_m, my_b)\n",
        "  y_max = regression(x_max, my_m, my_b)\n",
        "  ax.set_xlim([x_min, x_max])\n",
        "  _ = ax.plot([x_min, x_max], [y_min, y_max])"
      ],
      "execution_count": null,
      "outputs": []
    },
    {
      "cell_type": "code",
      "metadata": {
        "id": "gukQuIF7p1Wa"
      },
      "source": [
        "def cost_epoch_plot(my_epochs, my_costs): \n",
        "  fig, ax = plt.subplots()\n",
        "  ax.plot(my_epochs, my_costs)\n",
        "  x_min, x_max = ax.get_xlim()\n",
        "  plt.title(\"MSE as func. of #Epochs\")\n",
        "  plt.xlabel(\"#Epochs\")\n",
        "  plt.ylabel(\"Cost (MSE)\")\n",
        "  plt.show()"
      ],
      "execution_count": null,
      "outputs": []
    },
    {
      "cell_type": "markdown",
      "metadata": {
        "id": "uFKluhXGnvrP"
      },
      "source": [
        "## Machine Learning"
      ]
    },
    {
      "cell_type": "code",
      "metadata": {
        "colab": {
          "base_uri": "https://localhost:8080/",
          "height": 1000
        },
        "id": "Gmnz4nDJltmQ",
        "executionInfo": {
          "status": "ok",
          "timestamp": 1627921408587,
          "user_tz": -120,
          "elapsed": 1192,
          "user": {
            "displayName": "Max Lucas Kienast",
            "photoUrl": "",
            "userId": "18136220580306165387"
          }
        },
        "outputId": "69f55798-7ada-48c3-8d9f-6854eb358a72"
      },
      "source": [
        "m = torch.tensor([0.7]).requires_grad_()\n",
        "b = torch.tensor([0.9]).requires_grad_()\n",
        "optimizer = torch.optim.SGD([m, b], lr=0.01)\n",
        "regression_plot(x, y, m, b)\n",
        "\n",
        "epochs = 200 # train over entire dataset 200 times\n",
        "epoch_data = {\"Epoch\":[],\n",
        "              \"Cost\":[],\n",
        "              \"m_grad\":[],\n",
        "              \"m\":[],\n",
        "              \"b_grad\": [],\n",
        "              \"b\":[]}\n",
        "\n",
        "for epoch in range(epochs):\n",
        "  optimizer.zero_grad() # reset gradients to zero, else they accumulate\n",
        "  # Step 1: calculate y_hat using our regression model\n",
        "  y_hat = regression(x, m, b)\n",
        "  # Step 2: calculate cost using y_hat and y\n",
        "  C = mse(y_hat, y) \n",
        "  # Step 3: use autodiff to calculate slope of cost w.r.t. parameters m & b\n",
        "  C.backward() \n",
        "  # Step 4: adjust model parameters m & b by small step (lr=0.01) in direction told by slopes from step 3\n",
        "  optimizer.step() \n",
        "  print(\"Epoch {}, Cost {}, m grad {}, b grad {}\".format(\n",
        "      epoch,\n",
        "      \"%.3g\" % C.item(),\n",
        "      \"%.3g\" % m.grad.item(),\n",
        "      \"%.3g\" % b.grad.item()\n",
        "  ))\n",
        "  epoch_data[\"Epoch\"].append(epoch+1)\n",
        "  epoch_data[\"Cost\"].append(C.item())\n",
        "  epoch_data[\"m_grad\"].append(m.grad.item())\n",
        "  epoch_data[\"m\"].append(m.item())\n",
        "  epoch_data[\"b_grad\"].append(b.grad.item())\n",
        "  epoch_data[\"b\"].append(b.item())\n",
        "\n",
        "regression_plot(x, y, m, b)"
      ],
      "execution_count": null,
      "outputs": [
        {
          "output_type": "stream",
          "text": [
            "Epoch 0, Cost 103, m grad 120, b grad 7.62\n",
            "Epoch 1, Cost 17.6, m grad 22.2, b grad 7.47\n",
            "Epoch 2, Cost 14.1, m grad 4.1, b grad 7.32\n",
            "Epoch 3, Cost 13.5, m grad 0.76, b grad 7.18\n",
            "Epoch 4, Cost 13, m grad 0.141, b grad 7.03\n",
            "Epoch 5, Cost 12.5, m grad 0.0261, b grad 6.89\n",
            "Epoch 6, Cost 12, m grad 0.00483, b grad 6.75\n",
            "Epoch 7, Cost 11.5, m grad 0.000889, b grad 6.62\n",
            "Epoch 8, Cost 11.1, m grad 0.000168, b grad 6.49\n",
            "Epoch 9, Cost 10.7, m grad 3.19e-05, b grad 6.36\n",
            "Epoch 10, Cost 10.3, m grad 6.91e-06, b grad 6.23\n",
            "Epoch 11, Cost 9.91, m grad 2.62e-06, b grad 6.11\n",
            "Epoch 12, Cost 9.54, m grad 2.62e-06, b grad 5.98\n",
            "Epoch 13, Cost 9.19, m grad 2.15e-06, b grad 5.86\n",
            "Epoch 14, Cost 8.85, m grad 2.86e-06, b grad 5.75\n",
            "Epoch 15, Cost 8.52, m grad 2.15e-06, b grad 5.63\n",
            "Epoch 16, Cost 8.21, m grad 1.43e-06, b grad 5.52\n",
            "Epoch 17, Cost 7.9, m grad 1.91e-06, b grad 5.41\n",
            "Epoch 18, Cost 7.61, m grad 2.15e-06, b grad 5.3\n",
            "Epoch 19, Cost 7.34, m grad 3.34e-06, b grad 5.19\n",
            "Epoch 20, Cost 7.07, m grad -5.25e-06, b grad 5.09\n",
            "Epoch 21, Cost 6.81, m grad 1.91e-06, b grad 4.99\n",
            "Epoch 22, Cost 6.57, m grad 3.58e-06, b grad 4.89\n",
            "Epoch 23, Cost 6.33, m grad -3.81e-06, b grad 4.79\n",
            "Epoch 24, Cost 6.1, m grad 1.19e-06, b grad 4.7\n",
            "Epoch 25, Cost 5.88, m grad 1.43e-06, b grad 4.6\n",
            "Epoch 26, Cost 5.67, m grad 3.81e-06, b grad 4.51\n",
            "Epoch 27, Cost 5.47, m grad -1.91e-06, b grad 4.42\n",
            "Epoch 28, Cost 5.28, m grad -5.25e-06, b grad 4.33\n",
            "Epoch 29, Cost 5.09, m grad 1.91e-06, b grad 4.24\n",
            "Epoch 30, Cost 4.92, m grad 1.43e-06, b grad 4.16\n",
            "Epoch 31, Cost 4.74, m grad 2.38e-06, b grad 4.08\n",
            "Epoch 32, Cost 4.58, m grad 1.43e-06, b grad 3.99\n",
            "Epoch 33, Cost 4.42, m grad 2.38e-06, b grad 3.91\n",
            "Epoch 34, Cost 4.27, m grad 2.38e-06, b grad 3.84\n",
            "Epoch 35, Cost 4.12, m grad 9.54e-07, b grad 3.76\n",
            "Epoch 36, Cost 3.98, m grad 2.15e-06, b grad 3.68\n",
            "Epoch 37, Cost 3.85, m grad 1.43e-06, b grad 3.61\n",
            "Epoch 38, Cost 3.72, m grad 1.67e-06, b grad 3.54\n",
            "Epoch 39, Cost 3.6, m grad 1.43e-06, b grad 3.47\n",
            "Epoch 40, Cost 3.48, m grad 9.54e-07, b grad 3.4\n",
            "Epoch 41, Cost 3.36, m grad 2.15e-06, b grad 3.33\n",
            "Epoch 42, Cost 3.25, m grad 2.62e-06, b grad 3.26\n",
            "Epoch 43, Cost 3.15, m grad 1.67e-06, b grad 3.2\n",
            "Epoch 44, Cost 3.05, m grad 1.19e-06, b grad 3.13\n",
            "Epoch 45, Cost 2.95, m grad 2.03e-06, b grad 3.07\n",
            "Epoch 46, Cost 2.86, m grad 2.15e-06, b grad 3.01\n",
            "Epoch 47, Cost 2.77, m grad 1.91e-06, b grad 2.95\n",
            "Epoch 48, Cost 2.68, m grad 2.86e-06, b grad 2.89\n",
            "Epoch 49, Cost 2.6, m grad 2.03e-06, b grad 2.83\n",
            "Epoch 50, Cost 2.52, m grad 8.34e-07, b grad 2.78\n",
            "Epoch 51, Cost 2.44, m grad 2.62e-06, b grad 2.72\n",
            "Epoch 52, Cost 2.37, m grad 2.15e-06, b grad 2.67\n",
            "Epoch 53, Cost 2.3, m grad 2.26e-06, b grad 2.61\n",
            "Epoch 54, Cost 2.23, m grad 2.98e-06, b grad 2.56\n",
            "Epoch 55, Cost 2.17, m grad 2.5e-06, b grad 2.51\n",
            "Epoch 56, Cost 2.1, m grad 2.38e-06, b grad 2.46\n",
            "Epoch 57, Cost 2.04, m grad 1.43e-06, b grad 2.41\n",
            "Epoch 58, Cost 1.99, m grad 3.46e-06, b grad 2.36\n",
            "Epoch 59, Cost 1.93, m grad -4.05e-06, b grad 2.32\n",
            "Epoch 60, Cost 1.88, m grad 3.81e-06, b grad 2.27\n",
            "Epoch 61, Cost 1.83, m grad -3.93e-06, b grad 2.22\n",
            "Epoch 62, Cost 1.78, m grad 2.38e-06, b grad 2.18\n",
            "Epoch 63, Cost 1.73, m grad 2.98e-06, b grad 2.14\n",
            "Epoch 64, Cost 1.69, m grad 2.03e-06, b grad 2.09\n",
            "Epoch 65, Cost 1.64, m grad 2.38e-06, b grad 2.05\n",
            "Epoch 66, Cost 1.6, m grad 1.79e-06, b grad 2.01\n",
            "Epoch 67, Cost 1.56, m grad 2.98e-06, b grad 1.97\n",
            "Epoch 68, Cost 1.52, m grad 3.34e-06, b grad 1.93\n",
            "Epoch 69, Cost 1.49, m grad -3.1e-06, b grad 1.89\n",
            "Epoch 70, Cost 1.45, m grad 2.26e-06, b grad 1.85\n",
            "Epoch 71, Cost 1.42, m grad 2.03e-06, b grad 1.82\n",
            "Epoch 72, Cost 1.38, m grad 3.1e-06, b grad 1.78\n",
            "Epoch 73, Cost 1.35, m grad -4.65e-06, b grad 1.74\n",
            "Epoch 74, Cost 1.32, m grad 2.38e-06, b grad 1.71\n",
            "Epoch 75, Cost 1.29, m grad 1.67e-06, b grad 1.68\n",
            "Epoch 76, Cost 1.27, m grad 1.55e-06, b grad 1.64\n",
            "Epoch 77, Cost 1.24, m grad 2.03e-06, b grad 1.61\n",
            "Epoch 78, Cost 1.21, m grad 2.74e-06, b grad 1.58\n",
            "Epoch 79, Cost 1.19, m grad 1.91e-06, b grad 1.55\n",
            "Epoch 80, Cost 1.16, m grad 1.91e-06, b grad 1.51\n",
            "Epoch 81, Cost 1.14, m grad 2.5e-06, b grad 1.48\n",
            "Epoch 82, Cost 1.12, m grad 1.79e-06, b grad 1.45\n",
            "Epoch 83, Cost 1.1, m grad 2.98e-06, b grad 1.43\n",
            "Epoch 84, Cost 1.08, m grad 2.98e-06, b grad 1.4\n",
            "Epoch 85, Cost 1.06, m grad 1.31e-06, b grad 1.37\n",
            "Epoch 86, Cost 1.04, m grad 1.31e-06, b grad 1.34\n",
            "Epoch 87, Cost 1.02, m grad 2.68e-06, b grad 1.31\n",
            "Epoch 88, Cost 1.01, m grad 1.55e-06, b grad 1.29\n",
            "Epoch 89, Cost 0.99, m grad 2.21e-06, b grad 1.26\n",
            "Epoch 90, Cost 0.974, m grad 2.38e-06, b grad 1.24\n",
            "Epoch 91, Cost 0.959, m grad 1.19e-06, b grad 1.21\n",
            "Epoch 92, Cost 0.944, m grad 1.91e-06, b grad 1.19\n",
            "Epoch 93, Cost 0.93, m grad 9.54e-07, b grad 1.16\n",
            "Epoch 94, Cost 0.917, m grad 1.13e-06, b grad 1.14\n",
            "Epoch 95, Cost 0.904, m grad 1.97e-06, b grad 1.12\n",
            "Epoch 96, Cost 0.892, m grad 2.03e-06, b grad 1.1\n",
            "Epoch 97, Cost 0.88, m grad 1.25e-06, b grad 1.07\n",
            "Epoch 98, Cost 0.868, m grad 1.37e-06, b grad 1.05\n",
            "Epoch 99, Cost 0.857, m grad 1.37e-06, b grad 1.03\n",
            "Epoch 100, Cost 0.847, m grad 1.67e-06, b grad 1.01\n",
            "Epoch 101, Cost 0.837, m grad 2.03e-06, b grad 0.991\n",
            "Epoch 102, Cost 0.827, m grad 2.68e-06, b grad 0.971\n",
            "Epoch 103, Cost 0.818, m grad 1.49e-06, b grad 0.952\n",
            "Epoch 104, Cost 0.809, m grad 2.38e-06, b grad 0.933\n",
            "Epoch 105, Cost 0.8, m grad 2.92e-06, b grad 0.914\n",
            "Epoch 106, Cost 0.792, m grad 1.91e-06, b grad 0.896\n",
            "Epoch 107, Cost 0.784, m grad 1.91e-06, b grad 0.878\n",
            "Epoch 108, Cost 0.776, m grad 1.25e-06, b grad 0.86\n",
            "Epoch 109, Cost 0.769, m grad 2.56e-06, b grad 0.843\n",
            "Epoch 110, Cost 0.762, m grad 2.21e-06, b grad 0.826\n",
            "Epoch 111, Cost 0.755, m grad 1.13e-06, b grad 0.81\n",
            "Epoch 112, Cost 0.749, m grad 8.94e-07, b grad 0.793\n",
            "Epoch 113, Cost 0.742, m grad 2.03e-06, b grad 0.778\n",
            "Epoch 114, Cost 0.736, m grad 1.43e-06, b grad 0.762\n",
            "Epoch 115, Cost 0.731, m grad 2.44e-06, b grad 0.747\n",
            "Epoch 116, Cost 0.725, m grad 2.15e-06, b grad 0.732\n",
            "Epoch 117, Cost 0.72, m grad 1.19e-06, b grad 0.717\n",
            "Epoch 118, Cost 0.715, m grad 3.34e-06, b grad 0.703\n",
            "Epoch 119, Cost 0.71, m grad -3.34e-06, b grad 0.689\n",
            "Epoch 120, Cost 0.705, m grad 2.8e-06, b grad 0.675\n",
            "Epoch 121, Cost 0.701, m grad 3.28e-06, b grad 0.662\n",
            "Epoch 122, Cost 0.696, m grad -1.91e-06, b grad 0.648\n",
            "Epoch 123, Cost 0.692, m grad -4.11e-06, b grad 0.635\n",
            "Epoch 124, Cost 0.688, m grad 3.04e-06, b grad 0.623\n",
            "Epoch 125, Cost 0.684, m grad -3.28e-06, b grad 0.61\n",
            "Epoch 126, Cost 0.681, m grad 1.01e-06, b grad 0.598\n",
            "Epoch 127, Cost 0.677, m grad 3.1e-06, b grad 0.586\n",
            "Epoch 128, Cost 0.674, m grad -3.22e-06, b grad 0.574\n",
            "Epoch 129, Cost 0.67, m grad 2.26e-06, b grad 0.563\n",
            "Epoch 130, Cost 0.667, m grad 1.19e-06, b grad 0.552\n",
            "Epoch 131, Cost 0.664, m grad 1.97e-06, b grad 0.541\n",
            "Epoch 132, Cost 0.661, m grad 1.97e-06, b grad 0.53\n",
            "Epoch 133, Cost 0.659, m grad 1.13e-06, b grad 0.519\n",
            "Epoch 134, Cost 0.656, m grad 1.25e-06, b grad 0.509\n",
            "Epoch 135, Cost 0.653, m grad 2.21e-06, b grad 0.499\n",
            "Epoch 136, Cost 0.651, m grad 1.91e-06, b grad 0.489\n",
            "Epoch 137, Cost 0.649, m grad 2.15e-06, b grad 0.479\n",
            "Epoch 138, Cost 0.646, m grad 2.32e-06, b grad 0.469\n",
            "Epoch 139, Cost 0.644, m grad 2.09e-06, b grad 0.46\n",
            "Epoch 140, Cost 0.642, m grad 1.46e-06, b grad 0.451\n",
            "Epoch 141, Cost 0.64, m grad 2.26e-06, b grad 0.442\n",
            "Epoch 142, Cost 0.638, m grad 2.74e-06, b grad 0.433\n",
            "Epoch 143, Cost 0.636, m grad 3.22e-06, b grad 0.424\n",
            "Epoch 144, Cost 0.634, m grad -2.83e-06, b grad 0.416\n",
            "Epoch 145, Cost 0.633, m grad -3.28e-06, b grad 0.407\n",
            "Epoch 146, Cost 0.631, m grad 2.03e-06, b grad 0.399\n",
            "Epoch 147, Cost 0.629, m grad 1.16e-06, b grad 0.391\n",
            "Epoch 148, Cost 0.628, m grad 9.54e-07, b grad 0.383\n",
            "Epoch 149, Cost 0.627, m grad 2.89e-06, b grad 0.376\n",
            "Epoch 150, Cost 0.625, m grad 2.86e-06, b grad 0.368\n",
            "Epoch 151, Cost 0.624, m grad 2.29e-06, b grad 0.361\n",
            "Epoch 152, Cost 0.622, m grad 2.15e-06, b grad 0.354\n",
            "Epoch 153, Cost 0.621, m grad 1.22e-06, b grad 0.347\n",
            "Epoch 154, Cost 0.62, m grad 2.09e-06, b grad 0.34\n",
            "Epoch 155, Cost 0.619, m grad 2.26e-06, b grad 0.333\n",
            "Epoch 156, Cost 0.618, m grad 9.83e-07, b grad 0.326\n",
            "Epoch 157, Cost 0.617, m grad 3.01e-06, b grad 0.32\n",
            "Epoch 158, Cost 0.616, m grad -3.31e-06, b grad 0.313\n",
            "Epoch 159, Cost 0.615, m grad 1.22e-06, b grad 0.307\n",
            "Epoch 160, Cost 0.614, m grad 2.53e-06, b grad 0.301\n",
            "Epoch 161, Cost 0.613, m grad 2.29e-06, b grad 0.295\n",
            "Epoch 162, Cost 0.612, m grad 1.67e-06, b grad 0.289\n",
            "Epoch 163, Cost 0.611, m grad 1.52e-06, b grad 0.283\n",
            "Epoch 164, Cost 0.61, m grad 3.19e-06, b grad 0.278\n",
            "Epoch 165, Cost 0.61, m grad -5.22e-06, b grad 0.272\n",
            "Epoch 166, Cost 0.609, m grad 2.32e-06, b grad 0.267\n",
            "Epoch 167, Cost 0.608, m grad 1.46e-06, b grad 0.261\n",
            "Epoch 168, Cost 0.608, m grad 3.07e-06, b grad 0.256\n",
            "Epoch 169, Cost 0.607, m grad -3.1e-06, b grad 0.251\n",
            "Epoch 170, Cost 0.606, m grad 3.16e-06, b grad 0.246\n",
            "Epoch 171, Cost 0.606, m grad -2.95e-06, b grad 0.241\n",
            "Epoch 172, Cost 0.605, m grad -5.28e-06, b grad 0.236\n",
            "Epoch 173, Cost 0.605, m grad 2.29e-06, b grad 0.231\n",
            "Epoch 174, Cost 0.604, m grad 3.13e-06, b grad 0.227\n",
            "Epoch 175, Cost 0.604, m grad -2.59e-06, b grad 0.222\n",
            "Epoch 176, Cost 0.603, m grad -5.33e-06, b grad 0.218\n",
            "Epoch 177, Cost 0.603, m grad 2.89e-06, b grad 0.213\n",
            "Epoch 178, Cost 0.602, m grad 2.29e-06, b grad 0.209\n",
            "Epoch 179, Cost 0.602, m grad 2.15e-06, b grad 0.205\n",
            "Epoch 180, Cost 0.601, m grad 2.74e-06, b grad 0.201\n",
            "Epoch 181, Cost 0.601, m grad 2.41e-06, b grad 0.197\n",
            "Epoch 182, Cost 0.601, m grad 3.31e-06, b grad 0.193\n",
            "Epoch 183, Cost 0.6, m grad -2.59e-06, b grad 0.189\n",
            "Epoch 184, Cost 0.6, m grad -3.78e-06, b grad 0.185\n",
            "Epoch 185, Cost 0.599, m grad 3.16e-06, b grad 0.182\n",
            "Epoch 186, Cost 0.599, m grad -5.25e-06, b grad 0.178\n",
            "Epoch 187, Cost 0.599, m grad 2.26e-06, b grad 0.174\n",
            "Epoch 188, Cost 0.599, m grad 2.32e-06, b grad 0.171\n",
            "Epoch 189, Cost 0.598, m grad 2.03e-06, b grad 0.167\n",
            "Epoch 190, Cost 0.598, m grad 2.18e-06, b grad 0.164\n",
            "Epoch 191, Cost 0.598, m grad 2.09e-06, b grad 0.161\n",
            "Epoch 192, Cost 0.597, m grad 2.26e-06, b grad 0.158\n",
            "Epoch 193, Cost 0.597, m grad 1.52e-06, b grad 0.154\n",
            "Epoch 194, Cost 0.597, m grad 2.24e-06, b grad 0.151\n",
            "Epoch 195, Cost 0.597, m grad 3.1e-06, b grad 0.148\n",
            "Epoch 196, Cost 0.596, m grad -4.17e-06, b grad 0.145\n",
            "Epoch 197, Cost 0.596, m grad 2.32e-06, b grad 0.142\n",
            "Epoch 198, Cost 0.596, m grad 2.29e-06, b grad 0.14\n",
            "Epoch 199, Cost 0.596, m grad 3.25e-06, b grad 0.137\n"
          ],
          "name": "stdout"
        },
        {
          "output_type": "display_data",
          "data": {
            "image/png": "[encoded data removed]",
            "text/plain": [
              "<Figure size 432x288 with 1 Axes>"
            ]
          },
          "metadata": {
            "tags": [],
            "needs_background": "light"
          }
        },
        {
          "output_type": "display_data",
          "data": {
            "image/png": "[encoded data removed]",
            "text/plain": [
              "<Figure size 432x288 with 1 Axes>"
            ]
          },
          "metadata": {
            "tags": [],
            "needs_background": "light"
          }
        }
      ]
    },
    {
      "cell_type": "markdown",
      "metadata": {
        "id": "Nd8GOnSLpcGR"
      },
      "source": [
        "## Check if $m$ and $b$ are close to non-noisy parameters"
      ]
    },
    {
      "cell_type": "code",
      "metadata": {
        "colab": {
          "base_uri": "https://localhost:8080/"
        },
        "id": "ydNhFuWBoGva",
        "executionInfo": {
          "status": "ok",
          "timestamp": 1627921408590,
          "user_tz": -120,
          "elapsed": 10,
          "user": {
            "displayName": "Max Lucas Kienast",
            "photoUrl": "",
            "userId": "18136220580306165387"
          }
        },
        "outputId": "e7a7f94f-dd40-4e8f-d181-2ffe668a8ae1"
      },
      "source": [
        "m.item()"
      ],
      "execution_count": null,
      "outputs": [
        {
          "output_type": "execute_result",
          "data": {
            "text/plain": [
              "-0.768630862236023"
            ]
          },
          "metadata": {
            "tags": []
          },
          "execution_count": 9
        }
      ]
    },
    {
      "cell_type": "code",
      "metadata": {
        "colab": {
          "base_uri": "https://localhost:8080/"
        },
        "id": "hQsBfCTrpgla",
        "executionInfo": {
          "status": "ok",
          "timestamp": 1627921408591,
          "user_tz": -120,
          "elapsed": 9,
          "user": {
            "displayName": "Max Lucas Kienast",
            "photoUrl": "",
            "userId": "18136220580306165387"
          }
        },
        "outputId": "628e85d0-e7b4-4fee-e5e8-a13166e309f2"
      },
      "source": [
        "b.item()"
      ],
      "execution_count": null,
      "outputs": [
        {
          "output_type": "execute_result",
          "data": {
            "text/plain": [
              "-2.845250368118286"
            ]
          },
          "metadata": {
            "tags": []
          },
          "execution_count": 10
        }
      ]
    },
    {
      "cell_type": "markdown",
      "metadata": {
        "id": "TXGeYjzYprIW"
      },
      "source": [
        "## Plot cost against epochs"
      ]
    },
    {
      "cell_type": "code",
      "metadata": {
        "colab": {
          "base_uri": "https://localhost:8080/",
          "height": 295
        },
        "id": "vY7127Cmph2w",
        "executionInfo": {
          "status": "ok",
          "timestamp": 1627921408592,
          "user_tz": -120,
          "elapsed": 8,
          "user": {
            "displayName": "Max Lucas Kienast",
            "photoUrl": "",
            "userId": "18136220580306165387"
          }
        },
        "outputId": "c4db5c0a-6d45-4b35-9a00-a6afd7a0ac8e"
      },
      "source": [
        "cost_epoch_plot(epoch_data[\"Epoch\"], epoch_data[\"Cost\"])"
      ],
      "execution_count": null,
      "outputs": [
        {
          "output_type": "display_data",
          "data": {
            "image/png": "[encoded data removed]",
            "text/plain": [
              "<Figure size 432x288 with 1 Axes>"
            ]
          },
          "metadata": {
            "tags": [],
            "needs_background": "light"
          }
        }
      ]
    },
    {
      "cell_type": "code",
      "metadata": {
        "id": "mC5pSMjCqU2t"
      },
      "source": [
        ""
      ],
      "execution_count": null,
      "outputs": []
    }
  ]
}
