{
  "nbformat": 4,
  "nbformat_minor": 0,
  "metadata": {
    "colab": {
      "name": "Autodiff.ipynb",
      "provenance": [],
      "collapsed_sections": []
    },
    "kernelspec": {
      "name": "python3",
      "display_name": "Python 3"
    },
    "language_info": {
      "name": "python"
    }
  },
  "cells": [
    {
      "cell_type": "markdown",
      "metadata": {
        "id": "pZFrGUQO3J1S"
      },
      "source": [
        "# Autodiff (aka Autograd)\n",
        "\n",
        "PyTorch and TensorFlow the most popular automatic differentiation libraries to calculate $dy/dx$.\n",
        "\n",
        "Say $x=5$ with:\n",
        "\n",
        "$y=x^2$\n",
        "\n",
        "$ \\frac{dy}{dx} = 2x = 2(5) = 10 $"
      ]
    },
    {
      "cell_type": "markdown",
      "metadata": {
        "id": "TorniG8N3ppt"
      },
      "source": [
        "## PyTorch"
      ]
    },
    {
      "cell_type": "code",
      "metadata": {
        "id": "mpYy3Dei3G2L"
      },
      "source": [
        "import torch"
      ],
      "execution_count": 1,
      "outputs": []
    },
    {
      "cell_type": "code",
      "metadata": {
        "colab": {
          "base_uri": "https://localhost:8080/"
        },
        "id": "iCHb0zsH3r80",
        "outputId": "58c85ed8-c2a3-422b-ece9-9f5009c50d84"
      },
      "source": [
        "x = torch.tensor(5.0) # scalar tensor as float type (required for many PyTorch functions)\n",
        "x"
      ],
      "execution_count": 2,
      "outputs": [
        {
          "output_type": "execute_result",
          "data": {
            "text/plain": [
              "tensor(5.)"
            ]
          },
          "metadata": {
            "tags": []
          },
          "execution_count": 2
        }
      ]
    },
    {
      "cell_type": "code",
      "metadata": {
        "colab": {
          "base_uri": "https://localhost:8080/"
        },
        "id": "FSgvJEWY3uk8",
        "outputId": "0a44fd17-5636-420d-826b-a3d24a5f5c73"
      },
      "source": [
        "# When we want to calculate a derivative with respect to x, \n",
        "# we want to track its gradient as we perform a forward pass.\n",
        "\n",
        "# Require the gradient to be tracked on this specific tensor through forward pass.\n",
        "\n",
        "# Gradient tracking happens \"contagiously\" through forward pass,\n",
        "# any variable that is created as function of x,\n",
        "# any tensor that is created as a result of some operation on x,\n",
        "# will track the gradients on that new tensor, too\n",
        "\n",
        "x.requires_grad_() "
      ],
      "execution_count": 3,
      "outputs": [
        {
          "output_type": "execute_result",
          "data": {
            "text/plain": [
              "tensor(5., requires_grad=True)"
            ]
          },
          "metadata": {
            "tags": []
          },
          "execution_count": 3
        }
      ]
    },
    {
      "cell_type": "code",
      "metadata": {
        "id": "BHGNJv4A3yvq"
      },
      "source": [
        "# Gradient will be tracked from x all the way through to y,\n",
        "# which is our forward pass\n",
        "\n",
        "y = x**2"
      ],
      "execution_count": 4,
      "outputs": []
    },
    {
      "cell_type": "code",
      "metadata": {
        "id": "w782Gq7c32F7"
      },
      "source": [
        "# Use autodiff by calling backward method\n",
        "\n",
        "# Use the tensor that we want as the starting point of the derivative,\n",
        "# in this case dy/dx\n",
        "# so we go backwards from dy applying autodiff\n",
        "# tracking all the way back to whatever tensors were involved in creating y\n",
        "\n",
        "y.backward()"
      ],
      "execution_count": 5,
      "outputs": []
    },
    {
      "cell_type": "code",
      "metadata": {
        "colab": {
          "base_uri": "https://localhost:8080/"
        },
        "id": "I7sZI1hv35Bb",
        "outputId": "2a5dc487-6863-4d7c-9e9e-ecba2741a398"
      },
      "source": [
        "# get the gradient of y with respect to x\n",
        "# could also have y as function of more variables and call y's gradient with respect to each of those\n",
        "\n",
        "x.grad"
      ],
      "execution_count": 6,
      "outputs": [
        {
          "output_type": "execute_result",
          "data": {
            "text/plain": [
              "tensor(10.)"
            ]
          },
          "metadata": {
            "tags": []
          },
          "execution_count": 6
        }
      ]
    },
    {
      "cell_type": "markdown",
      "metadata": {
        "id": "SQlEi-uf-icN"
      },
      "source": [
        "## TensorFlow"
      ]
    },
    {
      "cell_type": "code",
      "metadata": {
        "id": "cAm4NpDL37ga"
      },
      "source": [
        "import tensorflow as tf"
      ],
      "execution_count": 7,
      "outputs": []
    },
    {
      "cell_type": "code",
      "metadata": {
        "id": "X8ufxC8g-k0C"
      },
      "source": [
        "x = tf.Variable(5.0)"
      ],
      "execution_count": 8,
      "outputs": []
    },
    {
      "cell_type": "code",
      "metadata": {
        "id": "AxF5DRqx-o5U"
      },
      "source": [
        "# GradientTape method starts off the tracking of x\n",
        "# watch method defines what variables we want to track the gradients on (like PyTorch's require_grad_)\n",
        "\n",
        "with tf.GradientTape() as t:\n",
        "  t.watch(x) # track forward pass on x Tensor\n",
        "  y = x**2 # pass x Tensor into function y"
      ],
      "execution_count": 9,
      "outputs": []
    },
    {
      "cell_type": "code",
      "metadata": {
        "colab": {
          "base_uri": "https://localhost:8080/"
        },
        "id": "_zIkdUNP-x68",
        "outputId": "35ccbfef-925a-45eb-bb3b-5d8013c1ebcb"
      },
      "source": [
        "t.gradient(y, x) # use autodiff"
      ],
      "execution_count": 10,
      "outputs": [
        {
          "output_type": "execute_result",
          "data": {
            "text/plain": [
              "<tf.Tensor: shape=(), dtype=float32, numpy=10.0>"
            ]
          },
          "metadata": {
            "tags": []
          },
          "execution_count": 10
        }
      ]
    },
    {
      "cell_type": "code",
      "metadata": {
        "id": "1h-cjLSf_7Nk"
      },
      "source": [
        ""
      ],
      "execution_count": 10,
      "outputs": []
    }
  ]
}