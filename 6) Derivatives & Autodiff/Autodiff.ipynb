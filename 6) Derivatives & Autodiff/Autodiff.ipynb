{
  "nbformat": 4,
  "nbformat_minor": 0,
  "metadata": {
    "colab": {
      "name": "Autodiff.ipynb",
      "provenance": [],
      "collapsed_sections": [],
      "authorship_tag": "ABX9TyOyt6EkCArOhHUJHMA4d7YS"
    },
    "kernelspec": {
      "name": "python3",
      "display_name": "Python 3"
    },
    "language_info": {
      "name": "python"
    }
  },
  "cells": [
    {
      "cell_type": "markdown",
      "metadata": {
        "id": "pZFrGUQO3J1S"
      },
      "source": [
        "# Autodiff (aka Autograd)\n",
        "\n",
        "PyTorch and TensorFlow the most popular automatic differentiation libraries to calculate $dy/dx$.\n",
        "\n",
        "Say $x=5$ with:\n",
        "\n",
        "$y=x^2$\n",
        "\n",
        "$ \\frac{dy}{dx} = 2x = 2(5) = 10 $"
      ]
    },
    {
      "cell_type": "markdown",
      "metadata": {
        "id": "TorniG8N3ppt"
      },
      "source": [
        "## PyTorch"
      ]
    },
    {
      "cell_type": "code",
      "metadata": {
        "id": "mpYy3Dei3G2L",
        "executionInfo": {
          "status": "ok",
          "timestamp": 1627918584216,
          "user_tz": -120,
          "elapsed": 906,
          "user": {
            "displayName": "Max Lucas Kienast",
            "photoUrl": "",
            "userId": "18136220580306165387"
          }
        }
      },
      "source": [
        "import torch"
      ],
      "execution_count": 1,
      "outputs": []
    },
    {
      "cell_type": "code",
      "metadata": {
        "colab": {
          "base_uri": "https://localhost:8080/"
        },
        "id": "iCHb0zsH3r80",
        "executionInfo": {
          "status": "ok",
          "timestamp": 1627918584219,
          "user_tz": -120,
          "elapsed": 10,
          "user": {
            "displayName": "Max Lucas Kienast",
            "photoUrl": "",
            "userId": "18136220580306165387"
          }
        },
        "outputId": "ac15b50f-ac5f-458b-da03-66eb1501bd1d"
      },
      "source": [
        "x = torch.tensor(5.0) # scalar tensor as float type (required for many PyTorch functions)\n",
        "x"
      ],
      "execution_count": 2,
      "outputs": [
        {
          "output_type": "execute_result",
          "data": {
            "text/plain": [
              "tensor(5.)"
            ]
          },
          "metadata": {
            "tags": []
          },
          "execution_count": 2
        }
      ]
    },
    {
      "cell_type": "code",
      "metadata": {
        "colab": {
          "base_uri": "https://localhost:8080/"
        },
        "id": "FSgvJEWY3uk8",
        "executionInfo": {
          "status": "ok",
          "timestamp": 1627918584221,
          "user_tz": -120,
          "elapsed": 11,
          "user": {
            "displayName": "Max Lucas Kienast",
            "photoUrl": "",
            "userId": "18136220580306165387"
          }
        },
        "outputId": "bc022865-0ec1-4a1d-928e-a34747adf9d6"
      },
      "source": [
        "# When we want to calculate a derivative with respect to x, \n",
        "# we want to track its gradient as we perform a forward pass.\n",
        "\n",
        "# Require the gradient to be tracked on this specific tensor through forward pass.\n",
        "\n",
        "# Gradient tracking happens \"contagiously\" through forward pass,\n",
        "# any variable that is created as function of x,\n",
        "# any tensor that is created as a result of some operation on x,\n",
        "# will track the gradients on that new tensor, too\n",
        "\n",
        "x.requires_grad_() "
      ],
      "execution_count": 3,
      "outputs": [
        {
          "output_type": "execute_result",
          "data": {
            "text/plain": [
              "tensor(5., requires_grad=True)"
            ]
          },
          "metadata": {
            "tags": []
          },
          "execution_count": 3
        }
      ]
    },
    {
      "cell_type": "code",
      "metadata": {
        "id": "BHGNJv4A3yvq",
        "executionInfo": {
          "status": "ok",
          "timestamp": 1627918584221,
          "user_tz": -120,
          "elapsed": 9,
          "user": {
            "displayName": "Max Lucas Kienast",
            "photoUrl": "",
            "userId": "18136220580306165387"
          }
        }
      },
      "source": [
        "# Gradient will be tracked from x all the way through to y,\n",
        "# which is our forward pass\n",
        "\n",
        "y = x**2"
      ],
      "execution_count": 4,
      "outputs": []
    },
    {
      "cell_type": "code",
      "metadata": {
        "id": "w782Gq7c32F7",
        "executionInfo": {
          "status": "ok",
          "timestamp": 1627918584222,
          "user_tz": -120,
          "elapsed": 10,
          "user": {
            "displayName": "Max Lucas Kienast",
            "photoUrl": "",
            "userId": "18136220580306165387"
          }
        }
      },
      "source": [
        "# Use autodiff by calling backward method\n",
        "\n",
        "# Use the tensor that we want as the starting point of the derivative,\n",
        "# in this case dy/dx\n",
        "# so we go backwards from dy applying autodiff\n",
        "# tracking all the way back to whatever tensors were involved in creating y\n",
        "\n",
        "y.backward()"
      ],
      "execution_count": 5,
      "outputs": []
    },
    {
      "cell_type": "code",
      "metadata": {
        "colab": {
          "base_uri": "https://localhost:8080/"
        },
        "id": "I7sZI1hv35Bb",
        "executionInfo": {
          "status": "ok",
          "timestamp": 1627918584222,
          "user_tz": -120,
          "elapsed": 9,
          "user": {
            "displayName": "Max Lucas Kienast",
            "photoUrl": "",
            "userId": "18136220580306165387"
          }
        },
        "outputId": "6e4a3d73-73e7-4cc6-90f1-f2ceb0f70897"
      },
      "source": [
        "# get the gradient of y with respect to x\n",
        "# could also have y as function of more variables and call y's gradient with respect to each of those\n",
        "\n",
        "x.grad"
      ],
      "execution_count": 6,
      "outputs": [
        {
          "output_type": "execute_result",
          "data": {
            "text/plain": [
              "tensor(10.)"
            ]
          },
          "metadata": {
            "tags": []
          },
          "execution_count": 6
        }
      ]
    },
    {
      "cell_type": "markdown",
      "metadata": {
        "id": "m9rykAGsf31H"
      },
      "source": [
        "Say $x=2$ with:\n",
        "\n",
        "$y=x^2 + 2x +2$\n",
        "\n",
        "$ \\frac{dy}{dx} = 2x + 2 = 2(2) + 2 = 6 $"
      ]
    },
    {
      "cell_type": "code",
      "metadata": {
        "colab": {
          "base_uri": "https://localhost:8080/"
        },
        "id": "td71w8-bgJoZ",
        "executionInfo": {
          "status": "ok",
          "timestamp": 1627918584223,
          "user_tz": -120,
          "elapsed": 9,
          "user": {
            "displayName": "Max Lucas Kienast",
            "photoUrl": "",
            "userId": "18136220580306165387"
          }
        },
        "outputId": "d63f6be7-44cd-4405-8d0c-1ad0c3497467"
      },
      "source": [
        "x = torch.tensor([2.]).requires_grad_()\n",
        "y = x**2 + 2*x + 2\n",
        "y.backward()\n",
        "x.grad"
      ],
      "execution_count": 7,
      "outputs": [
        {
          "output_type": "execute_result",
          "data": {
            "text/plain": [
              "tensor([6.])"
            ]
          },
          "metadata": {
            "tags": []
          },
          "execution_count": 7
        }
      ]
    },
    {
      "cell_type": "markdown",
      "metadata": {
        "id": "SQlEi-uf-icN"
      },
      "source": [
        "## TensorFlow"
      ]
    },
    {
      "cell_type": "code",
      "metadata": {
        "id": "cAm4NpDL37ga",
        "executionInfo": {
          "status": "ok",
          "timestamp": 1627918586365,
          "user_tz": -120,
          "elapsed": 2150,
          "user": {
            "displayName": "Max Lucas Kienast",
            "photoUrl": "",
            "userId": "18136220580306165387"
          }
        }
      },
      "source": [
        "import tensorflow as tf"
      ],
      "execution_count": 8,
      "outputs": []
    },
    {
      "cell_type": "code",
      "metadata": {
        "id": "X8ufxC8g-k0C",
        "executionInfo": {
          "status": "ok",
          "timestamp": 1627918586367,
          "user_tz": -120,
          "elapsed": 7,
          "user": {
            "displayName": "Max Lucas Kienast",
            "photoUrl": "",
            "userId": "18136220580306165387"
          }
        }
      },
      "source": [
        "x = tf.Variable(5.0)"
      ],
      "execution_count": 9,
      "outputs": []
    },
    {
      "cell_type": "code",
      "metadata": {
        "id": "AxF5DRqx-o5U",
        "executionInfo": {
          "status": "ok",
          "timestamp": 1627918586367,
          "user_tz": -120,
          "elapsed": 6,
          "user": {
            "displayName": "Max Lucas Kienast",
            "photoUrl": "",
            "userId": "18136220580306165387"
          }
        }
      },
      "source": [
        "# GradientTape method starts off the tracking of x\n",
        "# watch method defines what variables we want to track the gradients on (like PyTorch's require_grad_)\n",
        "\n",
        "with tf.GradientTape() as t:\n",
        "  t.watch(x) # track forward pass on x Tensor\n",
        "  y = x**2 # pass x Tensor into function y"
      ],
      "execution_count": 10,
      "outputs": []
    },
    {
      "cell_type": "code",
      "metadata": {
        "colab": {
          "base_uri": "https://localhost:8080/"
        },
        "id": "_zIkdUNP-x68",
        "executionInfo": {
          "status": "ok",
          "timestamp": 1627918586368,
          "user_tz": -120,
          "elapsed": 7,
          "user": {
            "displayName": "Max Lucas Kienast",
            "photoUrl": "",
            "userId": "18136220580306165387"
          }
        },
        "outputId": "cbe5d775-4ab3-400f-c4df-6621ad1f385e"
      },
      "source": [
        "t.gradient(y, x) # use autodiff"
      ],
      "execution_count": 11,
      "outputs": [
        {
          "output_type": "execute_result",
          "data": {
            "text/plain": [
              "<tf.Tensor: shape=(), dtype=float32, numpy=10.0>"
            ]
          },
          "metadata": {
            "tags": []
          },
          "execution_count": 11
        }
      ]
    },
    {
      "cell_type": "code",
      "metadata": {
        "id": "1h-cjLSf_7Nk",
        "executionInfo": {
          "status": "ok",
          "timestamp": 1627918586368,
          "user_tz": -120,
          "elapsed": 5,
          "user": {
            "displayName": "Max Lucas Kienast",
            "photoUrl": "",
            "userId": "18136220580306165387"
          }
        }
      },
      "source": [
        ""
      ],
      "execution_count": 11,
      "outputs": []
    }
  ]
}
