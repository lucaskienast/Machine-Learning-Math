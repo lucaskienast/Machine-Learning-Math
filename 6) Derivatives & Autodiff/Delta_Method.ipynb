{
  "nbformat": 4,
  "nbformat_minor": 0,
  "metadata": {
    "colab": {
      "name": "Delta Method.ipynb",
      "provenance": [],
      "collapsed_sections": []
    },
    "kernelspec": {
      "name": "python3",
      "display_name": "Python 3"
    },
    "language_info": {
      "name": "python"
    }
  },
  "cells": [
    {
      "cell_type": "markdown",
      "metadata": {
        "id": "tNf0CYyN7Plk"
      },
      "source": [
        "# Delta Method\n",
        "\n",
        "Consider the equation $y = x^2 + 2x + 2$\n",
        "\n",
        "The slope can be computed with: $m = \\frac{\\text{change in }y}{\\text{change in }x} = \\frac{\\Delta y}{\\Delta x} = \\frac{y_2 - y_1}{x_2 - x_1}$\n",
        "\n",
        "or more precisely: $\\frac{dy}{dx}=lim_{\\Delta x -> 0} \\frac{f(x+\\Delta x)-f(x)}{\\Delta x}$\n",
        "\n",
        "The y-intercept can be computed with: $b = y - mx$"
      ]
    },
    {
      "cell_type": "code",
      "metadata": {
        "id": "v0aak3Dz2h9H"
      },
      "source": [
        "import numpy as np\n",
        "import matplotlib.pyplot as plt"
      ],
      "execution_count": 1,
      "outputs": []
    },
    {
      "cell_type": "code",
      "metadata": {
        "id": "2WcpPDniAVAm"
      },
      "source": [
        "x = np.linspace(-10, 10, 1000) # start at -10, finish at 10, 1000 points in between start and end"
      ],
      "execution_count": 2,
      "outputs": []
    },
    {
      "cell_type": "code",
      "metadata": {
        "id": "2UUQo0kbAtIn"
      },
      "source": [
        "def f(my_x):\n",
        "  my_y = my_x**2 +2*my_x + 2\n",
        "  return my_y"
      ],
      "execution_count": 3,
      "outputs": []
    },
    {
      "cell_type": "code",
      "metadata": {
        "id": "nNnSpykYA161"
      },
      "source": [
        "y = f(x)"
      ],
      "execution_count": 4,
      "outputs": []
    },
    {
      "cell_type": "code",
      "metadata": {
        "colab": {
          "base_uri": "https://localhost:8080/",
          "height": 265
        },
        "id": "UEJau0AuAjqv",
        "outputId": "ca9f2208-ff7f-43db-8a12-ecf081833cd7"
      },
      "source": [
        "fig, ax = plt.subplots()\n",
        "ax.plot(x,y)\n",
        "plt.show()"
      ],
      "execution_count": 5,
      "outputs": [
        {
          "output_type": "display_data",
          "data": {
            "image/png": "[encoded data removed]",
            "text/plain": [
              "<Figure size 432x288 with 1 Axes>"
            ]
          },
          "metadata": {
            "tags": [],
            "needs_background": "light"
          }
        }
      ]
    },
    {
      "cell_type": "markdown",
      "metadata": {
        "id": "bB8dhrSoA8KG"
      },
      "source": [
        "Let's identify the slope where, say, $x = 2$, and find\n",
        "$\\frac{dy}{dx}=lim_{\\Delta x -> 0} \\frac{f(x+\\Delta x)-f(x)}{\\Delta x}$"
      ]
    },
    {
      "cell_type": "code",
      "metadata": {
        "id": "2EP8JQCJCKGs"
      },
      "source": [
        "delta_x = 0.0000001"
      ],
      "execution_count": 6,
      "outputs": []
    },
    {
      "cell_type": "code",
      "metadata": {
        "id": "Dz3g3dhhAomH"
      },
      "source": [
        "x1 = 2\n",
        "y1 = f(2)"
      ],
      "execution_count": 7,
      "outputs": []
    },
    {
      "cell_type": "code",
      "metadata": {
        "id": "sNyjpEwWBU5n"
      },
      "source": [
        "x2 = x1 + delta_x\n",
        "y2 = f(x2)"
      ],
      "execution_count": 8,
      "outputs": []
    },
    {
      "cell_type": "code",
      "metadata": {
        "colab": {
          "base_uri": "https://localhost:8080/"
        },
        "id": "POMdKAqcCWuX",
        "outputId": "222196b4-446c-4048-c7d0-b8e38eb7933e"
      },
      "source": [
        "m = (y2 - y1) / (x2 - x1)\n",
        "m"
      ],
      "execution_count": 9,
      "outputs": [
        {
          "output_type": "execute_result",
          "data": {
            "text/plain": [
              "6.000000097699626"
            ]
          },
          "metadata": {
            "tags": []
          },
          "execution_count": 9
        }
      ]
    },
    {
      "cell_type": "code",
      "metadata": {
        "colab": {
          "base_uri": "https://localhost:8080/"
        },
        "id": "6GHby3WgCf3X",
        "outputId": "6dd8cbf6-091c-4010-9779-e230064a911f"
      },
      "source": [
        "dy_dx = (f(x1+delta_x) - f(x1)) / (delta_x)\n",
        "dy_dx"
      ],
      "execution_count": 10,
      "outputs": [
        {
          "output_type": "execute_result",
          "data": {
            "text/plain": [
              "6.000000087880153"
            ]
          },
          "metadata": {
            "tags": []
          },
          "execution_count": 10
        }
      ]
    },
    {
      "cell_type": "code",
      "metadata": {
        "colab": {
          "base_uri": "https://localhost:8080/"
        },
        "id": "MhKcplpMC9Ng",
        "outputId": "8891dc50-dca2-4384-f5b7-fde19d9e5ed3"
      },
      "source": [
        "b = f(2) - m * x1\n",
        "b"
      ],
      "execution_count": 11,
      "outputs": [
        {
          "output_type": "execute_result",
          "data": {
            "text/plain": [
              "-2.0000001953992523"
            ]
          },
          "metadata": {
            "tags": []
          },
          "execution_count": 11
        }
      ]
    },
    {
      "cell_type": "code",
      "metadata": {
        "id": "WoIULsS7DHX4"
      },
      "source": [
        "line_y = m*x + b"
      ],
      "execution_count": 12,
      "outputs": []
    },
    {
      "cell_type": "code",
      "metadata": {
        "colab": {
          "base_uri": "https://localhost:8080/",
          "height": 269
        },
        "id": "KJvnIVXuDO1R",
        "outputId": "c68cc1f1-2a97-4355-e00b-4af69c015afc"
      },
      "source": [
        "fig, ax = plt.subplots()\n",
        "plt.axvline(x=0, color='lightgray')\n",
        "plt.axhline(y=0, color='lightgray')\n",
        "plt.scatter(x1, y1)\n",
        "plt.scatter(x2, y2, c='orange', zorder=3)\n",
        "plt.xlim(-2.5,5)\n",
        "plt.ylim(-5, 40)\n",
        "plt.plot(x, line_y, c='orange', zorder=3)\n",
        "ax.plot(x,y)\n",
        "plt.show()"
      ],
      "execution_count": 13,
      "outputs": [
        {
          "output_type": "display_data",
          "data": {
            "image/png": "[encoded data removed]",
            "text/plain": [
              "<Figure size 432x288 with 1 Axes>"
            ]
          },
          "metadata": {
            "tags": [],
            "needs_background": "light"
          }
        }
      ]
    },
    {
      "cell_type": "markdown",
      "metadata": {
        "id": "iBGFJ61rCyeM"
      },
      "source": [
        "Let's identify the slope where, say, $x = -1$, and find\n",
        "$\\frac{dy}{dx}=lim_{\\Delta x -> 0} \\frac{f(x+\\Delta x)-f(x)}{\\Delta x}$"
      ]
    },
    {
      "cell_type": "code",
      "metadata": {
        "id": "x2Dbg3plCrf5"
      },
      "source": [
        "x1 = -1\n",
        "y1 = f(x1)"
      ],
      "execution_count": 14,
      "outputs": []
    },
    {
      "cell_type": "code",
      "metadata": {
        "id": "0gCOjIhvEKP6"
      },
      "source": [
        "delta_x = -0.0000001"
      ],
      "execution_count": 15,
      "outputs": []
    },
    {
      "cell_type": "code",
      "metadata": {
        "id": "JBp8YAWoEPBL"
      },
      "source": [
        "x2 = x1 + delta_x\n",
        "y2 = f(x2)"
      ],
      "execution_count": 16,
      "outputs": []
    },
    {
      "cell_type": "code",
      "metadata": {
        "colab": {
          "base_uri": "https://localhost:8080/"
        },
        "id": "tjsXvf4wEYQU",
        "outputId": "f82be084-52c5-4382-a7ec-1d9bb65887f5"
      },
      "source": [
        "m = (y2 - y1) / (x2 - x1)\n",
        "m"
      ],
      "execution_count": 17,
      "outputs": [
        {
          "output_type": "execute_result",
          "data": {
            "text/plain": [
              "-9.992007215792403e-08"
            ]
          },
          "metadata": {
            "tags": []
          },
          "execution_count": 17
        }
      ]
    },
    {
      "cell_type": "code",
      "metadata": {
        "colab": {
          "base_uri": "https://localhost:8080/"
        },
        "id": "7HtLiECdEZWl",
        "outputId": "8f740fa4-b9e6-44fb-c7a1-f68d4af12492"
      },
      "source": [
        "dy_dx = (f(x1+delta_x) - f(x1)) / (delta_x)\n",
        "dy_dx"
      ],
      "execution_count": 18,
      "outputs": [
        {
          "output_type": "execute_result",
          "data": {
            "text/plain": [
              "-9.992007221626409e-08"
            ]
          },
          "metadata": {
            "tags": []
          },
          "execution_count": 18
        }
      ]
    },
    {
      "cell_type": "code",
      "metadata": {
        "colab": {
          "base_uri": "https://localhost:8080/"
        },
        "id": "t0Ut286sEvCe",
        "outputId": "6e931cd4-1d55-498e-9509-a50dc2cf3f94"
      },
      "source": [
        "b = f(x1) - m * x1\n",
        "b"
      ],
      "execution_count": 19,
      "outputs": [
        {
          "output_type": "execute_result",
          "data": {
            "text/plain": [
              "0.9999999000799279"
            ]
          },
          "metadata": {
            "tags": []
          },
          "execution_count": 19
        }
      ]
    },
    {
      "cell_type": "code",
      "metadata": {
        "id": "qaQSpOAlEb69"
      },
      "source": [
        "line_y = m*x + b"
      ],
      "execution_count": 20,
      "outputs": []
    },
    {
      "cell_type": "code",
      "metadata": {
        "colab": {
          "base_uri": "https://localhost:8080/",
          "height": 269
        },
        "id": "TBixYiEIEdfA",
        "outputId": "91aaa76e-69da-44ab-f380-75f8813ed2bb"
      },
      "source": [
        "fig, ax = plt.subplots()\n",
        "plt.axvline(x=0, color='lightgray')\n",
        "plt.axhline(y=0, color='lightgray')\n",
        "plt.scatter(x1, y1)\n",
        "plt.scatter(x2, y2, c='orange', zorder=3)\n",
        "plt.xlim(-2.5,0.5)\n",
        "plt.ylim(-0.5, 4)\n",
        "plt.plot(x, line_y, c='orange', zorder=3)\n",
        "ax.plot(x,y)\n",
        "plt.show()"
      ],
      "execution_count": 21,
      "outputs": [
        {
          "output_type": "display_data",
          "data": {
            "image/png": "[encoded data removed]",
            "text/plain": [
              "<Figure size 432x288 with 1 Axes>"
            ]
          },
          "metadata": {
            "tags": [],
            "needs_background": "light"
          }
        }
      ]
    },
    {
      "cell_type": "markdown",
      "metadata": {
        "id": "nVLL06eKI6Yz"
      },
      "source": [
        "Demonstration of effect of $\\Delta x \\to 0$ on $\\frac{dy}{dx}=lim_{\\Delta x -> 0} \\frac{f(x+\\Delta x)-f(x)}{\\Delta x}$"
      ]
    },
    {
      "cell_type": "code",
      "metadata": {
        "id": "51Uc2uWHEhFM"
      },
      "source": [
        "def diff_demo(my_f, my_x, my_delta):\n",
        "    return (my_f(my_x + my_delta) - my_f(my_x)) / my_delta"
      ],
      "execution_count": 22,
      "outputs": []
    },
    {
      "cell_type": "code",
      "metadata": {
        "id": "E0UiMzexJToA"
      },
      "source": [
        "deltas = [1, 0.1, 0.01, 0.001, 0.0001, 0.00001, 0.000001]"
      ],
      "execution_count": 23,
      "outputs": []
    },
    {
      "cell_type": "code",
      "metadata": {
        "colab": {
          "base_uri": "https://localhost:8080/"
        },
        "id": "1Fdcs-uzJV4Q",
        "outputId": "84000c37-d977-4a9f-c4e6-d612dc145413"
      },
      "source": [
        "for delta in deltas:\n",
        "    print(diff_demo(f, 2, delta))"
      ],
      "execution_count": 24,
      "outputs": [
        {
          "output_type": "stream",
          "text": [
            "7.0\n",
            "6.099999999999994\n",
            "6.009999999999849\n",
            "6.000999999999479\n",
            "6.000100000012054\n",
            "6.000009999951316\n",
            "6.000001000927568\n"
          ],
          "name": "stdout"
        }
      ]
    },
    {
      "cell_type": "code",
      "metadata": {
        "colab": {
          "base_uri": "https://localhost:8080/"
        },
        "id": "k-0CEA9iJchX",
        "outputId": "6aafbc18-c525-487d-ce53-a055688b2bc1"
      },
      "source": [
        "for delta in deltas:\n",
        "    print(diff_demo(f, -1, delta))"
      ],
      "execution_count": 25,
      "outputs": [
        {
          "output_type": "stream",
          "text": [
            "1.0\n",
            "0.10000000000000009\n",
            "0.009999999999998899\n",
            "0.001000000000139778\n",
            "9.99999993922529e-05\n",
            "1.000000082740371e-05\n",
            "1.000088900582341e-06\n"
          ],
          "name": "stdout"
        }
      ]
    },
    {
      "cell_type": "code",
      "metadata": {
        "id": "TVP6yr38JfHm"
      },
      "source": [
        ""
      ],
      "execution_count": 25,
      "outputs": []
    }
  ]
}