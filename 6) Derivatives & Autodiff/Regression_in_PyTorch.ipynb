{
  "nbformat": 4,
  "nbformat_minor": 0,
  "metadata": {
    "colab": {
      "name": "Regression in PyTorch.ipynb",
      "provenance": [],
      "collapsed_sections": [],
      "authorship_tag": "ABX9TyO/ZnMrXsr2Qsbex3OTwUyp"
    },
    "kernelspec": {
      "name": "python3",
      "display_name": "Python 3"
    },
    "language_info": {
      "name": "python"
    }
  },
  "cells": [
    {
      "cell_type": "markdown",
      "metadata": {
        "id": "RpOL588qCf8r"
      },
      "source": [
        "# Regression in PyTorch\n",
        "\n",
        "Use PyTorch's autodiff library to fit a straight line to data points."
      ]
    },
    {
      "cell_type": "code",
      "metadata": {
        "id": "NJUGmZDdCdWo",
        "executionInfo": {
          "status": "ok",
          "timestamp": 1630001003638,
          "user_tz": -120,
          "elapsed": 4487,
          "user": {
            "displayName": "Max Lucas Kienast",
            "photoUrl": "",
            "userId": "18136220580306165387"
          }
        }
      },
      "source": [
        "import torch\n",
        "import numpy as np\n",
        "import matplotlib.pyplot as plt"
      ],
      "execution_count": 1,
      "outputs": []
    },
    {
      "cell_type": "code",
      "metadata": {
        "colab": {
          "base_uri": "https://localhost:8080/"
        },
        "id": "Sawqv_yfCy_N",
        "executionInfo": {
          "status": "ok",
          "timestamp": 1630001003638,
          "user_tz": -120,
          "elapsed": 17,
          "user": {
            "displayName": "Max Lucas Kienast",
            "photoUrl": "",
            "userId": "18136220580306165387"
          }
        },
        "outputId": "4848ad17-fbc0-49dd-a3cc-6a8d5856a9de"
      },
      "source": [
        "x = torch.tensor([0,1,2,3,4,5,6,7.]) # e.g. drug dosage for some disease\n",
        "x"
      ],
      "execution_count": 2,
      "outputs": [
        {
          "output_type": "execute_result",
          "data": {
            "text/plain": [
              "tensor([0., 1., 2., 3., 4., 5., 6., 7.])"
            ]
          },
          "metadata": {},
          "execution_count": 2
        }
      ]
    },
    {
      "cell_type": "code",
      "metadata": {
        "colab": {
          "base_uri": "https://localhost:8080/"
        },
        "id": "9sFpHPxCC21V",
        "executionInfo": {
          "status": "ok",
          "timestamp": 1630001003639,
          "user_tz": -120,
          "elapsed": 14,
          "user": {
            "displayName": "Max Lucas Kienast",
            "photoUrl": "",
            "userId": "18136220580306165387"
          }
        },
        "outputId": "d20bdbdc-2a83-4808-e1e3-83ec8c572214"
      },
      "source": [
        "x.shape"
      ],
      "execution_count": 3,
      "outputs": [
        {
          "output_type": "execute_result",
          "data": {
            "text/plain": [
              "torch.Size([8])"
            ]
          },
          "metadata": {},
          "execution_count": 3
        }
      ]
    },
    {
      "cell_type": "markdown",
      "metadata": {
        "id": "_Gd06fppDBJj"
      },
      "source": [
        "Create some y values via linear equation ($y=mx+b$) with known model parameters ($m=-0.5$ and $b=2$) to check whether model learned these. Also add some random normally-distributed noise to simulate sampling error."
      ]
    },
    {
      "cell_type": "code",
      "metadata": {
        "colab": {
          "base_uri": "https://localhost:8080/"
        },
        "id": "TwbKKUr3C42C",
        "executionInfo": {
          "status": "ok",
          "timestamp": 1630001003639,
          "user_tz": -120,
          "elapsed": 12,
          "user": {
            "displayName": "Max Lucas Kienast",
            "photoUrl": "",
            "userId": "18136220580306165387"
          }
        },
        "outputId": "e3a8a67c-3393-4d4a-d27a-050568d17652"
      },
      "source": [
        "y = -0.5*x + 2 + torch.normal(mean=torch.zeros(8), std=0.2)\n",
        "y # outcome we are measuring is the patients symptome intensity"
      ],
      "execution_count": 4,
      "outputs": [
        {
          "output_type": "execute_result",
          "data": {
            "text/plain": [
              "tensor([ 1.6093,  1.2798,  1.0645,  0.4369,  0.1530, -0.4980, -1.1374, -1.5353])"
            ]
          },
          "metadata": {},
          "execution_count": 4
        }
      ]
    },
    {
      "cell_type": "code",
      "metadata": {
        "colab": {
          "base_uri": "https://localhost:8080/"
        },
        "id": "hMUO_oECFVL6",
        "executionInfo": {
          "status": "ok",
          "timestamp": 1630001003640,
          "user_tz": -120,
          "elapsed": 10,
          "user": {
            "displayName": "Max Lucas Kienast",
            "photoUrl": "",
            "userId": "18136220580306165387"
          }
        },
        "outputId": "5faad49f-0f91-4ba9-9a20-73fbe9d3c3f2"
      },
      "source": [
        "torch.zeros(8) # create array of 8 zeros for the 8 x values to have errors around zero"
      ],
      "execution_count": 5,
      "outputs": [
        {
          "output_type": "execute_result",
          "data": {
            "text/plain": [
              "tensor([0., 0., 0., 0., 0., 0., 0., 0.])"
            ]
          },
          "metadata": {},
          "execution_count": 5
        }
      ]
    },
    {
      "cell_type": "code",
      "metadata": {
        "colab": {
          "base_uri": "https://localhost:8080/"
        },
        "id": "N107z7EZFZRS",
        "executionInfo": {
          "status": "ok",
          "timestamp": 1630001003640,
          "user_tz": -120,
          "elapsed": 8,
          "user": {
            "displayName": "Max Lucas Kienast",
            "photoUrl": "",
            "userId": "18136220580306165387"
          }
        },
        "outputId": "9241dd46-0c60-48b7-ad51-29871c753e36"
      },
      "source": [
        "torch.normal(mean=torch.zeros(8), std=0.2) # std defines the amount of noise"
      ],
      "execution_count": 6,
      "outputs": [
        {
          "output_type": "execute_result",
          "data": {
            "text/plain": [
              "tensor([-0.1929, -0.0065, -0.0474, -0.2109,  0.1790,  0.3450, -0.5187,  0.1663])"
            ]
          },
          "metadata": {},
          "execution_count": 6
        }
      ]
    },
    {
      "cell_type": "code",
      "metadata": {
        "colab": {
          "base_uri": "https://localhost:8080/",
          "height": 295
        },
        "id": "4vJL7m2aFbpx",
        "executionInfo": {
          "status": "ok",
          "timestamp": 1630001004257,
          "user_tz": -120,
          "elapsed": 624,
          "user": {
            "displayName": "Max Lucas Kienast",
            "photoUrl": "",
            "userId": "18136220580306165387"
          }
        },
        "outputId": "320abd53-80a9-47c9-8fef-48db58449409"
      },
      "source": [
        "fig, ax = plt.subplots()\n",
        "plt.title(\"Clinical Trial\")\n",
        "plt.xlabel(\"Drug dosage (mL)\")\n",
        "plt.ylabel(\"Symptom intensity\")\n",
        "ax.scatter(x, y)\n",
        "plt.show()"
      ],
      "execution_count": 7,
      "outputs": [
        {
          "output_type": "display_data",
          "data": {
            "image/png": "[encoded data removed]",
            "text/plain": [
              "<Figure size 432x288 with 1 Axes>"
            ]
          },
          "metadata": {
            "needs_background": "light"
          }
        }
      ]
    },
    {
      "cell_type": "markdown",
      "metadata": {
        "id": "lFBhC7RLG6yp"
      },
      "source": [
        "This could be solved using linear algebra via the Moore-Penrose Pseudoinverse, but we will use a ML approach here using calculus, which allows us to differentiate and figure out how to fit a line through the data points.\n",
        "\n",
        "We need to initialise our variables (i.e. parameters for the line) with some random near-zero values. Take $m=0.9$ and $b=0.4$ here."
      ]
    },
    {
      "cell_type": "markdown",
      "metadata": {
        "id": "Z086j80aT3Xz"
      },
      "source": [
        "\n",
        "(Note: In this simple demo, we could guess approximately-correct parameter values to start with. Or, we could use an algebraic (e.g., Moore-Penrose pseudoinverse) or statistical (e.g., ordinary-least-squares regression) to solve for the parameters quickly. This tiny machine learning demo with two parameters and eight data points scales, however, to millions of parameters and millions of data points. The other approaches -- guessing, algebra, statistics -- do not come close to scaling in this way.)"
      ]
    },
    {
      "cell_type": "code",
      "metadata": {
        "colab": {
          "base_uri": "https://localhost:8080/"
        },
        "id": "R5__bHdkGgGx",
        "executionInfo": {
          "status": "ok",
          "timestamp": 1630001004257,
          "user_tz": -120,
          "elapsed": 31,
          "user": {
            "displayName": "Max Lucas Kienast",
            "photoUrl": "",
            "userId": "18136220580306165387"
          }
        },
        "outputId": "3f2ae4d7-35e6-42a8-8d5a-d68232282494"
      },
      "source": [
        "# set requires_grad to True\n",
        "# so when we use our x values and flow them through a function\n",
        "# any of the other tensors, that this \"m\" tensor comes in contact with will also track gradients\n",
        "# allows for differentiation back from our outcome y\n",
        "# enables to find the slope of y with respect to m and b\n",
        "m = torch.tensor([0.9]).requires_grad_()\n",
        "m"
      ],
      "execution_count": 8,
      "outputs": [
        {
          "output_type": "execute_result",
          "data": {
            "text/plain": [
              "tensor([0.9000], requires_grad=True)"
            ]
          },
          "metadata": {},
          "execution_count": 8
        }
      ]
    },
    {
      "cell_type": "code",
      "metadata": {
        "colab": {
          "base_uri": "https://localhost:8080/"
        },
        "id": "0TP-ptlUUCmw",
        "executionInfo": {
          "status": "ok",
          "timestamp": 1630001004258,
          "user_tz": -120,
          "elapsed": 29,
          "user": {
            "displayName": "Max Lucas Kienast",
            "photoUrl": "",
            "userId": "18136220580306165387"
          }
        },
        "outputId": "15dced2c-42f4-4504-8a36-cd67495a1419"
      },
      "source": [
        "b = torch.tensor([0.4]).requires_grad_()\n",
        "b"
      ],
      "execution_count": 9,
      "outputs": [
        {
          "output_type": "execute_result",
          "data": {
            "text/plain": [
              "tensor([0.4000], requires_grad=True)"
            ]
          },
          "metadata": {},
          "execution_count": 9
        }
      ]
    },
    {
      "cell_type": "code",
      "metadata": {
        "id": "Q_IjllQdUa6q",
        "executionInfo": {
          "status": "ok",
          "timestamp": 1630001004258,
          "user_tz": -120,
          "elapsed": 27,
          "user": {
            "displayName": "Max Lucas Kienast",
            "photoUrl": "",
            "userId": "18136220580306165387"
          }
        }
      },
      "source": [
        "def regression(my_x, my_m, my_b):\n",
        "  return my_m * my_x + my_b"
      ],
      "execution_count": 10,
      "outputs": []
    },
    {
      "cell_type": "code",
      "metadata": {
        "id": "i9qrlhSDVnRv",
        "executionInfo": {
          "status": "ok",
          "timestamp": 1630001004259,
          "user_tz": -120,
          "elapsed": 27,
          "user": {
            "displayName": "Max Lucas Kienast",
            "photoUrl": "",
            "userId": "18136220580306165387"
          }
        }
      },
      "source": [
        "def regression_plot(my_x, my_y, my_m, my_b):\n",
        "    \n",
        "    fig, ax = plt.subplots()\n",
        "\n",
        "    ax.scatter(my_x, my_y)\n",
        "    \n",
        "    x_min, x_max = ax.get_xlim()\n",
        "    y_min = regression(x_min, my_m, my_b)\n",
        "    y_max = regression(x_max, my_m, my_b)\n",
        "    \n",
        "    ax.set_xlim([x_min, x_max])\n",
        "    _ = ax.plot([x_min, x_max], [y_min, y_max])"
      ],
      "execution_count": 11,
      "outputs": []
    },
    {
      "cell_type": "code",
      "metadata": {
        "colab": {
          "base_uri": "https://localhost:8080/",
          "height": 265
        },
        "id": "wvr3e6y4V1Sp",
        "executionInfo": {
          "status": "ok",
          "timestamp": 1630001004259,
          "user_tz": -120,
          "elapsed": 27,
          "user": {
            "displayName": "Max Lucas Kienast",
            "photoUrl": "",
            "userId": "18136220580306165387"
          }
        },
        "outputId": "17608bb4-2cf0-42e2-af5c-4c19c6019fa8"
      },
      "source": [
        "regression_plot(x, y, m, b)"
      ],
      "execution_count": 12,
      "outputs": [
        {
          "output_type": "display_data",
          "data": {
            "image/png": "[encoded data removed]",
            "text/plain": [
              "<Figure size 432x288 with 1 Axes>"
            ]
          },
          "metadata": {
            "needs_background": "light"
          }
        }
      ]
    },
    {
      "cell_type": "markdown",
      "metadata": {
        "id": "rEZl4gKFWT4l"
      },
      "source": [
        "## Machine Learning"
      ]
    },
    {
      "cell_type": "markdown",
      "metadata": {
        "id": "M2tBg3KAQOcC"
      },
      "source": [
        "### Step 1: Forward pass\n",
        "\n",
        "- take input variables (here just one $x$)\n",
        "- flow $x$ into regression model $y=mx+b$"
      ]
    },
    {
      "cell_type": "code",
      "metadata": {
        "colab": {
          "base_uri": "https://localhost:8080/"
        },
        "id": "vsuQ84rVWBvZ",
        "executionInfo": {
          "status": "ok",
          "timestamp": 1630001004260,
          "user_tz": -120,
          "elapsed": 27,
          "user": {
            "displayName": "Max Lucas Kienast",
            "photoUrl": "",
            "userId": "18136220580306165387"
          }
        },
        "outputId": "f2a80002-11ab-4408-c4c2-68f66deb9440"
      },
      "source": [
        "y_hat = regression(x, m, b)\n",
        "y_hat"
      ],
      "execution_count": 13,
      "outputs": [
        {
          "output_type": "execute_result",
          "data": {
            "text/plain": [
              "tensor([0.4000, 1.3000, 2.2000, 3.1000, 4.0000, 4.9000, 5.8000, 6.7000],\n",
              "       grad_fn=<AddBackward0>)"
            ]
          },
          "metadata": {},
          "execution_count": 13
        }
      ]
    },
    {
      "cell_type": "markdown",
      "metadata": {
        "id": "vo47DAA3Qcmd"
      },
      "source": [
        "### Step 2: Calculate cost $C$ by comparison of $\\hat{y}$ with true $y$\n",
        "\n",
        "Mean Squared Error (MSE): $C(MSE) = \\frac{1}{n} \\sum_{i=1}^n (\\hat{y_i}-y_i)^2 $"
      ]
    },
    {
      "cell_type": "code",
      "metadata": {
        "id": "D0D7ysjNQXPv",
        "executionInfo": {
          "status": "ok",
          "timestamp": 1630001004260,
          "user_tz": -120,
          "elapsed": 25,
          "user": {
            "displayName": "Max Lucas Kienast",
            "photoUrl": "",
            "userId": "18136220580306165387"
          }
        }
      },
      "source": [
        "def mse(my_y_hat, my_y):\n",
        "  mse_cost = (1/(len(my_y))) * torch.sum((my_y_hat - my_y)**2)\n",
        "  return mse_cost"
      ],
      "execution_count": 14,
      "outputs": []
    },
    {
      "cell_type": "code",
      "metadata": {
        "colab": {
          "base_uri": "https://localhost:8080/"
        },
        "id": "CA9R_RSXRslV",
        "executionInfo": {
          "status": "ok",
          "timestamp": 1630001004261,
          "user_tz": -120,
          "elapsed": 25,
          "user": {
            "displayName": "Max Lucas Kienast",
            "photoUrl": "",
            "userId": "18136220580306165387"
          }
        },
        "outputId": "01272400-72cc-4f7f-d5af-263aa506fdc1"
      },
      "source": [
        "C = mse(y_hat, y)\n",
        "C"
      ],
      "execution_count": 15,
      "outputs": [
        {
          "output_type": "execute_result",
          "data": {
            "text/plain": [
              "tensor(21.2163, grad_fn=<MulBackward0>)"
            ]
          },
          "metadata": {},
          "execution_count": 15
        }
      ]
    },
    {
      "cell_type": "markdown",
      "metadata": {
        "id": "2zAZEv2pR8PA"
      },
      "source": [
        "### Step 3: Use autodiff to calculate gradient of $C$ with respect to parameters $m$ and $b$\n",
        "\n",
        "- $\\frac{dC}{dm}>0$ means reducing m will reduce C, and vice versa\n",
        "- $\\frac{dC}{db}<0$ means increasing b will reduce C"
      ]
    },
    {
      "cell_type": "code",
      "metadata": {
        "id": "i23w75znRyt7",
        "executionInfo": {
          "status": "ok",
          "timestamp": 1630001004261,
          "user_tz": -120,
          "elapsed": 23,
          "user": {
            "displayName": "Max Lucas Kienast",
            "photoUrl": "",
            "userId": "18136220580306165387"
          }
        }
      },
      "source": [
        "# differentiate backwards from outermost tensor (cost)\n",
        "# over y_hat, further backwards through regression function\n",
        "# use chain rule & autodiff to calculate the slope of cost (C) with respect to weights (m) and intercept (b)\n",
        "C.backward() "
      ],
      "execution_count": 16,
      "outputs": []
    },
    {
      "cell_type": "code",
      "metadata": {
        "colab": {
          "base_uri": "https://localhost:8080/"
        },
        "id": "TFGv-JIoSMHs",
        "executionInfo": {
          "status": "ok",
          "timestamp": 1630001004261,
          "user_tz": -120,
          "elapsed": 21,
          "user": {
            "displayName": "Max Lucas Kienast",
            "photoUrl": "",
            "userId": "18136220580306165387"
          }
        },
        "outputId": "83f9d8e8-5907-4b45-8740-6a5bb3ee6611"
      },
      "source": [
        "m.grad # positive slope i.e. reduce m to reduce C"
      ],
      "execution_count": 17,
      "outputs": [
        {
          "output_type": "execute_result",
          "data": {
            "text/plain": [
              "tensor([37.9826])"
            ]
          },
          "metadata": {},
          "execution_count": 17
        }
      ]
    },
    {
      "cell_type": "code",
      "metadata": {
        "colab": {
          "base_uri": "https://localhost:8080/"
        },
        "id": "LjjH108hScCT",
        "executionInfo": {
          "status": "ok",
          "timestamp": 1630001004262,
          "user_tz": -120,
          "elapsed": 20,
          "user": {
            "displayName": "Max Lucas Kienast",
            "photoUrl": "",
            "userId": "18136220580306165387"
          }
        },
        "outputId": "16aafe1e-5db8-48b9-b5a4-b65052d658ac"
      },
      "source": [
        "b.grad # positive slope i.e. reduce b to reduce C"
      ],
      "execution_count": 18,
      "outputs": [
        {
          "output_type": "execute_result",
          "data": {
            "text/plain": [
              "tensor([6.7568])"
            ]
          },
          "metadata": {},
          "execution_count": 18
        }
      ]
    },
    {
      "cell_type": "markdown",
      "metadata": {
        "id": "NKopswu5SeT0"
      },
      "source": [
        "### Step 4: Gradient descent"
      ]
    },
    {
      "cell_type": "code",
      "metadata": {
        "id": "GV6c2YvhScwK",
        "executionInfo": {
          "status": "ok",
          "timestamp": 1630001004262,
          "user_tz": -120,
          "elapsed": 18,
          "user": {
            "displayName": "Max Lucas Kienast",
            "photoUrl": "",
            "userId": "18136220580306165387"
          }
        }
      },
      "source": [
        "optimizer = torch.optim.SGD([m, b], lr=0.01)"
      ],
      "execution_count": 19,
      "outputs": []
    },
    {
      "cell_type": "code",
      "metadata": {
        "id": "IzxgtZ39Sqpw",
        "executionInfo": {
          "status": "ok",
          "timestamp": 1630001004262,
          "user_tz": -120,
          "elapsed": 17,
          "user": {
            "displayName": "Max Lucas Kienast",
            "photoUrl": "",
            "userId": "18136220580306165387"
          }
        }
      },
      "source": [
        "optimizer.step() # this adjusts m and b i.e. changes them to reduce C"
      ],
      "execution_count": 20,
      "outputs": []
    },
    {
      "cell_type": "markdown",
      "metadata": {
        "id": "FZQ8gQBOSxRi"
      },
      "source": [
        "Confirm parameters have been adjusted sensibly"
      ]
    },
    {
      "cell_type": "code",
      "metadata": {
        "colab": {
          "base_uri": "https://localhost:8080/"
        },
        "id": "YsfeWx5QSs_4",
        "executionInfo": {
          "status": "ok",
          "timestamp": 1630001004263,
          "user_tz": -120,
          "elapsed": 18,
          "user": {
            "displayName": "Max Lucas Kienast",
            "photoUrl": "",
            "userId": "18136220580306165387"
          }
        },
        "outputId": "2cca7874-ff5d-4a43-c956-e6c7b28cc389"
      },
      "source": [
        "m"
      ],
      "execution_count": 21,
      "outputs": [
        {
          "output_type": "execute_result",
          "data": {
            "text/plain": [
              "tensor([0.5202], requires_grad=True)"
            ]
          },
          "metadata": {},
          "execution_count": 21
        }
      ]
    },
    {
      "cell_type": "code",
      "metadata": {
        "colab": {
          "base_uri": "https://localhost:8080/"
        },
        "id": "sVX_DYHVS2_b",
        "executionInfo": {
          "status": "ok",
          "timestamp": 1630001004263,
          "user_tz": -120,
          "elapsed": 16,
          "user": {
            "displayName": "Max Lucas Kienast",
            "photoUrl": "",
            "userId": "18136220580306165387"
          }
        },
        "outputId": "926dfc12-d2fa-483a-ab71-730ed704680f"
      },
      "source": [
        "b"
      ],
      "execution_count": 22,
      "outputs": [
        {
          "output_type": "execute_result",
          "data": {
            "text/plain": [
              "tensor([0.3324], requires_grad=True)"
            ]
          },
          "metadata": {},
          "execution_count": 22
        }
      ]
    },
    {
      "cell_type": "code",
      "metadata": {
        "colab": {
          "base_uri": "https://localhost:8080/",
          "height": 265
        },
        "id": "YeF5C8lUS7bK",
        "executionInfo": {
          "status": "ok",
          "timestamp": 1630001004617,
          "user_tz": -120,
          "elapsed": 369,
          "user": {
            "displayName": "Max Lucas Kienast",
            "photoUrl": "",
            "userId": "18136220580306165387"
          }
        },
        "outputId": "0c091769-4c14-4e13-972b-d11f18e8d0df"
      },
      "source": [
        "regression_plot(x, y, m, b)"
      ],
      "execution_count": 23,
      "outputs": [
        {
          "output_type": "display_data",
          "data": {
            "image/png": "[encoded data removed]",
            "text/plain": [
              "<Figure size 432x288 with 1 Axes>"
            ]
          },
          "metadata": {
            "needs_background": "light"
          }
        }
      ]
    },
    {
      "cell_type": "markdown",
      "metadata": {
        "id": "RlPyhYKiTL7e"
      },
      "source": [
        "Repeat steps 1 & 2 to confirm cost has decreased"
      ]
    },
    {
      "cell_type": "code",
      "metadata": {
        "colab": {
          "base_uri": "https://localhost:8080/"
        },
        "id": "fIm-xfNgTC96",
        "executionInfo": {
          "status": "ok",
          "timestamp": 1630001004617,
          "user_tz": -120,
          "elapsed": 6,
          "user": {
            "displayName": "Max Lucas Kienast",
            "photoUrl": "",
            "userId": "18136220580306165387"
          }
        },
        "outputId": "01e5b246-fbb8-4c53-c17f-60087f782cdd"
      },
      "source": [
        "C = mse(regression(x, m, b), y)\n",
        "C"
      ],
      "execution_count": 24,
      "outputs": [
        {
          "output_type": "execute_result",
          "data": {
            "text/plain": [
              "tensor(9.0419, grad_fn=<MulBackward0>)"
            ]
          },
          "metadata": {},
          "execution_count": 24
        }
      ]
    },
    {
      "cell_type": "markdown",
      "metadata": {
        "id": "wEg3hYv3TbiI"
      },
      "source": [
        "### Iteratively minimise cost (MSE) toward zero"
      ]
    },
    {
      "cell_type": "code",
      "metadata": {
        "colab": {
          "base_uri": "https://localhost:8080/"
        },
        "id": "Ap_vRlmJTYhq",
        "executionInfo": {
          "status": "ok",
          "timestamp": 1630001005253,
          "user_tz": -120,
          "elapsed": 641,
          "user": {
            "displayName": "Max Lucas Kienast",
            "photoUrl": "",
            "userId": "18136220580306165387"
          }
        },
        "outputId": "90c5f9f3-ec24-4048-e042-1365726ea5f2"
      },
      "source": [
        "epochs = 1000 # train over entire dataset 1000 times\n",
        "\n",
        "for epoch in range(epochs):\n",
        "  optimizer.zero_grad() # reset gradients to zero, else they accumulate\n",
        "  # Step 1: calculate y_hat using our regression model\n",
        "  y_hat = regression(x, m, b)\n",
        "  # Step 2: calculate cost using y_hat and y\n",
        "  C = mse(y_hat, y) \n",
        "  # Step 3: use autodiff to calculate slope of cost w.r.t. parameters m & b\n",
        "  C.backward() \n",
        "  # Step 4: adjust model parameters m & b by small step (lr=0.01) in direction told by slopes from step 3\n",
        "  optimizer.step() \n",
        "  print(\"Epoch {}, Cost {}, m grad {}, b grad {}\".format(\n",
        "      epoch,\n",
        "      \"%.3g\" % C.item(),\n",
        "      \"%.3g\" % m.grad.item(),\n",
        "      \"%.3g\" % b.grad.item()\n",
        "  ))"
      ],
      "execution_count": 25,
      "outputs": [
        {
          "output_type": "stream",
          "text": [
            "Epoch 0, Cost 9.04, m grad 24.2, b grad 3.96\n",
            "Epoch 1, Cost 4.12, m grad 15.5, b grad 2.19\n",
            "Epoch 2, Cost 2.12, m grad 9.9, b grad 1.06\n",
            "Epoch 3, Cost 1.31, m grad 6.36, b grad 0.348\n",
            "Epoch 4, Cost 0.974, m grad 4.11, b grad -0.104\n",
            "Epoch 5, Cost 0.835, m grad 2.68, b grad -0.389\n",
            "Epoch 6, Cost 0.773, m grad 1.77, b grad -0.569\n",
            "Epoch 7, Cost 0.743, m grad 1.19, b grad -0.681\n",
            "Epoch 8, Cost 0.727, m grad 0.821, b grad -0.751\n",
            "Epoch 9, Cost 0.715, m grad 0.586, b grad -0.793\n",
            "Epoch 10, Cost 0.706, m grad 0.436, b grad -0.819\n",
            "Epoch 11, Cost 0.697, m grad 0.341, b grad -0.833\n",
            "Epoch 12, Cost 0.689, m grad 0.28, b grad -0.84\n",
            "Epoch 13, Cost 0.681, m grad 0.241, b grad -0.843\n",
            "Epoch 14, Cost 0.674, m grad 0.215, b grad -0.843\n",
            "Epoch 15, Cost 0.666, m grad 0.199, b grad -0.841\n",
            "Epoch 16, Cost 0.659, m grad 0.188, b grad -0.838\n",
            "Epoch 17, Cost 0.651, m grad 0.181, b grad -0.835\n",
            "Epoch 18, Cost 0.644, m grad 0.176, b grad -0.831\n",
            "Epoch 19, Cost 0.637, m grad 0.173, b grad -0.826\n",
            "Epoch 20, Cost 0.63, m grad 0.17, b grad -0.822\n",
            "Epoch 21, Cost 0.623, m grad 0.168, b grad -0.817\n",
            "Epoch 22, Cost 0.616, m grad 0.166, b grad -0.813\n",
            "Epoch 23, Cost 0.609, m grad 0.165, b grad -0.808\n",
            "Epoch 24, Cost 0.602, m grad 0.164, b grad -0.803\n",
            "Epoch 25, Cost 0.595, m grad 0.163, b grad -0.799\n",
            "Epoch 26, Cost 0.589, m grad 0.162, b grad -0.794\n",
            "Epoch 27, Cost 0.582, m grad 0.161, b grad -0.79\n",
            "Epoch 28, Cost 0.576, m grad 0.16, b grad -0.785\n",
            "Epoch 29, Cost 0.569, m grad 0.159, b grad -0.781\n",
            "Epoch 30, Cost 0.563, m grad 0.158, b grad -0.776\n",
            "Epoch 31, Cost 0.557, m grad 0.157, b grad -0.772\n",
            "Epoch 32, Cost 0.551, m grad 0.156, b grad -0.767\n",
            "Epoch 33, Cost 0.545, m grad 0.155, b grad -0.763\n",
            "Epoch 34, Cost 0.539, m grad 0.154, b grad -0.758\n",
            "Epoch 35, Cost 0.533, m grad 0.153, b grad -0.754\n",
            "Epoch 36, Cost 0.527, m grad 0.152, b grad -0.75\n",
            "Epoch 37, Cost 0.521, m grad 0.152, b grad -0.745\n",
            "Epoch 38, Cost 0.515, m grad 0.151, b grad -0.741\n",
            "Epoch 39, Cost 0.509, m grad 0.15, b grad -0.737\n",
            "Epoch 40, Cost 0.504, m grad 0.149, b grad -0.733\n",
            "Epoch 41, Cost 0.498, m grad 0.148, b grad -0.728\n",
            "Epoch 42, Cost 0.493, m grad 0.147, b grad -0.724\n",
            "Epoch 43, Cost 0.487, m grad 0.146, b grad -0.72\n",
            "Epoch 44, Cost 0.482, m grad 0.146, b grad -0.716\n",
            "Epoch 45, Cost 0.476, m grad 0.145, b grad -0.712\n",
            "Epoch 46, Cost 0.471, m grad 0.144, b grad -0.708\n",
            "Epoch 47, Cost 0.466, m grad 0.143, b grad -0.703\n",
            "Epoch 48, Cost 0.461, m grad 0.142, b grad -0.699\n",
            "Epoch 49, Cost 0.456, m grad 0.141, b grad -0.695\n",
            "Epoch 50, Cost 0.451, m grad 0.141, b grad -0.691\n",
            "Epoch 51, Cost 0.446, m grad 0.14, b grad -0.687\n",
            "Epoch 52, Cost 0.441, m grad 0.139, b grad -0.683\n",
            "Epoch 53, Cost 0.436, m grad 0.138, b grad -0.68\n",
            "Epoch 54, Cost 0.431, m grad 0.137, b grad -0.676\n",
            "Epoch 55, Cost 0.427, m grad 0.137, b grad -0.672\n",
            "Epoch 56, Cost 0.422, m grad 0.136, b grad -0.668\n",
            "Epoch 57, Cost 0.417, m grad 0.135, b grad -0.664\n",
            "Epoch 58, Cost 0.413, m grad 0.134, b grad -0.66\n",
            "Epoch 59, Cost 0.408, m grad 0.133, b grad -0.656\n",
            "Epoch 60, Cost 0.404, m grad 0.133, b grad -0.653\n",
            "Epoch 61, Cost 0.399, m grad 0.132, b grad -0.649\n",
            "Epoch 62, Cost 0.395, m grad 0.131, b grad -0.645\n",
            "Epoch 63, Cost 0.391, m grad 0.13, b grad -0.641\n",
            "Epoch 64, Cost 0.386, m grad 0.13, b grad -0.638\n",
            "Epoch 65, Cost 0.382, m grad 0.129, b grad -0.634\n",
            "Epoch 66, Cost 0.378, m grad 0.128, b grad -0.63\n",
            "Epoch 67, Cost 0.374, m grad 0.127, b grad -0.627\n",
            "Epoch 68, Cost 0.37, m grad 0.127, b grad -0.623\n",
            "Epoch 69, Cost 0.366, m grad 0.126, b grad -0.619\n",
            "Epoch 70, Cost 0.362, m grad 0.125, b grad -0.616\n",
            "Epoch 71, Cost 0.358, m grad 0.125, b grad -0.612\n",
            "Epoch 72, Cost 0.354, m grad 0.124, b grad -0.609\n",
            "Epoch 73, Cost 0.35, m grad 0.123, b grad -0.605\n",
            "Epoch 74, Cost 0.346, m grad 0.122, b grad -0.602\n",
            "Epoch 75, Cost 0.342, m grad 0.122, b grad -0.598\n",
            "Epoch 76, Cost 0.339, m grad 0.121, b grad -0.595\n",
            "Epoch 77, Cost 0.335, m grad 0.12, b grad -0.591\n",
            "Epoch 78, Cost 0.331, m grad 0.12, b grad -0.588\n",
            "Epoch 79, Cost 0.328, m grad 0.119, b grad -0.585\n",
            "Epoch 80, Cost 0.324, m grad 0.118, b grad -0.581\n",
            "Epoch 81, Cost 0.321, m grad 0.118, b grad -0.578\n",
            "Epoch 82, Cost 0.317, m grad 0.117, b grad -0.575\n",
            "Epoch 83, Cost 0.314, m grad 0.116, b grad -0.571\n",
            "Epoch 84, Cost 0.31, m grad 0.116, b grad -0.568\n",
            "Epoch 85, Cost 0.307, m grad 0.115, b grad -0.565\n",
            "Epoch 86, Cost 0.304, m grad 0.114, b grad -0.561\n",
            "Epoch 87, Cost 0.3, m grad 0.114, b grad -0.558\n",
            "Epoch 88, Cost 0.297, m grad 0.113, b grad -0.555\n",
            "Epoch 89, Cost 0.294, m grad 0.112, b grad -0.552\n",
            "Epoch 90, Cost 0.291, m grad 0.112, b grad -0.549\n",
            "Epoch 91, Cost 0.288, m grad 0.111, b grad -0.545\n",
            "Epoch 92, Cost 0.285, m grad 0.11, b grad -0.542\n",
            "Epoch 93, Cost 0.282, m grad 0.11, b grad -0.539\n",
            "Epoch 94, Cost 0.279, m grad 0.109, b grad -0.536\n",
            "Epoch 95, Cost 0.276, m grad 0.108, b grad -0.533\n",
            "Epoch 96, Cost 0.273, m grad 0.108, b grad -0.53\n",
            "Epoch 97, Cost 0.27, m grad 0.107, b grad -0.527\n",
            "Epoch 98, Cost 0.267, m grad 0.107, b grad -0.524\n",
            "Epoch 99, Cost 0.264, m grad 0.106, b grad -0.521\n",
            "Epoch 100, Cost 0.261, m grad 0.105, b grad -0.518\n",
            "Epoch 101, Cost 0.258, m grad 0.105, b grad -0.515\n",
            "Epoch 102, Cost 0.256, m grad 0.104, b grad -0.512\n",
            "Epoch 103, Cost 0.253, m grad 0.103, b grad -0.509\n",
            "Epoch 104, Cost 0.25, m grad 0.103, b grad -0.506\n",
            "Epoch 105, Cost 0.248, m grad 0.102, b grad -0.503\n",
            "Epoch 106, Cost 0.245, m grad 0.102, b grad -0.5\n",
            "Epoch 107, Cost 0.242, m grad 0.101, b grad -0.497\n",
            "Epoch 108, Cost 0.24, m grad 0.101, b grad -0.494\n",
            "Epoch 109, Cost 0.237, m grad 0.1, b grad -0.492\n",
            "Epoch 110, Cost 0.235, m grad 0.0994, b grad -0.489\n",
            "Epoch 111, Cost 0.232, m grad 0.0988, b grad -0.486\n",
            "Epoch 112, Cost 0.23, m grad 0.0982, b grad -0.483\n",
            "Epoch 113, Cost 0.227, m grad 0.0977, b grad -0.48\n",
            "Epoch 114, Cost 0.225, m grad 0.0971, b grad -0.478\n",
            "Epoch 115, Cost 0.223, m grad 0.0965, b grad -0.475\n",
            "Epoch 116, Cost 0.22, m grad 0.096, b grad -0.472\n",
            "Epoch 117, Cost 0.218, m grad 0.0954, b grad -0.469\n",
            "Epoch 118, Cost 0.216, m grad 0.0949, b grad -0.467\n",
            "Epoch 119, Cost 0.213, m grad 0.0943, b grad -0.464\n",
            "Epoch 120, Cost 0.211, m grad 0.0938, b grad -0.461\n",
            "Epoch 121, Cost 0.209, m grad 0.0933, b grad -0.459\n",
            "Epoch 122, Cost 0.207, m grad 0.0927, b grad -0.456\n",
            "Epoch 123, Cost 0.205, m grad 0.0922, b grad -0.453\n",
            "Epoch 124, Cost 0.203, m grad 0.0917, b grad -0.451\n",
            "Epoch 125, Cost 0.2, m grad 0.0911, b grad -0.448\n",
            "Epoch 126, Cost 0.198, m grad 0.0906, b grad -0.446\n",
            "Epoch 127, Cost 0.196, m grad 0.0901, b grad -0.443\n",
            "Epoch 128, Cost 0.194, m grad 0.0896, b grad -0.44\n",
            "Epoch 129, Cost 0.192, m grad 0.089, b grad -0.438\n",
            "Epoch 130, Cost 0.19, m grad 0.0885, b grad -0.435\n",
            "Epoch 131, Cost 0.188, m grad 0.088, b grad -0.433\n",
            "Epoch 132, Cost 0.186, m grad 0.0875, b grad -0.43\n",
            "Epoch 133, Cost 0.184, m grad 0.087, b grad -0.428\n",
            "Epoch 134, Cost 0.182, m grad 0.0865, b grad -0.425\n",
            "Epoch 135, Cost 0.181, m grad 0.086, b grad -0.423\n",
            "Epoch 136, Cost 0.179, m grad 0.0855, b grad -0.421\n",
            "Epoch 137, Cost 0.177, m grad 0.085, b grad -0.418\n",
            "Epoch 138, Cost 0.175, m grad 0.0845, b grad -0.416\n",
            "Epoch 139, Cost 0.173, m grad 0.084, b grad -0.413\n",
            "Epoch 140, Cost 0.172, m grad 0.0836, b grad -0.411\n",
            "Epoch 141, Cost 0.17, m grad 0.0831, b grad -0.409\n",
            "Epoch 142, Cost 0.168, m grad 0.0826, b grad -0.406\n",
            "Epoch 143, Cost 0.166, m grad 0.0821, b grad -0.404\n",
            "Epoch 144, Cost 0.165, m grad 0.0816, b grad -0.401\n",
            "Epoch 145, Cost 0.163, m grad 0.0812, b grad -0.399\n",
            "Epoch 146, Cost 0.161, m grad 0.0807, b grad -0.397\n",
            "Epoch 147, Cost 0.16, m grad 0.0802, b grad -0.395\n",
            "Epoch 148, Cost 0.158, m grad 0.0798, b grad -0.392\n",
            "Epoch 149, Cost 0.156, m grad 0.0793, b grad -0.39\n",
            "Epoch 150, Cost 0.155, m grad 0.0789, b grad -0.388\n",
            "Epoch 151, Cost 0.153, m grad 0.0784, b grad -0.386\n",
            "Epoch 152, Cost 0.152, m grad 0.078, b grad -0.383\n",
            "Epoch 153, Cost 0.15, m grad 0.0775, b grad -0.381\n",
            "Epoch 154, Cost 0.149, m grad 0.0771, b grad -0.379\n",
            "Epoch 155, Cost 0.147, m grad 0.0766, b grad -0.377\n",
            "Epoch 156, Cost 0.146, m grad 0.0762, b grad -0.375\n",
            "Epoch 157, Cost 0.144, m grad 0.0757, b grad -0.372\n",
            "Epoch 158, Cost 0.143, m grad 0.0753, b grad -0.37\n",
            "Epoch 159, Cost 0.141, m grad 0.0749, b grad -0.368\n",
            "Epoch 160, Cost 0.14, m grad 0.0744, b grad -0.366\n",
            "Epoch 161, Cost 0.139, m grad 0.074, b grad -0.364\n",
            "Epoch 162, Cost 0.137, m grad 0.0736, b grad -0.362\n",
            "Epoch 163, Cost 0.136, m grad 0.0731, b grad -0.36\n",
            "Epoch 164, Cost 0.135, m grad 0.0727, b grad -0.358\n",
            "Epoch 165, Cost 0.133, m grad 0.0723, b grad -0.356\n",
            "Epoch 166, Cost 0.132, m grad 0.0719, b grad -0.354\n",
            "Epoch 167, Cost 0.131, m grad 0.0715, b grad -0.351\n",
            "Epoch 168, Cost 0.129, m grad 0.0711, b grad -0.349\n",
            "Epoch 169, Cost 0.128, m grad 0.0707, b grad -0.347\n",
            "Epoch 170, Cost 0.127, m grad 0.0702, b grad -0.345\n",
            "Epoch 171, Cost 0.126, m grad 0.0698, b grad -0.343\n",
            "Epoch 172, Cost 0.124, m grad 0.0694, b grad -0.341\n",
            "Epoch 173, Cost 0.123, m grad 0.069, b grad -0.34\n",
            "Epoch 174, Cost 0.122, m grad 0.0686, b grad -0.338\n",
            "Epoch 175, Cost 0.121, m grad 0.0682, b grad -0.336\n",
            "Epoch 176, Cost 0.12, m grad 0.0679, b grad -0.334\n",
            "Epoch 177, Cost 0.118, m grad 0.0675, b grad -0.332\n",
            "Epoch 178, Cost 0.117, m grad 0.0671, b grad -0.33\n",
            "Epoch 179, Cost 0.116, m grad 0.0667, b grad -0.328\n",
            "Epoch 180, Cost 0.115, m grad 0.0663, b grad -0.326\n",
            "Epoch 181, Cost 0.114, m grad 0.0659, b grad -0.324\n",
            "Epoch 182, Cost 0.113, m grad 0.0655, b grad -0.322\n",
            "Epoch 183, Cost 0.112, m grad 0.0652, b grad -0.32\n",
            "Epoch 184, Cost 0.111, m grad 0.0648, b grad -0.319\n",
            "Epoch 185, Cost 0.11, m grad 0.0644, b grad -0.317\n",
            "Epoch 186, Cost 0.109, m grad 0.064, b grad -0.315\n",
            "Epoch 187, Cost 0.108, m grad 0.0637, b grad -0.313\n",
            "Epoch 188, Cost 0.107, m grad 0.0633, b grad -0.311\n",
            "Epoch 189, Cost 0.106, m grad 0.0629, b grad -0.31\n",
            "Epoch 190, Cost 0.105, m grad 0.0626, b grad -0.308\n",
            "Epoch 191, Cost 0.104, m grad 0.0622, b grad -0.306\n",
            "Epoch 192, Cost 0.103, m grad 0.0619, b grad -0.304\n",
            "Epoch 193, Cost 0.102, m grad 0.0615, b grad -0.302\n",
            "Epoch 194, Cost 0.101, m grad 0.0611, b grad -0.301\n",
            "Epoch 195, Cost 0.0998, m grad 0.0608, b grad -0.299\n",
            "Epoch 196, Cost 0.0989, m grad 0.0604, b grad -0.297\n",
            "Epoch 197, Cost 0.0979, m grad 0.0601, b grad -0.296\n",
            "Epoch 198, Cost 0.097, m grad 0.0597, b grad -0.294\n",
            "Epoch 199, Cost 0.0961, m grad 0.0594, b grad -0.292\n",
            "Epoch 200, Cost 0.0952, m grad 0.0591, b grad -0.29\n",
            "Epoch 201, Cost 0.0944, m grad 0.0587, b grad -0.289\n",
            "Epoch 202, Cost 0.0935, m grad 0.0584, b grad -0.287\n",
            "Epoch 203, Cost 0.0926, m grad 0.058, b grad -0.285\n",
            "Epoch 204, Cost 0.0918, m grad 0.0577, b grad -0.284\n",
            "Epoch 205, Cost 0.091, m grad 0.0574, b grad -0.282\n",
            "Epoch 206, Cost 0.0901, m grad 0.057, b grad -0.281\n",
            "Epoch 207, Cost 0.0893, m grad 0.0567, b grad -0.279\n",
            "Epoch 208, Cost 0.0885, m grad 0.0564, b grad -0.277\n",
            "Epoch 209, Cost 0.0877, m grad 0.0561, b grad -0.276\n",
            "Epoch 210, Cost 0.0869, m grad 0.0557, b grad -0.274\n",
            "Epoch 211, Cost 0.0861, m grad 0.0554, b grad -0.273\n",
            "Epoch 212, Cost 0.0854, m grad 0.0551, b grad -0.271\n",
            "Epoch 213, Cost 0.0846, m grad 0.0548, b grad -0.269\n",
            "Epoch 214, Cost 0.0839, m grad 0.0545, b grad -0.268\n",
            "Epoch 215, Cost 0.0831, m grad 0.0542, b grad -0.266\n",
            "Epoch 216, Cost 0.0824, m grad 0.0538, b grad -0.265\n",
            "Epoch 217, Cost 0.0816, m grad 0.0535, b grad -0.263\n",
            "Epoch 218, Cost 0.0809, m grad 0.0532, b grad -0.262\n",
            "Epoch 219, Cost 0.0802, m grad 0.0529, b grad -0.26\n",
            "Epoch 220, Cost 0.0795, m grad 0.0526, b grad -0.259\n",
            "Epoch 221, Cost 0.0788, m grad 0.0523, b grad -0.257\n",
            "Epoch 222, Cost 0.0781, m grad 0.052, b grad -0.256\n",
            "Epoch 223, Cost 0.0775, m grad 0.0517, b grad -0.254\n",
            "Epoch 224, Cost 0.0768, m grad 0.0514, b grad -0.253\n",
            "Epoch 225, Cost 0.0761, m grad 0.0511, b grad -0.251\n",
            "Epoch 226, Cost 0.0755, m grad 0.0508, b grad -0.25\n",
            "Epoch 227, Cost 0.0748, m grad 0.0505, b grad -0.248\n",
            "Epoch 228, Cost 0.0742, m grad 0.0502, b grad -0.247\n",
            "Epoch 229, Cost 0.0735, m grad 0.0499, b grad -0.246\n",
            "Epoch 230, Cost 0.0729, m grad 0.0497, b grad -0.244\n",
            "Epoch 231, Cost 0.0723, m grad 0.0494, b grad -0.243\n",
            "Epoch 232, Cost 0.0717, m grad 0.0491, b grad -0.241\n",
            "Epoch 233, Cost 0.0711, m grad 0.0488, b grad -0.24\n",
            "Epoch 234, Cost 0.0705, m grad 0.0485, b grad -0.239\n",
            "Epoch 235, Cost 0.0699, m grad 0.0482, b grad -0.237\n",
            "Epoch 236, Cost 0.0693, m grad 0.048, b grad -0.236\n",
            "Epoch 237, Cost 0.0687, m grad 0.0477, b grad -0.234\n",
            "Epoch 238, Cost 0.0682, m grad 0.0474, b grad -0.233\n",
            "Epoch 239, Cost 0.0676, m grad 0.0471, b grad -0.232\n",
            "Epoch 240, Cost 0.067, m grad 0.0469, b grad -0.23\n",
            "Epoch 241, Cost 0.0665, m grad 0.0466, b grad -0.229\n",
            "Epoch 242, Cost 0.0659, m grad 0.0463, b grad -0.228\n",
            "Epoch 243, Cost 0.0654, m grad 0.0461, b grad -0.227\n",
            "Epoch 244, Cost 0.0649, m grad 0.0458, b grad -0.225\n",
            "Epoch 245, Cost 0.0643, m grad 0.0455, b grad -0.224\n",
            "Epoch 246, Cost 0.0638, m grad 0.0453, b grad -0.223\n",
            "Epoch 247, Cost 0.0633, m grad 0.045, b grad -0.221\n",
            "Epoch 248, Cost 0.0628, m grad 0.0447, b grad -0.22\n",
            "Epoch 249, Cost 0.0623, m grad 0.0445, b grad -0.219\n",
            "Epoch 250, Cost 0.0618, m grad 0.0442, b grad -0.218\n",
            "Epoch 251, Cost 0.0613, m grad 0.044, b grad -0.216\n",
            "Epoch 252, Cost 0.0608, m grad 0.0437, b grad -0.215\n",
            "Epoch 253, Cost 0.0603, m grad 0.0435, b grad -0.214\n",
            "Epoch 254, Cost 0.0599, m grad 0.0432, b grad -0.213\n",
            "Epoch 255, Cost 0.0594, m grad 0.043, b grad -0.211\n",
            "Epoch 256, Cost 0.0589, m grad 0.0427, b grad -0.21\n",
            "Epoch 257, Cost 0.0585, m grad 0.0425, b grad -0.209\n",
            "Epoch 258, Cost 0.058, m grad 0.0422, b grad -0.208\n",
            "Epoch 259, Cost 0.0576, m grad 0.042, b grad -0.206\n",
            "Epoch 260, Cost 0.0571, m grad 0.0417, b grad -0.205\n",
            "Epoch 261, Cost 0.0567, m grad 0.0415, b grad -0.204\n",
            "Epoch 262, Cost 0.0563, m grad 0.0413, b grad -0.203\n",
            "Epoch 263, Cost 0.0558, m grad 0.041, b grad -0.202\n",
            "Epoch 264, Cost 0.0554, m grad 0.0408, b grad -0.201\n",
            "Epoch 265, Cost 0.055, m grad 0.0406, b grad -0.199\n",
            "Epoch 266, Cost 0.0546, m grad 0.0403, b grad -0.198\n",
            "Epoch 267, Cost 0.0542, m grad 0.0401, b grad -0.197\n",
            "Epoch 268, Cost 0.0538, m grad 0.0399, b grad -0.196\n",
            "Epoch 269, Cost 0.0534, m grad 0.0396, b grad -0.195\n",
            "Epoch 270, Cost 0.053, m grad 0.0394, b grad -0.194\n",
            "Epoch 271, Cost 0.0526, m grad 0.0392, b grad -0.193\n",
            "Epoch 272, Cost 0.0522, m grad 0.0389, b grad -0.192\n",
            "Epoch 273, Cost 0.0518, m grad 0.0387, b grad -0.19\n",
            "Epoch 274, Cost 0.0514, m grad 0.0385, b grad -0.189\n",
            "Epoch 275, Cost 0.0511, m grad 0.0383, b grad -0.188\n",
            "Epoch 276, Cost 0.0507, m grad 0.0381, b grad -0.187\n",
            "Epoch 277, Cost 0.0503, m grad 0.0378, b grad -0.186\n",
            "Epoch 278, Cost 0.05, m grad 0.0376, b grad -0.185\n",
            "Epoch 279, Cost 0.0496, m grad 0.0374, b grad -0.184\n",
            "Epoch 280, Cost 0.0493, m grad 0.0372, b grad -0.183\n",
            "Epoch 281, Cost 0.0489, m grad 0.037, b grad -0.182\n",
            "Epoch 282, Cost 0.0486, m grad 0.0368, b grad -0.181\n",
            "Epoch 283, Cost 0.0482, m grad 0.0365, b grad -0.18\n",
            "Epoch 284, Cost 0.0479, m grad 0.0363, b grad -0.179\n",
            "Epoch 285, Cost 0.0476, m grad 0.0361, b grad -0.178\n",
            "Epoch 286, Cost 0.0472, m grad 0.0359, b grad -0.177\n",
            "Epoch 287, Cost 0.0469, m grad 0.0357, b grad -0.176\n",
            "Epoch 288, Cost 0.0466, m grad 0.0355, b grad -0.175\n",
            "Epoch 289, Cost 0.0463, m grad 0.0353, b grad -0.174\n",
            "Epoch 290, Cost 0.046, m grad 0.0351, b grad -0.173\n",
            "Epoch 291, Cost 0.0457, m grad 0.0349, b grad -0.172\n",
            "Epoch 292, Cost 0.0454, m grad 0.0347, b grad -0.171\n",
            "Epoch 293, Cost 0.0451, m grad 0.0345, b grad -0.17\n",
            "Epoch 294, Cost 0.0448, m grad 0.0343, b grad -0.169\n",
            "Epoch 295, Cost 0.0445, m grad 0.0341, b grad -0.168\n",
            "Epoch 296, Cost 0.0442, m grad 0.0339, b grad -0.167\n",
            "Epoch 297, Cost 0.0439, m grad 0.0337, b grad -0.166\n",
            "Epoch 298, Cost 0.0436, m grad 0.0335, b grad -0.165\n",
            "Epoch 299, Cost 0.0433, m grad 0.0333, b grad -0.164\n",
            "Epoch 300, Cost 0.043, m grad 0.0331, b grad -0.163\n",
            "Epoch 301, Cost 0.0428, m grad 0.0329, b grad -0.162\n",
            "Epoch 302, Cost 0.0425, m grad 0.0327, b grad -0.161\n",
            "Epoch 303, Cost 0.0422, m grad 0.0326, b grad -0.16\n",
            "Epoch 304, Cost 0.0419, m grad 0.0324, b grad -0.159\n",
            "Epoch 305, Cost 0.0417, m grad 0.0322, b grad -0.158\n",
            "Epoch 306, Cost 0.0414, m grad 0.032, b grad -0.157\n",
            "Epoch 307, Cost 0.0412, m grad 0.0318, b grad -0.156\n",
            "Epoch 308, Cost 0.0409, m grad 0.0316, b grad -0.156\n",
            "Epoch 309, Cost 0.0407, m grad 0.0314, b grad -0.155\n",
            "Epoch 310, Cost 0.0404, m grad 0.0313, b grad -0.154\n",
            "Epoch 311, Cost 0.0402, m grad 0.0311, b grad -0.153\n",
            "Epoch 312, Cost 0.0399, m grad 0.0309, b grad -0.152\n",
            "Epoch 313, Cost 0.0397, m grad 0.0307, b grad -0.151\n",
            "Epoch 314, Cost 0.0395, m grad 0.0306, b grad -0.15\n",
            "Epoch 315, Cost 0.0392, m grad 0.0304, b grad -0.149\n",
            "Epoch 316, Cost 0.039, m grad 0.0302, b grad -0.149\n",
            "Epoch 317, Cost 0.0388, m grad 0.03, b grad -0.148\n",
            "Epoch 318, Cost 0.0385, m grad 0.0299, b grad -0.147\n",
            "Epoch 319, Cost 0.0383, m grad 0.0297, b grad -0.146\n",
            "Epoch 320, Cost 0.0381, m grad 0.0295, b grad -0.145\n",
            "Epoch 321, Cost 0.0379, m grad 0.0293, b grad -0.144\n",
            "Epoch 322, Cost 0.0376, m grad 0.0292, b grad -0.143\n",
            "Epoch 323, Cost 0.0374, m grad 0.029, b grad -0.143\n",
            "Epoch 324, Cost 0.0372, m grad 0.0288, b grad -0.142\n",
            "Epoch 325, Cost 0.037, m grad 0.0287, b grad -0.141\n",
            "Epoch 326, Cost 0.0368, m grad 0.0285, b grad -0.14\n",
            "Epoch 327, Cost 0.0366, m grad 0.0283, b grad -0.139\n",
            "Epoch 328, Cost 0.0364, m grad 0.0282, b grad -0.139\n",
            "Epoch 329, Cost 0.0362, m grad 0.028, b grad -0.138\n",
            "Epoch 330, Cost 0.036, m grad 0.0279, b grad -0.137\n",
            "Epoch 331, Cost 0.0358, m grad 0.0277, b grad -0.136\n",
            "Epoch 332, Cost 0.0356, m grad 0.0275, b grad -0.135\n",
            "Epoch 333, Cost 0.0354, m grad 0.0274, b grad -0.135\n",
            "Epoch 334, Cost 0.0352, m grad 0.0272, b grad -0.134\n",
            "Epoch 335, Cost 0.0351, m grad 0.0271, b grad -0.133\n",
            "Epoch 336, Cost 0.0349, m grad 0.0269, b grad -0.132\n",
            "Epoch 337, Cost 0.0347, m grad 0.0267, b grad -0.132\n",
            "Epoch 338, Cost 0.0345, m grad 0.0266, b grad -0.131\n",
            "Epoch 339, Cost 0.0343, m grad 0.0264, b grad -0.13\n",
            "Epoch 340, Cost 0.0342, m grad 0.0263, b grad -0.129\n",
            "Epoch 341, Cost 0.034, m grad 0.0261, b grad -0.129\n",
            "Epoch 342, Cost 0.0338, m grad 0.026, b grad -0.128\n",
            "Epoch 343, Cost 0.0336, m grad 0.0258, b grad -0.127\n",
            "Epoch 344, Cost 0.0335, m grad 0.0257, b grad -0.126\n",
            "Epoch 345, Cost 0.0333, m grad 0.0255, b grad -0.126\n",
            "Epoch 346, Cost 0.0331, m grad 0.0254, b grad -0.125\n",
            "Epoch 347, Cost 0.033, m grad 0.0252, b grad -0.124\n",
            "Epoch 348, Cost 0.0328, m grad 0.0251, b grad -0.123\n",
            "Epoch 349, Cost 0.0327, m grad 0.025, b grad -0.123\n",
            "Epoch 350, Cost 0.0325, m grad 0.0248, b grad -0.122\n",
            "Epoch 351, Cost 0.0324, m grad 0.0247, b grad -0.121\n",
            "Epoch 352, Cost 0.0322, m grad 0.0245, b grad -0.121\n",
            "Epoch 353, Cost 0.0321, m grad 0.0244, b grad -0.12\n",
            "Epoch 354, Cost 0.0319, m grad 0.0242, b grad -0.119\n",
            "Epoch 355, Cost 0.0318, m grad 0.0241, b grad -0.119\n",
            "Epoch 356, Cost 0.0316, m grad 0.024, b grad -0.118\n",
            "Epoch 357, Cost 0.0315, m grad 0.0238, b grad -0.117\n",
            "Epoch 358, Cost 0.0313, m grad 0.0237, b grad -0.116\n",
            "Epoch 359, Cost 0.0312, m grad 0.0236, b grad -0.116\n",
            "Epoch 360, Cost 0.031, m grad 0.0234, b grad -0.115\n",
            "Epoch 361, Cost 0.0309, m grad 0.0233, b grad -0.114\n",
            "Epoch 362, Cost 0.0308, m grad 0.0231, b grad -0.114\n",
            "Epoch 363, Cost 0.0306, m grad 0.023, b grad -0.113\n",
            "Epoch 364, Cost 0.0305, m grad 0.0229, b grad -0.113\n",
            "Epoch 365, Cost 0.0304, m grad 0.0227, b grad -0.112\n",
            "Epoch 366, Cost 0.0302, m grad 0.0226, b grad -0.111\n",
            "Epoch 367, Cost 0.0301, m grad 0.0225, b grad -0.111\n",
            "Epoch 368, Cost 0.03, m grad 0.0224, b grad -0.11\n",
            "Epoch 369, Cost 0.0299, m grad 0.0222, b grad -0.109\n",
            "Epoch 370, Cost 0.0297, m grad 0.0221, b grad -0.109\n",
            "Epoch 371, Cost 0.0296, m grad 0.022, b grad -0.108\n",
            "Epoch 372, Cost 0.0295, m grad 0.0218, b grad -0.107\n",
            "Epoch 373, Cost 0.0294, m grad 0.0217, b grad -0.107\n",
            "Epoch 374, Cost 0.0293, m grad 0.0216, b grad -0.106\n",
            "Epoch 375, Cost 0.0291, m grad 0.0215, b grad -0.106\n",
            "Epoch 376, Cost 0.029, m grad 0.0213, b grad -0.105\n",
            "Epoch 377, Cost 0.0289, m grad 0.0212, b grad -0.104\n",
            "Epoch 378, Cost 0.0288, m grad 0.0211, b grad -0.104\n",
            "Epoch 379, Cost 0.0287, m grad 0.021, b grad -0.103\n",
            "Epoch 380, Cost 0.0286, m grad 0.0209, b grad -0.103\n",
            "Epoch 381, Cost 0.0285, m grad 0.0207, b grad -0.102\n",
            "Epoch 382, Cost 0.0284, m grad 0.0206, b grad -0.101\n",
            "Epoch 383, Cost 0.0282, m grad 0.0205, b grad -0.101\n",
            "Epoch 384, Cost 0.0281, m grad 0.0204, b grad -0.1\n",
            "Epoch 385, Cost 0.028, m grad 0.0203, b grad -0.0997\n",
            "Epoch 386, Cost 0.0279, m grad 0.0201, b grad -0.0991\n",
            "Epoch 387, Cost 0.0278, m grad 0.02, b grad -0.0985\n",
            "Epoch 388, Cost 0.0277, m grad 0.0199, b grad -0.0979\n",
            "Epoch 389, Cost 0.0276, m grad 0.0198, b grad -0.0974\n",
            "Epoch 390, Cost 0.0275, m grad 0.0197, b grad -0.0968\n",
            "Epoch 391, Cost 0.0274, m grad 0.0196, b grad -0.0963\n",
            "Epoch 392, Cost 0.0273, m grad 0.0195, b grad -0.0957\n",
            "Epoch 393, Cost 0.0272, m grad 0.0193, b grad -0.0951\n",
            "Epoch 394, Cost 0.0271, m grad 0.0192, b grad -0.0946\n",
            "Epoch 395, Cost 0.0271, m grad 0.0191, b grad -0.0941\n",
            "Epoch 396, Cost 0.027, m grad 0.019, b grad -0.0935\n",
            "Epoch 397, Cost 0.0269, m grad 0.0189, b grad -0.093\n",
            "Epoch 398, Cost 0.0268, m grad 0.0188, b grad -0.0924\n",
            "Epoch 399, Cost 0.0267, m grad 0.0187, b grad -0.0919\n",
            "Epoch 400, Cost 0.0266, m grad 0.0186, b grad -0.0914\n",
            "Epoch 401, Cost 0.0265, m grad 0.0185, b grad -0.0908\n",
            "Epoch 402, Cost 0.0264, m grad 0.0184, b grad -0.0903\n",
            "Epoch 403, Cost 0.0263, m grad 0.0183, b grad -0.0898\n",
            "Epoch 404, Cost 0.0263, m grad 0.0182, b grad -0.0893\n",
            "Epoch 405, Cost 0.0262, m grad 0.0181, b grad -0.0888\n",
            "Epoch 406, Cost 0.0261, m grad 0.0179, b grad -0.0883\n",
            "Epoch 407, Cost 0.026, m grad 0.0178, b grad -0.0877\n",
            "Epoch 408, Cost 0.0259, m grad 0.0177, b grad -0.0872\n",
            "Epoch 409, Cost 0.0259, m grad 0.0176, b grad -0.0867\n",
            "Epoch 410, Cost 0.0258, m grad 0.0175, b grad -0.0862\n",
            "Epoch 411, Cost 0.0257, m grad 0.0174, b grad -0.0857\n",
            "Epoch 412, Cost 0.0256, m grad 0.0173, b grad -0.0852\n",
            "Epoch 413, Cost 0.0256, m grad 0.0172, b grad -0.0848\n",
            "Epoch 414, Cost 0.0255, m grad 0.0171, b grad -0.0843\n",
            "Epoch 415, Cost 0.0254, m grad 0.017, b grad -0.0838\n",
            "Epoch 416, Cost 0.0253, m grad 0.0169, b grad -0.0833\n",
            "Epoch 417, Cost 0.0253, m grad 0.0168, b grad -0.0828\n",
            "Epoch 418, Cost 0.0252, m grad 0.0167, b grad -0.0823\n",
            "Epoch 419, Cost 0.0251, m grad 0.0166, b grad -0.0819\n",
            "Epoch 420, Cost 0.025, m grad 0.0166, b grad -0.0814\n",
            "Epoch 421, Cost 0.025, m grad 0.0165, b grad -0.0809\n",
            "Epoch 422, Cost 0.0249, m grad 0.0164, b grad -0.0805\n",
            "Epoch 423, Cost 0.0248, m grad 0.0163, b grad -0.08\n",
            "Epoch 424, Cost 0.0248, m grad 0.0162, b grad -0.0795\n",
            "Epoch 425, Cost 0.0247, m grad 0.0161, b grad -0.0791\n",
            "Epoch 426, Cost 0.0246, m grad 0.016, b grad -0.0786\n",
            "Epoch 427, Cost 0.0246, m grad 0.0159, b grad -0.0782\n",
            "Epoch 428, Cost 0.0245, m grad 0.0158, b grad -0.0777\n",
            "Epoch 429, Cost 0.0245, m grad 0.0157, b grad -0.0773\n",
            "Epoch 430, Cost 0.0244, m grad 0.0156, b grad -0.0768\n",
            "Epoch 431, Cost 0.0243, m grad 0.0155, b grad -0.0764\n",
            "Epoch 432, Cost 0.0243, m grad 0.0154, b grad -0.0759\n",
            "Epoch 433, Cost 0.0242, m grad 0.0154, b grad -0.0755\n",
            "Epoch 434, Cost 0.0242, m grad 0.0153, b grad -0.0751\n",
            "Epoch 435, Cost 0.0241, m grad 0.0152, b grad -0.0746\n",
            "Epoch 436, Cost 0.024, m grad 0.0151, b grad -0.0742\n",
            "Epoch 437, Cost 0.024, m grad 0.015, b grad -0.0738\n",
            "Epoch 438, Cost 0.0239, m grad 0.0149, b grad -0.0733\n",
            "Epoch 439, Cost 0.0239, m grad 0.0148, b grad -0.0729\n",
            "Epoch 440, Cost 0.0238, m grad 0.0147, b grad -0.0725\n",
            "Epoch 441, Cost 0.0238, m grad 0.0147, b grad -0.0721\n",
            "Epoch 442, Cost 0.0237, m grad 0.0146, b grad -0.0717\n",
            "Epoch 443, Cost 0.0237, m grad 0.0145, b grad -0.0713\n",
            "Epoch 444, Cost 0.0236, m grad 0.0144, b grad -0.0708\n",
            "Epoch 445, Cost 0.0235, m grad 0.0143, b grad -0.0704\n",
            "Epoch 446, Cost 0.0235, m grad 0.0142, b grad -0.07\n",
            "Epoch 447, Cost 0.0234, m grad 0.0142, b grad -0.0696\n",
            "Epoch 448, Cost 0.0234, m grad 0.0141, b grad -0.0692\n",
            "Epoch 449, Cost 0.0233, m grad 0.014, b grad -0.0688\n",
            "Epoch 450, Cost 0.0233, m grad 0.0139, b grad -0.0684\n",
            "Epoch 451, Cost 0.0232, m grad 0.0138, b grad -0.068\n",
            "Epoch 452, Cost 0.0232, m grad 0.0138, b grad -0.0676\n",
            "Epoch 453, Cost 0.0232, m grad 0.0137, b grad -0.0673\n",
            "Epoch 454, Cost 0.0231, m grad 0.0136, b grad -0.0669\n",
            "Epoch 455, Cost 0.0231, m grad 0.0135, b grad -0.0665\n",
            "Epoch 456, Cost 0.023, m grad 0.0134, b grad -0.0661\n",
            "Epoch 457, Cost 0.023, m grad 0.0134, b grad -0.0657\n",
            "Epoch 458, Cost 0.0229, m grad 0.0133, b grad -0.0653\n",
            "Epoch 459, Cost 0.0229, m grad 0.0132, b grad -0.065\n",
            "Epoch 460, Cost 0.0228, m grad 0.0131, b grad -0.0646\n",
            "Epoch 461, Cost 0.0228, m grad 0.0131, b grad -0.0642\n",
            "Epoch 462, Cost 0.0227, m grad 0.013, b grad -0.0638\n",
            "Epoch 463, Cost 0.0227, m grad 0.0129, b grad -0.0635\n",
            "Epoch 464, Cost 0.0227, m grad 0.0128, b grad -0.0631\n",
            "Epoch 465, Cost 0.0226, m grad 0.0128, b grad -0.0627\n",
            "Epoch 466, Cost 0.0226, m grad 0.0127, b grad -0.0624\n",
            "Epoch 467, Cost 0.0225, m grad 0.0126, b grad -0.062\n",
            "Epoch 468, Cost 0.0225, m grad 0.0125, b grad -0.0617\n",
            "Epoch 469, Cost 0.0225, m grad 0.0125, b grad -0.0613\n",
            "Epoch 470, Cost 0.0224, m grad 0.0124, b grad -0.061\n",
            "Epoch 471, Cost 0.0224, m grad 0.0123, b grad -0.0606\n",
            "Epoch 472, Cost 0.0223, m grad 0.0123, b grad -0.0603\n",
            "Epoch 473, Cost 0.0223, m grad 0.0122, b grad -0.0599\n",
            "Epoch 474, Cost 0.0223, m grad 0.0121, b grad -0.0596\n",
            "Epoch 475, Cost 0.0222, m grad 0.012, b grad -0.0592\n",
            "Epoch 476, Cost 0.0222, m grad 0.012, b grad -0.0589\n",
            "Epoch 477, Cost 0.0222, m grad 0.0119, b grad -0.0585\n",
            "Epoch 478, Cost 0.0221, m grad 0.0118, b grad -0.0582\n",
            "Epoch 479, Cost 0.0221, m grad 0.0118, b grad -0.0579\n",
            "Epoch 480, Cost 0.0221, m grad 0.0117, b grad -0.0575\n",
            "Epoch 481, Cost 0.022, m grad 0.0116, b grad -0.0572\n",
            "Epoch 482, Cost 0.022, m grad 0.0116, b grad -0.0569\n",
            "Epoch 483, Cost 0.022, m grad 0.0115, b grad -0.0565\n",
            "Epoch 484, Cost 0.0219, m grad 0.0114, b grad -0.0562\n",
            "Epoch 485, Cost 0.0219, m grad 0.0114, b grad -0.0559\n",
            "Epoch 486, Cost 0.0219, m grad 0.0113, b grad -0.0556\n",
            "Epoch 487, Cost 0.0218, m grad 0.0112, b grad -0.0553\n",
            "Epoch 488, Cost 0.0218, m grad 0.0112, b grad -0.0549\n",
            "Epoch 489, Cost 0.0218, m grad 0.0111, b grad -0.0546\n",
            "Epoch 490, Cost 0.0217, m grad 0.011, b grad -0.0543\n",
            "Epoch 491, Cost 0.0217, m grad 0.011, b grad -0.054\n",
            "Epoch 492, Cost 0.0217, m grad 0.0109, b grad -0.0537\n",
            "Epoch 493, Cost 0.0216, m grad 0.0109, b grad -0.0534\n",
            "Epoch 494, Cost 0.0216, m grad 0.0108, b grad -0.0531\n",
            "Epoch 495, Cost 0.0216, m grad 0.0107, b grad -0.0528\n",
            "Epoch 496, Cost 0.0216, m grad 0.0107, b grad -0.0524\n",
            "Epoch 497, Cost 0.0215, m grad 0.0106, b grad -0.0521\n",
            "Epoch 498, Cost 0.0215, m grad 0.0105, b grad -0.0518\n",
            "Epoch 499, Cost 0.0215, m grad 0.0105, b grad -0.0515\n",
            "Epoch 500, Cost 0.0214, m grad 0.0104, b grad -0.0513\n",
            "Epoch 501, Cost 0.0214, m grad 0.0104, b grad -0.051\n",
            "Epoch 502, Cost 0.0214, m grad 0.0103, b grad -0.0507\n",
            "Epoch 503, Cost 0.0214, m grad 0.0102, b grad -0.0504\n",
            "Epoch 504, Cost 0.0213, m grad 0.0102, b grad -0.0501\n",
            "Epoch 505, Cost 0.0213, m grad 0.0101, b grad -0.0498\n",
            "Epoch 506, Cost 0.0213, m grad 0.0101, b grad -0.0495\n",
            "Epoch 507, Cost 0.0213, m grad 0.01, b grad -0.0492\n",
            "Epoch 508, Cost 0.0212, m grad 0.00995, b grad -0.0489\n",
            "Epoch 509, Cost 0.0212, m grad 0.00989, b grad -0.0487\n",
            "Epoch 510, Cost 0.0212, m grad 0.00984, b grad -0.0484\n",
            "Epoch 511, Cost 0.0212, m grad 0.00978, b grad -0.0481\n",
            "Epoch 512, Cost 0.0211, m grad 0.00972, b grad -0.0478\n",
            "Epoch 513, Cost 0.0211, m grad 0.00967, b grad -0.0475\n",
            "Epoch 514, Cost 0.0211, m grad 0.00961, b grad -0.0473\n",
            "Epoch 515, Cost 0.0211, m grad 0.00956, b grad -0.047\n",
            "Epoch 516, Cost 0.021, m grad 0.0095, b grad -0.0467\n",
            "Epoch 517, Cost 0.021, m grad 0.00945, b grad -0.0465\n",
            "Epoch 518, Cost 0.021, m grad 0.00939, b grad -0.0462\n",
            "Epoch 519, Cost 0.021, m grad 0.00934, b grad -0.0459\n",
            "Epoch 520, Cost 0.0209, m grad 0.00928, b grad -0.0457\n",
            "Epoch 521, Cost 0.0209, m grad 0.00923, b grad -0.0454\n",
            "Epoch 522, Cost 0.0209, m grad 0.00918, b grad -0.0451\n",
            "Epoch 523, Cost 0.0209, m grad 0.00912, b grad -0.0449\n",
            "Epoch 524, Cost 0.0209, m grad 0.00907, b grad -0.0446\n",
            "Epoch 525, Cost 0.0208, m grad 0.00902, b grad -0.0444\n",
            "Epoch 526, Cost 0.0208, m grad 0.00897, b grad -0.0441\n",
            "Epoch 527, Cost 0.0208, m grad 0.00892, b grad -0.0438\n",
            "Epoch 528, Cost 0.0208, m grad 0.00886, b grad -0.0436\n",
            "Epoch 529, Cost 0.0208, m grad 0.00881, b grad -0.0433\n",
            "Epoch 530, Cost 0.0207, m grad 0.00876, b grad -0.0431\n",
            "Epoch 531, Cost 0.0207, m grad 0.00871, b grad -0.0428\n",
            "Epoch 532, Cost 0.0207, m grad 0.00866, b grad -0.0426\n",
            "Epoch 533, Cost 0.0207, m grad 0.00861, b grad -0.0423\n",
            "Epoch 534, Cost 0.0207, m grad 0.00856, b grad -0.0421\n",
            "Epoch 535, Cost 0.0206, m grad 0.00851, b grad -0.0419\n",
            "Epoch 536, Cost 0.0206, m grad 0.00846, b grad -0.0416\n",
            "Epoch 537, Cost 0.0206, m grad 0.00842, b grad -0.0414\n",
            "Epoch 538, Cost 0.0206, m grad 0.00837, b grad -0.0411\n",
            "Epoch 539, Cost 0.0206, m grad 0.00832, b grad -0.0409\n",
            "Epoch 540, Cost 0.0206, m grad 0.00827, b grad -0.0407\n",
            "Epoch 541, Cost 0.0205, m grad 0.00822, b grad -0.0404\n",
            "Epoch 542, Cost 0.0205, m grad 0.00817, b grad -0.0402\n",
            "Epoch 543, Cost 0.0205, m grad 0.00813, b grad -0.04\n",
            "Epoch 544, Cost 0.0205, m grad 0.00808, b grad -0.0397\n",
            "Epoch 545, Cost 0.0205, m grad 0.00803, b grad -0.0395\n",
            "Epoch 546, Cost 0.0205, m grad 0.00799, b grad -0.0393\n",
            "Epoch 547, Cost 0.0204, m grad 0.00794, b grad -0.0391\n",
            "Epoch 548, Cost 0.0204, m grad 0.0079, b grad -0.0388\n",
            "Epoch 549, Cost 0.0204, m grad 0.00785, b grad -0.0386\n",
            "Epoch 550, Cost 0.0204, m grad 0.0078, b grad -0.0384\n",
            "Epoch 551, Cost 0.0204, m grad 0.00776, b grad -0.0382\n",
            "Epoch 552, Cost 0.0204, m grad 0.00771, b grad -0.0379\n",
            "Epoch 553, Cost 0.0204, m grad 0.00767, b grad -0.0377\n",
            "Epoch 554, Cost 0.0203, m grad 0.00763, b grad -0.0375\n",
            "Epoch 555, Cost 0.0203, m grad 0.00758, b grad -0.0373\n",
            "Epoch 556, Cost 0.0203, m grad 0.00754, b grad -0.0371\n",
            "Epoch 557, Cost 0.0203, m grad 0.0075, b grad -0.0369\n",
            "Epoch 558, Cost 0.0203, m grad 0.00745, b grad -0.0366\n",
            "Epoch 559, Cost 0.0203, m grad 0.00741, b grad -0.0364\n",
            "Epoch 560, Cost 0.0203, m grad 0.00737, b grad -0.0362\n",
            "Epoch 561, Cost 0.0202, m grad 0.00732, b grad -0.036\n",
            "Epoch 562, Cost 0.0202, m grad 0.00728, b grad -0.0358\n",
            "Epoch 563, Cost 0.0202, m grad 0.00724, b grad -0.0356\n",
            "Epoch 564, Cost 0.0202, m grad 0.0072, b grad -0.0354\n",
            "Epoch 565, Cost 0.0202, m grad 0.00716, b grad -0.0352\n",
            "Epoch 566, Cost 0.0202, m grad 0.00712, b grad -0.035\n",
            "Epoch 567, Cost 0.0202, m grad 0.00707, b grad -0.0348\n",
            "Epoch 568, Cost 0.0201, m grad 0.00703, b grad -0.0346\n",
            "Epoch 569, Cost 0.0201, m grad 0.00699, b grad -0.0344\n",
            "Epoch 570, Cost 0.0201, m grad 0.00695, b grad -0.0342\n",
            "Epoch 571, Cost 0.0201, m grad 0.00691, b grad -0.034\n",
            "Epoch 572, Cost 0.0201, m grad 0.00687, b grad -0.0338\n",
            "Epoch 573, Cost 0.0201, m grad 0.00683, b grad -0.0336\n",
            "Epoch 574, Cost 0.0201, m grad 0.00679, b grad -0.0334\n",
            "Epoch 575, Cost 0.0201, m grad 0.00675, b grad -0.0332\n",
            "Epoch 576, Cost 0.0201, m grad 0.00671, b grad -0.033\n",
            "Epoch 577, Cost 0.02, m grad 0.00668, b grad -0.0328\n",
            "Epoch 578, Cost 0.02, m grad 0.00664, b grad -0.0326\n",
            "Epoch 579, Cost 0.02, m grad 0.0066, b grad -0.0325\n",
            "Epoch 580, Cost 0.02, m grad 0.00656, b grad -0.0323\n",
            "Epoch 581, Cost 0.02, m grad 0.00652, b grad -0.0321\n",
            "Epoch 582, Cost 0.02, m grad 0.00649, b grad -0.0319\n",
            "Epoch 583, Cost 0.02, m grad 0.00645, b grad -0.0317\n",
            "Epoch 584, Cost 0.02, m grad 0.00641, b grad -0.0315\n",
            "Epoch 585, Cost 0.02, m grad 0.00637, b grad -0.0314\n",
            "Epoch 586, Cost 0.0199, m grad 0.00634, b grad -0.0312\n",
            "Epoch 587, Cost 0.0199, m grad 0.0063, b grad -0.031\n",
            "Epoch 588, Cost 0.0199, m grad 0.00627, b grad -0.0308\n",
            "Epoch 589, Cost 0.0199, m grad 0.00623, b grad -0.0306\n",
            "Epoch 590, Cost 0.0199, m grad 0.00619, b grad -0.0305\n",
            "Epoch 591, Cost 0.0199, m grad 0.00616, b grad -0.0303\n",
            "Epoch 592, Cost 0.0199, m grad 0.00612, b grad -0.0301\n",
            "Epoch 593, Cost 0.0199, m grad 0.00609, b grad -0.0299\n",
            "Epoch 594, Cost 0.0199, m grad 0.00605, b grad -0.0298\n",
            "Epoch 595, Cost 0.0199, m grad 0.00602, b grad -0.0296\n",
            "Epoch 596, Cost 0.0198, m grad 0.00598, b grad -0.0294\n",
            "Epoch 597, Cost 0.0198, m grad 0.00595, b grad -0.0292\n",
            "Epoch 598, Cost 0.0198, m grad 0.00591, b grad -0.0291\n",
            "Epoch 599, Cost 0.0198, m grad 0.00588, b grad -0.0289\n",
            "Epoch 600, Cost 0.0198, m grad 0.00585, b grad -0.0287\n",
            "Epoch 601, Cost 0.0198, m grad 0.00581, b grad -0.0286\n",
            "Epoch 602, Cost 0.0198, m grad 0.00578, b grad -0.0284\n",
            "Epoch 603, Cost 0.0198, m grad 0.00575, b grad -0.0283\n",
            "Epoch 604, Cost 0.0198, m grad 0.00571, b grad -0.0281\n",
            "Epoch 605, Cost 0.0198, m grad 0.00568, b grad -0.0279\n",
            "Epoch 606, Cost 0.0198, m grad 0.00565, b grad -0.0278\n",
            "Epoch 607, Cost 0.0198, m grad 0.00561, b grad -0.0276\n",
            "Epoch 608, Cost 0.0197, m grad 0.00558, b grad -0.0274\n",
            "Epoch 609, Cost 0.0197, m grad 0.00555, b grad -0.0273\n",
            "Epoch 610, Cost 0.0197, m grad 0.00552, b grad -0.0271\n",
            "Epoch 611, Cost 0.0197, m grad 0.00548, b grad -0.027\n",
            "Epoch 612, Cost 0.0197, m grad 0.00545, b grad -0.0268\n",
            "Epoch 613, Cost 0.0197, m grad 0.00542, b grad -0.0267\n",
            "Epoch 614, Cost 0.0197, m grad 0.00539, b grad -0.0265\n",
            "Epoch 615, Cost 0.0197, m grad 0.00536, b grad -0.0264\n",
            "Epoch 616, Cost 0.0197, m grad 0.00533, b grad -0.0262\n",
            "Epoch 617, Cost 0.0197, m grad 0.0053, b grad -0.0261\n",
            "Epoch 618, Cost 0.0197, m grad 0.00527, b grad -0.0259\n",
            "Epoch 619, Cost 0.0197, m grad 0.00524, b grad -0.0258\n",
            "Epoch 620, Cost 0.0197, m grad 0.00521, b grad -0.0256\n",
            "Epoch 621, Cost 0.0197, m grad 0.00518, b grad -0.0255\n",
            "Epoch 622, Cost 0.0196, m grad 0.00515, b grad -0.0253\n",
            "Epoch 623, Cost 0.0196, m grad 0.00512, b grad -0.0252\n",
            "Epoch 624, Cost 0.0196, m grad 0.00509, b grad -0.025\n",
            "Epoch 625, Cost 0.0196, m grad 0.00506, b grad -0.0249\n",
            "Epoch 626, Cost 0.0196, m grad 0.00503, b grad -0.0247\n",
            "Epoch 627, Cost 0.0196, m grad 0.005, b grad -0.0246\n",
            "Epoch 628, Cost 0.0196, m grad 0.00497, b grad -0.0244\n",
            "Epoch 629, Cost 0.0196, m grad 0.00494, b grad -0.0243\n",
            "Epoch 630, Cost 0.0196, m grad 0.00492, b grad -0.0242\n",
            "Epoch 631, Cost 0.0196, m grad 0.00489, b grad -0.024\n",
            "Epoch 632, Cost 0.0196, m grad 0.00486, b grad -0.0239\n",
            "Epoch 633, Cost 0.0196, m grad 0.00483, b grad -0.0238\n",
            "Epoch 634, Cost 0.0196, m grad 0.0048, b grad -0.0236\n",
            "Epoch 635, Cost 0.0196, m grad 0.00478, b grad -0.0235\n",
            "Epoch 636, Cost 0.0196, m grad 0.00475, b grad -0.0233\n",
            "Epoch 637, Cost 0.0196, m grad 0.00472, b grad -0.0232\n",
            "Epoch 638, Cost 0.0195, m grad 0.00469, b grad -0.0231\n",
            "Epoch 639, Cost 0.0195, m grad 0.00467, b grad -0.0229\n",
            "Epoch 640, Cost 0.0195, m grad 0.00464, b grad -0.0228\n",
            "Epoch 641, Cost 0.0195, m grad 0.00461, b grad -0.0227\n",
            "Epoch 642, Cost 0.0195, m grad 0.00459, b grad -0.0225\n",
            "Epoch 643, Cost 0.0195, m grad 0.00456, b grad -0.0224\n",
            "Epoch 644, Cost 0.0195, m grad 0.00453, b grad -0.0223\n",
            "Epoch 645, Cost 0.0195, m grad 0.00451, b grad -0.0222\n",
            "Epoch 646, Cost 0.0195, m grad 0.00448, b grad -0.022\n",
            "Epoch 647, Cost 0.0195, m grad 0.00445, b grad -0.0219\n",
            "Epoch 648, Cost 0.0195, m grad 0.00443, b grad -0.0218\n",
            "Epoch 649, Cost 0.0195, m grad 0.0044, b grad -0.0217\n",
            "Epoch 650, Cost 0.0195, m grad 0.00438, b grad -0.0215\n",
            "Epoch 651, Cost 0.0195, m grad 0.00435, b grad -0.0214\n",
            "Epoch 652, Cost 0.0195, m grad 0.00433, b grad -0.0213\n",
            "Epoch 653, Cost 0.0195, m grad 0.0043, b grad -0.0212\n",
            "Epoch 654, Cost 0.0195, m grad 0.00428, b grad -0.021\n",
            "Epoch 655, Cost 0.0195, m grad 0.00425, b grad -0.0209\n",
            "Epoch 656, Cost 0.0195, m grad 0.00423, b grad -0.0208\n",
            "Epoch 657, Cost 0.0195, m grad 0.0042, b grad -0.0207\n",
            "Epoch 658, Cost 0.0194, m grad 0.00418, b grad -0.0206\n",
            "Epoch 659, Cost 0.0194, m grad 0.00416, b grad -0.0204\n",
            "Epoch 660, Cost 0.0194, m grad 0.00413, b grad -0.0203\n",
            "Epoch 661, Cost 0.0194, m grad 0.00411, b grad -0.0202\n",
            "Epoch 662, Cost 0.0194, m grad 0.00408, b grad -0.0201\n",
            "Epoch 663, Cost 0.0194, m grad 0.00406, b grad -0.02\n",
            "Epoch 664, Cost 0.0194, m grad 0.00404, b grad -0.0199\n",
            "Epoch 665, Cost 0.0194, m grad 0.00401, b grad -0.0197\n",
            "Epoch 666, Cost 0.0194, m grad 0.00399, b grad -0.0196\n",
            "Epoch 667, Cost 0.0194, m grad 0.00397, b grad -0.0195\n",
            "Epoch 668, Cost 0.0194, m grad 0.00395, b grad -0.0194\n",
            "Epoch 669, Cost 0.0194, m grad 0.00392, b grad -0.0193\n",
            "Epoch 670, Cost 0.0194, m grad 0.0039, b grad -0.0192\n",
            "Epoch 671, Cost 0.0194, m grad 0.00388, b grad -0.0191\n",
            "Epoch 672, Cost 0.0194, m grad 0.00386, b grad -0.019\n",
            "Epoch 673, Cost 0.0194, m grad 0.00383, b grad -0.0188\n",
            "Epoch 674, Cost 0.0194, m grad 0.00381, b grad -0.0187\n",
            "Epoch 675, Cost 0.0194, m grad 0.00379, b grad -0.0186\n",
            "Epoch 676, Cost 0.0194, m grad 0.00377, b grad -0.0185\n",
            "Epoch 677, Cost 0.0194, m grad 0.00375, b grad -0.0184\n",
            "Epoch 678, Cost 0.0194, m grad 0.00372, b grad -0.0183\n",
            "Epoch 679, Cost 0.0194, m grad 0.0037, b grad -0.0182\n",
            "Epoch 680, Cost 0.0194, m grad 0.00368, b grad -0.0181\n",
            "Epoch 681, Cost 0.0194, m grad 0.00366, b grad -0.018\n",
            "Epoch 682, Cost 0.0194, m grad 0.00364, b grad -0.0179\n",
            "Epoch 683, Cost 0.0194, m grad 0.00362, b grad -0.0178\n",
            "Epoch 684, Cost 0.0193, m grad 0.0036, b grad -0.0177\n",
            "Epoch 685, Cost 0.0193, m grad 0.00358, b grad -0.0176\n",
            "Epoch 686, Cost 0.0193, m grad 0.00355, b grad -0.0175\n",
            "Epoch 687, Cost 0.0193, m grad 0.00353, b grad -0.0174\n",
            "Epoch 688, Cost 0.0193, m grad 0.00351, b grad -0.0173\n",
            "Epoch 689, Cost 0.0193, m grad 0.00349, b grad -0.0172\n",
            "Epoch 690, Cost 0.0193, m grad 0.00347, b grad -0.0171\n",
            "Epoch 691, Cost 0.0193, m grad 0.00345, b grad -0.017\n",
            "Epoch 692, Cost 0.0193, m grad 0.00343, b grad -0.0169\n",
            "Epoch 693, Cost 0.0193, m grad 0.00341, b grad -0.0168\n",
            "Epoch 694, Cost 0.0193, m grad 0.00339, b grad -0.0167\n",
            "Epoch 695, Cost 0.0193, m grad 0.00337, b grad -0.0166\n",
            "Epoch 696, Cost 0.0193, m grad 0.00336, b grad -0.0165\n",
            "Epoch 697, Cost 0.0193, m grad 0.00334, b grad -0.0164\n",
            "Epoch 698, Cost 0.0193, m grad 0.00332, b grad -0.0163\n",
            "Epoch 699, Cost 0.0193, m grad 0.0033, b grad -0.0162\n",
            "Epoch 700, Cost 0.0193, m grad 0.00328, b grad -0.0161\n",
            "Epoch 701, Cost 0.0193, m grad 0.00326, b grad -0.016\n",
            "Epoch 702, Cost 0.0193, m grad 0.00324, b grad -0.0159\n",
            "Epoch 703, Cost 0.0193, m grad 0.00322, b grad -0.0158\n",
            "Epoch 704, Cost 0.0193, m grad 0.0032, b grad -0.0158\n",
            "Epoch 705, Cost 0.0193, m grad 0.00319, b grad -0.0157\n",
            "Epoch 706, Cost 0.0193, m grad 0.00317, b grad -0.0156\n",
            "Epoch 707, Cost 0.0193, m grad 0.00315, b grad -0.0155\n",
            "Epoch 708, Cost 0.0193, m grad 0.00313, b grad -0.0154\n",
            "Epoch 709, Cost 0.0193, m grad 0.00311, b grad -0.0153\n",
            "Epoch 710, Cost 0.0193, m grad 0.00309, b grad -0.0152\n",
            "Epoch 711, Cost 0.0193, m grad 0.00308, b grad -0.0151\n",
            "Epoch 712, Cost 0.0193, m grad 0.00306, b grad -0.015\n",
            "Epoch 713, Cost 0.0193, m grad 0.00304, b grad -0.015\n",
            "Epoch 714, Cost 0.0193, m grad 0.00302, b grad -0.0149\n",
            "Epoch 715, Cost 0.0193, m grad 0.00301, b grad -0.0148\n",
            "Epoch 716, Cost 0.0193, m grad 0.00299, b grad -0.0147\n",
            "Epoch 717, Cost 0.0193, m grad 0.00297, b grad -0.0146\n",
            "Epoch 718, Cost 0.0193, m grad 0.00295, b grad -0.0145\n",
            "Epoch 719, Cost 0.0193, m grad 0.00294, b grad -0.0144\n",
            "Epoch 720, Cost 0.0193, m grad 0.00292, b grad -0.0144\n",
            "Epoch 721, Cost 0.0193, m grad 0.0029, b grad -0.0143\n",
            "Epoch 722, Cost 0.0192, m grad 0.00289, b grad -0.0142\n",
            "Epoch 723, Cost 0.0192, m grad 0.00287, b grad -0.0141\n",
            "Epoch 724, Cost 0.0192, m grad 0.00285, b grad -0.014\n",
            "Epoch 725, Cost 0.0192, m grad 0.00284, b grad -0.014\n",
            "Epoch 726, Cost 0.0192, m grad 0.00282, b grad -0.0139\n",
            "Epoch 727, Cost 0.0192, m grad 0.0028, b grad -0.0138\n",
            "Epoch 728, Cost 0.0192, m grad 0.00279, b grad -0.0137\n",
            "Epoch 729, Cost 0.0192, m grad 0.00277, b grad -0.0136\n",
            "Epoch 730, Cost 0.0192, m grad 0.00276, b grad -0.0136\n",
            "Epoch 731, Cost 0.0192, m grad 0.00274, b grad -0.0135\n",
            "Epoch 732, Cost 0.0192, m grad 0.00273, b grad -0.0134\n",
            "Epoch 733, Cost 0.0192, m grad 0.00271, b grad -0.0133\n",
            "Epoch 734, Cost 0.0192, m grad 0.00269, b grad -0.0132\n",
            "Epoch 735, Cost 0.0192, m grad 0.00268, b grad -0.0132\n",
            "Epoch 736, Cost 0.0192, m grad 0.00266, b grad -0.0131\n",
            "Epoch 737, Cost 0.0192, m grad 0.00265, b grad -0.013\n",
            "Epoch 738, Cost 0.0192, m grad 0.00263, b grad -0.0129\n",
            "Epoch 739, Cost 0.0192, m grad 0.00262, b grad -0.0129\n",
            "Epoch 740, Cost 0.0192, m grad 0.0026, b grad -0.0128\n",
            "Epoch 741, Cost 0.0192, m grad 0.00259, b grad -0.0127\n",
            "Epoch 742, Cost 0.0192, m grad 0.00257, b grad -0.0126\n",
            "Epoch 743, Cost 0.0192, m grad 0.00256, b grad -0.0126\n",
            "Epoch 744, Cost 0.0192, m grad 0.00254, b grad -0.0125\n",
            "Epoch 745, Cost 0.0192, m grad 0.00253, b grad -0.0124\n",
            "Epoch 746, Cost 0.0192, m grad 0.00251, b grad -0.0124\n",
            "Epoch 747, Cost 0.0192, m grad 0.0025, b grad -0.0123\n",
            "Epoch 748, Cost 0.0192, m grad 0.00248, b grad -0.0122\n",
            "Epoch 749, Cost 0.0192, m grad 0.00247, b grad -0.0121\n",
            "Epoch 750, Cost 0.0192, m grad 0.00246, b grad -0.0121\n",
            "Epoch 751, Cost 0.0192, m grad 0.00244, b grad -0.012\n",
            "Epoch 752, Cost 0.0192, m grad 0.00243, b grad -0.0119\n",
            "Epoch 753, Cost 0.0192, m grad 0.00241, b grad -0.0119\n",
            "Epoch 754, Cost 0.0192, m grad 0.0024, b grad -0.0118\n",
            "Epoch 755, Cost 0.0192, m grad 0.00239, b grad -0.0117\n",
            "Epoch 756, Cost 0.0192, m grad 0.00237, b grad -0.0117\n",
            "Epoch 757, Cost 0.0192, m grad 0.00236, b grad -0.0116\n",
            "Epoch 758, Cost 0.0192, m grad 0.00234, b grad -0.0115\n",
            "Epoch 759, Cost 0.0192, m grad 0.00233, b grad -0.0115\n",
            "Epoch 760, Cost 0.0192, m grad 0.00232, b grad -0.0114\n",
            "Epoch 761, Cost 0.0192, m grad 0.0023, b grad -0.0113\n",
            "Epoch 762, Cost 0.0192, m grad 0.00229, b grad -0.0113\n",
            "Epoch 763, Cost 0.0192, m grad 0.00228, b grad -0.0112\n",
            "Epoch 764, Cost 0.0192, m grad 0.00226, b grad -0.0111\n",
            "Epoch 765, Cost 0.0192, m grad 0.00225, b grad -0.0111\n",
            "Epoch 766, Cost 0.0192, m grad 0.00224, b grad -0.011\n",
            "Epoch 767, Cost 0.0192, m grad 0.00223, b grad -0.0109\n",
            "Epoch 768, Cost 0.0192, m grad 0.00221, b grad -0.0109\n",
            "Epoch 769, Cost 0.0192, m grad 0.0022, b grad -0.0108\n",
            "Epoch 770, Cost 0.0192, m grad 0.00219, b grad -0.0108\n",
            "Epoch 771, Cost 0.0192, m grad 0.00217, b grad -0.0107\n",
            "Epoch 772, Cost 0.0192, m grad 0.00216, b grad -0.0106\n",
            "Epoch 773, Cost 0.0192, m grad 0.00215, b grad -0.0106\n",
            "Epoch 774, Cost 0.0192, m grad 0.00214, b grad -0.0105\n",
            "Epoch 775, Cost 0.0192, m grad 0.00213, b grad -0.0104\n",
            "Epoch 776, Cost 0.0192, m grad 0.00211, b grad -0.0104\n",
            "Epoch 777, Cost 0.0192, m grad 0.0021, b grad -0.0103\n",
            "Epoch 778, Cost 0.0192, m grad 0.00209, b grad -0.0103\n",
            "Epoch 779, Cost 0.0192, m grad 0.00208, b grad -0.0102\n",
            "Epoch 780, Cost 0.0192, m grad 0.00207, b grad -0.0102\n",
            "Epoch 781, Cost 0.0192, m grad 0.00206, b grad -0.0101\n",
            "Epoch 782, Cost 0.0192, m grad 0.00204, b grad -0.01\n",
            "Epoch 783, Cost 0.0192, m grad 0.00203, b grad -0.00998\n",
            "Epoch 784, Cost 0.0192, m grad 0.00202, b grad -0.00992\n",
            "Epoch 785, Cost 0.0192, m grad 0.00201, b grad -0.00986\n",
            "Epoch 786, Cost 0.0192, m grad 0.00199, b grad -0.00981\n",
            "Epoch 787, Cost 0.0192, m grad 0.00198, b grad -0.00975\n",
            "Epoch 788, Cost 0.0192, m grad 0.00197, b grad -0.00969\n",
            "Epoch 789, Cost 0.0192, m grad 0.00196, b grad -0.00964\n",
            "Epoch 790, Cost 0.0191, m grad 0.00195, b grad -0.00958\n",
            "Epoch 791, Cost 0.0191, m grad 0.00194, b grad -0.00953\n",
            "Epoch 792, Cost 0.0191, m grad 0.00193, b grad -0.00947\n",
            "Epoch 793, Cost 0.0191, m grad 0.00191, b grad -0.00942\n",
            "Epoch 794, Cost 0.0191, m grad 0.0019, b grad -0.00936\n",
            "Epoch 795, Cost 0.0191, m grad 0.00189, b grad -0.00931\n",
            "Epoch 796, Cost 0.0191, m grad 0.00188, b grad -0.00926\n",
            "Epoch 797, Cost 0.0191, m grad 0.00187, b grad -0.0092\n",
            "Epoch 798, Cost 0.0191, m grad 0.00186, b grad -0.00915\n",
            "Epoch 799, Cost 0.0191, m grad 0.00185, b grad -0.0091\n",
            "Epoch 800, Cost 0.0191, m grad 0.00184, b grad -0.00904\n",
            "Epoch 801, Cost 0.0191, m grad 0.00183, b grad -0.00899\n",
            "Epoch 802, Cost 0.0191, m grad 0.00182, b grad -0.00894\n",
            "Epoch 803, Cost 0.0191, m grad 0.00181, b grad -0.00889\n",
            "Epoch 804, Cost 0.0191, m grad 0.0018, b grad -0.00884\n",
            "Epoch 805, Cost 0.0191, m grad 0.00179, b grad -0.00879\n",
            "Epoch 806, Cost 0.0191, m grad 0.00178, b grad -0.00874\n",
            "Epoch 807, Cost 0.0191, m grad 0.00177, b grad -0.00868\n",
            "Epoch 808, Cost 0.0191, m grad 0.00176, b grad -0.00863\n",
            "Epoch 809, Cost 0.0191, m grad 0.00175, b grad -0.00858\n",
            "Epoch 810, Cost 0.0191, m grad 0.00174, b grad -0.00854\n",
            "Epoch 811, Cost 0.0191, m grad 0.00173, b grad -0.00849\n",
            "Epoch 812, Cost 0.0191, m grad 0.00172, b grad -0.00844\n",
            "Epoch 813, Cost 0.0191, m grad 0.00171, b grad -0.00839\n",
            "Epoch 814, Cost 0.0191, m grad 0.0017, b grad -0.00834\n",
            "Epoch 815, Cost 0.0191, m grad 0.00169, b grad -0.00829\n",
            "Epoch 816, Cost 0.0191, m grad 0.00168, b grad -0.00824\n",
            "Epoch 817, Cost 0.0191, m grad 0.00167, b grad -0.0082\n",
            "Epoch 818, Cost 0.0191, m grad 0.00166, b grad -0.00815\n",
            "Epoch 819, Cost 0.0191, m grad 0.00165, b grad -0.0081\n",
            "Epoch 820, Cost 0.0191, m grad 0.00164, b grad -0.00806\n",
            "Epoch 821, Cost 0.0191, m grad 0.00163, b grad -0.00801\n",
            "Epoch 822, Cost 0.0191, m grad 0.00162, b grad -0.00796\n",
            "Epoch 823, Cost 0.0191, m grad 0.00161, b grad -0.00792\n",
            "Epoch 824, Cost 0.0191, m grad 0.0016, b grad -0.00787\n",
            "Epoch 825, Cost 0.0191, m grad 0.00159, b grad -0.00783\n",
            "Epoch 826, Cost 0.0191, m grad 0.00158, b grad -0.00778\n",
            "Epoch 827, Cost 0.0191, m grad 0.00157, b grad -0.00774\n",
            "Epoch 828, Cost 0.0191, m grad 0.00156, b grad -0.00769\n",
            "Epoch 829, Cost 0.0191, m grad 0.00155, b grad -0.00765\n",
            "Epoch 830, Cost 0.0191, m grad 0.00155, b grad -0.0076\n",
            "Epoch 831, Cost 0.0191, m grad 0.00154, b grad -0.00756\n",
            "Epoch 832, Cost 0.0191, m grad 0.00153, b grad -0.00752\n",
            "Epoch 833, Cost 0.0191, m grad 0.00152, b grad -0.00747\n",
            "Epoch 834, Cost 0.0191, m grad 0.00151, b grad -0.00743\n",
            "Epoch 835, Cost 0.0191, m grad 0.0015, b grad -0.00739\n",
            "Epoch 836, Cost 0.0191, m grad 0.00149, b grad -0.00734\n",
            "Epoch 837, Cost 0.0191, m grad 0.00148, b grad -0.0073\n",
            "Epoch 838, Cost 0.0191, m grad 0.00148, b grad -0.00726\n",
            "Epoch 839, Cost 0.0191, m grad 0.00147, b grad -0.00722\n",
            "Epoch 840, Cost 0.0191, m grad 0.00146, b grad -0.00718\n",
            "Epoch 841, Cost 0.0191, m grad 0.00145, b grad -0.00713\n",
            "Epoch 842, Cost 0.0191, m grad 0.00144, b grad -0.00709\n",
            "Epoch 843, Cost 0.0191, m grad 0.00143, b grad -0.00705\n",
            "Epoch 844, Cost 0.0191, m grad 0.00143, b grad -0.00701\n",
            "Epoch 845, Cost 0.0191, m grad 0.00142, b grad -0.00697\n",
            "Epoch 846, Cost 0.0191, m grad 0.00141, b grad -0.00693\n",
            "Epoch 847, Cost 0.0191, m grad 0.0014, b grad -0.00689\n",
            "Epoch 848, Cost 0.0191, m grad 0.00139, b grad -0.00685\n",
            "Epoch 849, Cost 0.0191, m grad 0.00139, b grad -0.00681\n",
            "Epoch 850, Cost 0.0191, m grad 0.00138, b grad -0.00677\n",
            "Epoch 851, Cost 0.0191, m grad 0.00137, b grad -0.00673\n",
            "Epoch 852, Cost 0.0191, m grad 0.00136, b grad -0.00669\n",
            "Epoch 853, Cost 0.0191, m grad 0.00135, b grad -0.00666\n",
            "Epoch 854, Cost 0.0191, m grad 0.00135, b grad -0.00662\n",
            "Epoch 855, Cost 0.0191, m grad 0.00134, b grad -0.00658\n",
            "Epoch 856, Cost 0.0191, m grad 0.00133, b grad -0.00654\n",
            "Epoch 857, Cost 0.0191, m grad 0.00132, b grad -0.0065\n",
            "Epoch 858, Cost 0.0191, m grad 0.00131, b grad -0.00647\n",
            "Epoch 859, Cost 0.0191, m grad 0.00131, b grad -0.00643\n",
            "Epoch 860, Cost 0.0191, m grad 0.0013, b grad -0.00639\n",
            "Epoch 861, Cost 0.0191, m grad 0.00129, b grad -0.00636\n",
            "Epoch 862, Cost 0.0191, m grad 0.00128, b grad -0.00632\n",
            "Epoch 863, Cost 0.0191, m grad 0.00128, b grad -0.00628\n",
            "Epoch 864, Cost 0.0191, m grad 0.00127, b grad -0.00625\n",
            "Epoch 865, Cost 0.0191, m grad 0.00126, b grad -0.00621\n",
            "Epoch 866, Cost 0.0191, m grad 0.00126, b grad -0.00617\n",
            "Epoch 867, Cost 0.0191, m grad 0.00125, b grad -0.00614\n",
            "Epoch 868, Cost 0.0191, m grad 0.00124, b grad -0.0061\n",
            "Epoch 869, Cost 0.0191, m grad 0.00123, b grad -0.00607\n",
            "Epoch 870, Cost 0.0191, m grad 0.00123, b grad -0.00603\n",
            "Epoch 871, Cost 0.0191, m grad 0.00122, b grad -0.006\n",
            "Epoch 872, Cost 0.0191, m grad 0.00121, b grad -0.00596\n",
            "Epoch 873, Cost 0.0191, m grad 0.00121, b grad -0.00593\n",
            "Epoch 874, Cost 0.0191, m grad 0.0012, b grad -0.0059\n",
            "Epoch 875, Cost 0.0191, m grad 0.00119, b grad -0.00586\n",
            "Epoch 876, Cost 0.0191, m grad 0.00119, b grad -0.00583\n",
            "Epoch 877, Cost 0.0191, m grad 0.00118, b grad -0.00579\n",
            "Epoch 878, Cost 0.0191, m grad 0.00117, b grad -0.00576\n",
            "Epoch 879, Cost 0.0191, m grad 0.00116, b grad -0.00573\n",
            "Epoch 880, Cost 0.0191, m grad 0.00116, b grad -0.00569\n",
            "Epoch 881, Cost 0.0191, m grad 0.00115, b grad -0.00566\n",
            "Epoch 882, Cost 0.0191, m grad 0.00115, b grad -0.00563\n",
            "Epoch 883, Cost 0.0191, m grad 0.00114, b grad -0.0056\n",
            "Epoch 884, Cost 0.0191, m grad 0.00113, b grad -0.00556\n",
            "Epoch 885, Cost 0.0191, m grad 0.00112, b grad -0.00553\n",
            "Epoch 886, Cost 0.0191, m grad 0.00112, b grad -0.0055\n",
            "Epoch 887, Cost 0.0191, m grad 0.00111, b grad -0.00547\n",
            "Epoch 888, Cost 0.0191, m grad 0.00111, b grad -0.00544\n",
            "Epoch 889, Cost 0.0191, m grad 0.0011, b grad -0.00541\n",
            "Epoch 890, Cost 0.0191, m grad 0.00109, b grad -0.00537\n",
            "Epoch 891, Cost 0.0191, m grad 0.00109, b grad -0.00534\n",
            "Epoch 892, Cost 0.0191, m grad 0.00108, b grad -0.00531\n",
            "Epoch 893, Cost 0.0191, m grad 0.00107, b grad -0.00528\n",
            "Epoch 894, Cost 0.0191, m grad 0.00107, b grad -0.00525\n",
            "Epoch 895, Cost 0.0191, m grad 0.00106, b grad -0.00522\n",
            "Epoch 896, Cost 0.0191, m grad 0.00106, b grad -0.00519\n",
            "Epoch 897, Cost 0.0191, m grad 0.00105, b grad -0.00516\n",
            "Epoch 898, Cost 0.0191, m grad 0.00104, b grad -0.00513\n",
            "Epoch 899, Cost 0.0191, m grad 0.00104, b grad -0.0051\n",
            "Epoch 900, Cost 0.0191, m grad 0.00103, b grad -0.00507\n",
            "Epoch 901, Cost 0.0191, m grad 0.00103, b grad -0.00504\n",
            "Epoch 902, Cost 0.0191, m grad 0.00102, b grad -0.00501\n",
            "Epoch 903, Cost 0.0191, m grad 0.00102, b grad -0.00498\n",
            "Epoch 904, Cost 0.0191, m grad 0.00101, b grad -0.00496\n",
            "Epoch 905, Cost 0.0191, m grad 0.001, b grad -0.00493\n",
            "Epoch 906, Cost 0.0191, m grad 0.000997, b grad -0.0049\n",
            "Epoch 907, Cost 0.0191, m grad 0.00099, b grad -0.00487\n",
            "Epoch 908, Cost 0.0191, m grad 0.000985, b grad -0.00484\n",
            "Epoch 909, Cost 0.0191, m grad 0.00098, b grad -0.00482\n",
            "Epoch 910, Cost 0.0191, m grad 0.000974, b grad -0.00479\n",
            "Epoch 911, Cost 0.0191, m grad 0.000968, b grad -0.00476\n",
            "Epoch 912, Cost 0.0191, m grad 0.000962, b grad -0.00473\n",
            "Epoch 913, Cost 0.0191, m grad 0.000956, b grad -0.00471\n",
            "Epoch 914, Cost 0.0191, m grad 0.000951, b grad -0.00468\n",
            "Epoch 915, Cost 0.0191, m grad 0.000945, b grad -0.00465\n",
            "Epoch 916, Cost 0.0191, m grad 0.00094, b grad -0.00462\n",
            "Epoch 917, Cost 0.0191, m grad 0.000935, b grad -0.0046\n",
            "Epoch 918, Cost 0.0191, m grad 0.000929, b grad -0.00457\n",
            "Epoch 919, Cost 0.0191, m grad 0.000923, b grad -0.00454\n",
            "Epoch 920, Cost 0.0191, m grad 0.000918, b grad -0.00452\n",
            "Epoch 921, Cost 0.0191, m grad 0.000913, b grad -0.00449\n",
            "Epoch 922, Cost 0.0191, m grad 0.000908, b grad -0.00447\n",
            "Epoch 923, Cost 0.0191, m grad 0.000903, b grad -0.00444\n",
            "Epoch 924, Cost 0.0191, m grad 0.000898, b grad -0.00442\n",
            "Epoch 925, Cost 0.0191, m grad 0.000893, b grad -0.00439\n",
            "Epoch 926, Cost 0.0191, m grad 0.000887, b grad -0.00436\n",
            "Epoch 927, Cost 0.0191, m grad 0.000882, b grad -0.00434\n",
            "Epoch 928, Cost 0.0191, m grad 0.000877, b grad -0.00431\n",
            "Epoch 929, Cost 0.0191, m grad 0.000872, b grad -0.00429\n",
            "Epoch 930, Cost 0.0191, m grad 0.000867, b grad -0.00426\n",
            "Epoch 931, Cost 0.0191, m grad 0.000862, b grad -0.00424\n",
            "Epoch 932, Cost 0.0191, m grad 0.000858, b grad -0.00422\n",
            "Epoch 933, Cost 0.0191, m grad 0.000853, b grad -0.00419\n",
            "Epoch 934, Cost 0.0191, m grad 0.000848, b grad -0.00417\n",
            "Epoch 935, Cost 0.0191, m grad 0.000844, b grad -0.00414\n",
            "Epoch 936, Cost 0.0191, m grad 0.000839, b grad -0.00412\n",
            "Epoch 937, Cost 0.0191, m grad 0.000835, b grad -0.00409\n",
            "Epoch 938, Cost 0.0191, m grad 0.00083, b grad -0.00407\n",
            "Epoch 939, Cost 0.0191, m grad 0.000825, b grad -0.00405\n",
            "Epoch 940, Cost 0.0191, m grad 0.00082, b grad -0.00402\n",
            "Epoch 941, Cost 0.0191, m grad 0.000815, b grad -0.004\n",
            "Epoch 942, Cost 0.0191, m grad 0.000809, b grad -0.00398\n",
            "Epoch 943, Cost 0.0191, m grad 0.000804, b grad -0.00396\n",
            "Epoch 944, Cost 0.0191, m grad 0.0008, b grad -0.00393\n",
            "Epoch 945, Cost 0.0191, m grad 0.000796, b grad -0.00391\n",
            "Epoch 946, Cost 0.0191, m grad 0.000791, b grad -0.00389\n",
            "Epoch 947, Cost 0.0191, m grad 0.000785, b grad -0.00387\n",
            "Epoch 948, Cost 0.0191, m grad 0.00078, b grad -0.00384\n",
            "Epoch 949, Cost 0.0191, m grad 0.000776, b grad -0.00382\n",
            "Epoch 950, Cost 0.0191, m grad 0.000772, b grad -0.0038\n",
            "Epoch 951, Cost 0.0191, m grad 0.000768, b grad -0.00378\n",
            "Epoch 952, Cost 0.0191, m grad 0.000763, b grad -0.00376\n",
            "Epoch 953, Cost 0.0191, m grad 0.000759, b grad -0.00373\n",
            "Epoch 954, Cost 0.0191, m grad 0.000754, b grad -0.00371\n",
            "Epoch 955, Cost 0.0191, m grad 0.00075, b grad -0.00369\n",
            "Epoch 956, Cost 0.0191, m grad 0.000745, b grad -0.00367\n",
            "Epoch 957, Cost 0.0191, m grad 0.000742, b grad -0.00365\n",
            "Epoch 958, Cost 0.0191, m grad 0.000738, b grad -0.00363\n",
            "Epoch 959, Cost 0.0191, m grad 0.000733, b grad -0.00361\n",
            "Epoch 960, Cost 0.0191, m grad 0.000729, b grad -0.00359\n",
            "Epoch 961, Cost 0.0191, m grad 0.000725, b grad -0.00356\n",
            "Epoch 962, Cost 0.0191, m grad 0.00072, b grad -0.00354\n",
            "Epoch 963, Cost 0.0191, m grad 0.000716, b grad -0.00352\n",
            "Epoch 964, Cost 0.0191, m grad 0.000713, b grad -0.0035\n",
            "Epoch 965, Cost 0.0191, m grad 0.000709, b grad -0.00348\n",
            "Epoch 966, Cost 0.0191, m grad 0.000704, b grad -0.00346\n",
            "Epoch 967, Cost 0.0191, m grad 0.0007, b grad -0.00344\n",
            "Epoch 968, Cost 0.0191, m grad 0.000696, b grad -0.00342\n",
            "Epoch 969, Cost 0.0191, m grad 0.000691, b grad -0.0034\n",
            "Epoch 970, Cost 0.0191, m grad 0.000688, b grad -0.00338\n",
            "Epoch 971, Cost 0.0191, m grad 0.000684, b grad -0.00336\n",
            "Epoch 972, Cost 0.0191, m grad 0.00068, b grad -0.00334\n",
            "Epoch 973, Cost 0.0191, m grad 0.000676, b grad -0.00333\n",
            "Epoch 974, Cost 0.0191, m grad 0.000672, b grad -0.00331\n",
            "Epoch 975, Cost 0.0191, m grad 0.000668, b grad -0.00329\n",
            "Epoch 976, Cost 0.0191, m grad 0.000665, b grad -0.00327\n",
            "Epoch 977, Cost 0.0191, m grad 0.000661, b grad -0.00325\n",
            "Epoch 978, Cost 0.0191, m grad 0.000657, b grad -0.00323\n",
            "Epoch 979, Cost 0.0191, m grad 0.000653, b grad -0.00321\n",
            "Epoch 980, Cost 0.0191, m grad 0.000649, b grad -0.00319\n",
            "Epoch 981, Cost 0.0191, m grad 0.000646, b grad -0.00318\n",
            "Epoch 982, Cost 0.0191, m grad 0.000641, b grad -0.00316\n",
            "Epoch 983, Cost 0.0191, m grad 0.000638, b grad -0.00314\n",
            "Epoch 984, Cost 0.0191, m grad 0.000634, b grad -0.00312\n",
            "Epoch 985, Cost 0.0191, m grad 0.000631, b grad -0.0031\n",
            "Epoch 986, Cost 0.0191, m grad 0.000627, b grad -0.00308\n",
            "Epoch 987, Cost 0.0191, m grad 0.000624, b grad -0.00307\n",
            "Epoch 988, Cost 0.0191, m grad 0.00062, b grad -0.00305\n",
            "Epoch 989, Cost 0.0191, m grad 0.000617, b grad -0.00303\n",
            "Epoch 990, Cost 0.0191, m grad 0.000613, b grad -0.00301\n",
            "Epoch 991, Cost 0.0191, m grad 0.000609, b grad -0.003\n",
            "Epoch 992, Cost 0.0191, m grad 0.000606, b grad -0.00298\n",
            "Epoch 993, Cost 0.0191, m grad 0.000603, b grad -0.00296\n",
            "Epoch 994, Cost 0.0191, m grad 0.0006, b grad -0.00295\n",
            "Epoch 995, Cost 0.0191, m grad 0.000596, b grad -0.00293\n",
            "Epoch 996, Cost 0.0191, m grad 0.000593, b grad -0.00291\n",
            "Epoch 997, Cost 0.0191, m grad 0.000589, b grad -0.00289\n",
            "Epoch 998, Cost 0.0191, m grad 0.000585, b grad -0.00288\n",
            "Epoch 999, Cost 0.0191, m grad 0.000582, b grad -0.00286\n"
          ],
          "name": "stdout"
        }
      ]
    },
    {
      "cell_type": "code",
      "metadata": {
        "colab": {
          "base_uri": "https://localhost:8080/",
          "height": 265
        },
        "id": "pG7ARZBbUZl5",
        "executionInfo": {
          "status": "ok",
          "timestamp": 1630001005254,
          "user_tz": -120,
          "elapsed": 26,
          "user": {
            "displayName": "Max Lucas Kienast",
            "photoUrl": "",
            "userId": "18136220580306165387"
          }
        },
        "outputId": "2a711a77-1636-4aed-f6c0-acf2a0a0e06c"
      },
      "source": [
        "regression_plot(x, y, m, b)"
      ],
      "execution_count": 26,
      "outputs": [
        {
          "output_type": "display_data",
          "data": {
            "image/png": "[encoded data removed]",
            "text/plain": [
              "<Figure size 432x288 with 1 Axes>"
            ]
          },
          "metadata": {
            "needs_background": "light"
          }
        }
      ]
    },
    {
      "cell_type": "code",
      "metadata": {
        "colab": {
          "base_uri": "https://localhost:8080/"
        },
        "id": "EG9WDlmaUrmg",
        "executionInfo": {
          "status": "ok",
          "timestamp": 1630001005254,
          "user_tz": -120,
          "elapsed": 25,
          "user": {
            "displayName": "Max Lucas Kienast",
            "photoUrl": "",
            "userId": "18136220580306165387"
          }
        },
        "outputId": "e8a80098-9555-4ded-b2a9-56a059031796"
      },
      "source": [
        "m.item()"
      ],
      "execution_count": 27,
      "outputs": [
        {
          "output_type": "execute_result",
          "data": {
            "text/plain": [
              "-0.4641123414039612"
            ]
          },
          "metadata": {},
          "execution_count": 27
        }
      ]
    },
    {
      "cell_type": "code",
      "metadata": {
        "colab": {
          "base_uri": "https://localhost:8080/"
        },
        "id": "a2HPQ8p8Utcf",
        "executionInfo": {
          "status": "ok",
          "timestamp": 1630001005254,
          "user_tz": -120,
          "elapsed": 9,
          "user": {
            "displayName": "Max Lucas Kienast",
            "photoUrl": "",
            "userId": "18136220580306165387"
          }
        },
        "outputId": "cbf978c9-52d8-48ec-c512-01759494835a"
      },
      "source": [
        "b.item()"
      ],
      "execution_count": 28,
      "outputs": [
        {
          "output_type": "execute_result",
          "data": {
            "text/plain": [
              "1.7945642471313477"
            ]
          },
          "metadata": {},
          "execution_count": 28
        }
      ]
    },
    {
      "cell_type": "markdown",
      "metadata": {
        "id": "nvsaScsrU35_"
      },
      "source": [
        "### Note\n",
        "\n",
        "The model doesn't perfectly approximate the slope (-0.5) and $y$-intercept (2.0) used to simulate the outcomes $y$ at the top of this notebook. This reflects the imperfectness of the sample of eight data points due to adding random noise during the simulation step. In the real world, the best solution would be to sample additional data points: The more data we sample, the more accurate our estimates of the true underlying parameters will be."
      ]
    },
    {
      "cell_type": "code",
      "metadata": {
        "id": "S-1ZUoQdp_Zl",
        "executionInfo": {
          "status": "ok",
          "timestamp": 1630001005255,
          "user_tz": -120,
          "elapsed": 8,
          "user": {
            "displayName": "Max Lucas Kienast",
            "photoUrl": "",
            "userId": "18136220580306165387"
          }
        }
      },
      "source": [
        ""
      ],
      "execution_count": 28,
      "outputs": []
    }
  ]
}
