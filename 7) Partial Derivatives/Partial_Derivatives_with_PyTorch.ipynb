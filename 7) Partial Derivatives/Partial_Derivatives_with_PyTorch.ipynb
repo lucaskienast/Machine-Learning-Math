{
  "nbformat": 4,
  "nbformat_minor": 0,
  "metadata": {
    "colab": {
      "name": "Partial Derivatives with PyTorch.ipynb",
      "provenance": [],
      "collapsed_sections": []
    },
    "kernelspec": {
      "name": "python3",
      "display_name": "Python 3"
    },
    "language_info": {
      "name": "python"
    }
  },
  "cells": [
    {
      "cell_type": "markdown",
      "metadata": {
        "id": "DJkUapYhBBOL"
      },
      "source": [
        "# PyTorch: Partial Derivatives"
      ]
    },
    {
      "cell_type": "code",
      "metadata": {
        "id": "JKfWIpXO_gKu"
      },
      "source": [
        "import torch\n",
        "import numpy as np"
      ],
      "execution_count": 1,
      "outputs": []
    },
    {
      "cell_type": "markdown",
      "metadata": {
        "id": "2Pxeml1gBa3B"
      },
      "source": [
        "Create function $f(x, y)$ for $z = x^2 - y^2$"
      ]
    },
    {
      "cell_type": "code",
      "metadata": {
        "id": "wKoqwwv2BHJS"
      },
      "source": [
        "def f(my_x, my_y):\n",
        "    return my_x**2 - my_y**2"
      ],
      "execution_count": 2,
      "outputs": []
    },
    {
      "cell_type": "markdown",
      "metadata": {
        "id": "1KEtlu4bBhaR"
      },
      "source": [
        "Get partial derivatives for $(x, y, z)=(0, 0, 0)$"
      ]
    },
    {
      "cell_type": "code",
      "metadata": {
        "colab": {
          "base_uri": "https://localhost:8080/"
        },
        "id": "VBS2qj4_BTwB",
        "outputId": "490d73cf-a0d8-42cf-bc2b-5d824fa8ba8b"
      },
      "source": [
        "x = torch.tensor(0.).requires_grad_()\n",
        "x"
      ],
      "execution_count": 3,
      "outputs": [
        {
          "output_type": "execute_result",
          "data": {
            "text/plain": [
              "tensor(0., requires_grad=True)"
            ]
          },
          "metadata": {
            "tags": []
          },
          "execution_count": 3
        }
      ]
    },
    {
      "cell_type": "code",
      "metadata": {
        "colab": {
          "base_uri": "https://localhost:8080/"
        },
        "id": "JIXrk5ChBwRL",
        "outputId": "b4bc29dd-eeab-4794-d541-e9e6ab7f9219"
      },
      "source": [
        "y = torch.tensor(0.).requires_grad_()\n",
        "y"
      ],
      "execution_count": 4,
      "outputs": [
        {
          "output_type": "execute_result",
          "data": {
            "text/plain": [
              "tensor(0., requires_grad=True)"
            ]
          },
          "metadata": {
            "tags": []
          },
          "execution_count": 4
        }
      ]
    },
    {
      "cell_type": "code",
      "metadata": {
        "colab": {
          "base_uri": "https://localhost:8080/"
        },
        "id": "ms3VVTZGBy20",
        "outputId": "183d541e-03db-4f5c-e3b5-89809f886647"
      },
      "source": [
        "z = f(x, y) # forward pass\n",
        "z"
      ],
      "execution_count": 5,
      "outputs": [
        {
          "output_type": "execute_result",
          "data": {
            "text/plain": [
              "tensor(0., grad_fn=<SubBackward0>)"
            ]
          },
          "metadata": {
            "tags": []
          },
          "execution_count": 5
        }
      ]
    },
    {
      "cell_type": "code",
      "metadata": {
        "id": "XFwRJDxuB1xT"
      },
      "source": [
        "z.backward() # autodiff"
      ],
      "execution_count": 6,
      "outputs": []
    },
    {
      "cell_type": "code",
      "metadata": {
        "colab": {
          "base_uri": "https://localhost:8080/"
        },
        "id": "Y0o0QoQiB5RM",
        "outputId": "f4a6d732-db26-4dff-d59b-bcf9ee7cc564"
      },
      "source": [
        "x.grad"
      ],
      "execution_count": 7,
      "outputs": [
        {
          "output_type": "execute_result",
          "data": {
            "text/plain": [
              "tensor(0.)"
            ]
          },
          "metadata": {
            "tags": []
          },
          "execution_count": 7
        }
      ]
    },
    {
      "cell_type": "code",
      "metadata": {
        "colab": {
          "base_uri": "https://localhost:8080/"
        },
        "id": "z4e-IJqmCHXH",
        "outputId": "03128e41-cdc5-49a8-d13c-2a04097945d1"
      },
      "source": [
        "y.grad"
      ],
      "execution_count": 8,
      "outputs": [
        {
          "output_type": "execute_result",
          "data": {
            "text/plain": [
              "tensor(-0.)"
            ]
          },
          "metadata": {
            "tags": []
          },
          "execution_count": 8
        }
      ]
    },
    {
      "cell_type": "markdown",
      "metadata": {
        "id": "G45uKstqCK5J"
      },
      "source": [
        "Get partial derivatives for $(x, y, z)=(-2, -3, 13)$"
      ]
    },
    {
      "cell_type": "code",
      "metadata": {
        "colab": {
          "base_uri": "https://localhost:8080/"
        },
        "id": "PIazFFJUCIKc",
        "outputId": "7c9c6a51-a471-46f1-9ace-c44a60cea68b"
      },
      "source": [
        "x = torch.tensor(-2.).requires_grad_()\n",
        "x"
      ],
      "execution_count": 9,
      "outputs": [
        {
          "output_type": "execute_result",
          "data": {
            "text/plain": [
              "tensor(-2., requires_grad=True)"
            ]
          },
          "metadata": {
            "tags": []
          },
          "execution_count": 9
        }
      ]
    },
    {
      "cell_type": "code",
      "metadata": {
        "colab": {
          "base_uri": "https://localhost:8080/"
        },
        "id": "MzFpKWlRCRcn",
        "outputId": "fb05990e-00ae-41ee-9988-9510602d120b"
      },
      "source": [
        "y = torch.tensor(-3.).requires_grad_()\n",
        "y"
      ],
      "execution_count": 10,
      "outputs": [
        {
          "output_type": "execute_result",
          "data": {
            "text/plain": [
              "tensor(-3., requires_grad=True)"
            ]
          },
          "metadata": {
            "tags": []
          },
          "execution_count": 10
        }
      ]
    },
    {
      "cell_type": "code",
      "metadata": {
        "colab": {
          "base_uri": "https://localhost:8080/"
        },
        "id": "b96m4ecECTLd",
        "outputId": "e46ff4c1-5112-4a20-f814-1e9c408861ce"
      },
      "source": [
        "z = f(x, y) # forward pass\n",
        "z"
      ],
      "execution_count": 11,
      "outputs": [
        {
          "output_type": "execute_result",
          "data": {
            "text/plain": [
              "tensor(-5., grad_fn=<SubBackward0>)"
            ]
          },
          "metadata": {
            "tags": []
          },
          "execution_count": 11
        }
      ]
    },
    {
      "cell_type": "code",
      "metadata": {
        "id": "SZqbfZjuCYd-"
      },
      "source": [
        "z.backward() # autodiff"
      ],
      "execution_count": 12,
      "outputs": []
    },
    {
      "cell_type": "code",
      "metadata": {
        "colab": {
          "base_uri": "https://localhost:8080/"
        },
        "id": "kDKAY4kuCUjH",
        "outputId": "b5c0c8b4-47e9-42d3-98b3-e2f312ee0121"
      },
      "source": [
        "x.grad"
      ],
      "execution_count": 13,
      "outputs": [
        {
          "output_type": "execute_result",
          "data": {
            "text/plain": [
              "tensor(-4.)"
            ]
          },
          "metadata": {
            "tags": []
          },
          "execution_count": 13
        }
      ]
    },
    {
      "cell_type": "code",
      "metadata": {
        "colab": {
          "base_uri": "https://localhost:8080/"
        },
        "id": "nPN4BVvECV1v",
        "outputId": "d81475d7-b7db-4dc5-d09e-a4cacb73b256"
      },
      "source": [
        "y.grad"
      ],
      "execution_count": 14,
      "outputs": [
        {
          "output_type": "execute_result",
          "data": {
            "text/plain": [
              "tensor(6.)"
            ]
          },
          "metadata": {
            "tags": []
          },
          "execution_count": 14
        }
      ]
    },
    {
      "cell_type": "code",
      "metadata": {
        "id": "142N0eRMCc8f"
      },
      "source": [
        ""
      ],
      "execution_count": 14,
      "outputs": []
    }
  ]
}