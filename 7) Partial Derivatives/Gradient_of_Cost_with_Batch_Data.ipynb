{
  "nbformat": 4,
  "nbformat_minor": 0,
  "metadata": {
    "colab": {
      "name": "Gradient of Cost with Batch Data.ipynb",
      "provenance": [],
      "collapsed_sections": []
    },
    "kernelspec": {
      "name": "python3",
      "display_name": "Python 3"
    },
    "language_info": {
      "name": "python"
    }
  },
  "cells": [
    {
      "cell_type": "markdown",
      "metadata": {
        "id": "pwLLd7H7Ww19"
      },
      "source": [
        "# Gradient (Descent) of Cost (MSE) on Batch of Data"
      ]
    },
    {
      "cell_type": "code",
      "metadata": {
        "id": "2Pqvm9UvWo2n"
      },
      "source": [
        "import torch\n",
        "import matplotlib.pyplot as plt"
      ],
      "execution_count": 1,
      "outputs": []
    },
    {
      "cell_type": "code",
      "metadata": {
        "colab": {
          "base_uri": "https://localhost:8080/"
        },
        "id": "J1PT98LnW-_W",
        "outputId": "736e82bb-156a-460e-a287-e51d9315833c"
      },
      "source": [
        "xs = torch.linspace(0, 7, steps=8)\n",
        "xs"
      ],
      "execution_count": 2,
      "outputs": [
        {
          "output_type": "execute_result",
          "data": {
            "text/plain": [
              "tensor([0., 1., 2., 3., 4., 5., 6., 7.])"
            ]
          },
          "metadata": {
            "tags": []
          },
          "execution_count": 2
        }
      ]
    },
    {
      "cell_type": "code",
      "metadata": {
        "colab": {
          "base_uri": "https://localhost:8080/"
        },
        "id": "BlMdKeEKXI2A",
        "outputId": "14be4f28-0be9-4e34-ad59-76060d741d88"
      },
      "source": [
        "ys = -0.5*xs + 2 + torch.normal(mean=torch.zeros(8), std=0.2)\n",
        "ys"
      ],
      "execution_count": 3,
      "outputs": [
        {
          "output_type": "execute_result",
          "data": {
            "text/plain": [
              "tensor([ 1.7935,  1.2860,  1.2272,  0.5748,  0.2169, -0.4166, -0.8881, -1.5801])"
            ]
          },
          "metadata": {
            "tags": []
          },
          "execution_count": 3
        }
      ]
    },
    {
      "cell_type": "code",
      "metadata": {
        "colab": {
          "base_uri": "https://localhost:8080/",
          "height": 295
        },
        "id": "ZP1VoAMbXKfX",
        "outputId": "8768629c-6788-46d0-ec3b-e8dc3188f054"
      },
      "source": [
        "fig, ax = plt.subplots()\n",
        "plt.title(\"Clinical Trial\")\n",
        "plt.xlabel(\"Drug dosage (mL)\")\n",
        "plt.ylabel(\"Symptom intensity\")\n",
        "ax.scatter(xs, ys)\n",
        "plt.show()"
      ],
      "execution_count": 4,
      "outputs": [
        {
          "output_type": "display_data",
          "data": {
            "image/png": "[encoded data removed]",
            "text/plain": [
              "<Figure size 432x288 with 1 Axes>"
            ]
          },
          "metadata": {
            "tags": [],
            "needs_background": "light"
          }
        }
      ]
    },
    {
      "cell_type": "markdown",
      "metadata": {
        "id": "BcOA39RiXPT2"
      },
      "source": [
        "The slope of a line is given by $y = mx + b$:"
      ]
    },
    {
      "cell_type": "code",
      "metadata": {
        "id": "XmbqhgQCXMHX"
      },
      "source": [
        "def regression(my_x, my_m, my_b):\n",
        "  return my_m*my_x + my_b"
      ],
      "execution_count": 5,
      "outputs": []
    },
    {
      "cell_type": "markdown",
      "metadata": {
        "id": "7PGhkQuNXTl7"
      },
      "source": [
        "Initialize $m$ and $b$ with the same \"random\" near-zero values"
      ]
    },
    {
      "cell_type": "code",
      "metadata": {
        "colab": {
          "base_uri": "https://localhost:8080/"
        },
        "id": "YI_DtyKdXSH2",
        "outputId": "c80928aa-a058-44f2-9318-15cf8b89be00"
      },
      "source": [
        "m = torch.tensor([0.9]).requires_grad_()\n",
        "m"
      ],
      "execution_count": 6,
      "outputs": [
        {
          "output_type": "execute_result",
          "data": {
            "text/plain": [
              "tensor([0.9000], requires_grad=True)"
            ]
          },
          "metadata": {
            "tags": []
          },
          "execution_count": 6
        }
      ]
    },
    {
      "cell_type": "code",
      "metadata": {
        "colab": {
          "base_uri": "https://localhost:8080/"
        },
        "id": "ELxQ22JeXVx3",
        "outputId": "eb70fb47-a006-49e4-fb10-529197d23e1c"
      },
      "source": [
        "b = torch.tensor([0.1]).requires_grad_()\n",
        "b"
      ],
      "execution_count": 7,
      "outputs": [
        {
          "output_type": "execute_result",
          "data": {
            "text/plain": [
              "tensor([0.1000], requires_grad=True)"
            ]
          },
          "metadata": {
            "tags": []
          },
          "execution_count": 7
        }
      ]
    },
    {
      "cell_type": "markdown",
      "metadata": {
        "id": "Y1-oVaZ0Xd_B"
      },
      "source": [
        "### Step 1: Forward pass"
      ]
    },
    {
      "cell_type": "code",
      "metadata": {
        "colab": {
          "base_uri": "https://localhost:8080/"
        },
        "id": "m-z0_krNXXR-",
        "outputId": "a6978133-6ab4-4322-b895-84e9b24b3597"
      },
      "source": [
        "yhats = regression(xs, m , b)\n",
        "yhats"
      ],
      "execution_count": 8,
      "outputs": [
        {
          "output_type": "execute_result",
          "data": {
            "text/plain": [
              "tensor([0.1000, 1.0000, 1.9000, 2.8000, 3.7000, 4.6000, 5.5000, 6.4000],\n",
              "       grad_fn=<AddBackward0>)"
            ]
          },
          "metadata": {
            "tags": []
          },
          "execution_count": 8
        }
      ]
    },
    {
      "cell_type": "markdown",
      "metadata": {
        "id": "z0YhmH2GXoTj"
      },
      "source": [
        "### Step 2: Compare $\\hat{y}$ with true $y$ to calculate cost $C$ (MSE)\n",
        "\n",
        "$C(MSE) = \\frac{1}{n} \\sum_{i=1}^n (\\hat{y_i}-y_i)^2 $"
      ]
    },
    {
      "cell_type": "code",
      "metadata": {
        "id": "EYmRiAAuXkR1"
      },
      "source": [
        "def mse(my_yhat, my_y): \n",
        "    mse_cost = (1/len(my_y)) * (torch.sum((my_yhat - my_y)**2))\n",
        "    return mse_cost"
      ],
      "execution_count": 9,
      "outputs": []
    },
    {
      "cell_type": "code",
      "metadata": {
        "colab": {
          "base_uri": "https://localhost:8080/"
        },
        "id": "Gi7v0-kbYOXu",
        "outputId": "02305a22-9295-4d96-c1da-d3dcf561ca7f"
      },
      "source": [
        "C = mse(yhats, ys)\n",
        "C"
      ],
      "execution_count": 10,
      "outputs": [
        {
          "output_type": "execute_result",
          "data": {
            "text/plain": [
              "tensor(18.7677, grad_fn=<MulBackward0>)"
            ]
          },
          "metadata": {
            "tags": []
          },
          "execution_count": 10
        }
      ]
    },
    {
      "cell_type": "markdown",
      "metadata": {
        "id": "vf9KKNBGYVlk"
      },
      "source": [
        "### Step 3: Use autodiff to calculate gradient of $C$ (MSE) wrt. parameters $m$ and $b$"
      ]
    },
    {
      "cell_type": "code",
      "metadata": {
        "id": "z2ReBFHDYUZd"
      },
      "source": [
        "C.backward()"
      ],
      "execution_count": 11,
      "outputs": []
    },
    {
      "cell_type": "code",
      "metadata": {
        "colab": {
          "base_uri": "https://localhost:8080/"
        },
        "id": "03Ezr1seYgg9",
        "outputId": "c415badb-2b01-4e49-b5c9-91e08a82fecc"
      },
      "source": [
        "m.grad"
      ],
      "execution_count": 12,
      "outputs": [
        {
          "output_type": "execute_result",
          "data": {
            "text/plain": [
              "tensor([35.2350])"
            ]
          },
          "metadata": {
            "tags": []
          },
          "execution_count": 12
        }
      ]
    },
    {
      "cell_type": "code",
      "metadata": {
        "colab": {
          "base_uri": "https://localhost:8080/"
        },
        "id": "BxiKI93-jkXy",
        "outputId": "ea560e44-cbdb-40be-eaaa-d0f1a5a58a03"
      },
      "source": [
        "m.grad"
      ],
      "execution_count": 13,
      "outputs": [
        {
          "output_type": "execute_result",
          "data": {
            "text/plain": [
              "tensor([35.2350])"
            ]
          },
          "metadata": {
            "tags": []
          },
          "execution_count": 13
        }
      ]
    },
    {
      "cell_type": "markdown",
      "metadata": {
        "id": "0Z_YhHwjbwwI"
      },
      "source": [
        "\n",
        "$ \\frac{\\partial C}{\\partial m} = \\frac{2}{n} \\sum (\\hat{y}_i - y_i) \\cdot x_i $"
      ]
    },
    {
      "cell_type": "code",
      "metadata": {
        "colab": {
          "base_uri": "https://localhost:8080/"
        },
        "id": "cmCRp4wsbzNc",
        "outputId": "c5648303-4552-452c-b087-cc180f61d424"
      },
      "source": [
        "(2/len(ys)) * torch.sum((yhats-ys) * xs) # confirm result of m.grad"
      ],
      "execution_count": 14,
      "outputs": [
        {
          "output_type": "execute_result",
          "data": {
            "text/plain": [
              "tensor(35.2350, grad_fn=<MulBackward0>)"
            ]
          },
          "metadata": {
            "tags": []
          },
          "execution_count": 14
        }
      ]
    },
    {
      "cell_type": "code",
      "metadata": {
        "colab": {
          "base_uri": "https://localhost:8080/"
        },
        "id": "Gj920NBjYhNe",
        "outputId": "48b24fbc-c729-4fbe-eeaf-e7bfbb2fcf1f"
      },
      "source": [
        "b.grad"
      ],
      "execution_count": 15,
      "outputs": [
        {
          "output_type": "execute_result",
          "data": {
            "text/plain": [
              "tensor([5.9466])"
            ]
          },
          "metadata": {
            "tags": []
          },
          "execution_count": 15
        }
      ]
    },
    {
      "cell_type": "markdown",
      "metadata": {
        "id": "XscYlo-gcArZ"
      },
      "source": [
        "$ \\frac{\\partial C}{\\partial b} = \\frac{2}{n} \\sum (\\hat{y}_i - y_i) $"
      ]
    },
    {
      "cell_type": "code",
      "metadata": {
        "colab": {
          "base_uri": "https://localhost:8080/"
        },
        "id": "xP359sx0Yhz0",
        "outputId": "c7a75355-cb7e-4c59-8776-1d29a950c4ea"
      },
      "source": [
        "(2/len(ys)) * torch.sum((yhats-ys)) # confirm result of b.grad"
      ],
      "execution_count": 16,
      "outputs": [
        {
          "output_type": "execute_result",
          "data": {
            "text/plain": [
              "tensor(5.9466, grad_fn=<MulBackward0>)"
            ]
          },
          "metadata": {
            "tags": []
          },
          "execution_count": 16
        }
      ]
    },
    {
      "cell_type": "markdown",
      "metadata": {
        "id": "v9CTLlJbccF3"
      },
      "source": [
        "The gradient of cost, which is symbolized $\\nabla C$ (pronounced \"nabla C\"), is a vector of all the partial derivatives of $C$ with respect to each of the individual model parameters:\n",
        "\n",
        "$\\nabla C = \\nabla_p C = \\left[ \\frac{\\partial{C}}{\\partial{p_1}}, \\frac{\\partial{C}}{\\partial{p_2}}, \\cdots, \\frac{\\partial{C}}{\\partial{p_n}} \\right]^T $\n",
        "\n",
        "In this case, there are only two parameters, $b$ and $m$:\n",
        "\n",
        "$\\nabla C = \\left[ \\frac{\\partial{C}}{\\partial{b}}, \\frac{\\partial{C}}{\\partial{m}} \\right]^T $"
      ]
    },
    {
      "cell_type": "code",
      "metadata": {
        "colab": {
          "base_uri": "https://localhost:8080/"
        },
        "id": "4pV31rQNcEnB",
        "outputId": "d6e59fea-8b09-4e1f-e8c7-e4b8f7015b56"
      },
      "source": [
        "gradient = torch.tensor([[b.grad.item(), m.grad.item()]]).T # not needed right now, but for illustration\n",
        "gradient"
      ],
      "execution_count": 17,
      "outputs": [
        {
          "output_type": "execute_result",
          "data": {
            "text/plain": [
              "tensor([[ 5.9466],\n",
              "        [35.2350]])"
            ]
          },
          "metadata": {
            "tags": []
          },
          "execution_count": 17
        }
      ]
    },
    {
      "cell_type": "code",
      "metadata": {
        "id": "yLhMxLhJckP9"
      },
      "source": [
        "def labeled_regression_plot(my_x, my_y, my_m, my_b, my_C, include_grad=True):\n",
        "    \n",
        "    title = 'Cost = {}'.format('%.3g' % my_C.item())\n",
        "    if include_grad:\n",
        "        xlabel = 'm = {}, m grad = {}'.format('%.3g' % my_m.item(), '%.3g' % my_m.grad.item())\n",
        "        ylabel = 'b = {}, b grad = {}'.format('%.3g' % my_b.item(), '%.3g' % my_b.grad.item())\n",
        "    else:\n",
        "        xlabel = 'm = {}'.format('%.3g' % my_m.item())        \n",
        "        ylabel = 'b = {}'.format('%.3g' % my_b.item())\n",
        "    \n",
        "    fig, ax = plt.subplots()\n",
        "    \n",
        "    plt.title(title)\n",
        "    plt.ylabel(ylabel)\n",
        "    plt.xlabel(xlabel)\n",
        "\n",
        "    ax.scatter(my_x, my_y, zorder=3)\n",
        "    \n",
        "    x_min, x_max = ax.get_xlim()\n",
        "    y_min = regression(x_min, my_m, my_b)\n",
        "    y_max = regression(x_max, my_m, my_b)\n",
        "\n",
        "    ax.set_xlim([x_min, x_max])\n",
        "    _ = ax.plot([x_min, x_max], [y_min, y_max], c='orange')"
      ],
      "execution_count": 18,
      "outputs": []
    },
    {
      "cell_type": "code",
      "metadata": {
        "colab": {
          "base_uri": "https://localhost:8080/",
          "height": 295
        },
        "id": "OcNqzG_FdkTn",
        "outputId": "752780c5-39d4-405f-8cab-26c59b2b585a"
      },
      "source": [
        "labeled_regression_plot(xs, ys, m, b, C)"
      ],
      "execution_count": 19,
      "outputs": [
        {
          "output_type": "display_data",
          "data": {
            "image/png": "[encoded data removed]",
            "text/plain": [
              "<Figure size 432x288 with 1 Axes>"
            ]
          },
          "metadata": {
            "tags": [],
            "needs_background": "light"
          }
        }
      ]
    },
    {
      "cell_type": "markdown",
      "metadata": {
        "id": "r6O3tE-5d9eS"
      },
      "source": [
        "### Step 4: Gradient descent\n",
        "\n",
        "$\\frac{\\partial C}{\\partial m} = 35.9$ indicates that an increase in $m$ corresponds to a large increase in $C$.\n",
        "\n",
        "$\\frac{\\partial C}{\\partial b} = 5.94$ indicates that an increase in $b$ corresponds to an increase in $C$, though much less so than $m$.\n",
        "\n",
        "In the first round of training, to reduce cost $C$, the slope of the regression line, $m$, will be decreased. There will also be a relatively small decrease in the $y$-intercept of the line, $b$."
      ]
    },
    {
      "cell_type": "code",
      "metadata": {
        "id": "1t6X0_WpdmE_"
      },
      "source": [
        "optimizer = torch.optim.SGD([m, b], lr=0.01)"
      ],
      "execution_count": 20,
      "outputs": []
    },
    {
      "cell_type": "code",
      "metadata": {
        "id": "zdmKxxJyfeoV"
      },
      "source": [
        "optimizer.step()"
      ],
      "execution_count": 21,
      "outputs": []
    },
    {
      "cell_type": "code",
      "metadata": {
        "id": "37ioI2Cyff9t"
      },
      "source": [
        "C = mse(regression(xs, m , b), ys)"
      ],
      "execution_count": 22,
      "outputs": []
    },
    {
      "cell_type": "code",
      "metadata": {
        "colab": {
          "base_uri": "https://localhost:8080/",
          "height": 295
        },
        "id": "4gdsKgWQfi6G",
        "outputId": "35345169-9d82-49a1-ce59-22fdd0f98414"
      },
      "source": [
        "labeled_regression_plot(xs, ys, m, b, C, include_grad=False) # C.backward() not executed here for grad of C"
      ],
      "execution_count": 23,
      "outputs": [
        {
          "output_type": "display_data",
          "data": {
            "image/png": "[encoded data removed]",
            "text/plain": [
              "<Figure size 432x288 with 1 Axes>"
            ]
          },
          "metadata": {
            "tags": [],
            "needs_background": "light"
          }
        }
      ]
    },
    {
      "cell_type": "markdown",
      "metadata": {
        "id": "u21LZGU3gTca"
      },
      "source": [
        "$C$ was reduced significantly, as was $m$, whilst $b$ was adjusted just slightly (corresponding to the smaller gradient of $C$ wrt. $b$)."
      ]
    },
    {
      "cell_type": "markdown",
      "metadata": {
        "id": "2rgW7hHBgiBR"
      },
      "source": [
        "### Iteratively minimise cost (MSE) toward zero"
      ]
    },
    {
      "cell_type": "code",
      "metadata": {
        "colab": {
          "base_uri": "https://localhost:8080/",
          "height": 1000
        },
        "id": "HIFdRfQZf2y-",
        "outputId": "727cb766-e349-49d8-b7f7-30a47756ccee"
      },
      "source": [
        "epochs = 300 # added to previous round\n",
        "\n",
        "for epoch in range(epochs):\n",
        "\n",
        "  optimizer.zero_grad() # reset gradients to zero, else they accumulate\n",
        "\n",
        "  # Step 1: Forward pass\n",
        "  yhats = regression(xs, m, b)\n",
        "\n",
        "  # Step 2: Compute cost\n",
        "  C = mse(yhats, ys)\n",
        "\n",
        "  # Step 3: Autodiff for grad of C wrt. to m and b\n",
        "  C.backward()\n",
        "\n",
        "  # Step 4: Gradient descent i.e. adjust m and b\n",
        "  optimizer.step()\n",
        "\n",
        "  # Plot result of training every 10th round\n",
        "  if (epoch % 50) == 0:\n",
        "    labeled_regression_plot(xs, ys, m, b, C)"
      ],
      "execution_count": 24,
      "outputs": [
        {
          "output_type": "display_data",
          "data": {
            "image/png": "[encoded data removed]",
            "text/plain": [
              "<Figure size 432x288 with 1 Axes>"
            ]
          },
          "metadata": {
            "tags": [],
            "needs_background": "light"
          }
        },
        {
          "output_type": "display_data",
          "data": {
            "image/png": "[encoded data removed]",
            "text/plain": [
              "<Figure size 432x288 with 1 Axes>"
            ]
          },
          "metadata": {
            "tags": [],
            "needs_background": "light"
          }
        },
        {
          "output_type": "display_data",
          "data": {
            "image/png": "[encoded data removed]",
            "text/plain": [
              "<Figure size 432x288 with 1 Axes>"
            ]
          },
          "metadata": {
            "tags": [],
            "needs_background": "light"
          }
        },
        {
          "output_type": "display_data",
          "data": {
            "image/png": "[encoded data removed]",
            "text/plain": [
              "<Figure size 432x288 with 1 Axes>"
            ]
          },
          "metadata": {
            "tags": [],
            "needs_background": "light"
          }
        },
        {
          "output_type": "display_data",
          "data": {
            "image/png": "[encoded data removed]",
            "text/plain": [
              "<Figure size 432x288 with 1 Axes>"
            ]
          },
          "metadata": {
            "tags": [],
            "needs_background": "light"
          }
        },
        {
          "output_type": "display_data",
          "data": {
            "image/png": "[encoded data removed]",
            "text/plain": [
              "<Figure size 432x288 with 1 Axes>"
            ]
          },
          "metadata": {
            "tags": [],
            "needs_background": "light"
          }
        }
      ]
    },
    {
      "cell_type": "markdown",
      "metadata": {
        "id": "g0J12OIRnaD3"
      },
      "source": [
        "In later rounds of training, after the model's slope $m$ has become closer to the slope represented by the data, $\\frac{\\partial C}{\\partial b}$ becomes negative, indicating an inverse relationship between $b$ and $C$. Meanwhile, $\\frac{\\partial C}{\\partial m}$ remains positive.\n",
        "\n",
        "This combination directs gradient descent to simultaneously adjust the $y$-intercept $b$ upwards and the slope $m$ downwards in order to reduce cost $C$ and, ultimately, fit the regression line snugly to the data."
      ]
    },
    {
      "cell_type": "code",
      "metadata": {
        "id": "Cl8c4ooxiO_Z"
      },
      "source": [
        ""
      ],
      "execution_count": 24,
      "outputs": []
    }
  ]
}