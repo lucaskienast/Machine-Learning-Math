{
  "nbformat": 4,
  "nbformat_minor": 0,
  "metadata": {
    "colab": {
      "name": "Partial Derivatives of Cylinder Volume.ipynb",
      "provenance": [],
      "collapsed_sections": []
    },
    "kernelspec": {
      "name": "python3",
      "display_name": "Python 3"
    },
    "language_info": {
      "name": "python"
    }
  },
  "cells": [
    {
      "cell_type": "markdown",
      "metadata": {
        "id": "GR1yL0AQIgbY"
      },
      "source": [
        "# Partial Derivatives of a Cylinder's Volume\n",
        "\n",
        "\n",
        "The volume of a cylinder is described by $v = \\pi r^2 l$ where $r$ is the radius and $l$ the length."
      ]
    },
    {
      "cell_type": "code",
      "metadata": {
        "id": "AkiWmuYSFVSk"
      },
      "source": [
        "import torch\n",
        "import math # for pi"
      ],
      "execution_count": 1,
      "outputs": []
    },
    {
      "cell_type": "code",
      "metadata": {
        "id": "fl1czX8vI0XV"
      },
      "source": [
        "def cylinder_volume(my_r, my_l):\n",
        "  return math.pi * my_r**2 * my_l"
      ],
      "execution_count": 2,
      "outputs": []
    },
    {
      "cell_type": "markdown",
      "metadata": {
        "id": "yyfx-ESEI9W6"
      },
      "source": [
        "Assume $r=3$ and $l=5$."
      ]
    },
    {
      "cell_type": "code",
      "metadata": {
        "colab": {
          "base_uri": "https://localhost:8080/"
        },
        "id": "NYaVmVJBI63S",
        "outputId": "63adf242-3ea4-487b-8e18-279aa702fccc"
      },
      "source": [
        "r = torch.tensor(3.).requires_grad_()\n",
        "r"
      ],
      "execution_count": 3,
      "outputs": [
        {
          "output_type": "execute_result",
          "data": {
            "text/plain": [
              "tensor(3., requires_grad=True)"
            ]
          },
          "metadata": {
            "tags": []
          },
          "execution_count": 3
        }
      ]
    },
    {
      "cell_type": "code",
      "metadata": {
        "colab": {
          "base_uri": "https://localhost:8080/"
        },
        "id": "4sk0XWv8JFFE",
        "outputId": "9e587e51-1099-45b7-8c78-3cf711cf63fc"
      },
      "source": [
        "l = torch.tensor(5.).requires_grad_()\n",
        "l"
      ],
      "execution_count": 4,
      "outputs": [
        {
          "output_type": "execute_result",
          "data": {
            "text/plain": [
              "tensor(5., requires_grad=True)"
            ]
          },
          "metadata": {
            "tags": []
          },
          "execution_count": 4
        }
      ]
    },
    {
      "cell_type": "code",
      "metadata": {
        "colab": {
          "base_uri": "https://localhost:8080/"
        },
        "id": "hCkqGEPlJIta",
        "outputId": "bbbc3db4-0cc5-45a9-e802-19b93f843546"
      },
      "source": [
        "v = cylinder_volume(r, l) # forward pass\n",
        "v"
      ],
      "execution_count": 5,
      "outputs": [
        {
          "output_type": "execute_result",
          "data": {
            "text/plain": [
              "tensor(141.3717, grad_fn=<MulBackward0>)"
            ]
          },
          "metadata": {
            "tags": []
          },
          "execution_count": 5
        }
      ]
    },
    {
      "cell_type": "code",
      "metadata": {
        "id": "2sNcA-M4JNXs"
      },
      "source": [
        "v.backward() # autodiff"
      ],
      "execution_count": 6,
      "outputs": []
    },
    {
      "cell_type": "markdown",
      "metadata": {
        "id": "-OwK7vCTJXmQ"
      },
      "source": [
        "$\\frac{\\partial v}{\\partial l} = \\pi r^2$ at $l=5$"
      ]
    },
    {
      "cell_type": "code",
      "metadata": {
        "colab": {
          "base_uri": "https://localhost:8080/"
        },
        "id": "jf1ZsJWGJVP1",
        "outputId": "c52b2857-c402-441b-9d93-42e8ec20980e"
      },
      "source": [
        "l.grad"
      ],
      "execution_count": 7,
      "outputs": [
        {
          "output_type": "execute_result",
          "data": {
            "text/plain": [
              "tensor(28.2743)"
            ]
          },
          "metadata": {
            "tags": []
          },
          "execution_count": 7
        }
      ]
    },
    {
      "cell_type": "code",
      "metadata": {
        "colab": {
          "base_uri": "https://localhost:8080/"
        },
        "id": "d9tOKwRjJeJu",
        "outputId": "9b163481-2dfa-4784-f2f8-192797cae980"
      },
      "source": [
        "math.pi * 3**2 # prove the result above"
      ],
      "execution_count": 8,
      "outputs": [
        {
          "output_type": "execute_result",
          "data": {
            "text/plain": [
              "28.274333882308138"
            ]
          },
          "metadata": {
            "tags": []
          },
          "execution_count": 8
        }
      ]
    },
    {
      "cell_type": "markdown",
      "metadata": {
        "id": "rcDryjgLJm3r"
      },
      "source": [
        "This means that at $r = 3$, a change in $l$ by one unit corresponds to a change in $v$ of 28.27$\\text{m}^3$."
      ]
    },
    {
      "cell_type": "code",
      "metadata": {
        "colab": {
          "base_uri": "https://localhost:8080/"
        },
        "id": "OP2UjziBJjIO",
        "outputId": "c7a04d48-cd18-4db5-8328-e7cb0b5065a8"
      },
      "source": [
        "cylinder_volume(3,6)"
      ],
      "execution_count": 9,
      "outputs": [
        {
          "output_type": "execute_result",
          "data": {
            "text/plain": [
              "169.64600329384882"
            ]
          },
          "metadata": {
            "tags": []
          },
          "execution_count": 9
        }
      ]
    },
    {
      "cell_type": "code",
      "metadata": {
        "colab": {
          "base_uri": "https://localhost:8080/"
        },
        "id": "-WEtjVUWJuSA",
        "outputId": "c3bb2635-10e2-43b4-9222-669c6e04f556"
      },
      "source": [
        "cylinder_volume(3,6) - cylinder_volume(3,5) # divide by l=1 to restore scale & diff units"
      ],
      "execution_count": 10,
      "outputs": [
        {
          "output_type": "execute_result",
          "data": {
            "text/plain": [
              "28.274333882308127"
            ]
          },
          "metadata": {
            "tags": []
          },
          "execution_count": 10
        }
      ]
    },
    {
      "cell_type": "code",
      "metadata": {
        "colab": {
          "base_uri": "https://localhost:8080/"
        },
        "id": "4nrJMrsqJxNP",
        "outputId": "fa03b274-ee47-4a35-f342-f93bf76418c9"
      },
      "source": [
        "cylinder_volume(3,7) - cylinder_volume(3,6) # divide by l=1 to restore scale & diff units"
      ],
      "execution_count": 11,
      "outputs": [
        {
          "output_type": "execute_result",
          "data": {
            "text/plain": [
              "28.274333882308156"
            ]
          },
          "metadata": {
            "tags": []
          },
          "execution_count": 11
        }
      ]
    },
    {
      "cell_type": "markdown",
      "metadata": {
        "id": "tl4dQ4rrJ295"
      },
      "source": [
        "$\\frac{\\partial v}{\\partial r} = 2 \\pi r l$ at $r=3$"
      ]
    },
    {
      "cell_type": "code",
      "metadata": {
        "colab": {
          "base_uri": "https://localhost:8080/"
        },
        "id": "rR4N1jwyJzNx",
        "outputId": "e7c834c1-8272-4a4d-cfba-61d98bfe1506"
      },
      "source": [
        "r.grad # autodiff"
      ],
      "execution_count": 12,
      "outputs": [
        {
          "output_type": "execute_result",
          "data": {
            "text/plain": [
              "tensor(94.2478)"
            ]
          },
          "metadata": {
            "tags": []
          },
          "execution_count": 12
        }
      ]
    },
    {
      "cell_type": "code",
      "metadata": {
        "colab": {
          "base_uri": "https://localhost:8080/"
        },
        "id": "MAkA6dRTKNuy",
        "outputId": "a0993367-b910-4d90-ebf6-702fa7b70711"
      },
      "source": [
        "2 * math.pi * 3 * 5"
      ],
      "execution_count": 13,
      "outputs": [
        {
          "output_type": "execute_result",
          "data": {
            "text/plain": [
              "94.24777960769379"
            ]
          },
          "metadata": {
            "tags": []
          },
          "execution_count": 13
        }
      ]
    },
    {
      "cell_type": "markdown",
      "metadata": {
        "id": "PuaoTGeaKcxy"
      },
      "source": [
        "$r$ is included in the partial derivative so adjusting it affects the scale of its impact on $v$. Although it's our first example in this notebook, it is typical in calculus for the derivative only to apply at an infinitesimally small $\\Delta r$. The smaller the $\\Delta r$, the closer to the true $\\frac{\\partial v}{\\partial r}$. E.g., at $\\Delta r = 1 \\times 10^{-6}$"
      ]
    },
    {
      "cell_type": "code",
      "metadata": {
        "id": "tn27ykGnKRUz"
      },
      "source": [
        "delta = 1e-6"
      ],
      "execution_count": 14,
      "outputs": []
    },
    {
      "cell_type": "code",
      "metadata": {
        "colab": {
          "base_uri": "https://localhost:8080/"
        },
        "id": "_2FWNkM9Kg91",
        "outputId": "260ee1ca-16b6-4be0-e163-6eb3bb157b45"
      },
      "source": [
        "(cylinder_volume(3+delta, 5) - cylinder_volume(3, 5)) / delta # divide by delta to restore scale & diff units"
      ],
      "execution_count": 15,
      "outputs": [
        {
          "output_type": "execute_result",
          "data": {
            "text/plain": [
              "94.24779531741478"
            ]
          },
          "metadata": {
            "tags": []
          },
          "execution_count": 15
        }
      ]
    },
    {
      "cell_type": "code",
      "metadata": {
        "id": "Lgu5MbXRNq6m"
      },
      "source": [
        ""
      ],
      "execution_count": 15,
      "outputs": []
    }
  ]
}