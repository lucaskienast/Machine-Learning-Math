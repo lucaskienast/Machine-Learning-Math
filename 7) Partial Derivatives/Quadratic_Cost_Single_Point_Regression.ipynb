{
  "nbformat": 4,
  "nbformat_minor": 0,
  "metadata": {
    "colab": {
      "name": "Quadratic Cost Single Point Regression.ipynb",
      "provenance": [],
      "collapsed_sections": []
    },
    "kernelspec": {
      "name": "python3",
      "display_name": "Python 3"
    },
    "language_info": {
      "name": "python"
    }
  },
  "cells": [
    {
      "cell_type": "markdown",
      "metadata": {
        "id": "4Qh7rwO_kQrc"
      },
      "source": [
        "# Quadratic Cost Gradient for Single-Point Regression"
      ]
    },
    {
      "cell_type": "code",
      "metadata": {
        "id": "EP1JBgVICvl2"
      },
      "source": [
        "import torch\n",
        "import matplotlib.pyplot as plt"
      ],
      "execution_count": 1,
      "outputs": []
    },
    {
      "cell_type": "code",
      "metadata": {
        "colab": {
          "base_uri": "https://localhost:8080/"
        },
        "id": "wAQpf6V9kh_x",
        "outputId": "ffd440ab-d0dc-4fb7-ca1c-4ded8af29b38"
      },
      "source": [
        "xs = torch.linspace(0, 7, steps=8)\n",
        "xs"
      ],
      "execution_count": 2,
      "outputs": [
        {
          "output_type": "execute_result",
          "data": {
            "text/plain": [
              "tensor([0., 1., 2., 3., 4., 5., 6., 7.])"
            ]
          },
          "metadata": {
            "tags": []
          },
          "execution_count": 2
        }
      ]
    },
    {
      "cell_type": "code",
      "metadata": {
        "colab": {
          "base_uri": "https://localhost:8080/"
        },
        "id": "xJxIGi0ektzn",
        "outputId": "7d6eb940-c186-4b20-bcef-9d5a7ee1d9c7"
      },
      "source": [
        "ys = -0.5*xs + 2 + torch.normal(mean=torch.zeros(8), std=0.2)\n",
        "ys"
      ],
      "execution_count": 3,
      "outputs": [
        {
          "output_type": "execute_result",
          "data": {
            "text/plain": [
              "tensor([ 2.0198,  1.5082,  1.0873,  0.2246,  0.3467, -0.8646, -1.0065, -1.4981])"
            ]
          },
          "metadata": {
            "tags": []
          },
          "execution_count": 3
        }
      ]
    },
    {
      "cell_type": "code",
      "metadata": {
        "colab": {
          "base_uri": "https://localhost:8080/",
          "height": 295
        },
        "id": "M0yktQrFlNGs",
        "outputId": "7cce9f16-9912-4f82-c1a9-4983c052e7a1"
      },
      "source": [
        "fig, ax = plt.subplots()\n",
        "plt.title(\"Clinical Trial\")\n",
        "plt.xlabel(\"Drug dosage (mL)\")\n",
        "plt.ylabel(\"Symptom intensity\")\n",
        "ax.scatter(xs, ys)\n",
        "plt.show()"
      ],
      "execution_count": 4,
      "outputs": [
        {
          "output_type": "display_data",
          "data": {
            "image/png": "[encoded data removed]",
            "text/plain": [
              "<Figure size 432x288 with 1 Axes>"
            ]
          },
          "metadata": {
            "tags": [],
            "needs_background": "light"
          }
        }
      ]
    },
    {
      "cell_type": "markdown",
      "metadata": {
        "id": "3SwNTNIpldIq"
      },
      "source": [
        "The slope of a line is given by $y = mx + b$:"
      ]
    },
    {
      "cell_type": "code",
      "metadata": {
        "id": "97_sM1qilcxf"
      },
      "source": [
        "def regression(my_x, my_m, my_b):\n",
        "  return my_m*my_x + my_b"
      ],
      "execution_count": 5,
      "outputs": []
    },
    {
      "cell_type": "markdown",
      "metadata": {
        "id": "-Iguc0aDlose"
      },
      "source": [
        "Initialize $m$ and $b$ with the same \"random\" near-zero values"
      ]
    },
    {
      "cell_type": "code",
      "metadata": {
        "colab": {
          "base_uri": "https://localhost:8080/"
        },
        "id": "xGymLq-ElVeN",
        "outputId": "d2d89a11-e2ce-42de-9cfd-a34415d26a38"
      },
      "source": [
        "m = torch.tensor([0.9]).requires_grad_()\n",
        "m"
      ],
      "execution_count": 6,
      "outputs": [
        {
          "output_type": "execute_result",
          "data": {
            "text/plain": [
              "tensor([0.9000], requires_grad=True)"
            ]
          },
          "metadata": {
            "tags": []
          },
          "execution_count": 6
        }
      ]
    },
    {
      "cell_type": "code",
      "metadata": {
        "colab": {
          "base_uri": "https://localhost:8080/"
        },
        "id": "u09gDG2rlr6H",
        "outputId": "cfad6f0c-f946-4f37-dc28-c6233fcf59cb"
      },
      "source": [
        "b = torch.tensor([0.1]).requires_grad_()\n",
        "b"
      ],
      "execution_count": 7,
      "outputs": [
        {
          "output_type": "execute_result",
          "data": {
            "text/plain": [
              "tensor([0.1000], requires_grad=True)"
            ]
          },
          "metadata": {
            "tags": []
          },
          "execution_count": 7
        }
      ]
    },
    {
      "cell_type": "markdown",
      "metadata": {
        "id": "stEZAwFBlwdg"
      },
      "source": [
        "To keep the partial derivatives as simple as possible, move forward with a single instance $i$ from the eight possible data points (here the 8th data point).\n",
        "\n"
      ]
    },
    {
      "cell_type": "code",
      "metadata": {
        "id": "XpSGDSl_luBH"
      },
      "source": [
        "i = 7\n",
        "x = xs[i]\n",
        "y = ys[i]"
      ],
      "execution_count": 8,
      "outputs": []
    },
    {
      "cell_type": "code",
      "metadata": {
        "colab": {
          "base_uri": "https://localhost:8080/"
        },
        "id": "EiLX3oE5l6sx",
        "outputId": "568658d5-b229-4fcf-d125-67ba0303df45"
      },
      "source": [
        "x"
      ],
      "execution_count": 9,
      "outputs": [
        {
          "output_type": "execute_result",
          "data": {
            "text/plain": [
              "tensor(7.)"
            ]
          },
          "metadata": {
            "tags": []
          },
          "execution_count": 9
        }
      ]
    },
    {
      "cell_type": "code",
      "metadata": {
        "colab": {
          "base_uri": "https://localhost:8080/"
        },
        "id": "omeYkh6wl69C",
        "outputId": "8d69b077-0836-4941-f567-cd315a08a58d"
      },
      "source": [
        "y"
      ],
      "execution_count": 10,
      "outputs": [
        {
          "output_type": "execute_result",
          "data": {
            "text/plain": [
              "tensor(-1.4981)"
            ]
          },
          "metadata": {
            "tags": []
          },
          "execution_count": 10
        }
      ]
    },
    {
      "cell_type": "markdown",
      "metadata": {
        "id": "OfTPics9l8tV"
      },
      "source": [
        "### Step 1: Forward pass\n",
        "\n",
        "We can flow the scalar tensor $x$ through our regression model to produce $\\hat{y}$, an estimate of $y$. Prior to any model training, this is an arbitrary estimate:"
      ]
    },
    {
      "cell_type": "code",
      "metadata": {
        "colab": {
          "base_uri": "https://localhost:8080/"
        },
        "id": "XbGlVcT0l7JZ",
        "outputId": "10b76348-811f-498f-fa00-b8df89f632e3"
      },
      "source": [
        "yhat = regression(x, m, b)\n",
        "yhat"
      ],
      "execution_count": 11,
      "outputs": [
        {
          "output_type": "execute_result",
          "data": {
            "text/plain": [
              "tensor([6.4000], grad_fn=<AddBackward0>)"
            ]
          },
          "metadata": {
            "tags": []
          },
          "execution_count": 11
        }
      ]
    },
    {
      "cell_type": "markdown",
      "metadata": {
        "id": "TKwdvpHimLRQ"
      },
      "source": [
        "### Step 2: Compare $\\hat{y}$ with true $y$ to calculate cost $C$\n",
        "\n",
        "Mean-squared error averages quadratic cost over multiple data points. With a single data point, here we can use quadratic cost alone. It is defined by:$$ C = (\\hat{y} - y)^2 $$\n",
        "\n",
        "\n",
        "We square the error to keep cost positive and to \"punish\" larger errors via exponentially increasing cost."
      ]
    },
    {
      "cell_type": "code",
      "metadata": {
        "id": "PBXXkVVsmJrC"
      },
      "source": [
        "def squared_error(my_yhat, my_y):\n",
        "    return (my_yhat - my_y)**2"
      ],
      "execution_count": 12,
      "outputs": []
    },
    {
      "cell_type": "code",
      "metadata": {
        "colab": {
          "base_uri": "https://localhost:8080/"
        },
        "id": "Hem2lSiXm1co",
        "outputId": "5b0affab-4b30-4a01-e8c0-2a4c36b33e63"
      },
      "source": [
        "C = squared_error(yhat, y)\n",
        "C"
      ],
      "execution_count": 13,
      "outputs": [
        {
          "output_type": "execute_result",
          "data": {
            "text/plain": [
              "tensor([62.3799], grad_fn=<PowBackward0>)"
            ]
          },
          "metadata": {
            "tags": []
          },
          "execution_count": 13
        }
      ]
    },
    {
      "cell_type": "markdown",
      "metadata": {
        "id": "-c5u_1kKm4qS"
      },
      "source": [
        "### Step 3: Use autodiff to calculate gradient of $C$ wrt. parameters $m$ and $b$"
      ]
    },
    {
      "cell_type": "code",
      "metadata": {
        "id": "0N6_D3JLm3Z4"
      },
      "source": [
        "C.backward()"
      ],
      "execution_count": 14,
      "outputs": []
    },
    {
      "cell_type": "code",
      "metadata": {
        "colab": {
          "base_uri": "https://localhost:8080/"
        },
        "id": "Kbq36TYcnFkX",
        "outputId": "1a1f54bb-3813-4803-b5f6-4afb4f28c7d0"
      },
      "source": [
        "m.grad"
      ],
      "execution_count": 15,
      "outputs": [
        {
          "output_type": "execute_result",
          "data": {
            "text/plain": [
              "tensor([110.5733])"
            ]
          },
          "metadata": {
            "tags": []
          },
          "execution_count": 15
        }
      ]
    },
    {
      "cell_type": "code",
      "metadata": {
        "colab": {
          "base_uri": "https://localhost:8080/"
        },
        "id": "GfAQRzlTnHQj",
        "outputId": "72b2ddb2-3ad2-4fe4-ac2d-f90c7e420806"
      },
      "source": [
        "b.grad"
      ],
      "execution_count": 16,
      "outputs": [
        {
          "output_type": "execute_result",
          "data": {
            "text/plain": [
              "tensor([15.7962])"
            ]
          },
          "metadata": {
            "tags": []
          },
          "execution_count": 16
        }
      ]
    },
    {
      "cell_type": "markdown",
      "metadata": {
        "id": "46T4dw18nK0i"
      },
      "source": [
        "Derivative of $C$ wrt. $m$: $ \\frac{\\partial C}{\\partial m} = 2x(\\hat{y} - y) $"
      ]
    },
    {
      "cell_type": "code",
      "metadata": {
        "colab": {
          "base_uri": "https://localhost:8080/"
        },
        "id": "UeE3gjqTnIOx",
        "outputId": "72868659-63ac-4df3-bef4-a4bd52aac1c7"
      },
      "source": [
        "2*x*(yhat.item()-y)"
      ],
      "execution_count": 17,
      "outputs": [
        {
          "output_type": "execute_result",
          "data": {
            "text/plain": [
              "tensor(110.5733)"
            ]
          },
          "metadata": {
            "tags": []
          },
          "execution_count": 17
        }
      ]
    },
    {
      "cell_type": "markdown",
      "metadata": {
        "id": "DHjaQwFonYVY"
      },
      "source": [
        "Derivative of $C$ wrt. $b$: $ \\frac{\\partial C}{\\partial b} = 2(\\hat{y} - y) $"
      ]
    },
    {
      "cell_type": "code",
      "metadata": {
        "colab": {
          "base_uri": "https://localhost:8080/"
        },
        "id": "CvpF5PWynWCb",
        "outputId": "1c51e732-8f50-4123-b775-f721b4a021eb"
      },
      "source": [
        "2*(yhat.item()-y)"
      ],
      "execution_count": 18,
      "outputs": [
        {
          "output_type": "execute_result",
          "data": {
            "text/plain": [
              "tensor(15.7962)"
            ]
          },
          "metadata": {
            "tags": []
          },
          "execution_count": 18
        }
      ]
    },
    {
      "cell_type": "markdown",
      "metadata": {
        "id": "es259qvquIs5"
      },
      "source": [
        "## Gradient of Cost\n",
        "\n",
        "The gradient of cost, which is symbolized $\\nabla C$ (pronounced \"nabla C\"), is a vector of all the partial derivatives of $C$ with respect to each of the individual model parameters:\n",
        "\n",
        "$\\nabla C = \\nabla_p C = \\left[ \\frac{\\partial{C}}{\\partial{p_1}}, \\frac{\\partial{C}}{\\partial{p_2}}, \\cdots, \\frac{\\partial{C}}{\\partial{p_n}} \\right]^T $\n",
        "\n",
        "In this case, there are only two parameters, $b$ and $m$:\n",
        "\n",
        "$\\nabla C = \\left[ \\frac{\\partial{C}}{\\partial{b}}, \\frac{\\partial{C}}{\\partial{m}} \\right]^T $"
      ]
    },
    {
      "cell_type": "code",
      "metadata": {
        "colab": {
          "base_uri": "https://localhost:8080/"
        },
        "id": "Iod3FrLynqM0",
        "outputId": "55916a14-ee0d-41e7-b879-7fa6bc1661e5"
      },
      "source": [
        "gradient_cost = torch.tensor([[b.grad.item(), m.grad.item()]]).T\n",
        "gradient_cost"
      ],
      "execution_count": 19,
      "outputs": [
        {
          "output_type": "execute_result",
          "data": {
            "text/plain": [
              "tensor([[ 15.7962],\n",
              "        [110.5733]])"
            ]
          },
          "metadata": {
            "tags": []
          },
          "execution_count": 19
        }
      ]
    },
    {
      "cell_type": "code",
      "metadata": {
        "id": "iOj8MouGuex8"
      },
      "source": [
        ""
      ],
      "execution_count": 19,
      "outputs": []
    }
  ]
}