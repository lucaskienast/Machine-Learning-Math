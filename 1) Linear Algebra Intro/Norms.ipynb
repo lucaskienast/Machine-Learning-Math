{
  "nbformat": 4,
  "nbformat_minor": 0,
  "metadata": {
    "colab": {
      "name": "Norms.ipynb",
      "provenance": [],
      "collapsed_sections": []
    },
    "kernelspec": {
      "name": "python3",
      "display_name": "Python 3"
    },
    "language_info": {
      "name": "python"
    }
  },
  "cells": [
    {
      "cell_type": "markdown",
      "metadata": {
        "id": "H2-CGY6nyo57"
      },
      "source": [
        "# Norms"
      ]
    },
    {
      "cell_type": "code",
      "metadata": {
        "id": "CZqnaizhyDM5"
      },
      "source": [
        "import numpy as np"
      ],
      "execution_count": 1,
      "outputs": []
    },
    {
      "cell_type": "code",
      "metadata": {
        "id": "8UxmTLzAy0tr"
      },
      "source": [
        "x = np.array([42, 11, 7])"
      ],
      "execution_count": 2,
      "outputs": []
    },
    {
      "cell_type": "markdown",
      "metadata": {
        "id": "8-BgYliNyt3J"
      },
      "source": [
        "## L2 Norm\n",
        "\n",
        "$||x||_{2}=\\sqrt{\\sum{x_{i}^{2}}}$\n",
        "\n",
        "Measures simple (Euclidean) distance from origin."
      ]
    },
    {
      "cell_type": "code",
      "metadata": {
        "colab": {
          "base_uri": "https://localhost:8080/"
        },
        "id": "DVcGd6XlysxS",
        "outputId": "cd105c71-16c9-4ade-90cf-29ed4ae92531"
      },
      "source": [
        "x"
      ],
      "execution_count": 6,
      "outputs": [
        {
          "output_type": "execute_result",
          "data": {
            "text/plain": [
              "array([42, 11,  7])"
            ]
          },
          "metadata": {
            "tags": []
          },
          "execution_count": 6
        }
      ]
    },
    {
      "cell_type": "code",
      "metadata": {
        "colab": {
          "base_uri": "https://localhost:8080/"
        },
        "id": "4TivzZLHy36t",
        "outputId": "2bc5c284-e982-4283-a4fd-ee73df6e1474"
      },
      "source": [
        "(42**2 + 11**2 + 7**2)**(1/2)"
      ],
      "execution_count": 7,
      "outputs": [
        {
          "output_type": "execute_result",
          "data": {
            "text/plain": [
              "43.977266854592045"
            ]
          },
          "metadata": {
            "tags": []
          },
          "execution_count": 7
        }
      ]
    },
    {
      "cell_type": "code",
      "metadata": {
        "colab": {
          "base_uri": "https://localhost:8080/"
        },
        "id": "HXBW6kOxy9gM",
        "outputId": "8b8e80de-f62e-45f2-8ad0-dd9aebf67800"
      },
      "source": [
        "np.linalg.norm(x)"
      ],
      "execution_count": 8,
      "outputs": [
        {
          "output_type": "execute_result",
          "data": {
            "text/plain": [
              "43.977266854592045"
            ]
          },
          "metadata": {
            "tags": []
          },
          "execution_count": 8
        }
      ]
    },
    {
      "cell_type": "markdown",
      "metadata": {
        "id": "lTK1wavVzJbz"
      },
      "source": [
        "## L1 Norm\n",
        "\n",
        "$||x||_{1}=\\sum{|x_{i}|}$\n",
        "\n",
        "Varies linearly at all locations whether near or far from origin. Used when difference b/w zero and non-zero key."
      ]
    },
    {
      "cell_type": "code",
      "metadata": {
        "colab": {
          "base_uri": "https://localhost:8080/"
        },
        "id": "1GHbIETsy_rk",
        "outputId": "e8a5a979-c156-4d41-9717-f1a4ba19e057"
      },
      "source": [
        "x"
      ],
      "execution_count": 9,
      "outputs": [
        {
          "output_type": "execute_result",
          "data": {
            "text/plain": [
              "array([42, 11,  7])"
            ]
          },
          "metadata": {
            "tags": []
          },
          "execution_count": 9
        }
      ]
    },
    {
      "cell_type": "code",
      "metadata": {
        "colab": {
          "base_uri": "https://localhost:8080/"
        },
        "id": "ZGW7fdSzzep3",
        "outputId": "d16b4f9c-f450-435d-9d85-62790bd0afeb"
      },
      "source": [
        "np.abs(42) + np.abs(11) + np.abs(7)"
      ],
      "execution_count": 10,
      "outputs": [
        {
          "output_type": "execute_result",
          "data": {
            "text/plain": [
              "60"
            ]
          },
          "metadata": {
            "tags": []
          },
          "execution_count": 10
        }
      ]
    },
    {
      "cell_type": "markdown",
      "metadata": {
        "id": "9xtkVHg_0wJu"
      },
      "source": [
        "## Squared L2 Norm\n",
        "\n",
        "$||x||_{2}^{2}=\\sum{x_{i}^{2}}$\n",
        "\n",
        "Computationally cheaper than L2 Norm, but downside is that it grows slowly near the origin, so do not use if distinguishing between zero and near-zero is important."
      ]
    },
    {
      "cell_type": "code",
      "metadata": {
        "colab": {
          "base_uri": "https://localhost:8080/"
        },
        "id": "6nzJNk7Pzk14",
        "outputId": "5821b4ed-c32a-4d43-ebbd-d13e9cf2dade"
      },
      "source": [
        "x"
      ],
      "execution_count": 13,
      "outputs": [
        {
          "output_type": "execute_result",
          "data": {
            "text/plain": [
              "array([42, 11,  7])"
            ]
          },
          "metadata": {
            "tags": []
          },
          "execution_count": 13
        }
      ]
    },
    {
      "cell_type": "code",
      "metadata": {
        "colab": {
          "base_uri": "https://localhost:8080/"
        },
        "id": "OQxBlP7S1Tw9",
        "outputId": "a0c9abc1-c476-496c-d5b4-e8e401f94a4d"
      },
      "source": [
        "(42**2 + 11**2 + 7**2)"
      ],
      "execution_count": 14,
      "outputs": [
        {
          "output_type": "execute_result",
          "data": {
            "text/plain": [
              "1934"
            ]
          },
          "metadata": {
            "tags": []
          },
          "execution_count": 14
        }
      ]
    },
    {
      "cell_type": "code",
      "metadata": {
        "colab": {
          "base_uri": "https://localhost:8080/"
        },
        "id": "G9ojBZjq1oG3",
        "outputId": "75883b7b-b3e5-4d3b-c7db-c767f15718e9"
      },
      "source": [
        "np.dot(x, x)"
      ],
      "execution_count": 15,
      "outputs": [
        {
          "output_type": "execute_result",
          "data": {
            "text/plain": [
              "1934"
            ]
          },
          "metadata": {
            "tags": []
          },
          "execution_count": 15
        }
      ]
    },
    {
      "cell_type": "markdown",
      "metadata": {
        "id": "y3-oRxnR1w_i"
      },
      "source": [
        "## Max Norm\n",
        "\n",
        "$L_{\\infty}=max_{i}|x_{i}|$\n",
        "\n",
        "Returns absolute value of largest magnitude element."
      ]
    },
    {
      "cell_type": "code",
      "metadata": {
        "colab": {
          "base_uri": "https://localhost:8080/"
        },
        "id": "N99mjKPz1piw",
        "outputId": "b8ef8a69-3ccc-414b-ba81-1f2c350db93f"
      },
      "source": [
        "x"
      ],
      "execution_count": 16,
      "outputs": [
        {
          "output_type": "execute_result",
          "data": {
            "text/plain": [
              "array([42, 11,  7])"
            ]
          },
          "metadata": {
            "tags": []
          },
          "execution_count": 16
        }
      ]
    },
    {
      "cell_type": "code",
      "metadata": {
        "colab": {
          "base_uri": "https://localhost:8080/"
        },
        "id": "o2QrPInV2Lg3",
        "outputId": "52f1973d-54b8-42be-aabb-ce6fc3abfb7d"
      },
      "source": [
        "np.max([np.abs(42), np.abs(11), np.abs(7)])"
      ],
      "execution_count": 18,
      "outputs": [
        {
          "output_type": "execute_result",
          "data": {
            "text/plain": [
              "42"
            ]
          },
          "metadata": {
            "tags": []
          },
          "execution_count": 18
        }
      ]
    },
    {
      "cell_type": "code",
      "metadata": {
        "id": "TCqROPvv2NSf"
      },
      "source": [
        ""
      ],
      "execution_count": null,
      "outputs": []
    }
  ]
}