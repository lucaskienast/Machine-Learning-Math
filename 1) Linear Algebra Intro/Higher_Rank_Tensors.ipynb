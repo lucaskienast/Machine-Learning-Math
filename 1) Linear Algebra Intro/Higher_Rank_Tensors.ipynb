{
  "nbformat": 4,
  "nbformat_minor": 0,
  "metadata": {
    "colab": {
      "name": "Higher Rank Tensors.ipynb",
      "provenance": []
    },
    "kernelspec": {
      "name": "python3",
      "display_name": "Python 3"
    },
    "language_info": {
      "name": "python"
    }
  },
  "cells": [
    {
      "cell_type": "markdown",
      "metadata": {
        "id": "cvigihVJad-T"
      },
      "source": [
        "# Higher Rank Tensors\n",
        "\n",
        "e.g. rank 4-tensors are common images, where dimensions are:\n",
        "\n",
        "1. number of images in training batch (say 32)\n",
        "2. image height in pixels (say 28)\n",
        "3. image width in pixels (say 28)\n",
        "4. number of colour channels (e.g. 3 for full colour images RGB)"
      ]
    },
    {
      "cell_type": "markdown",
      "metadata": {
        "id": "uiBfcXvTbETN"
      },
      "source": [
        "## N-D Tensor in PyTorch"
      ]
    },
    {
      "cell_type": "code",
      "metadata": {
        "id": "LhWHYICpaVFJ"
      },
      "source": [
        "import torch"
      ],
      "execution_count": 3,
      "outputs": []
    },
    {
      "cell_type": "code",
      "metadata": {
        "id": "OyaXUzWfbrUG"
      },
      "source": [
        "images_torch = torch.zeros([32, 28, 28, 3])\n",
        "#images_torch"
      ],
      "execution_count": 5,
      "outputs": []
    },
    {
      "cell_type": "markdown",
      "metadata": {
        "id": "N8p93WH2bMPx"
      },
      "source": [
        "## N-D Tensor in TensorFlow"
      ]
    },
    {
      "cell_type": "code",
      "metadata": {
        "id": "qEo7uqAPbBQp"
      },
      "source": [
        "import tensorflow as tf"
      ],
      "execution_count": 2,
      "outputs": []
    },
    {
      "cell_type": "code",
      "metadata": {
        "id": "X6o4SqLqbC-v"
      },
      "source": [
        "images_tf = tf.zeros([32, 28, 28, 3])\n",
        "#images_tf"
      ],
      "execution_count": 7,
      "outputs": []
    },
    {
      "cell_type": "code",
      "metadata": {
        "colab": {
          "base_uri": "https://localhost:8080/"
        },
        "id": "Maw9TqsacIvl",
        "outputId": "5a0ba380-b22c-48ab-e288-81bbb375c6f0"
      },
      "source": [
        "tf.rank(images_tf)"
      ],
      "execution_count": 8,
      "outputs": [
        {
          "output_type": "execute_result",
          "data": {
            "text/plain": [
              "<tf.Tensor: shape=(), dtype=int32, numpy=4>"
            ]
          },
          "metadata": {
            "tags": []
          },
          "execution_count": 8
        }
      ]
    },
    {
      "cell_type": "code",
      "metadata": {
        "id": "kDPphlJ5cL4l"
      },
      "source": [
        ""
      ],
      "execution_count": null,
      "outputs": []
    }
  ]
}