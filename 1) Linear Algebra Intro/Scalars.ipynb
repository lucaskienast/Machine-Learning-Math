{
  "nbformat": 4,
  "nbformat_minor": 0,
  "metadata": {
    "colab": {
      "name": "Scalars.ipynb",
      "provenance": [],
      "collapsed_sections": []
    },
    "kernelspec": {
      "name": "python3",
      "display_name": "Python 3"
    },
    "language_info": {
      "name": "python"
    }
  },
  "cells": [
    {
      "cell_type": "markdown",
      "metadata": {
        "id": "V2I4bx9hIrJn"
      },
      "source": [
        "# Scalars"
      ]
    },
    {
      "cell_type": "code",
      "metadata": {
        "id": "cDff_FEtI5ku"
      },
      "source": [
        "import numpy as np"
      ],
      "execution_count": 3,
      "outputs": []
    },
    {
      "cell_type": "markdown",
      "metadata": {
        "id": "xTOh-9T0ItrB"
      },
      "source": [
        "## Scalars in regular Python"
      ]
    },
    {
      "cell_type": "code",
      "metadata": {
        "colab": {
          "base_uri": "https://localhost:8080/"
        },
        "id": "ZannMOrtItSc",
        "outputId": "b2ef8356-d8bb-471e-dead-aac2adeaa6cb"
      },
      "source": [
        "x1 = 42\n",
        "x1"
      ],
      "execution_count": 1,
      "outputs": [
        {
          "output_type": "execute_result",
          "data": {
            "text/plain": [
              "42"
            ]
          },
          "metadata": {
            "tags": []
          },
          "execution_count": 1
        }
      ]
    },
    {
      "cell_type": "code",
      "metadata": {
        "colab": {
          "base_uri": "https://localhost:8080/"
        },
        "id": "6ip1uTzLInRY",
        "outputId": "3dfd58b4-1d12-4e7b-b899-b3e34b62d432"
      },
      "source": [
        "type(x1)"
      ],
      "execution_count": 2,
      "outputs": [
        {
          "output_type": "execute_result",
          "data": {
            "text/plain": [
              "int"
            ]
          },
          "metadata": {
            "tags": []
          },
          "execution_count": 2
        }
      ]
    },
    {
      "cell_type": "code",
      "metadata": {
        "colab": {
          "base_uri": "https://localhost:8080/"
        },
        "id": "MTN3ptn8I3g5",
        "outputId": "c4dabfe6-8f58-4a14-9011-93cdf303bac8"
      },
      "source": [
        "x2 = 2\n",
        "sum_x1_x2 = x1+ x2\n",
        "sum_x1_x2"
      ],
      "execution_count": 5,
      "outputs": [
        {
          "output_type": "execute_result",
          "data": {
            "text/plain": [
              "44"
            ]
          },
          "metadata": {
            "tags": []
          },
          "execution_count": 5
        }
      ]
    },
    {
      "cell_type": "code",
      "metadata": {
        "colab": {
          "base_uri": "https://localhost:8080/"
        },
        "id": "MWnCuTB_JKXW",
        "outputId": "5af492af-8fb0-48e2-c873-eba5c37190d0"
      },
      "source": [
        "type(sum_x1_x2)"
      ],
      "execution_count": 6,
      "outputs": [
        {
          "output_type": "execute_result",
          "data": {
            "text/plain": [
              "int"
            ]
          },
          "metadata": {
            "tags": []
          },
          "execution_count": 6
        }
      ]
    },
    {
      "cell_type": "code",
      "metadata": {
        "colab": {
          "base_uri": "https://localhost:8080/"
        },
        "id": "D4FOKho-JNR2",
        "outputId": "a6a43b96-17cd-475b-84ff-327ed38458b5"
      },
      "source": [
        "x_float = 42.0\n",
        "type(x_float)"
      ],
      "execution_count": 7,
      "outputs": [
        {
          "output_type": "execute_result",
          "data": {
            "text/plain": [
              "float"
            ]
          },
          "metadata": {
            "tags": []
          },
          "execution_count": 7
        }
      ]
    },
    {
      "cell_type": "code",
      "metadata": {
        "colab": {
          "base_uri": "https://localhost:8080/"
        },
        "id": "jhK85-FoJSbf",
        "outputId": "806c089a-4420-47f7-9c93-d7e07a1a4209"
      },
      "source": [
        "float_sum = x_float + x2\n",
        "float_sum"
      ],
      "execution_count": 8,
      "outputs": [
        {
          "output_type": "execute_result",
          "data": {
            "text/plain": [
              "44.0"
            ]
          },
          "metadata": {
            "tags": []
          },
          "execution_count": 8
        }
      ]
    },
    {
      "cell_type": "code",
      "metadata": {
        "colab": {
          "base_uri": "https://localhost:8080/"
        },
        "id": "Gt0FogcNJWkX",
        "outputId": "0995d011-ca5c-4c8c-b02b-0a3ec57dd77b"
      },
      "source": [
        "type(float_sum)"
      ],
      "execution_count": 9,
      "outputs": [
        {
          "output_type": "execute_result",
          "data": {
            "text/plain": [
              "float"
            ]
          },
          "metadata": {
            "tags": []
          },
          "execution_count": 9
        }
      ]
    },
    {
      "cell_type": "markdown",
      "metadata": {
        "id": "63_BOto4JZd2"
      },
      "source": [
        "## Scalars in PyTorch"
      ]
    },
    {
      "cell_type": "code",
      "metadata": {
        "id": "Zbj5MwBUJX0h"
      },
      "source": [
        "import torch"
      ],
      "execution_count": 10,
      "outputs": []
    },
    {
      "cell_type": "code",
      "metadata": {
        "colab": {
          "base_uri": "https://localhost:8080/"
        },
        "id": "-ziZPaANJddD",
        "outputId": "51707633-4ce0-40a4-caec-1fccead0fe30"
      },
      "source": [
        "x_torch = torch.tensor(42)\n",
        "x_torch"
      ],
      "execution_count": 11,
      "outputs": [
        {
          "output_type": "execute_result",
          "data": {
            "text/plain": [
              "tensor(42)"
            ]
          },
          "metadata": {
            "tags": []
          },
          "execution_count": 11
        }
      ]
    },
    {
      "cell_type": "code",
      "metadata": {
        "colab": {
          "base_uri": "https://localhost:8080/"
        },
        "id": "h7FglB5TJoDc",
        "outputId": "1e461229-7edb-4459-952b-1aee9d2ddda8"
      },
      "source": [
        "x_float_torch = torch.tensor(42, dtype=torch.float16)\n",
        "x_float_torch"
      ],
      "execution_count": 12,
      "outputs": [
        {
          "output_type": "execute_result",
          "data": {
            "text/plain": [
              "tensor(42., dtype=torch.float16)"
            ]
          },
          "metadata": {
            "tags": []
          },
          "execution_count": 12
        }
      ]
    },
    {
      "cell_type": "code",
      "metadata": {
        "colab": {
          "base_uri": "https://localhost:8080/"
        },
        "id": "VGvuUTw6Jw_L",
        "outputId": "5b4c2b04-7636-4bdc-91ca-3261ba0643ed"
      },
      "source": [
        "x_torch.shape"
      ],
      "execution_count": 13,
      "outputs": [
        {
          "output_type": "execute_result",
          "data": {
            "text/plain": [
              "torch.Size([])"
            ]
          },
          "metadata": {
            "tags": []
          },
          "execution_count": 13
        }
      ]
    },
    {
      "cell_type": "markdown",
      "metadata": {
        "id": "hvGWp8lsJ1Go"
      },
      "source": [
        "The scalar (0-Tensor) has no dimensions."
      ]
    },
    {
      "cell_type": "markdown",
      "metadata": {
        "id": "TwbBvYqBJ6vk"
      },
      "source": [
        "## Scalars in TensorFlow"
      ]
    },
    {
      "cell_type": "code",
      "metadata": {
        "id": "GlQM4v0gJzMk"
      },
      "source": [
        "import tensorflow as tf"
      ],
      "execution_count": 14,
      "outputs": []
    },
    {
      "cell_type": "code",
      "metadata": {
        "colab": {
          "base_uri": "https://localhost:8080/"
        },
        "id": "Z8bqWQ7xJ_jG",
        "outputId": "bafd3b34-6457-4e81-d0b3-89cc47f8a5ca"
      },
      "source": [
        "x1_tf = tf.Variable(42, dtype=tf.int16)\n",
        "x1_tf"
      ],
      "execution_count": 17,
      "outputs": [
        {
          "output_type": "execute_result",
          "data": {
            "text/plain": [
              "<tf.Variable 'Variable:0' shape=() dtype=int16, numpy=42>"
            ]
          },
          "metadata": {
            "tags": []
          },
          "execution_count": 17
        }
      ]
    },
    {
      "cell_type": "code",
      "metadata": {
        "colab": {
          "base_uri": "https://localhost:8080/"
        },
        "id": "ejvIQp6HKLYA",
        "outputId": "07077dd5-c966-4a6e-bf82-359401bc0bae"
      },
      "source": [
        "x1_tf.shape"
      ],
      "execution_count": 18,
      "outputs": [
        {
          "output_type": "execute_result",
          "data": {
            "text/plain": [
              "TensorShape([])"
            ]
          },
          "metadata": {
            "tags": []
          },
          "execution_count": 18
        }
      ]
    },
    {
      "cell_type": "code",
      "metadata": {
        "colab": {
          "base_uri": "https://localhost:8080/"
        },
        "id": "yJGOUoaOKM4w",
        "outputId": "b8a89325-9e61-4c72-9a79-21a1bc2a624a"
      },
      "source": [
        "x2_tf = tf.Variable(2, dtype=tf.int16)\n",
        "tf_sum = x1_tf + x2_tf\n",
        "tf_sum"
      ],
      "execution_count": 20,
      "outputs": [
        {
          "output_type": "execute_result",
          "data": {
            "text/plain": [
              "<tf.Tensor: shape=(), dtype=int16, numpy=44>"
            ]
          },
          "metadata": {
            "tags": []
          },
          "execution_count": 20
        }
      ]
    },
    {
      "cell_type": "code",
      "metadata": {
        "colab": {
          "base_uri": "https://localhost:8080/"
        },
        "id": "L8X0v3xLKdr4",
        "outputId": "506d39db-a5cd-4955-bb1c-ade755be1aad"
      },
      "source": [
        "tf_sum.numpy()"
      ],
      "execution_count": 21,
      "outputs": [
        {
          "output_type": "execute_result",
          "data": {
            "text/plain": [
              "44"
            ]
          },
          "metadata": {
            "tags": []
          },
          "execution_count": 21
        }
      ]
    },
    {
      "cell_type": "code",
      "metadata": {
        "colab": {
          "base_uri": "https://localhost:8080/"
        },
        "id": "96xPud0IKmHy",
        "outputId": "10cc612c-e8dd-46a4-c347-8e1914bb009e"
      },
      "source": [
        "type(tf_sum.numpy())"
      ],
      "execution_count": 22,
      "outputs": [
        {
          "output_type": "execute_result",
          "data": {
            "text/plain": [
              "numpy.int16"
            ]
          },
          "metadata": {
            "tags": []
          },
          "execution_count": 22
        }
      ]
    },
    {
      "cell_type": "code",
      "metadata": {
        "colab": {
          "base_uri": "https://localhost:8080/"
        },
        "id": "lDSDFc90KqA6",
        "outputId": "1b6494ef-6bc6-42e1-a026-f326206175ea"
      },
      "source": [
        "tf_float = tf.Variable(42.0, dtype=tf.float16)\n",
        "tf_float"
      ],
      "execution_count": 23,
      "outputs": [
        {
          "output_type": "execute_result",
          "data": {
            "text/plain": [
              "<tf.Variable 'Variable:0' shape=() dtype=float16, numpy=42.0>"
            ]
          },
          "metadata": {
            "tags": []
          },
          "execution_count": 23
        }
      ]
    }
  ]
}