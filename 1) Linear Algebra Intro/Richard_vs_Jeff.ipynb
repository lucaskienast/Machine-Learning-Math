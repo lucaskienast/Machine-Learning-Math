{
  "nbformat": 4,
  "nbformat_minor": 0,
  "metadata": {
    "colab": {
      "name": "Richard vs Jeff.ipynb",
      "provenance": [],
      "collapsed_sections": []
    },
    "kernelspec": {
      "name": "python3",
      "display_name": "Python 3"
    },
    "language_info": {
      "name": "python"
    }
  },
  "cells": [
    {
      "cell_type": "markdown",
      "metadata": {
        "id": "dUXyBaD2434u"
      },
      "source": [
        "# Richard vs. Jeff "
      ]
    },
    {
      "cell_type": "markdown",
      "metadata": {
        "id": "lgN4pvrK5NkV"
      },
      "source": [
        "Richard and Jeff are having a race deep into space. Richard gets a head start of 9 days, by launching his rocket on July 11, whilst Jeff follows on July 20. However, Jeff's rocket is faster (3500 km/h) than Richards' (2500 km/h). Assuming terminal velocity is reached instantly and both rockets cover the same path, when will Jeff catch up on Richard?"
      ]
    },
    {
      "cell_type": "code",
      "metadata": {
        "id": "FnaAlLlk1vaK"
      },
      "source": [
        "import numpy as np\n",
        "from sympy.solvers import solve\n",
        "from sympy import Symbol\n",
        "import matplotlib.pyplot as plt"
      ],
      "execution_count": 16,
      "outputs": []
    },
    {
      "cell_type": "code",
      "metadata": {
        "id": "TEfDB2xE6y9Q"
      },
      "source": [
        "t = np.linspace(0, 1000, 10000)"
      ],
      "execution_count": 11,
      "outputs": []
    },
    {
      "cell_type": "markdown",
      "metadata": {
        "id": "aY7WhdZ27Yzm"
      },
      "source": [
        "$v=\\frac{d}{t}$\n",
        "\n",
        "$d=v*t$\n",
        "\n",
        "$hours=days*24$"
      ]
    },
    {
      "cell_type": "code",
      "metadata": {
        "id": "ygTtbabY68Hf"
      },
      "source": [
        "# distance travelled by Richard\n",
        "d_r = 2500 * t"
      ],
      "execution_count": 12,
      "outputs": []
    },
    {
      "cell_type": "code",
      "metadata": {
        "id": "myTKmrL68KJQ"
      },
      "source": [
        "# distance travelled by Jeff\n",
        "d_j = 3500 * (t - 9*24)"
      ],
      "execution_count": 13,
      "outputs": []
    },
    {
      "cell_type": "code",
      "metadata": {
        "colab": {
          "base_uri": "https://localhost:8080/"
        },
        "id": "Xc46OApB9BGC",
        "outputId": "8b894d44-6985-4487-f4b6-f855b3138c8b"
      },
      "source": [
        "# Solve for t\n",
        "t_match = Symbol(\"t_match\")\n",
        "solve(2500*t_match - 3500*(t_match-9*24), t_match)"
      ],
      "execution_count": 17,
      "outputs": [
        {
          "output_type": "execute_result",
          "data": {
            "text/plain": [
              "[756]"
            ]
          },
          "metadata": {
            "tags": []
          },
          "execution_count": 17
        }
      ]
    },
    {
      "cell_type": "code",
      "metadata": {
        "colab": {
          "base_uri": "https://localhost:8080/"
        },
        "id": "wH8keIu8-XI4",
        "outputId": "17b591a3-f1cb-4640-dbed-9b1ebad2522d"
      },
      "source": [
        "# Solve for d\n",
        "2500 * 756"
      ],
      "execution_count": 18,
      "outputs": [
        {
          "output_type": "execute_result",
          "data": {
            "text/plain": [
              "1890000"
            ]
          },
          "metadata": {
            "tags": []
          },
          "execution_count": 18
        }
      ]
    },
    {
      "cell_type": "code",
      "metadata": {
        "colab": {
          "base_uri": "https://localhost:8080/",
          "height": 404
        },
        "id": "abUJBxLh8UeP",
        "outputId": "bf043cf5-dd58-45fa-fda5-4f9502fa82ee"
      },
      "source": [
        "fig, ax = plt.subplots(figsize=(10,6))\n",
        "plt.title(\"When will Jeff catch Richard?\")\n",
        "plt.xlabel(\"Time [hours]\")\n",
        "plt.ylabel(\"Distance [km]\")\n",
        "ax.set_xlim([0, 1000])\n",
        "ax.set_ylim([0,2.6e6])\n",
        "ax.plot(t, d_r, c=\"red\")\n",
        "ax.plot(t, d_j, c=\"blue\")\n",
        "plt.axvline(x=756, color=\"grey\", linestyle=\"--\")\n",
        "plt.axhline(y=1.89e6, color=\"grey\", linestyle=\"--\")\n",
        "plt.show()"
      ],
      "execution_count": 23,
      "outputs": [
        {
          "output_type": "display_data",
          "data": {
            "image/png": "[encoded data removed]",
            "text/plain": [
              "<Figure size 720x432 with 1 Axes>"
            ]
          },
          "metadata": {
            "tags": [],
            "needs_background": "light"
          }
        }
      ]
    },
    {
      "cell_type": "markdown",
      "metadata": {
        "id": "RHwMokh2_0XD"
      },
      "source": [
        "Jeff will catch Richard after 756 hours, having travelled 1.86 million km. "
      ]
    },
    {
      "cell_type": "code",
      "metadata": {
        "id": "hezjToRgAHig"
      },
      "source": [
        ""
      ],
      "execution_count": null,
      "outputs": []
    }
  ]
}