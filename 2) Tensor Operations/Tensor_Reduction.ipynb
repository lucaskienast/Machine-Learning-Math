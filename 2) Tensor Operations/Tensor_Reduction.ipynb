{
  "nbformat": 4,
  "nbformat_minor": 0,
  "metadata": {
    "colab": {
      "name": "Tensor Reduction.ipynb",
      "provenance": [],
      "collapsed_sections": []
    },
    "kernelspec": {
      "name": "python3",
      "display_name": "Python 3"
    },
    "language_info": {
      "name": "python"
    }
  },
  "cells": [
    {
      "cell_type": "markdown",
      "metadata": {
        "id": "YwOVd9_8r_4Q"
      },
      "source": [
        "# Tensor Reduction\n",
        "\n",
        "Calculating the sum, maximum, minimum, mean, product, etc. across all tensor elements. Here only sums."
      ]
    },
    {
      "cell_type": "markdown",
      "metadata": {
        "id": "QVz1VlGbtJDM"
      },
      "source": [
        "## Numpy"
      ]
    },
    {
      "cell_type": "code",
      "metadata": {
        "id": "fXcYLfDor9bk"
      },
      "source": [
        "import numpy as np"
      ],
      "execution_count": 15,
      "outputs": []
    },
    {
      "cell_type": "code",
      "metadata": {
        "colab": {
          "base_uri": "https://localhost:8080/"
        },
        "id": "XO7y5_tbtLV4",
        "outputId": "8622521c-f600-4b9f-c34d-a040bc964e95"
      },
      "source": [
        "X = np.array([[42, 11], [7, 100], [30, 3]])\n",
        "X"
      ],
      "execution_count": 16,
      "outputs": [
        {
          "output_type": "execute_result",
          "data": {
            "text/plain": [
              "array([[ 42,  11],\n",
              "       [  7, 100],\n",
              "       [ 30,   3]])"
            ]
          },
          "metadata": {
            "tags": []
          },
          "execution_count": 16
        }
      ]
    },
    {
      "cell_type": "code",
      "metadata": {
        "colab": {
          "base_uri": "https://localhost:8080/"
        },
        "id": "rBNcA0v9tNJH",
        "outputId": "7dc20cff-c5df-4408-fe85-57d2cf4c2747"
      },
      "source": [
        "X.sum()"
      ],
      "execution_count": 17,
      "outputs": [
        {
          "output_type": "execute_result",
          "data": {
            "text/plain": [
              "193"
            ]
          },
          "metadata": {
            "tags": []
          },
          "execution_count": 17
        }
      ]
    },
    {
      "cell_type": "code",
      "metadata": {
        "colab": {
          "base_uri": "https://localhost:8080/"
        },
        "id": "1KfsV2LutPno",
        "outputId": "85572f16-4fda-4ce0-833d-2d4c06ac7faf"
      },
      "source": [
        "# axis = 0 executes operations across all rows i.e. down each column\n",
        "X.sum(axis=0)"
      ],
      "execution_count": 18,
      "outputs": [
        {
          "output_type": "execute_result",
          "data": {
            "text/plain": [
              "array([ 79, 114])"
            ]
          },
          "metadata": {
            "tags": []
          },
          "execution_count": 18
        }
      ]
    },
    {
      "cell_type": "code",
      "metadata": {
        "colab": {
          "base_uri": "https://localhost:8080/"
        },
        "id": "lmtE6F1Ztb5_",
        "outputId": "3cf29ab9-bd97-401a-a0ac-3a2056a9950c"
      },
      "source": [
        "# axis = 1 executes operations across all columns i.e. along each row\n",
        "X.sum(axis=1)"
      ],
      "execution_count": 19,
      "outputs": [
        {
          "output_type": "execute_result",
          "data": {
            "text/plain": [
              "array([ 53, 107,  33])"
            ]
          },
          "metadata": {
            "tags": []
          },
          "execution_count": 19
        }
      ]
    },
    {
      "cell_type": "markdown",
      "metadata": {
        "id": "_ttha3uYtlQH"
      },
      "source": [
        "## PyTorch"
      ]
    },
    {
      "cell_type": "code",
      "metadata": {
        "id": "fweW_HUGtjoS"
      },
      "source": [
        "import torch"
      ],
      "execution_count": 20,
      "outputs": []
    },
    {
      "cell_type": "code",
      "metadata": {
        "colab": {
          "base_uri": "https://localhost:8080/"
        },
        "id": "6ZbOX9NJtn-A",
        "outputId": "0fedde48-853c-474b-b452-0c597c6cbca6"
      },
      "source": [
        "X_torch = torch.tensor([[42, 11], [7, 100], [30, 3]])\n",
        "X_torch"
      ],
      "execution_count": 21,
      "outputs": [
        {
          "output_type": "execute_result",
          "data": {
            "text/plain": [
              "tensor([[ 42,  11],\n",
              "        [  7, 100],\n",
              "        [ 30,   3]])"
            ]
          },
          "metadata": {
            "tags": []
          },
          "execution_count": 21
        }
      ]
    },
    {
      "cell_type": "code",
      "metadata": {
        "colab": {
          "base_uri": "https://localhost:8080/"
        },
        "id": "cbSws283tttq",
        "outputId": "5ec9a46e-aa8e-4c30-82cd-c5b73bdd342b"
      },
      "source": [
        "torch.sum(X_torch)"
      ],
      "execution_count": 22,
      "outputs": [
        {
          "output_type": "execute_result",
          "data": {
            "text/plain": [
              "tensor(193)"
            ]
          },
          "metadata": {
            "tags": []
          },
          "execution_count": 22
        }
      ]
    },
    {
      "cell_type": "code",
      "metadata": {
        "colab": {
          "base_uri": "https://localhost:8080/"
        },
        "id": "p9i5ZWOxulq9",
        "outputId": "be360e19-b95a-4f45-e0d9-c4712b403b9b"
      },
      "source": [
        "torch.sum(X_torch, 0) # across all rows i.e. down each column"
      ],
      "execution_count": 23,
      "outputs": [
        {
          "output_type": "execute_result",
          "data": {
            "text/plain": [
              "tensor([ 79, 114])"
            ]
          },
          "metadata": {
            "tags": []
          },
          "execution_count": 23
        }
      ]
    },
    {
      "cell_type": "code",
      "metadata": {
        "colab": {
          "base_uri": "https://localhost:8080/"
        },
        "id": "s6kWm6unuxTt",
        "outputId": "71902ee6-5794-46b8-9341-2f4c1a3ad9b3"
      },
      "source": [
        "torch.sum(X_torch, 1) # across all columns i.e. along each row"
      ],
      "execution_count": 24,
      "outputs": [
        {
          "output_type": "execute_result",
          "data": {
            "text/plain": [
              "tensor([ 53, 107,  33])"
            ]
          },
          "metadata": {
            "tags": []
          },
          "execution_count": 24
        }
      ]
    },
    {
      "cell_type": "markdown",
      "metadata": {
        "id": "J0hrpLltu6Nn"
      },
      "source": [
        "## TensorFlow"
      ]
    },
    {
      "cell_type": "code",
      "metadata": {
        "id": "ZiNQKsGGu2hW"
      },
      "source": [
        "import tensorflow as tf"
      ],
      "execution_count": 25,
      "outputs": []
    },
    {
      "cell_type": "code",
      "metadata": {
        "colab": {
          "base_uri": "https://localhost:8080/"
        },
        "id": "oK5AmtYbu-OV",
        "outputId": "c5395c80-6f0a-43a0-ec45-41396afdbe07"
      },
      "source": [
        "X_tf = tf.Variable([[42, 11], [7, 100], [30, 3]])\n",
        "X_tf"
      ],
      "execution_count": 26,
      "outputs": [
        {
          "output_type": "execute_result",
          "data": {
            "text/plain": [
              "<tf.Variable 'Variable:0' shape=(3, 2) dtype=int32, numpy=\n",
              "array([[ 42,  11],\n",
              "       [  7, 100],\n",
              "       [ 30,   3]], dtype=int32)>"
            ]
          },
          "metadata": {
            "tags": []
          },
          "execution_count": 26
        }
      ]
    },
    {
      "cell_type": "code",
      "metadata": {
        "colab": {
          "base_uri": "https://localhost:8080/"
        },
        "id": "7Gnvni_U06Ro",
        "outputId": "6bf1b7f5-6794-4730-a714-03325df703aa"
      },
      "source": [
        "tf.reduce_sum(X_tf)"
      ],
      "execution_count": 27,
      "outputs": [
        {
          "output_type": "execute_result",
          "data": {
            "text/plain": [
              "<tf.Tensor: shape=(), dtype=int32, numpy=193>"
            ]
          },
          "metadata": {
            "tags": []
          },
          "execution_count": 27
        }
      ]
    },
    {
      "cell_type": "code",
      "metadata": {
        "colab": {
          "base_uri": "https://localhost:8080/"
        },
        "id": "-tLWna2LvDKb",
        "outputId": "a204c314-d365-4ff4-eef4-4345a870e1d0"
      },
      "source": [
        "tf.reduce_sum(X_tf, 0) # across all rows i.e. down each column"
      ],
      "execution_count": 28,
      "outputs": [
        {
          "output_type": "execute_result",
          "data": {
            "text/plain": [
              "<tf.Tensor: shape=(2,), dtype=int32, numpy=array([ 79, 114], dtype=int32)>"
            ]
          },
          "metadata": {
            "tags": []
          },
          "execution_count": 28
        }
      ]
    },
    {
      "cell_type": "code",
      "metadata": {
        "colab": {
          "base_uri": "https://localhost:8080/"
        },
        "id": "clvV8BFJvLov",
        "outputId": "4b880c40-b570-44b1-b601-fe6642634f59"
      },
      "source": [
        "tf.reduce_sum(X_tf, 1) # across all columns i.e. along each row"
      ],
      "execution_count": 29,
      "outputs": [
        {
          "output_type": "execute_result",
          "data": {
            "text/plain": [
              "<tf.Tensor: shape=(3,), dtype=int32, numpy=array([ 53, 107,  33], dtype=int32)>"
            ]
          },
          "metadata": {
            "tags": []
          },
          "execution_count": 29
        }
      ]
    },
    {
      "cell_type": "code",
      "metadata": {
        "id": "7JfByZphvRJU"
      },
      "source": [
        ""
      ],
      "execution_count": null,
      "outputs": []
    }
  ]
}
