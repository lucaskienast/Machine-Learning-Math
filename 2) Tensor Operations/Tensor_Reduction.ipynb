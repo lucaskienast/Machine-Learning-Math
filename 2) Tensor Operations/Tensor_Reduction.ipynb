{
  "nbformat": 4,
  "nbformat_minor": 0,
  "metadata": {
    "colab": {
      "name": "Tensor Reduction.ipynb",
      "provenance": [],
      "collapsed_sections": []
    },
    "kernelspec": {
      "name": "python3",
      "display_name": "Python 3"
    },
    "language_info": {
      "name": "python"
    }
  },
  "cells": [
    {
      "cell_type": "markdown",
      "metadata": {
        "id": "YwOVd9_8r_4Q"
      },
      "source": [
        "# Tensor Reduction\n",
        "\n",
        "Calculating the sum, maximum, minimum, mean, product, etc. across all tensor elements. Here only sums."
      ]
    },
    {
      "cell_type": "markdown",
      "metadata": {
        "id": "QVz1VlGbtJDM"
      },
      "source": [
        "## Numpy"
      ]
    },
    {
      "cell_type": "code",
      "metadata": {
        "id": "fXcYLfDor9bk"
      },
      "source": [
        "import numpy as np"
      ],
      "execution_count": 1,
      "outputs": []
    },
    {
      "cell_type": "code",
      "metadata": {
        "colab": {
          "base_uri": "https://localhost:8080/"
        },
        "id": "XO7y5_tbtLV4",
        "outputId": "a0d9914e-44d1-4c6a-bc9a-e5950cf7d876"
      },
      "source": [
        "X = np.array([[42, 11], [7, 100], [30, 3]])\n",
        "X"
      ],
      "execution_count": 2,
      "outputs": [
        {
          "output_type": "execute_result",
          "data": {
            "text/plain": [
              "array([[ 42,  11],\n",
              "       [  7, 100],\n",
              "       [ 30,   3]])"
            ]
          },
          "metadata": {
            "tags": []
          },
          "execution_count": 2
        }
      ]
    },
    {
      "cell_type": "code",
      "metadata": {
        "colab": {
          "base_uri": "https://localhost:8080/"
        },
        "id": "rBNcA0v9tNJH",
        "outputId": "28bb104c-5c64-4a30-f7b2-8fbc0d9e4de9"
      },
      "source": [
        "X.sum()"
      ],
      "execution_count": 3,
      "outputs": [
        {
          "output_type": "execute_result",
          "data": {
            "text/plain": [
              "193"
            ]
          },
          "metadata": {
            "tags": []
          },
          "execution_count": 3
        }
      ]
    },
    {
      "cell_type": "code",
      "metadata": {
        "colab": {
          "base_uri": "https://localhost:8080/"
        },
        "id": "1KfsV2LutPno",
        "outputId": "22d30c52-a4ea-45f6-a658-dd81d7057f25"
      },
      "source": [
        "# axis = 0 executes operations across all rows i.e. down each column\n",
        "X.sum(axis=0)"
      ],
      "execution_count": 4,
      "outputs": [
        {
          "output_type": "execute_result",
          "data": {
            "text/plain": [
              "array([ 79, 114])"
            ]
          },
          "metadata": {
            "tags": []
          },
          "execution_count": 4
        }
      ]
    },
    {
      "cell_type": "code",
      "metadata": {
        "colab": {
          "base_uri": "https://localhost:8080/"
        },
        "id": "lmtE6F1Ztb5_",
        "outputId": "16a3d5ba-bc49-469f-f0ad-5604aeea2556"
      },
      "source": [
        "# axis = 1 executes operations across all columns i.e. along each row\n",
        "X.sum(axis=1)"
      ],
      "execution_count": 5,
      "outputs": [
        {
          "output_type": "execute_result",
          "data": {
            "text/plain": [
              "array([ 53, 107,  33])"
            ]
          },
          "metadata": {
            "tags": []
          },
          "execution_count": 5
        }
      ]
    },
    {
      "cell_type": "markdown",
      "metadata": {
        "id": "_ttha3uYtlQH"
      },
      "source": [
        "## PyTorch"
      ]
    },
    {
      "cell_type": "code",
      "metadata": {
        "id": "fweW_HUGtjoS"
      },
      "source": [
        "import torch"
      ],
      "execution_count": 6,
      "outputs": []
    },
    {
      "cell_type": "code",
      "metadata": {
        "colab": {
          "base_uri": "https://localhost:8080/"
        },
        "id": "6ZbOX9NJtn-A",
        "outputId": "a9b32a06-84ec-4242-c4dd-8e2d3747fae0"
      },
      "source": [
        "X_torch = torch.tensor([[42, 11], [7, 100], [30, 3]])\n",
        "X_torch"
      ],
      "execution_count": 7,
      "outputs": [
        {
          "output_type": "execute_result",
          "data": {
            "text/plain": [
              "tensor([[ 42,  11],\n",
              "        [  7, 100],\n",
              "        [ 30,   3]])"
            ]
          },
          "metadata": {
            "tags": []
          },
          "execution_count": 7
        }
      ]
    },
    {
      "cell_type": "code",
      "metadata": {
        "colab": {
          "base_uri": "https://localhost:8080/"
        },
        "id": "cbSws283tttq",
        "outputId": "3605d76a-3df3-4aee-ee98-01f3b8013262"
      },
      "source": [
        "torch.sum(X_torch)"
      ],
      "execution_count": 8,
      "outputs": [
        {
          "output_type": "execute_result",
          "data": {
            "text/plain": [
              "tensor(193)"
            ]
          },
          "metadata": {
            "tags": []
          },
          "execution_count": 8
        }
      ]
    },
    {
      "cell_type": "code",
      "metadata": {
        "colab": {
          "base_uri": "https://localhost:8080/"
        },
        "id": "p9i5ZWOxulq9",
        "outputId": "a62e2f71-288c-4056-fa81-06a0ca676012"
      },
      "source": [
        "torch.sum(X_torch, 0) # across all rows i.e. down each column"
      ],
      "execution_count": 9,
      "outputs": [
        {
          "output_type": "execute_result",
          "data": {
            "text/plain": [
              "tensor([ 79, 114])"
            ]
          },
          "metadata": {
            "tags": []
          },
          "execution_count": 9
        }
      ]
    },
    {
      "cell_type": "code",
      "metadata": {
        "colab": {
          "base_uri": "https://localhost:8080/"
        },
        "id": "s6kWm6unuxTt",
        "outputId": "f2cc34c1-c039-47a3-af98-7813337f9dcc"
      },
      "source": [
        "torch.sum(X_torch, 1) # across all columns i.e. along each row"
      ],
      "execution_count": 10,
      "outputs": [
        {
          "output_type": "execute_result",
          "data": {
            "text/plain": [
              "tensor([ 53, 107,  33])"
            ]
          },
          "metadata": {
            "tags": []
          },
          "execution_count": 10
        }
      ]
    },
    {
      "cell_type": "markdown",
      "metadata": {
        "id": "J0hrpLltu6Nn"
      },
      "source": [
        "## TensorFlow"
      ]
    },
    {
      "cell_type": "code",
      "metadata": {
        "id": "ZiNQKsGGu2hW"
      },
      "source": [
        "import tensorflow as tf"
      ],
      "execution_count": 11,
      "outputs": []
    },
    {
      "cell_type": "code",
      "metadata": {
        "colab": {
          "base_uri": "https://localhost:8080/"
        },
        "id": "oK5AmtYbu-OV",
        "outputId": "11b9532a-309a-43b8-971f-a774432201fe"
      },
      "source": [
        "X_tf = tf.Variable([[42, 11], [7, 100], [30, 3]])\n",
        "X_tf"
      ],
      "execution_count": 12,
      "outputs": [
        {
          "output_type": "execute_result",
          "data": {
            "text/plain": [
              "<tf.Variable 'Variable:0' shape=(3, 2) dtype=int32, numpy=\n",
              "array([[ 42,  11],\n",
              "       [  7, 100],\n",
              "       [ 30,   3]], dtype=int32)>"
            ]
          },
          "metadata": {
            "tags": []
          },
          "execution_count": 12
        }
      ]
    },
    {
      "cell_type": "code",
      "metadata": {
        "colab": {
          "base_uri": "https://localhost:8080/"
        },
        "id": "-tLWna2LvDKb",
        "outputId": "52f3b637-2448-4e93-a851-18818ad84e62"
      },
      "source": [
        "tf.reduce_sum(X_tf, 0) # across all rows i.e. down each column"
      ],
      "execution_count": 13,
      "outputs": [
        {
          "output_type": "execute_result",
          "data": {
            "text/plain": [
              "<tf.Tensor: shape=(2,), dtype=int32, numpy=array([ 79, 114], dtype=int32)>"
            ]
          },
          "metadata": {
            "tags": []
          },
          "execution_count": 13
        }
      ]
    },
    {
      "cell_type": "code",
      "metadata": {
        "colab": {
          "base_uri": "https://localhost:8080/"
        },
        "id": "clvV8BFJvLov",
        "outputId": "75208a52-d4ae-4d20-9210-576de39582d5"
      },
      "source": [
        "tf.reduce_sum(X_tf, 1) # across all columns i.e. along each row"
      ],
      "execution_count": 14,
      "outputs": [
        {
          "output_type": "execute_result",
          "data": {
            "text/plain": [
              "<tf.Tensor: shape=(3,), dtype=int32, numpy=array([ 53, 107,  33], dtype=int32)>"
            ]
          },
          "metadata": {
            "tags": []
          },
          "execution_count": 14
        }
      ]
    },
    {
      "cell_type": "code",
      "metadata": {
        "id": "7JfByZphvRJU"
      },
      "source": [
        ""
      ],
      "execution_count": null,
      "outputs": []
    }
  ]
}