{
  "nbformat": 4,
  "nbformat_minor": 0,
  "metadata": {
    "colab": {
      "name": "Hadamard Product.ipynb",
      "provenance": [],
      "collapsed_sections": []
    },
    "kernelspec": {
      "name": "python3",
      "display_name": "Python 3"
    },
    "language_info": {
      "name": "python"
    }
  },
  "cells": [
    {
      "cell_type": "markdown",
      "metadata": {
        "id": "OGoXgxqkpvpW"
      },
      "source": [
        "# Hadamard Product of Tensors (NOT Matrix-Multiplication)\n",
        "\n",
        "$A \\odot X$\n",
        "\n",
        "If two tensors are of the same shape, arithmetic operations are often executed element-wise."
      ]
    },
    {
      "cell_type": "markdown",
      "metadata": {
        "id": "LFS4ZEjsqjrc"
      },
      "source": [
        "## Numpy"
      ]
    },
    {
      "cell_type": "code",
      "metadata": {
        "id": "fq5ucEGepqhU"
      },
      "source": [
        "import numpy as np"
      ],
      "execution_count": 1,
      "outputs": []
    },
    {
      "cell_type": "code",
      "metadata": {
        "colab": {
          "base_uri": "https://localhost:8080/"
        },
        "id": "JDs2cQwLqmSX",
        "outputId": "e9553aad-0230-44e2-97e2-29db9beee027"
      },
      "source": [
        "X = np.array([[42, 11], [7, 100], [30, 3]])\n",
        "X"
      ],
      "execution_count": 4,
      "outputs": [
        {
          "output_type": "execute_result",
          "data": {
            "text/plain": [
              "array([[ 42,  11],\n",
              "       [  7, 100],\n",
              "       [ 30,   3]])"
            ]
          },
          "metadata": {
            "tags": []
          },
          "execution_count": 4
        }
      ]
    },
    {
      "cell_type": "code",
      "metadata": {
        "colab": {
          "base_uri": "https://localhost:8080/"
        },
        "id": "zJQxFZV1qn7s",
        "outputId": "d38ff64a-92dd-4119-af1e-3a235e6b5fe4"
      },
      "source": [
        "A = X + 2\n",
        "A"
      ],
      "execution_count": 5,
      "outputs": [
        {
          "output_type": "execute_result",
          "data": {
            "text/plain": [
              "array([[ 44,  13],\n",
              "       [  9, 102],\n",
              "       [ 32,   5]])"
            ]
          },
          "metadata": {
            "tags": []
          },
          "execution_count": 5
        }
      ]
    },
    {
      "cell_type": "code",
      "metadata": {
        "colab": {
          "base_uri": "https://localhost:8080/"
        },
        "id": "gWeTFnY2qt5U",
        "outputId": "078ee1fe-1493-4b97-be11-c234b5009cd8"
      },
      "source": [
        "A + X"
      ],
      "execution_count": 6,
      "outputs": [
        {
          "output_type": "execute_result",
          "data": {
            "text/plain": [
              "array([[ 86,  24],\n",
              "       [ 16, 202],\n",
              "       [ 62,   8]])"
            ]
          },
          "metadata": {
            "tags": []
          },
          "execution_count": 6
        }
      ]
    },
    {
      "cell_type": "code",
      "metadata": {
        "colab": {
          "base_uri": "https://localhost:8080/"
        },
        "id": "-_HuVbiLqzCR",
        "outputId": "879cdc9a-870c-4c4d-ceaf-da94fe16c647"
      },
      "source": [
        "A * X"
      ],
      "execution_count": 7,
      "outputs": [
        {
          "output_type": "execute_result",
          "data": {
            "text/plain": [
              "array([[ 1848,   143],\n",
              "       [   63, 10200],\n",
              "       [  960,    15]])"
            ]
          },
          "metadata": {
            "tags": []
          },
          "execution_count": 7
        }
      ]
    },
    {
      "cell_type": "markdown",
      "metadata": {
        "id": "e85dmSKfq2YH"
      },
      "source": [
        "## PyTorch"
      ]
    },
    {
      "cell_type": "code",
      "metadata": {
        "id": "1t_OzAQSq0V5"
      },
      "source": [
        "import torch"
      ],
      "execution_count": 8,
      "outputs": []
    },
    {
      "cell_type": "code",
      "metadata": {
        "colab": {
          "base_uri": "https://localhost:8080/"
        },
        "id": "xRHcfUvJq-6_",
        "outputId": "6472dff7-afab-4243-866d-4e7617811e0e"
      },
      "source": [
        "X_torch = torch.tensor([[42, 11], [7, 100], [30, 3]])\n",
        "X_torch"
      ],
      "execution_count": 9,
      "outputs": [
        {
          "output_type": "execute_result",
          "data": {
            "text/plain": [
              "tensor([[ 42,  11],\n",
              "        [  7, 100],\n",
              "        [ 30,   3]])"
            ]
          },
          "metadata": {
            "tags": []
          },
          "execution_count": 9
        }
      ]
    },
    {
      "cell_type": "code",
      "metadata": {
        "colab": {
          "base_uri": "https://localhost:8080/"
        },
        "id": "N0lEci7KrCTQ",
        "outputId": "753ef385-8bac-4660-ca29-2d443b4ba792"
      },
      "source": [
        "A_torch = X_torch + 2\n",
        "A_torch"
      ],
      "execution_count": 10,
      "outputs": [
        {
          "output_type": "execute_result",
          "data": {
            "text/plain": [
              "tensor([[ 44,  13],\n",
              "        [  9, 102],\n",
              "        [ 32,   5]])"
            ]
          },
          "metadata": {
            "tags": []
          },
          "execution_count": 10
        }
      ]
    },
    {
      "cell_type": "code",
      "metadata": {
        "colab": {
          "base_uri": "https://localhost:8080/"
        },
        "id": "PBkxDdtXrHPv",
        "outputId": "0bf5635c-a36d-4cee-cf2b-fc0e0ca0de88"
      },
      "source": [
        "A_torch + X_torch"
      ],
      "execution_count": 11,
      "outputs": [
        {
          "output_type": "execute_result",
          "data": {
            "text/plain": [
              "tensor([[ 86,  24],\n",
              "        [ 16, 202],\n",
              "        [ 62,   8]])"
            ]
          },
          "metadata": {
            "tags": []
          },
          "execution_count": 11
        }
      ]
    },
    {
      "cell_type": "code",
      "metadata": {
        "colab": {
          "base_uri": "https://localhost:8080/"
        },
        "id": "sFUSK8jlrJAX",
        "outputId": "9758063b-2a1a-43c8-d04a-28bb25351e13"
      },
      "source": [
        "A_torch * X_torch"
      ],
      "execution_count": 12,
      "outputs": [
        {
          "output_type": "execute_result",
          "data": {
            "text/plain": [
              "tensor([[ 1848,   143],\n",
              "        [   63, 10200],\n",
              "        [  960,    15]])"
            ]
          },
          "metadata": {
            "tags": []
          },
          "execution_count": 12
        }
      ]
    },
    {
      "cell_type": "markdown",
      "metadata": {
        "id": "gZcwZcgurOKk"
      },
      "source": [
        "## TensorFlow"
      ]
    },
    {
      "cell_type": "code",
      "metadata": {
        "id": "ZeoGy88irLgA"
      },
      "source": [
        "import tensorflow as tf"
      ],
      "execution_count": 13,
      "outputs": []
    },
    {
      "cell_type": "code",
      "metadata": {
        "colab": {
          "base_uri": "https://localhost:8080/"
        },
        "id": "qKHvUphzrRzI",
        "outputId": "28bb02b4-24ea-44a9-8c07-0d0590e7710f"
      },
      "source": [
        "X_tf = tf.Variable([[42, 11], [7, 100], [30, 3]])\n",
        "X_tf"
      ],
      "execution_count": 14,
      "outputs": [
        {
          "output_type": "execute_result",
          "data": {
            "text/plain": [
              "<tf.Variable 'Variable:0' shape=(3, 2) dtype=int32, numpy=\n",
              "array([[ 42,  11],\n",
              "       [  7, 100],\n",
              "       [ 30,   3]], dtype=int32)>"
            ]
          },
          "metadata": {
            "tags": []
          },
          "execution_count": 14
        }
      ]
    },
    {
      "cell_type": "code",
      "metadata": {
        "colab": {
          "base_uri": "https://localhost:8080/"
        },
        "id": "4eT4EdLtrUVo",
        "outputId": "c960298d-490f-4c7f-b7ac-721d60cd0b5e"
      },
      "source": [
        "A_tf = X_tf + 2\n",
        "A_tf"
      ],
      "execution_count": 15,
      "outputs": [
        {
          "output_type": "execute_result",
          "data": {
            "text/plain": [
              "<tf.Tensor: shape=(3, 2), dtype=int32, numpy=\n",
              "array([[ 44,  13],\n",
              "       [  9, 102],\n",
              "       [ 32,   5]], dtype=int32)>"
            ]
          },
          "metadata": {
            "tags": []
          },
          "execution_count": 15
        }
      ]
    },
    {
      "cell_type": "code",
      "metadata": {
        "colab": {
          "base_uri": "https://localhost:8080/"
        },
        "id": "IYKXhjB3rXkA",
        "outputId": "4dabfefb-45ad-47c9-cfaf-f1790c14dc77"
      },
      "source": [
        "A_tf + X_tf"
      ],
      "execution_count": 16,
      "outputs": [
        {
          "output_type": "execute_result",
          "data": {
            "text/plain": [
              "<tf.Tensor: shape=(3, 2), dtype=int32, numpy=\n",
              "array([[ 86,  24],\n",
              "       [ 16, 202],\n",
              "       [ 62,   8]], dtype=int32)>"
            ]
          },
          "metadata": {
            "tags": []
          },
          "execution_count": 16
        }
      ]
    },
    {
      "cell_type": "code",
      "metadata": {
        "colab": {
          "base_uri": "https://localhost:8080/"
        },
        "id": "WxHSz2D2rYt6",
        "outputId": "a1d84a37-644f-4a32-ed6c-823dc6991752"
      },
      "source": [
        "A_tf * X_tf"
      ],
      "execution_count": 17,
      "outputs": [
        {
          "output_type": "execute_result",
          "data": {
            "text/plain": [
              "<tf.Tensor: shape=(3, 2), dtype=int32, numpy=\n",
              "array([[ 1848,   143],\n",
              "       [   63, 10200],\n",
              "       [  960,    15]], dtype=int32)>"
            ]
          },
          "metadata": {
            "tags": []
          },
          "execution_count": 17
        }
      ]
    },
    {
      "cell_type": "code",
      "metadata": {
        "id": "5i9CpeEArZ3Y"
      },
      "source": [
        ""
      ],
      "execution_count": null,
      "outputs": []
    }
  ]
}