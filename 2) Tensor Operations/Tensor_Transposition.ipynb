{
  "nbformat": 4,
  "nbformat_minor": 0,
  "metadata": {
    "colab": {
      "name": "Tensor Transposition.ipynb",
      "provenance": [],
      "collapsed_sections": []
    },
    "kernelspec": {
      "name": "python3",
      "display_name": "Python 3"
    },
    "language_info": {
      "name": "python"
    }
  },
  "cells": [
    {
      "cell_type": "markdown",
      "metadata": {
        "id": "4pq3dkoglQ-h"
      },
      "source": [
        "# Tensor Transposition"
      ]
    },
    {
      "cell_type": "markdown",
      "metadata": {
        "id": "PdsXTAwHltXr"
      },
      "source": [
        "## Numpy"
      ]
    },
    {
      "cell_type": "code",
      "metadata": {
        "id": "ynAhUEpBljBC"
      },
      "source": [
        "import numpy as np"
      ],
      "execution_count": 2,
      "outputs": []
    },
    {
      "cell_type": "code",
      "metadata": {
        "colab": {
          "base_uri": "https://localhost:8080/"
        },
        "id": "ldRkIS-8lIH8",
        "outputId": "2e683157-9527-42c5-c75b-b223923b0163"
      },
      "source": [
        "X = np.array([[42, 11], [7, 100], [30, 3]])\n",
        "X"
      ],
      "execution_count": 3,
      "outputs": [
        {
          "output_type": "execute_result",
          "data": {
            "text/plain": [
              "array([[ 42,  11],\n",
              "       [  7, 100],\n",
              "       [ 30,   3]])"
            ]
          },
          "metadata": {
            "tags": []
          },
          "execution_count": 3
        }
      ]
    },
    {
      "cell_type": "code",
      "metadata": {
        "colab": {
          "base_uri": "https://localhost:8080/"
        },
        "id": "o6kzqAE7lgih",
        "outputId": "c3b0fcd2-c4a9-4426-cc41-cfddb0d835df"
      },
      "source": [
        "X.T"
      ],
      "execution_count": 4,
      "outputs": [
        {
          "output_type": "execute_result",
          "data": {
            "text/plain": [
              "array([[ 42,   7,  30],\n",
              "       [ 11, 100,   3]])"
            ]
          },
          "metadata": {
            "tags": []
          },
          "execution_count": 4
        }
      ]
    },
    {
      "cell_type": "markdown",
      "metadata": {
        "id": "8ZiCQxiGlxRX"
      },
      "source": [
        "## PyTorch"
      ]
    },
    {
      "cell_type": "code",
      "metadata": {
        "id": "Ezvnc7t-lqHg"
      },
      "source": [
        "import torch"
      ],
      "execution_count": 5,
      "outputs": []
    },
    {
      "cell_type": "code",
      "metadata": {
        "colab": {
          "base_uri": "https://localhost:8080/"
        },
        "id": "ugasYlIAlzeg",
        "outputId": "8b2c276d-0890-488d-fc9a-93597913a353"
      },
      "source": [
        "X_torch = torch.Tensor([[42, 11], [7, 100], [30, 3]])\n",
        "X_torch"
      ],
      "execution_count": 6,
      "outputs": [
        {
          "output_type": "execute_result",
          "data": {
            "text/plain": [
              "tensor([[ 42.,  11.],\n",
              "        [  7., 100.],\n",
              "        [ 30.,   3.]])"
            ]
          },
          "metadata": {
            "tags": []
          },
          "execution_count": 6
        }
      ]
    },
    {
      "cell_type": "code",
      "metadata": {
        "colab": {
          "base_uri": "https://localhost:8080/"
        },
        "id": "zCUDV1fAl73f",
        "outputId": "e7398de9-f86c-47d1-bf90-a8b69d6126c7"
      },
      "source": [
        "X_torch.T"
      ],
      "execution_count": 7,
      "outputs": [
        {
          "output_type": "execute_result",
          "data": {
            "text/plain": [
              "tensor([[ 42.,   7.,  30.],\n",
              "        [ 11., 100.,   3.]])"
            ]
          },
          "metadata": {
            "tags": []
          },
          "execution_count": 7
        }
      ]
    },
    {
      "cell_type": "markdown",
      "metadata": {
        "id": "ZoB44cEomDd7"
      },
      "source": [
        "## TensorFlow"
      ]
    },
    {
      "cell_type": "code",
      "metadata": {
        "id": "acZKjUFmmCWI"
      },
      "source": [
        "import tensorflow as tf"
      ],
      "execution_count": 8,
      "outputs": []
    },
    {
      "cell_type": "code",
      "metadata": {
        "colab": {
          "base_uri": "https://localhost:8080/"
        },
        "id": "UX4wCei1mI3X",
        "outputId": "27cf1daa-8c13-4c7a-e7a7-477c98aa2b28"
      },
      "source": [
        "X_tf = tf.Variable([[42, 11], [7, 100], [30, 3]])\n",
        "X_tf"
      ],
      "execution_count": 9,
      "outputs": [
        {
          "output_type": "execute_result",
          "data": {
            "text/plain": [
              "<tf.Variable 'Variable:0' shape=(3, 2) dtype=int32, numpy=\n",
              "array([[ 42,  11],\n",
              "       [  7, 100],\n",
              "       [ 30,   3]], dtype=int32)>"
            ]
          },
          "metadata": {
            "tags": []
          },
          "execution_count": 9
        }
      ]
    },
    {
      "cell_type": "code",
      "metadata": {
        "colab": {
          "base_uri": "https://localhost:8080/"
        },
        "id": "nUatQ1XLmPK4",
        "outputId": "127d6392-1389-407f-ded6-b54b9a470f99"
      },
      "source": [
        "tf.transpose(X_tf)"
      ],
      "execution_count": 10,
      "outputs": [
        {
          "output_type": "execute_result",
          "data": {
            "text/plain": [
              "<tf.Tensor: shape=(2, 3), dtype=int32, numpy=\n",
              "array([[ 42,   7,  30],\n",
              "       [ 11, 100,   3]], dtype=int32)>"
            ]
          },
          "metadata": {
            "tags": []
          },
          "execution_count": 10
        }
      ]
    },
    {
      "cell_type": "code",
      "metadata": {
        "id": "-jpwqUlomUPQ"
      },
      "source": [
        ""
      ],
      "execution_count": null,
      "outputs": []
    }
  ]
}
