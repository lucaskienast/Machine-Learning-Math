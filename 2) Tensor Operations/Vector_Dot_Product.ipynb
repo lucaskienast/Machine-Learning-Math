{
  "nbformat": 4,
  "nbformat_minor": 0,
  "metadata": {
    "colab": {
      "name": "Vector Dot Product.ipynb",
      "provenance": [],
      "collapsed_sections": []
    },
    "kernelspec": {
      "name": "python3",
      "display_name": "Python 3"
    },
    "language_info": {
      "name": "python"
    }
  },
  "cells": [
    {
      "cell_type": "markdown",
      "metadata": {
        "id": "0gbge5DJxKG4"
      },
      "source": [
        "# Vector Dot Product\n",
        "\n",
        "Given two vectors <b>x</b> and <b>y</b>, which <u>must</u> have the same length <i>n</i>, their dot product becomes:\n",
        "\n",
        "$x\\cdot y=\\sum_{i=1}^{n}x_{i}y_{i}$\n",
        "\n",
        "which can also be denoted as:\n",
        "\n",
        "$x^Ty$\n",
        "\n",
        "$\\langle{x,y}\\rangle$\n",
        "\n",
        "This type of tensor operation is executed at every artificial neuron in deep neural networks."
      ]
    },
    {
      "cell_type": "markdown",
      "metadata": {
        "id": "MBHL8dkHyqMi"
      },
      "source": [
        "## Numpy"
      ]
    },
    {
      "cell_type": "code",
      "metadata": {
        "id": "Big3zNWsvjvc"
      },
      "source": [
        "import numpy as np"
      ],
      "execution_count": 1,
      "outputs": []
    },
    {
      "cell_type": "code",
      "metadata": {
        "colab": {
          "base_uri": "https://localhost:8080/"
        },
        "id": "i7-tQVfhys0e",
        "outputId": "a2874ca5-dbf4-40f1-8af1-72d89026d945"
      },
      "source": [
        "x = np.array([42, 11, 7])\n",
        "x"
      ],
      "execution_count": 2,
      "outputs": [
        {
          "output_type": "execute_result",
          "data": {
            "text/plain": [
              "array([42, 11,  7])"
            ]
          },
          "metadata": {
            "tags": []
          },
          "execution_count": 2
        }
      ]
    },
    {
      "cell_type": "code",
      "metadata": {
        "colab": {
          "base_uri": "https://localhost:8080/"
        },
        "id": "gTTzLWPjyzB2",
        "outputId": "6fa42c46-1654-4615-94ed-9ac91c38b827"
      },
      "source": [
        "y = np.array([23, 55, 1])\n",
        "y"
      ],
      "execution_count": 3,
      "outputs": [
        {
          "output_type": "execute_result",
          "data": {
            "text/plain": [
              "array([23, 55,  1])"
            ]
          },
          "metadata": {
            "tags": []
          },
          "execution_count": 3
        }
      ]
    },
    {
      "cell_type": "code",
      "metadata": {
        "colab": {
          "base_uri": "https://localhost:8080/"
        },
        "id": "MJxwdCngy4Pk",
        "outputId": "c94a941a-9584-4e1c-e79e-d1d209254c59"
      },
      "source": [
        "42*23 + 11*55 + 7*1"
      ],
      "execution_count": 4,
      "outputs": [
        {
          "output_type": "execute_result",
          "data": {
            "text/plain": [
              "1578"
            ]
          },
          "metadata": {
            "tags": []
          },
          "execution_count": 4
        }
      ]
    },
    {
      "cell_type": "code",
      "metadata": {
        "colab": {
          "base_uri": "https://localhost:8080/"
        },
        "id": "LWNzPYOYy9S9",
        "outputId": "4ec11e6f-09e8-4bdc-81ab-7d3aa32a9800"
      },
      "source": [
        "np.dot(x,y)"
      ],
      "execution_count": 5,
      "outputs": [
        {
          "output_type": "execute_result",
          "data": {
            "text/plain": [
              "1578"
            ]
          },
          "metadata": {
            "tags": []
          },
          "execution_count": 5
        }
      ]
    },
    {
      "cell_type": "markdown",
      "metadata": {
        "id": "gG-6yxnjzAhF"
      },
      "source": [
        "## PyTorch"
      ]
    },
    {
      "cell_type": "code",
      "metadata": {
        "id": "_1flB3i2y_U3"
      },
      "source": [
        "import torch"
      ],
      "execution_count": 6,
      "outputs": []
    },
    {
      "cell_type": "code",
      "metadata": {
        "colab": {
          "base_uri": "https://localhost:8080/"
        },
        "id": "r7QqzOYQzLhG",
        "outputId": "06a8a386-e0ac-49ff-dedb-a7346ab53578"
      },
      "source": [
        "x_torch = torch.tensor([42, 11, 7], dtype=torch.float16)\n",
        "x_torch"
      ],
      "execution_count": 7,
      "outputs": [
        {
          "output_type": "execute_result",
          "data": {
            "text/plain": [
              "tensor([42., 11.,  7.], dtype=torch.float16)"
            ]
          },
          "metadata": {
            "tags": []
          },
          "execution_count": 7
        }
      ]
    },
    {
      "cell_type": "code",
      "metadata": {
        "colab": {
          "base_uri": "https://localhost:8080/"
        },
        "id": "giJaLL-mzip2",
        "outputId": "b24f14ba-c07b-4b58-8764-2f001f8fec16"
      },
      "source": [
        "y_torch = torch.tensor([23, 55, 1], dtype=torch.float16)\n",
        "y_torch"
      ],
      "execution_count": 8,
      "outputs": [
        {
          "output_type": "execute_result",
          "data": {
            "text/plain": [
              "tensor([23., 55.,  1.], dtype=torch.float16)"
            ]
          },
          "metadata": {
            "tags": []
          },
          "execution_count": 8
        }
      ]
    },
    {
      "cell_type": "code",
      "metadata": {
        "colab": {
          "base_uri": "https://localhost:8080/"
        },
        "id": "FeGrPraGznsC",
        "outputId": "d479cb62-4a49-4f11-8028-80e0715407e6"
      },
      "source": [
        "np.dot(x_torch, y_torch) # do not need to be floats here"
      ],
      "execution_count": 9,
      "outputs": [
        {
          "output_type": "execute_result",
          "data": {
            "text/plain": [
              "1578.0"
            ]
          },
          "metadata": {
            "tags": []
          },
          "execution_count": 9
        }
      ]
    },
    {
      "cell_type": "code",
      "metadata": {
        "colab": {
          "base_uri": "https://localhost:8080/"
        },
        "id": "A-akUP4_ztIX",
        "outputId": "afaafbc3-dff1-4eec-8b5c-dedaa39ac2a0"
      },
      "source": [
        "torch.dot(x_torch, y_torch) # must be floats here"
      ],
      "execution_count": 10,
      "outputs": [
        {
          "output_type": "execute_result",
          "data": {
            "text/plain": [
              "tensor(1578., dtype=torch.float16)"
            ]
          },
          "metadata": {
            "tags": []
          },
          "execution_count": 10
        }
      ]
    },
    {
      "cell_type": "markdown",
      "metadata": {
        "id": "RBZ5eoCbz5Bn"
      },
      "source": [
        "## TensorFlow"
      ]
    },
    {
      "cell_type": "code",
      "metadata": {
        "id": "u88G_Kkwz0j6"
      },
      "source": [
        "import tensorflow as tf"
      ],
      "execution_count": 11,
      "outputs": []
    },
    {
      "cell_type": "code",
      "metadata": {
        "colab": {
          "base_uri": "https://localhost:8080/"
        },
        "id": "RmQKrI81z7h5",
        "outputId": "43415286-ffc7-4e99-b3e2-05f99aa69721"
      },
      "source": [
        "x_tf = tf.Variable([42, 11, 7])\n",
        "x_tf"
      ],
      "execution_count": 12,
      "outputs": [
        {
          "output_type": "execute_result",
          "data": {
            "text/plain": [
              "<tf.Variable 'Variable:0' shape=(3,) dtype=int32, numpy=array([42, 11,  7], dtype=int32)>"
            ]
          },
          "metadata": {
            "tags": []
          },
          "execution_count": 12
        }
      ]
    },
    {
      "cell_type": "code",
      "metadata": {
        "colab": {
          "base_uri": "https://localhost:8080/"
        },
        "id": "R-YuL1cB0DHM",
        "outputId": "c1f89c52-ea1c-4045-8c5e-4804f6c3e28a"
      },
      "source": [
        "y_tf = tf.Variable([23, 55, 1])\n",
        "y_tf"
      ],
      "execution_count": 13,
      "outputs": [
        {
          "output_type": "execute_result",
          "data": {
            "text/plain": [
              "<tf.Variable 'Variable:0' shape=(3,) dtype=int32, numpy=array([23, 55,  1], dtype=int32)>"
            ]
          },
          "metadata": {
            "tags": []
          },
          "execution_count": 13
        }
      ]
    },
    {
      "cell_type": "code",
      "metadata": {
        "colab": {
          "base_uri": "https://localhost:8080/"
        },
        "id": "EDeqwoSi0GTS",
        "outputId": "1d4b0eff-bad4-44b9-824b-90a23de9f9c1"
      },
      "source": [
        "tf.reduce_sum(tf.multiply(x_tf, y_tf))"
      ],
      "execution_count": 14,
      "outputs": [
        {
          "output_type": "execute_result",
          "data": {
            "text/plain": [
              "<tf.Tensor: shape=(), dtype=int32, numpy=1578>"
            ]
          },
          "metadata": {
            "tags": []
          },
          "execution_count": 14
        }
      ]
    },
    {
      "cell_type": "code",
      "metadata": {
        "id": "NUnQPOxq0tMn"
      },
      "source": [
        ""
      ],
      "execution_count": null,
      "outputs": []
    }
  ]
}