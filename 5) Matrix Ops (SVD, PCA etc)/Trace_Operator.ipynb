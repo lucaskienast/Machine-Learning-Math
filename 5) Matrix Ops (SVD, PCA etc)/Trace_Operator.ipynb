{
  "nbformat": 4,
  "nbformat_minor": 0,
  "metadata": {
    "colab": {
      "name": "Trace Operator.ipynb",
      "provenance": [],
      "collapsed_sections": []
    },
    "kernelspec": {
      "name": "python3",
      "display_name": "Python 3"
    },
    "language_info": {
      "name": "python"
    }
  },
  "cells": [
    {
      "cell_type": "markdown",
      "metadata": {
        "id": "qAng-6k78q8I"
      },
      "source": [
        "# Trace Operator\n",
        "\n",
        "Denoted $Tr(A)$, is the sum of the diagonal elements of a matrix.\n",
        "\n",
        "The trace operator has a number of useful properties that come in handy while rearranging linear algebra equations, e.g.:\n",
        "\n",
        "- Tr($A$) = Tr($A^T$)\n",
        "- Assuming the matrix shapes line up: Tr($ABC$) = Tr($CAB$) = Tr($BCA$)\n",
        "- In particular, the trace operator can provide a convenient way to calculate a matrix's Frobenius norm:$||A||_F = \\sqrt{\\mathrm{Tr}(AA^\\mathrm{T})}$"
      ]
    },
    {
      "cell_type": "markdown",
      "metadata": {
        "id": "c-CKW_oi9Abt"
      },
      "source": [
        "## Numpy"
      ]
    },
    {
      "cell_type": "code",
      "metadata": {
        "id": "ED_W7IuP7O1X"
      },
      "source": [
        "import numpy as np"
      ],
      "execution_count": 1,
      "outputs": []
    },
    {
      "cell_type": "code",
      "metadata": {
        "colab": {
          "base_uri": "https://localhost:8080/"
        },
        "id": "wk1Ykc-I9CLA",
        "outputId": "c3ec5140-a8bf-492d-af5d-69f172d1fe40"
      },
      "source": [
        "A = np.array([[25,2], [5,4]])\n",
        "A"
      ],
      "execution_count": 2,
      "outputs": [
        {
          "output_type": "execute_result",
          "data": {
            "text/plain": [
              "array([[25,  2],\n",
              "       [ 5,  4]])"
            ]
          },
          "metadata": {
            "tags": []
          },
          "execution_count": 2
        }
      ]
    },
    {
      "cell_type": "code",
      "metadata": {
        "colab": {
          "base_uri": "https://localhost:8080/"
        },
        "id": "eUvNK-859GWI",
        "outputId": "e4871005-236e-4c11-897c-74378d866c0b"
      },
      "source": [
        "25+4"
      ],
      "execution_count": 3,
      "outputs": [
        {
          "output_type": "execute_result",
          "data": {
            "text/plain": [
              "29"
            ]
          },
          "metadata": {
            "tags": []
          },
          "execution_count": 3
        }
      ]
    },
    {
      "cell_type": "code",
      "metadata": {
        "colab": {
          "base_uri": "https://localhost:8080/"
        },
        "id": "NLWLiyeM9H1P",
        "outputId": "5e94b109-d733-40ba-c034-a520d75393ea"
      },
      "source": [
        "np.trace(A)"
      ],
      "execution_count": 4,
      "outputs": [
        {
          "output_type": "execute_result",
          "data": {
            "text/plain": [
              "29"
            ]
          },
          "metadata": {
            "tags": []
          },
          "execution_count": 4
        }
      ]
    },
    {
      "cell_type": "code",
      "metadata": {
        "colab": {
          "base_uri": "https://localhost:8080/"
        },
        "id": "Pu6VhwCG9JgG",
        "outputId": "31ac7524-dc8c-42b1-deb0-4f5f99713c3b"
      },
      "source": [
        "np.trace(A.T)"
      ],
      "execution_count": 5,
      "outputs": [
        {
          "output_type": "execute_result",
          "data": {
            "text/plain": [
              "29"
            ]
          },
          "metadata": {
            "tags": []
          },
          "execution_count": 5
        }
      ]
    },
    {
      "cell_type": "code",
      "metadata": {
        "colab": {
          "base_uri": "https://localhost:8080/"
        },
        "id": "JO3DzAm19NMH",
        "outputId": "2d5601a3-a37a-4ab7-d6b9-40c827647338"
      },
      "source": [
        "np.linalg.norm(A)"
      ],
      "execution_count": 6,
      "outputs": [
        {
          "output_type": "execute_result",
          "data": {
            "text/plain": [
              "25.88435821108957"
            ]
          },
          "metadata": {
            "tags": []
          },
          "execution_count": 6
        }
      ]
    },
    {
      "cell_type": "code",
      "metadata": {
        "colab": {
          "base_uri": "https://localhost:8080/"
        },
        "id": "SrEuXJ4z9Q8e",
        "outputId": "bde9ecf5-4510-4a58-cfb5-f2b9ee0d278f"
      },
      "source": [
        "np.sqrt(np.trace(np.dot(A, A.T)))"
      ],
      "execution_count": 7,
      "outputs": [
        {
          "output_type": "execute_result",
          "data": {
            "text/plain": [
              "25.88435821108957"
            ]
          },
          "metadata": {
            "tags": []
          },
          "execution_count": 7
        }
      ]
    },
    {
      "cell_type": "markdown",
      "metadata": {
        "id": "aB9nPW4G9XRT"
      },
      "source": [
        "## PyTorch"
      ]
    },
    {
      "cell_type": "code",
      "metadata": {
        "id": "vf-7Zfty9V4o"
      },
      "source": [
        "import torch"
      ],
      "execution_count": 8,
      "outputs": []
    },
    {
      "cell_type": "code",
      "metadata": {
        "colab": {
          "base_uri": "https://localhost:8080/"
        },
        "id": "ooe6Uddj9ZzB",
        "outputId": "795160eb-9a66-4f8f-e5a0-ba64c8554ec9"
      },
      "source": [
        "A_torch = torch.from_numpy(A).type(torch.float)\n",
        "A_torch"
      ],
      "execution_count": 11,
      "outputs": [
        {
          "output_type": "execute_result",
          "data": {
            "text/plain": [
              "tensor([[25.,  2.],\n",
              "        [ 5.,  4.]])"
            ]
          },
          "metadata": {
            "tags": []
          },
          "execution_count": 11
        }
      ]
    },
    {
      "cell_type": "code",
      "metadata": {
        "colab": {
          "base_uri": "https://localhost:8080/"
        },
        "id": "xX37Zl_-9tPm",
        "outputId": "e3c49c1d-6802-44c1-ac64-be70b5bc2d48"
      },
      "source": [
        "torch.trace(A_torch)"
      ],
      "execution_count": 12,
      "outputs": [
        {
          "output_type": "execute_result",
          "data": {
            "text/plain": [
              "tensor(29.)"
            ]
          },
          "metadata": {
            "tags": []
          },
          "execution_count": 12
        }
      ]
    },
    {
      "cell_type": "code",
      "metadata": {
        "colab": {
          "base_uri": "https://localhost:8080/"
        },
        "id": "Yqr17Ujg92Qq",
        "outputId": "1fe71055-d3d3-47b4-a44c-597cf486cf18"
      },
      "source": [
        "torch.norm(A_torch)"
      ],
      "execution_count": 13,
      "outputs": [
        {
          "output_type": "execute_result",
          "data": {
            "text/plain": [
              "tensor(25.8844)"
            ]
          },
          "metadata": {
            "tags": []
          },
          "execution_count": 13
        }
      ]
    },
    {
      "cell_type": "code",
      "metadata": {
        "colab": {
          "base_uri": "https://localhost:8080/"
        },
        "id": "5BZSS7b794qC",
        "outputId": "ebee3501-a47e-4cfc-ef58-30f06faf57c4"
      },
      "source": [
        "torch.sqrt(torch.trace(torch.matmul(A_torch, A_torch.T)))"
      ],
      "execution_count": 14,
      "outputs": [
        {
          "output_type": "execute_result",
          "data": {
            "text/plain": [
              "tensor(25.8844)"
            ]
          },
          "metadata": {
            "tags": []
          },
          "execution_count": 14
        }
      ]
    },
    {
      "cell_type": "code",
      "metadata": {
        "id": "B4PzLRZm-FFM"
      },
      "source": [
        ""
      ],
      "execution_count": null,
      "outputs": []
    }
  ]
}