{
  "nbformat": 4,
  "nbformat_minor": 0,
  "metadata": {
    "colab": {
      "name": "Single Value Decomposition.ipynb",
      "provenance": [],
      "collapsed_sections": []
    },
    "kernelspec": {
      "name": "python3",
      "display_name": "Python 3"
    },
    "language_info": {
      "name": "python"
    }
  },
  "cells": [
    {
      "cell_type": "markdown",
      "metadata": {
        "id": "OhDWOYZXa_3n"
      },
      "source": [
        "# Singular Value Decomposition (SVD)\n",
        "\n",
        "$A=UDV^{T}$\n",
        "\n",
        "- $A$ real-valued $m \\times n$ matrix\n",
        "- $U$ orthogonal $m \\times m$ matrix; columns are left-singular vectors of $A$\n",
        "- $V$ orthogonal $n \\times n$ matrix; columns are right-singular vectors of $A$ (hence $V^T$ rows are right-singular vectors of $A$)\n",
        "- $D$ diagonal $m \\times n$ matrix; diagonal elements are the singular values of $A$\n",
        "\n",
        "SVD and Eigendecomposition are closely related to each other:\n",
        "- Left-singular vectors of $A$ (columns of $U$) = Eigenvectors $v$ of $AA^T$\n",
        "- Right-singular vectors of $A$ (rows of $V^T$) = Eigenvectors $v$ of $A^{T}A$\n",
        "- Non-zero singular values of $A$ = square roots of Eigenvectors $v$ of $AA^T$ = square roots of Eigenvectors $v$ of $A^{T}A$"
      ]
    },
    {
      "cell_type": "markdown",
      "metadata": {
        "id": "S_nr3javdyTj"
      },
      "source": [
        "# Numpy"
      ]
    },
    {
      "cell_type": "code",
      "metadata": {
        "id": "s8yopJI3ar2p"
      },
      "source": [
        "import numpy as np"
      ],
      "execution_count": 1,
      "outputs": []
    },
    {
      "cell_type": "code",
      "metadata": {
        "colab": {
          "base_uri": "https://localhost:8080/"
        },
        "id": "Nb8BWVcJd1_Y",
        "outputId": "0a81a2ca-5fec-414b-eded-7aa47f9283ad"
      },
      "source": [
        "A = np.array([[-1,2], [3,-2], [5,7]])\n",
        "A"
      ],
      "execution_count": 2,
      "outputs": [
        {
          "output_type": "execute_result",
          "data": {
            "text/plain": [
              "array([[-1,  2],\n",
              "       [ 3, -2],\n",
              "       [ 5,  7]])"
            ]
          },
          "metadata": {
            "tags": []
          },
          "execution_count": 2
        }
      ]
    },
    {
      "cell_type": "code",
      "metadata": {
        "colab": {
          "base_uri": "https://localhost:8080/"
        },
        "id": "j4bDg6W3eYOL",
        "outputId": "b4cb6455-233d-4287-a27f-5cf59d395efe"
      },
      "source": [
        "A.shape # (m x n) = (3 x 2)"
      ],
      "execution_count": 3,
      "outputs": [
        {
          "output_type": "execute_result",
          "data": {
            "text/plain": [
              "(3, 2)"
            ]
          },
          "metadata": {
            "tags": []
          },
          "execution_count": 3
        }
      ]
    },
    {
      "cell_type": "code",
      "metadata": {
        "id": "ZN6q-UXUeAAq"
      },
      "source": [
        "U, d, VT = np.linalg.svd(A)"
      ],
      "execution_count": 4,
      "outputs": []
    },
    {
      "cell_type": "code",
      "metadata": {
        "colab": {
          "base_uri": "https://localhost:8080/"
        },
        "id": "aRmFQ5EreLCz",
        "outputId": "262eb847-8180-4456-ebb4-8d3d4533dab9"
      },
      "source": [
        "U "
      ],
      "execution_count": 5,
      "outputs": [
        {
          "output_type": "execute_result",
          "data": {
            "text/plain": [
              "array([[ 0.12708324,  0.47409506,  0.87125411],\n",
              "       [ 0.00164602, -0.87847553,  0.47778451],\n",
              "       [ 0.99189069, -0.0592843 , -0.11241989]])"
            ]
          },
          "metadata": {
            "tags": []
          },
          "execution_count": 5
        }
      ]
    },
    {
      "cell_type": "code",
      "metadata": {
        "colab": {
          "base_uri": "https://localhost:8080/"
        },
        "id": "YDZVitRWeTbq",
        "outputId": "2b6ffac2-6f83-4c0d-a382-b8cfba0f5fb2"
      },
      "source": [
        "U.shape # (m x m) = (3 x 3)"
      ],
      "execution_count": 6,
      "outputs": [
        {
          "output_type": "execute_result",
          "data": {
            "text/plain": [
              "(3, 3)"
            ]
          },
          "metadata": {
            "tags": []
          },
          "execution_count": 6
        }
      ]
    },
    {
      "cell_type": "code",
      "metadata": {
        "colab": {
          "base_uri": "https://localhost:8080/"
        },
        "id": "NdH-vI4bebVk",
        "outputId": "836c7e0d-82b9-4cc3-86ee-9c0fa9970174"
      },
      "source": [
        "VT"
      ],
      "execution_count": 7,
      "outputs": [
        {
          "output_type": "execute_result",
          "data": {
            "text/plain": [
              "array([[ 0.55798885,  0.82984845],\n",
              "       [-0.82984845,  0.55798885]])"
            ]
          },
          "metadata": {
            "tags": []
          },
          "execution_count": 7
        }
      ]
    },
    {
      "cell_type": "code",
      "metadata": {
        "colab": {
          "base_uri": "https://localhost:8080/"
        },
        "id": "Hq_RsQ_kedPr",
        "outputId": "19912bbd-c05f-4c9a-c34e-026e9c136249"
      },
      "source": [
        "VT.shape # (n x n) = (2 x 2)"
      ],
      "execution_count": 8,
      "outputs": [
        {
          "output_type": "execute_result",
          "data": {
            "text/plain": [
              "(2, 2)"
            ]
          },
          "metadata": {
            "tags": []
          },
          "execution_count": 8
        }
      ]
    },
    {
      "cell_type": "code",
      "metadata": {
        "colab": {
          "base_uri": "https://localhost:8080/"
        },
        "id": "4wFvrIMoed7T",
        "outputId": "6d42d3c7-faa0-43f6-ba82-4a8510df53f8"
      },
      "source": [
        "d # is a vector and must be converted via np.diag(d) to get diagonal matrix"
      ],
      "execution_count": 9,
      "outputs": [
        {
          "output_type": "execute_result",
          "data": {
            "text/plain": [
              "array([8.66918448, 4.10429538])"
            ]
          },
          "metadata": {
            "tags": []
          },
          "execution_count": 9
        }
      ]
    },
    {
      "cell_type": "code",
      "metadata": {
        "colab": {
          "base_uri": "https://localhost:8080/"
        },
        "id": "wkjKOe7iekU0",
        "outputId": "829a9a56-6ccf-49bf-d15c-493aadd6562f"
      },
      "source": [
        "np.diag(d)"
      ],
      "execution_count": 10,
      "outputs": [
        {
          "output_type": "execute_result",
          "data": {
            "text/plain": [
              "array([[8.66918448, 0.        ],\n",
              "       [0.        , 4.10429538]])"
            ]
          },
          "metadata": {
            "tags": []
          },
          "execution_count": 10
        }
      ]
    },
    {
      "cell_type": "code",
      "metadata": {
        "colab": {
          "base_uri": "https://localhost:8080/"
        },
        "id": "T1ni17u-emq8",
        "outputId": "0d1bbc92-353f-4e30-b081-dff43c1d2b94"
      },
      "source": [
        "np.diag(d).shape # is square 2x2 here, so must be converted to (m x n) = (3 x 2)"
      ],
      "execution_count": 11,
      "outputs": [
        {
          "output_type": "execute_result",
          "data": {
            "text/plain": [
              "(2, 2)"
            ]
          },
          "metadata": {
            "tags": []
          },
          "execution_count": 11
        }
      ]
    },
    {
      "cell_type": "code",
      "metadata": {
        "colab": {
          "base_uri": "https://localhost:8080/"
        },
        "id": "aaY03WJmffCn",
        "outputId": "b9ba7c7a-611e-4c96-947e-2207e42ee357"
      },
      "source": [
        "D = np.concatenate((np.diag(d), [[0,0]]), axis=0)\n",
        "D"
      ],
      "execution_count": 12,
      "outputs": [
        {
          "output_type": "execute_result",
          "data": {
            "text/plain": [
              "array([[8.66918448, 0.        ],\n",
              "       [0.        , 4.10429538],\n",
              "       [0.        , 0.        ]])"
            ]
          },
          "metadata": {
            "tags": []
          },
          "execution_count": 12
        }
      ]
    },
    {
      "cell_type": "code",
      "metadata": {
        "colab": {
          "base_uri": "https://localhost:8080/"
        },
        "id": "WwzQa2y7fnjh",
        "outputId": "a334fdc3-8708-4e9c-87ea-5b56cb753cb7"
      },
      "source": [
        "D.shape # (m x n) = (3 x 2)"
      ],
      "execution_count": 13,
      "outputs": [
        {
          "output_type": "execute_result",
          "data": {
            "text/plain": [
              "(3, 2)"
            ]
          },
          "metadata": {
            "tags": []
          },
          "execution_count": 13
        }
      ]
    },
    {
      "cell_type": "code",
      "metadata": {
        "colab": {
          "base_uri": "https://localhost:8080/"
        },
        "id": "cvs0bCP_fr42",
        "outputId": "a8987d8d-1916-4c04-9546-5b27bb5342d1"
      },
      "source": [
        "# Confirm SVD equation \n",
        "np.dot(U, np.dot(D, VT))"
      ],
      "execution_count": 14,
      "outputs": [
        {
          "output_type": "execute_result",
          "data": {
            "text/plain": [
              "array([[-1.,  2.],\n",
              "       [ 3., -2.],\n",
              "       [ 5.,  7.]])"
            ]
          },
          "metadata": {
            "tags": []
          },
          "execution_count": 14
        }
      ]
    },
    {
      "cell_type": "markdown",
      "metadata": {
        "id": "-21W3SaghPaw"
      },
      "source": [
        " ## PyTorch"
      ]
    },
    {
      "cell_type": "code",
      "metadata": {
        "id": "576WH07sf60f"
      },
      "source": [
        "import torch"
      ],
      "execution_count": 15,
      "outputs": []
    },
    {
      "cell_type": "code",
      "metadata": {
        "colab": {
          "base_uri": "https://localhost:8080/"
        },
        "id": "Qr40WP7YhToI",
        "outputId": "19fffad4-e961-4971-a851-68d001bed6e8"
      },
      "source": [
        "A_torch = torch.tensor([[25,2,-5], [3,-2,1], [5,7,4.]])\n",
        "A_torch"
      ],
      "execution_count": 16,
      "outputs": [
        {
          "output_type": "execute_result",
          "data": {
            "text/plain": [
              "tensor([[25.,  2., -5.],\n",
              "        [ 3., -2.,  1.],\n",
              "        [ 5.,  7.,  4.]])"
            ]
          },
          "metadata": {
            "tags": []
          },
          "execution_count": 16
        }
      ]
    },
    {
      "cell_type": "code",
      "metadata": {
        "colab": {
          "base_uri": "https://localhost:8080/"
        },
        "id": "su_9DqCphhBJ",
        "outputId": "acae44c1-9d95-423f-d204-886355a364e1"
      },
      "source": [
        "A_torch.shape # (m x n) = (3 x 3)"
      ],
      "execution_count": 17,
      "outputs": [
        {
          "output_type": "execute_result",
          "data": {
            "text/plain": [
              "torch.Size([3, 3])"
            ]
          },
          "metadata": {
            "tags": []
          },
          "execution_count": 17
        }
      ]
    },
    {
      "cell_type": "code",
      "metadata": {
        "id": "S6pw3qhChh4i"
      },
      "source": [
        "U_torch, d_torch, VT_torch = torch.linalg.svd(A_torch)"
      ],
      "execution_count": 18,
      "outputs": []
    },
    {
      "cell_type": "code",
      "metadata": {
        "colab": {
          "base_uri": "https://localhost:8080/"
        },
        "id": "sFtIvQIEh_od",
        "outputId": "9cd8e717-99c7-4759-f722-947277c4a825"
      },
      "source": [
        "U_torch"
      ],
      "execution_count": 19,
      "outputs": [
        {
          "output_type": "execute_result",
          "data": {
            "text/plain": [
              "tensor([[-0.9757,  0.1823,  0.1214],\n",
              "        [-0.0975,  0.1350, -0.9860],\n",
              "        [-0.1961, -0.9739, -0.1140]])"
            ]
          },
          "metadata": {
            "tags": []
          },
          "execution_count": 19
        }
      ]
    },
    {
      "cell_type": "code",
      "metadata": {
        "colab": {
          "base_uri": "https://localhost:8080/"
        },
        "id": "GKuM30UMj0n6",
        "outputId": "e094af2e-eb75-4d7b-b0d7-4c14162527bd"
      },
      "source": [
        "U_torch.shape # (m x m) = (3 x 3)"
      ],
      "execution_count": 20,
      "outputs": [
        {
          "output_type": "execute_result",
          "data": {
            "text/plain": [
              "torch.Size([3, 3])"
            ]
          },
          "metadata": {
            "tags": []
          },
          "execution_count": 20
        }
      ]
    },
    {
      "cell_type": "code",
      "metadata": {
        "colab": {
          "base_uri": "https://localhost:8080/"
        },
        "id": "_0sASWidj19s",
        "outputId": "f6e8ee65-0aae-446e-9ac5-7864f9d0085e"
      },
      "source": [
        "VT_torch"
      ],
      "execution_count": 21,
      "outputs": [
        {
          "output_type": "execute_result",
          "data": {
            "text/plain": [
              "tensor([[-0.9810, -0.1196,  0.1528],\n",
              "        [ 0.0113, -0.8211, -0.5706],\n",
              "        [-0.1937,  0.5581, -0.8069]])"
            ]
          },
          "metadata": {
            "tags": []
          },
          "execution_count": 21
        }
      ]
    },
    {
      "cell_type": "code",
      "metadata": {
        "colab": {
          "base_uri": "https://localhost:8080/"
        },
        "id": "yEIbCIrZj-30",
        "outputId": "9e258d49-dda5-49fb-d281-4ecbf4c54397"
      },
      "source": [
        "VT_torch.shape # (n x n) = (3 x 3)"
      ],
      "execution_count": 22,
      "outputs": [
        {
          "output_type": "execute_result",
          "data": {
            "text/plain": [
              "torch.Size([3, 3])"
            ]
          },
          "metadata": {
            "tags": []
          },
          "execution_count": 22
        }
      ]
    },
    {
      "cell_type": "code",
      "metadata": {
        "colab": {
          "base_uri": "https://localhost:8080/"
        },
        "id": "2qm5IolTkDvE",
        "outputId": "dac36e63-d142-4f9c-9490-5cf112e31183"
      },
      "source": [
        "d_torch # diagonal must be (m x n) = (3 x 3)"
      ],
      "execution_count": 23,
      "outputs": [
        {
          "output_type": "execute_result",
          "data": {
            "text/plain": [
              "tensor([26.1632,  8.1875,  2.5395])"
            ]
          },
          "metadata": {
            "tags": []
          },
          "execution_count": 23
        }
      ]
    },
    {
      "cell_type": "code",
      "metadata": {
        "colab": {
          "base_uri": "https://localhost:8080/"
        },
        "id": "DOg__BmCkFVj",
        "outputId": "7e2f45f9-ae5f-46dd-f1c9-5fefd499eb7b"
      },
      "source": [
        "D_torch = torch.diag(d_torch)\n",
        "D_torch"
      ],
      "execution_count": 24,
      "outputs": [
        {
          "output_type": "execute_result",
          "data": {
            "text/plain": [
              "tensor([[26.1632,  0.0000,  0.0000],\n",
              "        [ 0.0000,  8.1875,  0.0000],\n",
              "        [ 0.0000,  0.0000,  2.5395]])"
            ]
          },
          "metadata": {
            "tags": []
          },
          "execution_count": 24
        }
      ]
    },
    {
      "cell_type": "code",
      "metadata": {
        "colab": {
          "base_uri": "https://localhost:8080/"
        },
        "id": "mM4qeVBDkWaN",
        "outputId": "e787e8b7-23de-4a9f-aace-03e32e505a36"
      },
      "source": [
        "D_torch.shape # (m x n) = (3 x 3)"
      ],
      "execution_count": 25,
      "outputs": [
        {
          "output_type": "execute_result",
          "data": {
            "text/plain": [
              "torch.Size([3, 3])"
            ]
          },
          "metadata": {
            "tags": []
          },
          "execution_count": 25
        }
      ]
    },
    {
      "cell_type": "code",
      "metadata": {
        "colab": {
          "base_uri": "https://localhost:8080/"
        },
        "id": "VmrOh5_SkaNO",
        "outputId": "5f2b4b1c-9b80-4749-a264-f6de1bcdc5d8"
      },
      "source": [
        "torch.matmul(U_torch, torch.matmul(D_torch, VT_torch)) # check SVD equation fulfilled"
      ],
      "execution_count": 26,
      "outputs": [
        {
          "output_type": "execute_result",
          "data": {
            "text/plain": [
              "tensor([[25.0000,  2.0000, -5.0000],\n",
              "        [ 3.0000, -2.0000,  1.0000],\n",
              "        [ 5.0000,  7.0000,  4.0000]])"
            ]
          },
          "metadata": {
            "tags": []
          },
          "execution_count": 26
        }
      ]
    }
  ]
}
