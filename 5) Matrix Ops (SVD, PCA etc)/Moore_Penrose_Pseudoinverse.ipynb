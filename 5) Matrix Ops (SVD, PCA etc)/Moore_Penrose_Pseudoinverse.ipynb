{
  "nbformat": 4,
  "nbformat_minor": 0,
  "metadata": {
    "colab": {
      "name": "Moore Penrose Pseudoinverse.ipynb",
      "provenance": [],
      "collapsed_sections": []
    },
    "kernelspec": {
      "name": "python3",
      "display_name": "Python 3"
    },
    "language_info": {
      "name": "python"
    }
  },
  "cells": [
    {
      "cell_type": "markdown",
      "metadata": {
        "id": "YRgR4imcSkSq"
      },
      "source": [
        "# Moore-Penrose Pseudoinverse (MPP)\n",
        "\n",
        "$A^{+}=VD^{+}U^{T}$\n",
        "\n",
        "- enables to invert non-square matrices\n",
        "- matrix $A$ has pseudoinverse $A^{+}$\n",
        "- $D^{+}$ is $D$ with inverse of all non-zero matrix elements and then transposed\n",
        "\n",
        "SVD: $A=UDV^{T}$\n",
        "\n",
        "- $A$ real-valued $m \\times n$ matrix (does not have to be squared)\n",
        "- $U$ orthogonal $m \\times m$ matrix; columns are left-singular vectors of $A$\n",
        "- $V$ orthogonal $n \\times n$ matrix; columns are right-singular vectors of $A$ (hence $V^T$ rows are right-singular vectors of $A$)\n",
        "- $D$ diagonal $m \\times n$ matrix; diagonal elements are the singular values $d$ of $A$\n"
      ]
    },
    {
      "cell_type": "markdown",
      "metadata": {
        "id": "VaHUA_dETqe4"
      },
      "source": [
        "## Numpy"
      ]
    },
    {
      "cell_type": "code",
      "metadata": {
        "id": "fmST9xdg_lEN"
      },
      "source": [
        "import numpy as np"
      ],
      "execution_count": 1,
      "outputs": []
    },
    {
      "cell_type": "code",
      "metadata": {
        "colab": {
          "base_uri": "https://localhost:8080/"
        },
        "id": "k2wlGbmrTsbc",
        "outputId": "8b865690-cdc1-4035-afec-bf6794422a31"
      },
      "source": [
        "A = np.array([[-1,2], [3,-2], [5,7]])\n",
        "A"
      ],
      "execution_count": 2,
      "outputs": [
        {
          "output_type": "execute_result",
          "data": {
            "text/plain": [
              "array([[-1,  2],\n",
              "       [ 3, -2],\n",
              "       [ 5,  7]])"
            ]
          },
          "metadata": {
            "tags": []
          },
          "execution_count": 2
        }
      ]
    },
    {
      "cell_type": "code",
      "metadata": {
        "id": "157dNwsXTygU"
      },
      "source": [
        "U, d, VT = np.linalg.svd(A)"
      ],
      "execution_count": 3,
      "outputs": []
    },
    {
      "cell_type": "code",
      "metadata": {
        "colab": {
          "base_uri": "https://localhost:8080/"
        },
        "id": "im5DqXc9T_AF",
        "outputId": "bb4dc0f8-57ea-4cfd-c3d2-38a5845622c2"
      },
      "source": [
        "d"
      ],
      "execution_count": 4,
      "outputs": [
        {
          "output_type": "execute_result",
          "data": {
            "text/plain": [
              "array([8.66918448, 4.10429538])"
            ]
          },
          "metadata": {
            "tags": []
          },
          "execution_count": 4
        }
      ]
    },
    {
      "cell_type": "code",
      "metadata": {
        "colab": {
          "base_uri": "https://localhost:8080/"
        },
        "id": "p-rc7MnaUBEl",
        "outputId": "665ca06d-b83b-4bc6-d0e1-46edc61327ac"
      },
      "source": [
        "D = np.diag(d)\n",
        "D"
      ],
      "execution_count": 5,
      "outputs": [
        {
          "output_type": "execute_result",
          "data": {
            "text/plain": [
              "array([[8.66918448, 0.        ],\n",
              "       [0.        , 4.10429538]])"
            ]
          },
          "metadata": {
            "tags": []
          },
          "execution_count": 5
        }
      ]
    },
    {
      "cell_type": "code",
      "metadata": {
        "colab": {
          "base_uri": "https://localhost:8080/"
        },
        "id": "trwGvADlUGW2",
        "outputId": "2d114829-b4a2-43fd-d31b-7a8207854a53"
      },
      "source": [
        "D_inv = np.linalg.inv(D) # inversion possible because diagonal\n",
        "D_inv"
      ],
      "execution_count": 6,
      "outputs": [
        {
          "output_type": "execute_result",
          "data": {
            "text/plain": [
              "array([[0.1153511 , 0.        ],\n",
              "       [0.        , 0.24364718]])"
            ]
          },
          "metadata": {
            "tags": []
          },
          "execution_count": 6
        }
      ]
    },
    {
      "cell_type": "markdown",
      "metadata": {
        "id": "x6jcDbW1Un8X"
      },
      "source": [
        "$D^{+}$ must have same dimensions as $A^T$ in order for $VD^{+}U^{T}$ multiplication to be possible. $D$ must have same dimensions as $A$ for SVD, but for MPP $U$ and $V$ have been switched around diagonal matrix."
      ]
    },
    {
      "cell_type": "code",
      "metadata": {
        "colab": {
          "base_uri": "https://localhost:8080/"
        },
        "id": "LN7sxBmUUThX",
        "outputId": "45fa64f7-f57b-408c-cb50-b0fed01e79af"
      },
      "source": [
        "D_plus = np.concatenate((D_inv, np.array([[0,0]]).T), axis=1)\n",
        "D_plus"
      ],
      "execution_count": 7,
      "outputs": [
        {
          "output_type": "execute_result",
          "data": {
            "text/plain": [
              "array([[0.1153511 , 0.        , 0.        ],\n",
              "       [0.        , 0.24364718, 0.        ]])"
            ]
          },
          "metadata": {
            "tags": []
          },
          "execution_count": 7
        }
      ]
    },
    {
      "cell_type": "code",
      "metadata": {
        "colab": {
          "base_uri": "https://localhost:8080/"
        },
        "id": "cODzcbPAUnNZ",
        "outputId": "2dd9a32d-3e21-4864-8a34-51001f2b47b2"
      },
      "source": [
        "np.dot(VT.T, np.dot(D_plus, U.T)) # This is A+"
      ],
      "execution_count": 8,
      "outputs": [
        {
          "output_type": "execute_result",
          "data": {
            "text/plain": [
              "array([[-0.08767773,  0.17772512,  0.07582938],\n",
              "       [ 0.07661927, -0.1192733 ,  0.08688784]])"
            ]
          },
          "metadata": {
            "tags": []
          },
          "execution_count": 8
        }
      ]
    },
    {
      "cell_type": "code",
      "metadata": {
        "colab": {
          "base_uri": "https://localhost:8080/"
        },
        "id": "05qaJ33NVaeQ",
        "outputId": "9bb62e9d-c9a9-4acb-98f7-433e9aa6f15e"
      },
      "source": [
        "np.linalg.pinv(A) # check if this is true using np.pinv(A)"
      ],
      "execution_count": 9,
      "outputs": [
        {
          "output_type": "execute_result",
          "data": {
            "text/plain": [
              "array([[-0.08767773,  0.17772512,  0.07582938],\n",
              "       [ 0.07661927, -0.1192733 ,  0.08688784]])"
            ]
          },
          "metadata": {
            "tags": []
          },
          "execution_count": 9
        }
      ]
    },
    {
      "cell_type": "markdown",
      "metadata": {
        "id": "Y6k45nDDVrl9"
      },
      "source": [
        "## PyTorch"
      ]
    },
    {
      "cell_type": "code",
      "metadata": {
        "id": "Ii7_K1PMVhgd"
      },
      "source": [
        "import torch"
      ],
      "execution_count": 10,
      "outputs": []
    },
    {
      "cell_type": "code",
      "metadata": {
        "colab": {
          "base_uri": "https://localhost:8080/"
        },
        "id": "ZfC1PNp3Vtv4",
        "outputId": "85b2921f-e51a-4054-d904-101782b76a0a"
      },
      "source": [
        "A_torch = torch.tensor([[-1,2], [3,-2], [5,7.]])\n",
        "A_torch"
      ],
      "execution_count": 11,
      "outputs": [
        {
          "output_type": "execute_result",
          "data": {
            "text/plain": [
              "tensor([[-1.,  2.],\n",
              "        [ 3., -2.],\n",
              "        [ 5.,  7.]])"
            ]
          },
          "metadata": {
            "tags": []
          },
          "execution_count": 11
        }
      ]
    },
    {
      "cell_type": "code",
      "metadata": {
        "id": "ZuzzNjNdV-7y"
      },
      "source": [
        "U_torch, d_torch, VT_torch = torch.linalg.svd(A_torch)"
      ],
      "execution_count": 12,
      "outputs": []
    },
    {
      "cell_type": "code",
      "metadata": {
        "colab": {
          "base_uri": "https://localhost:8080/"
        },
        "id": "Fmq_G8IWazfB",
        "outputId": "bc3e47dd-9651-4972-9419-7f230fe95a91"
      },
      "source": [
        "VT_torch"
      ],
      "execution_count": 13,
      "outputs": [
        {
          "output_type": "execute_result",
          "data": {
            "text/plain": [
              "tensor([[ 0.5580,  0.8298],\n",
              "        [-0.8298,  0.5580]])"
            ]
          },
          "metadata": {
            "tags": []
          },
          "execution_count": 13
        }
      ]
    },
    {
      "cell_type": "code",
      "metadata": {
        "colab": {
          "base_uri": "https://localhost:8080/"
        },
        "id": "oi_BA-BYWYdE",
        "outputId": "29c10faa-5a86-44d1-e0a9-05fef5fbb897"
      },
      "source": [
        "D_torch = torch.diag(d_torch)\n",
        "D_torch"
      ],
      "execution_count": 14,
      "outputs": [
        {
          "output_type": "execute_result",
          "data": {
            "text/plain": [
              "tensor([[8.6692, 0.0000],\n",
              "        [0.0000, 4.1043]])"
            ]
          },
          "metadata": {
            "tags": []
          },
          "execution_count": 14
        }
      ]
    },
    {
      "cell_type": "code",
      "metadata": {
        "colab": {
          "base_uri": "https://localhost:8080/"
        },
        "id": "vWWy2bmFWqPP",
        "outputId": "ddf491f4-f217-4261-fc3f-a29d1441edeb"
      },
      "source": [
        "D_inv_torch = torch.inverse(D_torch)\n",
        "D_inv_torch"
      ],
      "execution_count": 15,
      "outputs": [
        {
          "output_type": "execute_result",
          "data": {
            "text/plain": [
              "tensor([[0.1154, -0.0000],\n",
              "        [0.0000, 0.2436]])"
            ]
          },
          "metadata": {
            "tags": []
          },
          "execution_count": 15
        }
      ]
    },
    {
      "cell_type": "code",
      "metadata": {
        "colab": {
          "base_uri": "https://localhost:8080/"
        },
        "id": "Y078kBNwWzsZ",
        "outputId": "eed02f3a-d760-40e6-db2a-ff867e11b95f"
      },
      "source": [
        "D_plus_torch = torch.cat((D_inv_torch, torch.tensor([[0,0]]).T), axis=1)\n",
        "D_plus_torch"
      ],
      "execution_count": 16,
      "outputs": [
        {
          "output_type": "execute_result",
          "data": {
            "text/plain": [
              "tensor([[0.1154, -0.0000, 0.0000],\n",
              "        [0.0000, 0.2436, 0.0000]])"
            ]
          },
          "metadata": {
            "tags": []
          },
          "execution_count": 16
        }
      ]
    },
    {
      "cell_type": "code",
      "metadata": {
        "colab": {
          "base_uri": "https://localhost:8080/"
        },
        "id": "JJtHnVAuXUGj",
        "outputId": "70dce75a-84da-43b6-de2e-01d95ccf5206"
      },
      "source": [
        "torch.matmul(VT_torch.T, torch.matmul(D_plus_torch, U_torch.T))"
      ],
      "execution_count": 17,
      "outputs": [
        {
          "output_type": "execute_result",
          "data": {
            "text/plain": [
              "tensor([[-0.0877,  0.1777,  0.0758],\n",
              "        [ 0.0766, -0.1193,  0.0869]])"
            ]
          },
          "metadata": {
            "tags": []
          },
          "execution_count": 17
        }
      ]
    },
    {
      "cell_type": "code",
      "metadata": {
        "colab": {
          "base_uri": "https://localhost:8080/"
        },
        "id": "7EqnPQ7dXuFX",
        "outputId": "a9f90277-eae2-4486-b29c-4e64bbc6e632"
      },
      "source": [
        "torch.pinverse(A_torch)"
      ],
      "execution_count": 18,
      "outputs": [
        {
          "output_type": "execute_result",
          "data": {
            "text/plain": [
              "tensor([[-0.0877,  0.1777,  0.0758],\n",
              "        [ 0.0766, -0.1193,  0.0869]])"
            ]
          },
          "metadata": {
            "tags": []
          },
          "execution_count": 18
        }
      ]
    },
    {
      "cell_type": "markdown",
      "metadata": {
        "id": "GJYfwRpYmJvN"
      },
      "source": [
        "## Using MPP to solve linear system of equations\n",
        "\n",
        "For regression problems, we typically have many more cases ($n$, or rows of $X$) than features to predict (columns of $X$). Let's solve a miniature example of such an overdetermined situation.\n",
        "\n",
        "We have eight data points ($n$ = 8):"
      ]
    },
    {
      "cell_type": "code",
      "metadata": {
        "id": "8dewNYiqmaW6"
      },
      "source": [
        "import matplotlib.pyplot as plt"
      ],
      "execution_count": 19,
      "outputs": []
    },
    {
      "cell_type": "code",
      "metadata": {
        "id": "bMQ-XV9sglvM"
      },
      "source": [
        "x1 = [0, 1, 2, 3, 4, 5, 6, 7.] # E.g.: Dosage of drug for treating Alzheimer's disease\n",
        "y = [1.86, 1.31, .62, .33, .09, -.67, -1.23, -1.37] # E.g.: Patient's \"forgetfulness score\""
      ],
      "execution_count": 20,
      "outputs": []
    },
    {
      "cell_type": "code",
      "metadata": {
        "id": "c9rHFhkUmVSb"
      },
      "source": [
        "title = 'Clinical Trial'\n",
        "xlabel = 'Drug dosage (mL)'\n",
        "ylabel = 'Forgetfulness'"
      ],
      "execution_count": 21,
      "outputs": []
    },
    {
      "cell_type": "code",
      "metadata": {
        "colab": {
          "base_uri": "https://localhost:8080/",
          "height": 295
        },
        "id": "AzP-JDoimX2j",
        "outputId": "a2fbe679-3525-4467-baec-ec7dc0c12e4b"
      },
      "source": [
        "fig, ax = plt.subplots()\n",
        "plt.title(title)\n",
        "plt.xlabel(xlabel)\n",
        "plt.ylabel(ylabel)\n",
        "_ = ax.scatter(x1, y)"
      ],
      "execution_count": 22,
      "outputs": [
        {
          "output_type": "display_data",
          "data": {
            "image/png": "[encoded data removed]",
            "text/plain": [
              "<Figure size 432x288 with 1 Axes>"
            ]
          },
          "metadata": {
            "tags": [],
            "needs_background": "light"
          }
        }
      ]
    },
    {
      "cell_type": "markdown",
      "metadata": {
        "id": "9pNveBNlmmUQ"
      },
      "source": [
        "\n",
        "Although it appears there is only one predictor ($x_1$), our model requires a second one (let's call it $x_0$) in order to allow for a $y$-intercept. Without this second variable, the line we fit to the plot would need to pass through the origin (0, 0). The $y$-intercept is constant across all the points so we can set it equal to 1 across the board:"
      ]
    },
    {
      "cell_type": "code",
      "metadata": {
        "colab": {
          "base_uri": "https://localhost:8080/"
        },
        "id": "dQmmcl2TmZQL",
        "outputId": "b617ab43-5164-4245-9377-dd1f9dd33b39"
      },
      "source": [
        "x0 = np.ones(8)\n",
        "x0"
      ],
      "execution_count": 23,
      "outputs": [
        {
          "output_type": "execute_result",
          "data": {
            "text/plain": [
              "array([1., 1., 1., 1., 1., 1., 1., 1.])"
            ]
          },
          "metadata": {
            "tags": []
          },
          "execution_count": 23
        }
      ]
    },
    {
      "cell_type": "markdown",
      "metadata": {
        "id": "vwas7h8tmqxN"
      },
      "source": [
        "Concatenate $x_0$ and $x_1$ into a matrix $X$:"
      ]
    },
    {
      "cell_type": "code",
      "metadata": {
        "colab": {
          "base_uri": "https://localhost:8080/"
        },
        "id": "rgidEREgmolr",
        "outputId": "94df9005-6a31-4e06-b883-92614d6df8d8"
      },
      "source": [
        "X = np.concatenate((np.matrix(x0).T, np.matrix(x1).T), axis=1)\n",
        "X"
      ],
      "execution_count": 24,
      "outputs": [
        {
          "output_type": "execute_result",
          "data": {
            "text/plain": [
              "matrix([[1., 0.],\n",
              "        [1., 1.],\n",
              "        [1., 2.],\n",
              "        [1., 3.],\n",
              "        [1., 4.],\n",
              "        [1., 5.],\n",
              "        [1., 6.],\n",
              "        [1., 7.]])"
            ]
          },
          "metadata": {
            "tags": []
          },
          "execution_count": 24
        }
      ]
    },
    {
      "cell_type": "markdown",
      "metadata": {
        "id": "-eQzJSuem12o"
      },
      "source": [
        "\n",
        "We can calculate the weights $w$ using the equation $w = X^+y$, since the original regression equation is $y=Xw$:"
      ]
    },
    {
      "cell_type": "code",
      "metadata": {
        "colab": {
          "base_uri": "https://localhost:8080/"
        },
        "id": "o4tKyWJBmvhN",
        "outputId": "25adbea1-6234-443c-ddb6-97e8ccacea9e"
      },
      "source": [
        "w = np.dot(np.linalg.pinv(X), y)\n",
        "w"
      ],
      "execution_count": 25,
      "outputs": [
        {
          "output_type": "execute_result",
          "data": {
            "text/plain": [
              "matrix([[ 1.76      , -0.46928571]])"
            ]
          },
          "metadata": {
            "tags": []
          },
          "execution_count": 25
        }
      ]
    },
    {
      "cell_type": "markdown",
      "metadata": {
        "id": "ULUv5mgbm940"
      },
      "source": [
        "The first weight corresponds to the $y$-intercept of the line, which is typically denoted as $b$:"
      ]
    },
    {
      "cell_type": "code",
      "metadata": {
        "colab": {
          "base_uri": "https://localhost:8080/"
        },
        "id": "OTrZK8Hxm6Ru",
        "outputId": "b0544683-1d2a-49c4-dd77-0fbc5ebf8291"
      },
      "source": [
        "b = np.asarray(w).reshape(-1)[0]\n",
        "b"
      ],
      "execution_count": 26,
      "outputs": [
        {
          "output_type": "execute_result",
          "data": {
            "text/plain": [
              "1.7599999999999985"
            ]
          },
          "metadata": {
            "tags": []
          },
          "execution_count": 26
        }
      ]
    },
    {
      "cell_type": "code",
      "metadata": {
        "colab": {
          "base_uri": "https://localhost:8080/"
        },
        "id": "npIWQgmYnIbg",
        "outputId": "c551e30b-150f-45d2-e751-6c5366f6acde"
      },
      "source": [
        "np.asarray(w)"
      ],
      "execution_count": 27,
      "outputs": [
        {
          "output_type": "execute_result",
          "data": {
            "text/plain": [
              "array([[ 1.76      , -0.46928571]])"
            ]
          },
          "metadata": {
            "tags": []
          },
          "execution_count": 27
        }
      ]
    },
    {
      "cell_type": "code",
      "metadata": {
        "colab": {
          "base_uri": "https://localhost:8080/"
        },
        "id": "2P-uNvZlnSiJ",
        "outputId": "226a7d3e-2278-4ddd-ab5c-205db2b709dd"
      },
      "source": [
        "np.asarray(w).reshape(-1)"
      ],
      "execution_count": 28,
      "outputs": [
        {
          "output_type": "execute_result",
          "data": {
            "text/plain": [
              "array([ 1.76      , -0.46928571])"
            ]
          },
          "metadata": {
            "tags": []
          },
          "execution_count": 28
        }
      ]
    },
    {
      "cell_type": "markdown",
      "metadata": {
        "id": "4PihNR7bnauT"
      },
      "source": [
        "While the second weight corresponds to the slope of the line, which is typically denoted as $m$:"
      ]
    },
    {
      "cell_type": "code",
      "metadata": {
        "colab": {
          "base_uri": "https://localhost:8080/"
        },
        "id": "aUUB3w8YnXNZ",
        "outputId": "3be3d954-5319-4bd2-a1cf-288d3b47dfee"
      },
      "source": [
        "m = np.asarray(w).reshape(-1)[1]\n",
        "m"
      ],
      "execution_count": 29,
      "outputs": [
        {
          "output_type": "execute_result",
          "data": {
            "text/plain": [
              "-0.469285714285714"
            ]
          },
          "metadata": {
            "tags": []
          },
          "execution_count": 29
        }
      ]
    },
    {
      "cell_type": "markdown",
      "metadata": {
        "id": "FAzCgD7JnhHe"
      },
      "source": [
        "With the weights we can plot the line to confirm it fits the points:"
      ]
    },
    {
      "cell_type": "code",
      "metadata": {
        "colab": {
          "base_uri": "https://localhost:8080/",
          "height": 295
        },
        "id": "uofJhGcTneX6",
        "outputId": "99fdb1d1-c10a-493d-9227-e76ee974daf2"
      },
      "source": [
        "fig, ax = plt.subplots()\n",
        "\n",
        "plt.title(title)\n",
        "plt.xlabel(xlabel)\n",
        "plt.ylabel(ylabel)\n",
        "\n",
        "ax.scatter(x1, y)\n",
        "\n",
        "x_min, x_max = ax.get_xlim()\n",
        "y_at_xmin = m*x_min + b\n",
        "y_at_xmax = m*x_max + b\n",
        "\n",
        "ax.set_xlim([x_min, x_max])\n",
        "_ = ax.plot([x_min, x_max], [y_at_xmin, y_at_xmax], c='C01')"
      ],
      "execution_count": 30,
      "outputs": [
        {
          "output_type": "display_data",
          "data": {
            "image/png": "[encoded data removed]",
            "text/plain": [
              "<Figure size 432x288 with 1 Axes>"
            ]
          },
          "metadata": {
            "tags": [],
            "needs_background": "light"
          }
        }
      ]
    },
    {
      "cell_type": "code",
      "metadata": {
        "id": "4bK0Lk2CnjqT"
      },
      "source": [
        ""
      ],
      "execution_count": 30,
      "outputs": []
    }
  ]
}
