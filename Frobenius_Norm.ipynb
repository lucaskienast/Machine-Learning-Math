{
  "nbformat": 4,
  "nbformat_minor": 0,
  "metadata": {
    "colab": {
      "name": "Frobenius Norm.ipynb",
      "provenance": [],
      "collapsed_sections": []
    },
    "kernelspec": {
      "name": "python3",
      "display_name": "Python 3"
    },
    "language_info": {
      "name": "python"
    }
  },
  "cells": [
    {
      "cell_type": "markdown",
      "metadata": {
        "id": "9VZP943FNmU4"
      },
      "source": [
        "# Frobenius Norm\n",
        "\n",
        "$ ||X||_{F}=\\sqrt{\\sum_{i=1}\\sum_{j=1}X_{i,j}^2}$"
      ]
    },
    {
      "cell_type": "markdown",
      "metadata": {
        "id": "1djoSNscOInD"
      },
      "source": [
        "## Numpy"
      ]
    },
    {
      "cell_type": "code",
      "metadata": {
        "id": "tVm7t7Vl1oRq"
      },
      "source": [
        "import numpy as np"
      ],
      "execution_count": 1,
      "outputs": []
    },
    {
      "cell_type": "code",
      "metadata": {
        "colab": {
          "base_uri": "https://localhost:8080/"
        },
        "id": "Q-gR8j9UOLup",
        "outputId": "c21be563-78a1-4ae0-c988-3fb70171a41b"
      },
      "source": [
        "X = np.array([[42, 7], [11, 9]])\n",
        "X"
      ],
      "execution_count": 3,
      "outputs": [
        {
          "output_type": "execute_result",
          "data": {
            "text/plain": [
              "array([[42,  7],\n",
              "       [11,  9]])"
            ]
          },
          "metadata": {
            "tags": []
          },
          "execution_count": 3
        }
      ]
    },
    {
      "cell_type": "code",
      "metadata": {
        "colab": {
          "base_uri": "https://localhost:8080/"
        },
        "id": "vmt1wfBHOTgE",
        "outputId": "53c9ab1e-e0ba-474d-c88f-7731de86903b"
      },
      "source": [
        "(42**2 + 7**2 + 11**2 + 9**2)**(1/2)"
      ],
      "execution_count": 4,
      "outputs": [
        {
          "output_type": "execute_result",
          "data": {
            "text/plain": [
              "44.88875137492688"
            ]
          },
          "metadata": {
            "tags": []
          },
          "execution_count": 4
        }
      ]
    },
    {
      "cell_type": "code",
      "metadata": {
        "colab": {
          "base_uri": "https://localhost:8080/"
        },
        "id": "vZR9RwhjOfZ-",
        "outputId": "908086c1-66f2-4708-8837-4e638c98b104"
      },
      "source": [
        "np.linalg.norm(X) # same as L2 norm for vectors"
      ],
      "execution_count": 5,
      "outputs": [
        {
          "output_type": "execute_result",
          "data": {
            "text/plain": [
              "44.88875137492688"
            ]
          },
          "metadata": {
            "tags": []
          },
          "execution_count": 5
        }
      ]
    },
    {
      "cell_type": "markdown",
      "metadata": {
        "id": "SdMihhjROl8Y"
      },
      "source": [
        "## PyTorch"
      ]
    },
    {
      "cell_type": "code",
      "metadata": {
        "id": "fc1TgDEBOkOA"
      },
      "source": [
        "import torch"
      ],
      "execution_count": 6,
      "outputs": []
    },
    {
      "cell_type": "code",
      "metadata": {
        "colab": {
          "base_uri": "https://localhost:8080/"
        },
        "id": "Qx6Z-AofOomq",
        "outputId": "f3e5ed76-1504-48d7-a7ea-92eee19795d9"
      },
      "source": [
        "X_torch = torch.tensor([[42, 7], [11, 9]], dtype=torch.float16) # must be floats for Frobenius norm\n",
        "X_torch"
      ],
      "execution_count": 9,
      "outputs": [
        {
          "output_type": "execute_result",
          "data": {
            "text/plain": [
              "tensor([[42.,  7.],\n",
              "        [11.,  9.]], dtype=torch.float16)"
            ]
          },
          "metadata": {
            "tags": []
          },
          "execution_count": 9
        }
      ]
    },
    {
      "cell_type": "code",
      "metadata": {
        "colab": {
          "base_uri": "https://localhost:8080/"
        },
        "id": "AZxQxOr3OvHL",
        "outputId": "83191685-fbaa-4676-d75b-9498536d6692"
      },
      "source": [
        "torch.norm(X_torch)"
      ],
      "execution_count": 10,
      "outputs": [
        {
          "output_type": "execute_result",
          "data": {
            "text/plain": [
              "tensor(44.8750, dtype=torch.float16)"
            ]
          },
          "metadata": {
            "tags": []
          },
          "execution_count": 10
        }
      ]
    },
    {
      "cell_type": "markdown",
      "metadata": {
        "id": "zmKYufZhO7dp"
      },
      "source": [
        "## TensorFlow"
      ]
    },
    {
      "cell_type": "code",
      "metadata": {
        "id": "71iy8dt8Oywc"
      },
      "source": [
        "import tensorflow as tf"
      ],
      "execution_count": 11,
      "outputs": []
    },
    {
      "cell_type": "code",
      "metadata": {
        "colab": {
          "base_uri": "https://localhost:8080/"
        },
        "id": "hgHwkTbKO9sF",
        "outputId": "7103db4e-8d95-422e-8d06-9973a89c3b12"
      },
      "source": [
        "X_tf = tf.Variable([[42,7], [11,9]], dtype=tf.float16) # must be floats for Frobenius norm\n",
        "X_tf"
      ],
      "execution_count": 12,
      "outputs": [
        {
          "output_type": "execute_result",
          "data": {
            "text/plain": [
              "<tf.Variable 'Variable:0' shape=(2, 2) dtype=float16, numpy=\n",
              "array([[42.,  7.],\n",
              "       [11.,  9.]], dtype=float16)>"
            ]
          },
          "metadata": {
            "tags": []
          },
          "execution_count": 12
        }
      ]
    },
    {
      "cell_type": "code",
      "metadata": {
        "colab": {
          "base_uri": "https://localhost:8080/"
        },
        "id": "A14CWERAPG3V",
        "outputId": "0d921bda-de68-409a-f9a8-7c6be7b8dc89"
      },
      "source": [
        "tf.norm(X_tf)"
      ],
      "execution_count": 13,
      "outputs": [
        {
          "output_type": "execute_result",
          "data": {
            "text/plain": [
              "<tf.Tensor: shape=(), dtype=float16, numpy=44.88>"
            ]
          },
          "metadata": {
            "tags": []
          },
          "execution_count": 13
        }
      ]
    },
    {
      "cell_type": "code",
      "metadata": {
        "id": "fMU1LniePLN2"
      },
      "source": [
        ""
      ],
      "execution_count": null,
      "outputs": []
    }
  ]
}