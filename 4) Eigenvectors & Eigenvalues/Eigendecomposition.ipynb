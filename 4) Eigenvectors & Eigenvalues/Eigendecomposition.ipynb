{
  "nbformat": 4,
  "nbformat_minor": 0,
  "metadata": {
    "colab": {
      "name": "Eigendecomposition.ipynb",
      "provenance": [],
      "collapsed_sections": []
    },
    "kernelspec": {
      "name": "python3",
      "display_name": "Python 3"
    },
    "language_info": {
      "name": "python"
    }
  },
  "cells": [
    {
      "cell_type": "markdown",
      "metadata": {
        "id": "BS766uFScsQH"
      },
      "source": [
        "# Eigendecomposition\n",
        "\n",
        "$A=V\\Lambda V^{-1}$\n",
        "\n",
        "- $V$ is the concatenation of all Eigenvectors of $A$\n",
        "- $\\Lambda$ is $diag(\\lambda)$ where $\\lambda$ is the vector of Eigenvalues\n",
        "- usually the $\\lambda$'s are arranged in descending order, so that the first eigenvalue with its associated eigenvector may be primary characteristic of matrix $A$"
      ]
    },
    {
      "cell_type": "markdown",
      "metadata": {
        "id": "llISQRffelqo"
      },
      "source": [
        "## Numpy\n",
        "### Eigendecomposition with asymmetric matrix\n",
        "\n",
        "$A=V\\Lambda V^{-1}$\n"
      ]
    },
    {
      "cell_type": "code",
      "metadata": {
        "id": "dFN-2_9ER_k2"
      },
      "source": [
        "import numpy as np"
      ],
      "execution_count": 1,
      "outputs": []
    },
    {
      "cell_type": "code",
      "metadata": {
        "colab": {
          "base_uri": "https://localhost:8080/"
        },
        "id": "aaV_qnsOen5_",
        "outputId": "e44a3743-3f4e-46c0-85a2-734ae61e491b"
      },
      "source": [
        "A = np.array([[4,2], [-5,-3]])\n",
        "A"
      ],
      "execution_count": 2,
      "outputs": [
        {
          "output_type": "execute_result",
          "data": {
            "text/plain": [
              "array([[ 4,  2],\n",
              "       [-5, -3]])"
            ]
          },
          "metadata": {
            "tags": []
          },
          "execution_count": 2
        }
      ]
    },
    {
      "cell_type": "code",
      "metadata": {
        "id": "IHURRE2Jes68"
      },
      "source": [
        "lambdas, V = np.linalg.eig(A)"
      ],
      "execution_count": 3,
      "outputs": []
    },
    {
      "cell_type": "code",
      "metadata": {
        "colab": {
          "base_uri": "https://localhost:8080/"
        },
        "id": "VIkoXONMexcD",
        "outputId": "0a111407-45bc-44bd-c8ea-4cccea2af164"
      },
      "source": [
        "V"
      ],
      "execution_count": 4,
      "outputs": [
        {
          "output_type": "execute_result",
          "data": {
            "text/plain": [
              "array([[ 0.70710678, -0.37139068],\n",
              "       [-0.70710678,  0.92847669]])"
            ]
          },
          "metadata": {
            "tags": []
          },
          "execution_count": 4
        }
      ]
    },
    {
      "cell_type": "code",
      "metadata": {
        "colab": {
          "base_uri": "https://localhost:8080/"
        },
        "id": "xiOcPZKNeyE0",
        "outputId": "04094c49-a4f3-4925-9233-2a11a5ccdb03"
      },
      "source": [
        "lambdas"
      ],
      "execution_count": 5,
      "outputs": [
        {
          "output_type": "execute_result",
          "data": {
            "text/plain": [
              "array([ 2., -1.])"
            ]
          },
          "metadata": {
            "tags": []
          },
          "execution_count": 5
        }
      ]
    },
    {
      "cell_type": "code",
      "metadata": {
        "colab": {
          "base_uri": "https://localhost:8080/"
        },
        "id": "YjNIMOAae0LU",
        "outputId": "3bd09c5c-90d2-47bd-f851-da3dc1ed7cea"
      },
      "source": [
        "V_inv = np.linalg.inv(V)\n",
        "V_inv"
      ],
      "execution_count": 6,
      "outputs": [
        {
          "output_type": "execute_result",
          "data": {
            "text/plain": [
              "array([[2.3570226 , 0.94280904],\n",
              "       [1.79505494, 1.79505494]])"
            ]
          },
          "metadata": {
            "tags": []
          },
          "execution_count": 6
        }
      ]
    },
    {
      "cell_type": "code",
      "metadata": {
        "colab": {
          "base_uri": "https://localhost:8080/"
        },
        "id": "aRFBBxAxe8xl",
        "outputId": "5c0c0263-7047-4dd9-c8ea-55a09ed74533"
      },
      "source": [
        "Lambda = np.diag(lambdas)\n",
        "Lambda"
      ],
      "execution_count": 7,
      "outputs": [
        {
          "output_type": "execute_result",
          "data": {
            "text/plain": [
              "array([[ 2.,  0.],\n",
              "       [ 0., -1.]])"
            ]
          },
          "metadata": {
            "tags": []
          },
          "execution_count": 7
        }
      ]
    },
    {
      "cell_type": "code",
      "metadata": {
        "colab": {
          "base_uri": "https://localhost:8080/"
        },
        "id": "V6xTNdj5fBLV",
        "outputId": "40271cc5-d580-4634-c8e8-a244d0bbf545"
      },
      "source": [
        "np.dot(V, np.dot(Lambda, V_inv)) # confirm Eigendecomposition"
      ],
      "execution_count": 8,
      "outputs": [
        {
          "output_type": "execute_result",
          "data": {
            "text/plain": [
              "array([[ 4.,  2.],\n",
              "       [-5., -3.]])"
            ]
          },
          "metadata": {
            "tags": []
          },
          "execution_count": 8
        }
      ]
    },
    {
      "cell_type": "markdown",
      "metadata": {
        "id": "v7XewTBGgPZD"
      },
      "source": [
        "## Numpy\n",
        "### Eigendecomposition with symmetric matrix\n",
        "\n",
        "$A=Q\\Lambda Q^{T}$\n",
        "\n",
        "- $Q$ analogous to $V$ except its an orthogonal matrix, hence $Q^{-1}=Q^{T}$\n",
        "- orthogonal means $Q^{-1}Q^{T}=I$\n",
        "- useful for ML because cheap to compute transpose as opposed to inverse\n"
      ]
    },
    {
      "cell_type": "code",
      "metadata": {
        "colab": {
          "base_uri": "https://localhost:8080/"
        },
        "id": "xlrEoFa8fGXu",
        "outputId": "2adc2c95-e81c-4b1e-bd51-c3bd78b4b999"
      },
      "source": [
        "A = np.array([[2,1], [1,2]])\n",
        "A"
      ],
      "execution_count": 9,
      "outputs": [
        {
          "output_type": "execute_result",
          "data": {
            "text/plain": [
              "array([[2, 1],\n",
              "       [1, 2]])"
            ]
          },
          "metadata": {
            "tags": []
          },
          "execution_count": 9
        }
      ]
    },
    {
      "cell_type": "code",
      "metadata": {
        "id": "q2RvHTAigrLD"
      },
      "source": [
        "lambdas, Q = np.linalg.eig(A)"
      ],
      "execution_count": 10,
      "outputs": []
    },
    {
      "cell_type": "code",
      "metadata": {
        "colab": {
          "base_uri": "https://localhost:8080/"
        },
        "id": "H8x9oZrbgv_k",
        "outputId": "cfb10108-b377-46dc-a9d0-1b4db6dd5b4d"
      },
      "source": [
        "Q"
      ],
      "execution_count": 11,
      "outputs": [
        {
          "output_type": "execute_result",
          "data": {
            "text/plain": [
              "array([[ 0.70710678, -0.70710678],\n",
              "       [ 0.70710678,  0.70710678]])"
            ]
          },
          "metadata": {
            "tags": []
          },
          "execution_count": 11
        }
      ]
    },
    {
      "cell_type": "code",
      "metadata": {
        "colab": {
          "base_uri": "https://localhost:8080/"
        },
        "id": "DKgVTC7ugx6r",
        "outputId": "c184faa8-8423-458b-aaa3-fe54f917e993"
      },
      "source": [
        "lambdas"
      ],
      "execution_count": 12,
      "outputs": [
        {
          "output_type": "execute_result",
          "data": {
            "text/plain": [
              "array([3., 1.])"
            ]
          },
          "metadata": {
            "tags": []
          },
          "execution_count": 12
        }
      ]
    },
    {
      "cell_type": "code",
      "metadata": {
        "colab": {
          "base_uri": "https://localhost:8080/"
        },
        "id": "g0D0CJeHg3lN",
        "outputId": "9cc41371-3415-4313-be2a-62bb11cfbaa8"
      },
      "source": [
        "Lambda = np.diag(lambdas)\n",
        "Lambda"
      ],
      "execution_count": 13,
      "outputs": [
        {
          "output_type": "execute_result",
          "data": {
            "text/plain": [
              "array([[3., 0.],\n",
              "       [0., 1.]])"
            ]
          },
          "metadata": {
            "tags": []
          },
          "execution_count": 13
        }
      ]
    },
    {
      "cell_type": "code",
      "metadata": {
        "colab": {
          "base_uri": "https://localhost:8080/"
        },
        "id": "-Z6wyckzg7DL",
        "outputId": "1a03d850-ac80-42e1-85c8-fca8da2b2aa4"
      },
      "source": [
        "np.dot(Q, np.dot(Lambda, Q.T)) # confirm Eigendecomposition characteristic"
      ],
      "execution_count": 14,
      "outputs": [
        {
          "output_type": "execute_result",
          "data": {
            "text/plain": [
              "array([[2., 1.],\n",
              "       [1., 2.]])"
            ]
          },
          "metadata": {
            "tags": []
          },
          "execution_count": 14
        }
      ]
    },
    {
      "cell_type": "code",
      "metadata": {
        "colab": {
          "base_uri": "https://localhost:8080/"
        },
        "id": "GFHndzFyhAFD",
        "outputId": "3f413bf4-d4c8-4296-ad6f-a92ac5e87609"
      },
      "source": [
        "np.dot(Q.T, Q) # confirm that Q is orthogonal"
      ],
      "execution_count": 15,
      "outputs": [
        {
          "output_type": "execute_result",
          "data": {
            "text/plain": [
              "array([[1.00000000e+00, 2.23711432e-17],\n",
              "       [2.23711432e-17, 1.00000000e+00]])"
            ]
          },
          "metadata": {
            "tags": []
          },
          "execution_count": 15
        }
      ]
    },
    {
      "cell_type": "code",
      "metadata": {
        "colab": {
          "base_uri": "https://localhost:8080/"
        },
        "id": "yxMcXPIdhM7N",
        "outputId": "1ebb316a-46f6-48b1-b930-6d7e87587847"
      },
      "source": [
        "np.dot(Q, Q.T) # confirm that Q is orthogonal"
      ],
      "execution_count": 16,
      "outputs": [
        {
          "output_type": "execute_result",
          "data": {
            "text/plain": [
              "array([[ 1.00000000e+00, -2.23711432e-17],\n",
              "       [-2.23711432e-17,  1.00000000e+00]])"
            ]
          },
          "metadata": {
            "tags": []
          },
          "execution_count": 16
        }
      ]
    },
    {
      "cell_type": "markdown",
      "metadata": {
        "id": "TVo2w3a4ixun"
      },
      "source": [
        "## PyTorch\n",
        "### Eigendecomposition with asymmetric matrix\n",
        "\n",
        "$A=V\\Lambda V^{-1}$\n"
      ]
    },
    {
      "cell_type": "code",
      "metadata": {
        "id": "CkEIa3_ChaQA"
      },
      "source": [
        "import torch"
      ],
      "execution_count": 17,
      "outputs": []
    },
    {
      "cell_type": "code",
      "metadata": {
        "colab": {
          "base_uri": "https://localhost:8080/"
        },
        "id": "oG3UUX6bi7mU",
        "outputId": "2ea7b2c6-7410-43ea-ca64-3830661075de"
      },
      "source": [
        "A_torch = torch.tensor([[25,2,-5], [3,-2,1], [5,7,4.]]) # must be floats\n",
        "A_torch"
      ],
      "execution_count": 18,
      "outputs": [
        {
          "output_type": "execute_result",
          "data": {
            "text/plain": [
              "tensor([[25.,  2., -5.],\n",
              "        [ 3., -2.,  1.],\n",
              "        [ 5.,  7.,  4.]])"
            ]
          },
          "metadata": {
            "tags": []
          },
          "execution_count": 18
        }
      ]
    },
    {
      "cell_type": "code",
      "metadata": {
        "id": "7-8u82dNjHx5"
      },
      "source": [
        "lambdas_torch, V_torch = torch.linalg.eig(A_torch)"
      ],
      "execution_count": 19,
      "outputs": []
    },
    {
      "cell_type": "code",
      "metadata": {
        "colab": {
          "base_uri": "https://localhost:8080/"
        },
        "id": "NfpuvtQKjS1x",
        "outputId": "8daa70f0-7c93-42ce-da85-9d5bcfe8ab7d"
      },
      "source": [
        "V_torch = V_torch.float()\n",
        "V_torch"
      ],
      "execution_count": 20,
      "outputs": [
        {
          "output_type": "stream",
          "text": [
            "/usr/local/lib/python3.7/dist-packages/ipykernel_launcher.py:1: UserWarning: Casting complex values to real discards the imaginary part (Triggered internally at  /pytorch/aten/src/ATen/native/Copy.cpp:240.)\n",
            "  \"\"\"Entry point for launching an IPython kernel.\n"
          ],
          "name": "stderr"
        },
        {
          "output_type": "execute_result",
          "data": {
            "text/plain": [
              "tensor([[ 0.9511, -0.2386,  0.1626],\n",
              "        [ 0.1218, -0.1924, -0.7705],\n",
              "        [ 0.2837, -0.9519,  0.6163]])"
            ]
          },
          "metadata": {
            "tags": []
          },
          "execution_count": 20
        }
      ]
    },
    {
      "cell_type": "code",
      "metadata": {
        "colab": {
          "base_uri": "https://localhost:8080/"
        },
        "id": "rcQZhdoyj1rE",
        "outputId": "a0705720-d969-485c-994e-f00a8d05e67a"
      },
      "source": [
        "V_torch_inv = torch.linalg.inv(V_torch)\n",
        "V_torch_inv"
      ],
      "execution_count": 21,
      "outputs": [
        {
          "output_type": "execute_result",
          "data": {
            "text/plain": [
              "tensor([[ 1.1356,  0.0102, -0.2868],\n",
              "        [ 0.3914, -0.7198, -1.0032],\n",
              "        [ 0.0817, -1.1164,  0.2052]])"
            ]
          },
          "metadata": {
            "tags": []
          },
          "execution_count": 21
        }
      ]
    },
    {
      "cell_type": "code",
      "metadata": {
        "colab": {
          "base_uri": "https://localhost:8080/"
        },
        "id": "n6feGpgqjjX7",
        "outputId": "274f3057-eeba-41f5-b552-8282209f627a"
      },
      "source": [
        "Lambda_torch = torch.diag(lambdas_torch.float())\n",
        "Lambda_torch"
      ],
      "execution_count": 22,
      "outputs": [
        {
          "output_type": "execute_result",
          "data": {
            "text/plain": [
              "tensor([[23.7644,  0.0000,  0.0000],\n",
              "        [ 0.0000,  6.6684,  0.0000],\n",
              "        [ 0.0000,  0.0000, -3.4328]])"
            ]
          },
          "metadata": {
            "tags": []
          },
          "execution_count": 22
        }
      ]
    },
    {
      "cell_type": "code",
      "metadata": {
        "colab": {
          "base_uri": "https://localhost:8080/"
        },
        "id": "_GNLRSCFjvni",
        "outputId": "3712ce32-4b6b-4a8d-f352-3faf39ed0e75"
      },
      "source": [
        "torch.matmul(V_torch, torch.matmul(Lambda_torch, V_torch_inv)) # confirm Eigendecomposition characteristic"
      ],
      "execution_count": 23,
      "outputs": [
        {
          "output_type": "execute_result",
          "data": {
            "text/plain": [
              "tensor([[25.0000,  2.0000, -5.0000],\n",
              "        [ 3.0000, -2.0000,  1.0000],\n",
              "        [ 5.0000,  7.0000,  4.0000]])"
            ]
          },
          "metadata": {
            "tags": []
          },
          "execution_count": 23
        }
      ]
    },
    {
      "cell_type": "markdown",
      "metadata": {
        "id": "1Vbg-trckT6-"
      },
      "source": [
        "## TensorFlow\n",
        "### Eigendecomposition with symmetric matrix\n",
        "\n",
        "$A=Q\\Lambda Q^{T}$"
      ]
    },
    {
      "cell_type": "code",
      "metadata": {
        "id": "AsTSjb-DkRYP"
      },
      "source": [
        "import tensorflow as tf"
      ],
      "execution_count": 24,
      "outputs": []
    },
    {
      "cell_type": "code",
      "metadata": {
        "colab": {
          "base_uri": "https://localhost:8080/"
        },
        "id": "7_qONsS5kkAu",
        "outputId": "5c981d1a-1d5a-494b-f8a6-38d250ca0403"
      },
      "source": [
        "A_tf = tf.Variable([[25,2,-5], [2,-2,1], [-5,1,4.]])\n",
        "A_tf"
      ],
      "execution_count": 25,
      "outputs": [
        {
          "output_type": "execute_result",
          "data": {
            "text/plain": [
              "<tf.Variable 'Variable:0' shape=(3, 3) dtype=float32, numpy=\n",
              "array([[25.,  2., -5.],\n",
              "       [ 2., -2.,  1.],\n",
              "       [-5.,  1.,  4.]], dtype=float32)>"
            ]
          },
          "metadata": {
            "tags": []
          },
          "execution_count": 25
        }
      ]
    },
    {
      "cell_type": "code",
      "metadata": {
        "id": "zvw_4s2HkweP"
      },
      "source": [
        "lambdas_tf, Q_tf = tf.linalg.eig(A_tf)"
      ],
      "execution_count": 26,
      "outputs": []
    },
    {
      "cell_type": "code",
      "metadata": {
        "colab": {
          "base_uri": "https://localhost:8080/"
        },
        "id": "cG9LQkrQlCce",
        "outputId": "51c7d23c-a4a5-4feb-d906-c4688ffcbcaf"
      },
      "source": [
        "Q_tf = tf.cast(Q_tf, dtype=tf.float32)\n",
        "Q_tf"
      ],
      "execution_count": 27,
      "outputs": [
        {
          "output_type": "execute_result",
          "data": {
            "text/plain": [
              "<tf.Tensor: shape=(3, 3), dtype=float32, numpy=\n",
              "array([[ 0.11323708, -0.19428189,  0.974388  ],\n",
              "       [-0.9650548 , -0.25476408,  0.06135537],\n",
              "       [ 0.23631889, -0.9472855 , -0.21634144]], dtype=float32)>"
            ]
          },
          "metadata": {
            "tags": []
          },
          "execution_count": 27
        }
      ]
    },
    {
      "cell_type": "code",
      "metadata": {
        "colab": {
          "base_uri": "https://localhost:8080/"
        },
        "id": "eS9xwkXJlLPz",
        "outputId": "240cb193-b626-4331-dcb7-e63968879454"
      },
      "source": [
        "Q_tf_T = tf.transpose(Q_tf)\n",
        "Q_tf_T"
      ],
      "execution_count": 28,
      "outputs": [
        {
          "output_type": "execute_result",
          "data": {
            "text/plain": [
              "<tf.Tensor: shape=(3, 3), dtype=float32, numpy=\n",
              "array([[ 0.11323708, -0.9650548 ,  0.23631889],\n",
              "       [-0.19428189, -0.25476408, -0.9472855 ],\n",
              "       [ 0.974388  ,  0.06135537, -0.21634144]], dtype=float32)>"
            ]
          },
          "metadata": {
            "tags": []
          },
          "execution_count": 28
        }
      ]
    },
    {
      "cell_type": "code",
      "metadata": {
        "colab": {
          "base_uri": "https://localhost:8080/"
        },
        "id": "FQ9I0yDplRHY",
        "outputId": "94d45302-33df-4788-a963-eff463d5761a"
      },
      "source": [
        "lambdas_tf = tf.cast(lambdas_tf, dtype=tf.float32)\n",
        "lambdas_tf"
      ],
      "execution_count": 29,
      "outputs": [
        {
          "output_type": "execute_result",
          "data": {
            "text/plain": [
              "<tf.Tensor: shape=(3,), dtype=float32, numpy=array([-2.479551 ,  3.2434747, 26.236074 ], dtype=float32)>"
            ]
          },
          "metadata": {
            "tags": []
          },
          "execution_count": 29
        }
      ]
    },
    {
      "cell_type": "code",
      "metadata": {
        "colab": {
          "base_uri": "https://localhost:8080/"
        },
        "id": "seSxs5moleEo",
        "outputId": "5619f068-7866-442e-c932-c4d4a4d635d4"
      },
      "source": [
        "Lambda_tf = tf.linalg.diag(lambdas_tf)\n",
        "Lambda_tf"
      ],
      "execution_count": 30,
      "outputs": [
        {
          "output_type": "execute_result",
          "data": {
            "text/plain": [
              "<tf.Tensor: shape=(3, 3), dtype=float32, numpy=\n",
              "array([[-2.479551 ,  0.       ,  0.       ],\n",
              "       [ 0.       ,  3.2434747,  0.       ],\n",
              "       [ 0.       ,  0.       , 26.236074 ]], dtype=float32)>"
            ]
          },
          "metadata": {
            "tags": []
          },
          "execution_count": 30
        }
      ]
    },
    {
      "cell_type": "code",
      "metadata": {
        "colab": {
          "base_uri": "https://localhost:8080/"
        },
        "id": "GIhV25fTlxMq",
        "outputId": "2cb014d7-2950-4518-de97-a65c56e28b4d"
      },
      "source": [
        "tf.matmul(Q_tf, tf.matmul(Lambda_tf, Q_tf_T)) # confirm Eigendecomposition characteristic"
      ],
      "execution_count": 31,
      "outputs": [
        {
          "output_type": "execute_result",
          "data": {
            "text/plain": [
              "<tf.Tensor: shape=(3, 3), dtype=float32, numpy=\n",
              "array([[25.       ,  2.0000002, -5.       ],\n",
              "       [ 2.0000002, -1.9999999,  0.9999998],\n",
              "       [-5.       ,  0.9999998,  4.       ]], dtype=float32)>"
            ]
          },
          "metadata": {
            "tags": []
          },
          "execution_count": 31
        }
      ]
    },
    {
      "cell_type": "code",
      "metadata": {
        "id": "j_lz8Sb1l5sz"
      },
      "source": [
        ""
      ],
      "execution_count": 31,
      "outputs": []
    }
  ]
}