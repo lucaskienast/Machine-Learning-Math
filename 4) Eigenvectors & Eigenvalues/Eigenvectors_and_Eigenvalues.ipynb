{
  "nbformat": 4,
  "nbformat_minor": 0,
  "metadata": {
    "colab": {
      "name": "Eigenvectors and Eigenvalues.ipynb",
      "provenance": [],
      "collapsed_sections": []
    },
    "kernelspec": {
      "name": "python3",
      "display_name": "Python 3"
    },
    "language_info": {
      "name": "python"
    }
  },
  "cells": [
    {
      "cell_type": "markdown",
      "metadata": {
        "id": "FhXcO3wen1al"
      },
      "source": [
        "# Eigenvectors & Eigenvalues\n",
        "\n",
        "- Eigenvector $v$\n",
        "- Eigenvalue $\\lambda$\n",
        "\n",
        "$Av=\\lambda v$\n",
        "\n",
        "$Av$ has same direction as $v$.\n",
        "\n",
        "- $A$ must be square\n",
        "- $v$ must be non-zero vector\n",
        "- $\\lambda$ must be non-zero\n",
        "- more than one $v$ can have the same $\\lambda$\n",
        "- one $v$ cannot have more than one $\\lambda$"
      ]
    },
    {
      "cell_type": "markdown",
      "metadata": {
        "id": "jXGGVcMKpuLO"
      },
      "source": [
        "## Numpy\n",
        "\n",
        "`np.linalg.eig(A)` returns a tuple of:\n",
        "- vector of eigenvalues\n",
        "- matrix of eigenvectors"
      ]
    },
    {
      "cell_type": "code",
      "metadata": {
        "id": "Zcx_9h_SlvRJ"
      },
      "source": [
        "import numpy as np"
      ],
      "execution_count": 1,
      "outputs": []
    },
    {
      "cell_type": "code",
      "metadata": {
        "colab": {
          "base_uri": "https://localhost:8080/"
        },
        "id": "HdKGk5gNpwUc",
        "outputId": "32bb7fcd-ae5c-4f39-e233-2c5476700eeb"
      },
      "source": [
        "A = np.array([[-1, 4], [2, -2]])\n",
        "A"
      ],
      "execution_count": 2,
      "outputs": [
        {
          "output_type": "execute_result",
          "data": {
            "text/plain": [
              "array([[-1,  4],\n",
              "       [ 2, -2]])"
            ]
          },
          "metadata": {
            "tags": []
          },
          "execution_count": 2
        }
      ]
    },
    {
      "cell_type": "code",
      "metadata": {
        "id": "Ag8EWybzqfc8"
      },
      "source": [
        "lambdas, V = np.linalg.eig(A)"
      ],
      "execution_count": 3,
      "outputs": []
    },
    {
      "cell_type": "code",
      "metadata": {
        "colab": {
          "base_uri": "https://localhost:8080/"
        },
        "id": "Ho4adlBMq81P",
        "outputId": "5dd339e8-d652-4bb2-bc71-3dc475a55fdd"
      },
      "source": [
        "V # each column separate eigenvector v"
      ],
      "execution_count": 4,
      "outputs": [
        {
          "output_type": "execute_result",
          "data": {
            "text/plain": [
              "array([[ 0.86011126, -0.76454754],\n",
              "       [ 0.51010647,  0.64456735]])"
            ]
          },
          "metadata": {
            "tags": []
          },
          "execution_count": 4
        }
      ]
    },
    {
      "cell_type": "code",
      "metadata": {
        "colab": {
          "base_uri": "https://localhost:8080/"
        },
        "id": "Nve_xBu_rBJ_",
        "outputId": "4efe3425-2d66-41a3-c12b-42bd576e5a74"
      },
      "source": [
        "lambdas # each vector element separate eigenvalue lambda"
      ],
      "execution_count": 5,
      "outputs": [
        {
          "output_type": "execute_result",
          "data": {
            "text/plain": [
              "array([ 1.37228132, -4.37228132])"
            ]
          },
          "metadata": {
            "tags": []
          },
          "execution_count": 5
        }
      ]
    },
    {
      "cell_type": "markdown",
      "metadata": {
        "id": "5xI2avWjrWKt"
      },
      "source": [
        "Show that $Av=\\lambda v$ for first Eigenvector and Eigenvalue."
      ]
    },
    {
      "cell_type": "code",
      "metadata": {
        "colab": {
          "base_uri": "https://localhost:8080/"
        },
        "id": "vbKOXyScrDA3",
        "outputId": "8ac53e6a-028c-4b62-b15b-086aa7e85326"
      },
      "source": [
        "v = V[:,0]\n",
        "v"
      ],
      "execution_count": 6,
      "outputs": [
        {
          "output_type": "execute_result",
          "data": {
            "text/plain": [
              "array([0.86011126, 0.51010647])"
            ]
          },
          "metadata": {
            "tags": []
          },
          "execution_count": 6
        }
      ]
    },
    {
      "cell_type": "code",
      "metadata": {
        "colab": {
          "base_uri": "https://localhost:8080/"
        },
        "id": "MXSYxGQPre5y",
        "outputId": "1cd7739b-a538-4963-a77e-34224f31120f"
      },
      "source": [
        "lam = lambdas[0]\n",
        "lam"
      ],
      "execution_count": 7,
      "outputs": [
        {
          "output_type": "execute_result",
          "data": {
            "text/plain": [
              "1.3722813232690143"
            ]
          },
          "metadata": {
            "tags": []
          },
          "execution_count": 7
        }
      ]
    },
    {
      "cell_type": "code",
      "metadata": {
        "colab": {
          "base_uri": "https://localhost:8080/"
        },
        "id": "8t6iF5s-rnNq",
        "outputId": "3a9de2a1-8c9e-4b10-ede4-5a4864630802"
      },
      "source": [
        "Av = np.dot(A, v)\n",
        "Av"
      ],
      "execution_count": 8,
      "outputs": [
        {
          "output_type": "execute_result",
          "data": {
            "text/plain": [
              "array([1.18031462, 0.70000958])"
            ]
          },
          "metadata": {
            "tags": []
          },
          "execution_count": 8
        }
      ]
    },
    {
      "cell_type": "code",
      "metadata": {
        "colab": {
          "base_uri": "https://localhost:8080/"
        },
        "id": "1RY2FGHTrqiK",
        "outputId": "55df4f9a-a62c-42b4-e888-b245b84366f9"
      },
      "source": [
        "lam*v"
      ],
      "execution_count": 9,
      "outputs": [
        {
          "output_type": "execute_result",
          "data": {
            "text/plain": [
              "array([1.18031462, 0.70000958])"
            ]
          },
          "metadata": {
            "tags": []
          },
          "execution_count": 9
        }
      ]
    },
    {
      "cell_type": "code",
      "metadata": {
        "colab": {
          "base_uri": "https://localhost:8080/"
        },
        "id": "2bjyu6qjrtEr",
        "outputId": "3789a624-1a4a-4b22-a9f1-4a8d5379db1f"
      },
      "source": [
        "Av == lam*v"
      ],
      "execution_count": 10,
      "outputs": [
        {
          "output_type": "execute_result",
          "data": {
            "text/plain": [
              "array([ True,  True])"
            ]
          },
          "metadata": {
            "tags": []
          },
          "execution_count": 10
        }
      ]
    },
    {
      "cell_type": "code",
      "metadata": {
        "id": "ffR-4l_orwzS"
      },
      "source": [
        "import matplotlib.pyplot as plt\n",
        "\n",
        "def plot_vectors(vectors, colors):\n",
        "  # based on Hadrien Jean's plotVectors() under MIT license\n",
        "  \"\"\"\n",
        "    Plot one or more vectors in a 2D plane, specifying a color for each. \n",
        "\n",
        "    Arguments\n",
        "    ---------\n",
        "    vectors: list of lists or of arrays\n",
        "        Coordinates of the vectors to plot. For example, [[1, 3], [2, 2]] \n",
        "        contains two vectors to plot, [1, 3] and [2, 2].\n",
        "    colors: list\n",
        "        Colors of the vectors. For instance: ['red', 'blue'] will display the\n",
        "        first vector in red and the second in blue.\n",
        "        \n",
        "    Example\n",
        "    -------\n",
        "    plot_vectors([[1, 3], [2, 2]], ['red', 'blue'])\n",
        "    plt.xlim(-1, 4)\n",
        "    plt.ylim(-1, 4)\n",
        "  \"\"\"\n",
        "  plt.figure()\n",
        "  plt.axvline(x=0, color=\"lightgray\")\n",
        "  plt.axhline(y=0, color=\"lightgray\")\n",
        "\n",
        "  for i in range(len(vectors)):\n",
        "    x = np.concatenate([[0,0], vectors[i]])\n",
        "    plt.quiver([x[0]], [x[1]], [x[2]], [x[3]],\n",
        "                angles=\"xy\", scale_units=\"xy\", scale=1, color=colors[i])"
      ],
      "execution_count": 11,
      "outputs": []
    },
    {
      "cell_type": "code",
      "metadata": {
        "colab": {
          "base_uri": "https://localhost:8080/",
          "height": 269
        },
        "id": "3LjMAwq4r5YL",
        "outputId": "bc88c0cc-cd56-4de4-d2f7-cf247cc22e74"
      },
      "source": [
        "plot_vectors([Av, v], [\"blue\", \"lightblue\"])\n",
        "plt.xlim(-1,2)\n",
        "plt.ylim(-1,2)\n",
        "plt.show()"
      ],
      "execution_count": 12,
      "outputs": [
        {
          "output_type": "display_data",
          "data": {
            "image/png": "[encoded data removed]",
            "text/plain": [
              "<Figure size 432x288 with 1 Axes>"
            ]
          },
          "metadata": {
            "tags": [],
            "needs_background": "light"
          }
        }
      ]
    },
    {
      "cell_type": "markdown",
      "metadata": {
        "id": "UWWa2NMmsSIW"
      },
      "source": [
        "## PyTorch\n",
        "\n",
        "`torch.linalg.eig(A_torch)` returns a tuple of:\n",
        "- vector of eigenvalues\n",
        "- matrix of eigenvectors\n",
        "- complex numbers because real matrices can have complex eigenvectors"
      ]
    },
    {
      "cell_type": "code",
      "metadata": {
        "id": "vBUY78eOsFtT"
      },
      "source": [
        "import torch"
      ],
      "execution_count": 13,
      "outputs": []
    },
    {
      "cell_type": "code",
      "metadata": {
        "colab": {
          "base_uri": "https://localhost:8080/"
        },
        "id": "2njWrnDnsZ-G",
        "outputId": "81baeed7-863b-48ec-e568-6e5fe7278ae0"
      },
      "source": [
        "A_torch = torch.tensor([[-1,4], [2,-2.]]) # must be floats for PyTorch eig()\n",
        "A_torch"
      ],
      "execution_count": 14,
      "outputs": [
        {
          "output_type": "execute_result",
          "data": {
            "text/plain": [
              "tensor([[-1.,  4.],\n",
              "        [ 2., -2.]])"
            ]
          },
          "metadata": {
            "tags": []
          },
          "execution_count": 14
        }
      ]
    },
    {
      "cell_type": "code",
      "metadata": {
        "id": "D42MQ47osgiE"
      },
      "source": [
        "# gives complex numbers because real matrices can have complex eigenvectors\n",
        "lambdas_torch, V_torch = torch.linalg.eig(A_torch)"
      ],
      "execution_count": 15,
      "outputs": []
    },
    {
      "cell_type": "code",
      "metadata": {
        "colab": {
          "base_uri": "https://localhost:8080/"
        },
        "id": "291mIklIs_5D",
        "outputId": "1568823d-01ac-48c3-8662-f753461909c3"
      },
      "source": [
        "V_torch"
      ],
      "execution_count": 16,
      "outputs": [
        {
          "output_type": "execute_result",
          "data": {
            "text/plain": [
              "tensor([[ 0.8601+0.j, -0.7645+0.j],\n",
              "        [ 0.5101+0.j,  0.6446+0.j]])"
            ]
          },
          "metadata": {
            "tags": []
          },
          "execution_count": 16
        }
      ]
    },
    {
      "cell_type": "code",
      "metadata": {
        "colab": {
          "base_uri": "https://localhost:8080/"
        },
        "id": "5kAf-LfYtMXi",
        "outputId": "8de1facd-7ada-44c7-920f-25b0761b80a2"
      },
      "source": [
        "V_torch_real = V_torch.float() # discard complex part because zero here\n",
        "V_torch_real"
      ],
      "execution_count": 17,
      "outputs": [
        {
          "output_type": "stream",
          "text": [
            "/usr/local/lib/python3.7/dist-packages/ipykernel_launcher.py:1: UserWarning: Casting complex values to real discards the imaginary part (Triggered internally at  /pytorch/aten/src/ATen/native/Copy.cpp:240.)\n",
            "  \"\"\"Entry point for launching an IPython kernel.\n"
          ],
          "name": "stderr"
        },
        {
          "output_type": "execute_result",
          "data": {
            "text/plain": [
              "tensor([[ 0.8601, -0.7645],\n",
              "        [ 0.5101,  0.6446]])"
            ]
          },
          "metadata": {
            "tags": []
          },
          "execution_count": 17
        }
      ]
    },
    {
      "cell_type": "code",
      "metadata": {
        "colab": {
          "base_uri": "https://localhost:8080/"
        },
        "id": "JUOFdF0KtVQT",
        "outputId": "dd16031e-6ecf-4ac9-8e76-f3c9eb0721d0"
      },
      "source": [
        "lambdas_torch # also gives complex numbers"
      ],
      "execution_count": 18,
      "outputs": [
        {
          "output_type": "execute_result",
          "data": {
            "text/plain": [
              "tensor([ 1.3723+0.j, -4.3723+0.j])"
            ]
          },
          "metadata": {
            "tags": []
          },
          "execution_count": 18
        }
      ]
    },
    {
      "cell_type": "code",
      "metadata": {
        "colab": {
          "base_uri": "https://localhost:8080/"
        },
        "id": "19j7U2HUtirk",
        "outputId": "9601d7e6-eea6-437c-91c4-681ba8d95b47"
      },
      "source": [
        "lambdas_torch_real = lambdas_torch.float() # discard complex parts because zero here\n",
        "lambdas_torch_real"
      ],
      "execution_count": 19,
      "outputs": [
        {
          "output_type": "execute_result",
          "data": {
            "text/plain": [
              "tensor([ 1.3723, -4.3723])"
            ]
          },
          "metadata": {
            "tags": []
          },
          "execution_count": 19
        }
      ]
    },
    {
      "cell_type": "markdown",
      "metadata": {
        "id": "mDwh4iV3t7P5"
      },
      "source": [
        "Show that $Av=\\lambda v$ for second Eigenvector and Eigenvalue."
      ]
    },
    {
      "cell_type": "code",
      "metadata": {
        "colab": {
          "base_uri": "https://localhost:8080/"
        },
        "id": "eC-QHX_-tuK8",
        "outputId": "9bad6687-ea2a-47e2-b14e-8a2699065436"
      },
      "source": [
        "v_torch = V_torch_real[:,1]\n",
        "v_torch"
      ],
      "execution_count": 20,
      "outputs": [
        {
          "output_type": "execute_result",
          "data": {
            "text/plain": [
              "tensor([-0.7645,  0.6446])"
            ]
          },
          "metadata": {
            "tags": []
          },
          "execution_count": 20
        }
      ]
    },
    {
      "cell_type": "code",
      "metadata": {
        "colab": {
          "base_uri": "https://localhost:8080/"
        },
        "id": "WIFPgzYkuEeW",
        "outputId": "5513ba19-845c-4d5d-9934-9c2b00974757"
      },
      "source": [
        "lam_torch = lambdas_torch_real[1]\n",
        "lam_torch"
      ],
      "execution_count": 21,
      "outputs": [
        {
          "output_type": "execute_result",
          "data": {
            "text/plain": [
              "tensor(-4.3723)"
            ]
          },
          "metadata": {
            "tags": []
          },
          "execution_count": 21
        }
      ]
    },
    {
      "cell_type": "code",
      "metadata": {
        "colab": {
          "base_uri": "https://localhost:8080/"
        },
        "id": "b1KdTkCEuK91",
        "outputId": "03662a70-fb52-4331-81a5-1cea543f4a61"
      },
      "source": [
        "Av_torch = torch.matmul(A_torch, v_torch)\n",
        "Av_torch"
      ],
      "execution_count": 22,
      "outputs": [
        {
          "output_type": "execute_result",
          "data": {
            "text/plain": [
              "tensor([ 3.3428, -2.8182])"
            ]
          },
          "metadata": {
            "tags": []
          },
          "execution_count": 22
        }
      ]
    },
    {
      "cell_type": "code",
      "metadata": {
        "colab": {
          "base_uri": "https://localhost:8080/"
        },
        "id": "_BxEYz3xuWwp",
        "outputId": "6234d499-1c30-49ec-f044-6f2cce9d0b3e"
      },
      "source": [
        "lam_torch*v_torch"
      ],
      "execution_count": 23,
      "outputs": [
        {
          "output_type": "execute_result",
          "data": {
            "text/plain": [
              "tensor([ 3.3428, -2.8182])"
            ]
          },
          "metadata": {
            "tags": []
          },
          "execution_count": 23
        }
      ]
    },
    {
      "cell_type": "code",
      "metadata": {
        "colab": {
          "base_uri": "https://localhost:8080/",
          "height": 269
        },
        "id": "7FLp1-aiue3o",
        "outputId": "2f40533b-a3d7-466f-e5c3-d6ebc58a8e4f"
      },
      "source": [
        "plot_vectors([Av_torch.numpy(), v_torch.numpy()], [\"green\", \"lightgreen\"])\n",
        "plt.xlim(-1,4)\n",
        "plt.ylim(-3,2)\n",
        "plt.show()"
      ],
      "execution_count": 24,
      "outputs": [
        {
          "output_type": "display_data",
          "data": {
            "image/png": "[encoded data removed]",
            "text/plain": [
              "<Figure size 432x288 with 1 Axes>"
            ]
          },
          "metadata": {
            "tags": [],
            "needs_background": "light"
          }
        }
      ]
    },
    {
      "cell_type": "markdown",
      "metadata": {
        "id": "EsQsyTkKv-2s"
      },
      "source": [
        "## TensorFlow \n",
        "\n",
        "`tf.linalg.eig(A_torch)` returns a tuple of:\n",
        "- vector of eigenvalues\n",
        "- matrix of eigenvectors\n",
        "- also returns complex values like PyTorch"
      ]
    },
    {
      "cell_type": "code",
      "metadata": {
        "id": "Rzu8aacUvAoF"
      },
      "source": [
        "import tensorflow as tf"
      ],
      "execution_count": 25,
      "outputs": []
    },
    {
      "cell_type": "code",
      "metadata": {
        "colab": {
          "base_uri": "https://localhost:8080/"
        },
        "id": "8LZmHcL1wiOs",
        "outputId": "f87d1436-7830-4ad4-e81f-7276ad1d47fb"
      },
      "source": [
        "A_tf = tf.Variable([[25, 2, 9], [5, 26, -5], [3, 7, -1.]])\n",
        "A_tf"
      ],
      "execution_count": 26,
      "outputs": [
        {
          "output_type": "execute_result",
          "data": {
            "text/plain": [
              "<tf.Variable 'Variable:0' shape=(3, 3) dtype=float32, numpy=\n",
              "array([[25.,  2.,  9.],\n",
              "       [ 5., 26., -5.],\n",
              "       [ 3.,  7., -1.]], dtype=float32)>"
            ]
          },
          "metadata": {
            "tags": []
          },
          "execution_count": 26
        }
      ]
    },
    {
      "cell_type": "code",
      "metadata": {
        "id": "0ZDfAUWWwpYz"
      },
      "source": [
        "lambdas_tf, V_tf = tf.linalg.eig(A_tf) # also gives complex values"
      ],
      "execution_count": 27,
      "outputs": []
    },
    {
      "cell_type": "code",
      "metadata": {
        "colab": {
          "base_uri": "https://localhost:8080/"
        },
        "id": "sN0k9w_Mw0RU",
        "outputId": "ca920886-4c6a-474f-934b-c3eea02a5dfd"
      },
      "source": [
        "V_tf"
      ],
      "execution_count": 28,
      "outputs": [
        {
          "output_type": "execute_result",
          "data": {
            "text/plain": [
              "<tf.Tensor: shape=(3, 3), dtype=complex64, numpy=\n",
              "array([[ 0.34220472+0.j, -0.65019226+0.j,  0.71175736+0.j],\n",
              "       [-0.23789713+0.j,  0.74464047+0.j,  0.6665213 +0.j],\n",
              "       [-0.9090109 +0.j,  0.15086628+0.j,  0.2217    +0.j]],\n",
              "      dtype=complex64)>"
            ]
          },
          "metadata": {
            "tags": []
          },
          "execution_count": 28
        }
      ]
    },
    {
      "cell_type": "code",
      "metadata": {
        "colab": {
          "base_uri": "https://localhost:8080/"
        },
        "id": "VWt-GISKw1gi",
        "outputId": "d8ece69d-6e7f-444a-d398-f5466a2256e0"
      },
      "source": [
        "lambdas_tf"
      ],
      "execution_count": 29,
      "outputs": [
        {
          "output_type": "execute_result",
          "data": {
            "text/plain": [
              "<tf.Tensor: shape=(3,), dtype=complex64, numpy=array([-0.2974063+0.j, 20.621176 +0.j, 29.676228 +0.j], dtype=complex64)>"
            ]
          },
          "metadata": {
            "tags": []
          },
          "execution_count": 29
        }
      ]
    },
    {
      "cell_type": "markdown",
      "metadata": {
        "id": "6liaimxcx7Bw"
      },
      "source": [
        "Show that $Av=\\lambda v$ for third Eigenvector and Eigenvalue."
      ]
    },
    {
      "cell_type": "code",
      "metadata": {
        "colab": {
          "base_uri": "https://localhost:8080/"
        },
        "id": "gY63sOi_x2dD",
        "outputId": "8dd135ff-7879-4a1b-edf8-e392df6e5d7d"
      },
      "source": [
        "V_tf_real = tf.cast(V_tf, dtype=tf.float32)\n",
        "V_tf_real"
      ],
      "execution_count": 30,
      "outputs": [
        {
          "output_type": "execute_result",
          "data": {
            "text/plain": [
              "<tf.Tensor: shape=(3, 3), dtype=float32, numpy=\n",
              "array([[ 0.34220472, -0.65019226,  0.71175736],\n",
              "       [-0.23789713,  0.74464047,  0.6665213 ],\n",
              "       [-0.9090109 ,  0.15086628,  0.2217    ]], dtype=float32)>"
            ]
          },
          "metadata": {
            "tags": []
          },
          "execution_count": 30
        }
      ]
    },
    {
      "cell_type": "code",
      "metadata": {
        "colab": {
          "base_uri": "https://localhost:8080/"
        },
        "id": "tcrqHl5ByEXM",
        "outputId": "06be0f93-3b5c-4a07-998c-4c2d05cd8b95"
      },
      "source": [
        "lambdas_tf_real = tf.cast(lambdas_tf, dtype=tf.float32)\n",
        "lambdas_tf_real"
      ],
      "execution_count": 31,
      "outputs": [
        {
          "output_type": "execute_result",
          "data": {
            "text/plain": [
              "<tf.Tensor: shape=(3,), dtype=float32, numpy=array([-0.2974063, 20.621176 , 29.676228 ], dtype=float32)>"
            ]
          },
          "metadata": {
            "tags": []
          },
          "execution_count": 31
        }
      ]
    },
    {
      "cell_type": "code",
      "metadata": {
        "colab": {
          "base_uri": "https://localhost:8080/"
        },
        "id": "tDp73BdQyolY",
        "outputId": "c21d927f-b84d-4f28-97a0-c34856ac4991"
      },
      "source": [
        "v_tf = V_tf_real[:,2]\n",
        "v_tf"
      ],
      "execution_count": 32,
      "outputs": [
        {
          "output_type": "execute_result",
          "data": {
            "text/plain": [
              "<tf.Tensor: shape=(3,), dtype=float32, numpy=array([0.71175736, 0.6665213 , 0.2217    ], dtype=float32)>"
            ]
          },
          "metadata": {
            "tags": []
          },
          "execution_count": 32
        }
      ]
    },
    {
      "cell_type": "code",
      "metadata": {
        "colab": {
          "base_uri": "https://localhost:8080/"
        },
        "id": "TKnl9pTsyxqg",
        "outputId": "bfc1bc56-7d7a-4786-d17c-98a3e7b58868"
      },
      "source": [
        "lam_tf = lambdas_tf_real[2]\n",
        "lam_tf"
      ],
      "execution_count": 33,
      "outputs": [
        {
          "output_type": "execute_result",
          "data": {
            "text/plain": [
              "<tf.Tensor: shape=(), dtype=float32, numpy=29.676228>"
            ]
          },
          "metadata": {
            "tags": []
          },
          "execution_count": 33
        }
      ]
    },
    {
      "cell_type": "code",
      "metadata": {
        "colab": {
          "base_uri": "https://localhost:8080/"
        },
        "id": "K4bbdBRYy3JJ",
        "outputId": "bd4341db-fae2-4640-e482-02de23854f9b"
      },
      "source": [
        "Av_tf = tf.linalg.matvec(A_tf, v_tf)\n",
        "Av_tf"
      ],
      "execution_count": 34,
      "outputs": [
        {
          "output_type": "execute_result",
          "data": {
            "text/plain": [
              "<tf.Tensor: shape=(3,), dtype=float32, numpy=array([21.122276 , 19.77984  ,  6.5792212], dtype=float32)>"
            ]
          },
          "metadata": {
            "tags": []
          },
          "execution_count": 34
        }
      ]
    },
    {
      "cell_type": "code",
      "metadata": {
        "colab": {
          "base_uri": "https://localhost:8080/"
        },
        "id": "M0qe54rwzHT7",
        "outputId": "e04069bd-2532-4351-90a1-719407bc67a6"
      },
      "source": [
        "lam_tf * v_tf"
      ],
      "execution_count": 35,
      "outputs": [
        {
          "output_type": "execute_result",
          "data": {
            "text/plain": [
              "<tf.Tensor: shape=(3,), dtype=float32, numpy=array([21.122274, 19.779839,  6.57922 ], dtype=float32)>"
            ]
          },
          "metadata": {
            "tags": []
          },
          "execution_count": 35
        }
      ]
    }
  ]
}