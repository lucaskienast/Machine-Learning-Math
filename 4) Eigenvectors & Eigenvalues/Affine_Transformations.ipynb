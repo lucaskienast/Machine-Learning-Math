{
  "nbformat": 4,
  "nbformat_minor": 0,
  "metadata": {
    "colab": {
      "name": "Affine Transformations.ipynb",
      "provenance": [],
      "collapsed_sections": []
    },
    "kernelspec": {
      "name": "python3",
      "display_name": "Python 3"
    },
    "language_info": {
      "name": "python"
    }
  },
  "cells": [
    {
      "cell_type": "markdown",
      "metadata": {
        "id": "kW2tZBMQwBEM"
      },
      "source": [
        "# Affine Transformations with Numpy\n",
        "\n",
        "(via matrix application)\n",
        "\n",
        "An affine transformation causes a change in geometry that can adjust the distances and angles between vectors, but preserves parallelism.\n",
        "\n",
        "Affine transformations include:\n",
        "\n",
        "- reflection (e.g. over an axis)\n",
        "- scaling (changing length)\n",
        "- shearing (displacement of each point in a fixed direction)\n",
        "- rotation (changing angle)"
      ]
    },
    {
      "cell_type": "code",
      "metadata": {
        "id": "6E01_4XTS1QX"
      },
      "source": [
        "import numpy as np"
      ],
      "execution_count": 1,
      "outputs": []
    },
    {
      "cell_type": "code",
      "metadata": {
        "colab": {
          "base_uri": "https://localhost:8080/"
        },
        "id": "dguQY3MsxdvC",
        "outputId": "7ad8f9f0-5f29-4d37-fbeb-6846bd85e9bd"
      },
      "source": [
        "v = np.array([11,7])\n",
        "v"
      ],
      "execution_count": 2,
      "outputs": [
        {
          "output_type": "execute_result",
          "data": {
            "text/plain": [
              "array([11,  7])"
            ]
          },
          "metadata": {
            "tags": []
          },
          "execution_count": 2
        }
      ]
    },
    {
      "cell_type": "code",
      "metadata": {
        "id": "i8bnOpzvxixZ"
      },
      "source": [
        "import matplotlib.pyplot as plt"
      ],
      "execution_count": 3,
      "outputs": []
    },
    {
      "cell_type": "code",
      "metadata": {
        "id": "YTHivPWuxmwS"
      },
      "source": [
        "def plot_vectors(vectors, colors):\n",
        "  # based on Hadrien Jean's plotVectors() under MIT license\n",
        "  \"\"\"\n",
        "    Plot one or more vectors in a 2D plane, specifying a color for each. \n",
        "\n",
        "    Arguments\n",
        "    ---------\n",
        "    vectors: list of lists or of arrays\n",
        "        Coordinates of the vectors to plot. For example, [[1, 3], [2, 2]] \n",
        "        contains two vectors to plot, [1, 3] and [2, 2].\n",
        "    colors: list\n",
        "        Colors of the vectors. For instance: ['red', 'blue'] will display the\n",
        "        first vector in red and the second in blue.\n",
        "        \n",
        "    Example\n",
        "    -------\n",
        "    plot_vectors([[1, 3], [2, 2]], ['red', 'blue'])\n",
        "    plt.xlim(-1, 4)\n",
        "    plt.ylim(-1, 4)\n",
        "  \"\"\"\n",
        "  plt.figure()\n",
        "  plt.axvline(x=0, color=\"lightgray\")\n",
        "  plt.axhline(y=0, color=\"lightgray\")\n",
        "\n",
        "  for i in range(len(vectors)):\n",
        "    x = np.concatenate([[0,0], vectors[i]])\n",
        "    plt.quiver([x[0]], [x[1]], [x[2]], [x[3]],\n",
        "                angles=\"xy\", scale_units=\"xy\", scale=1, color=colors[i])"
      ],
      "execution_count": 4,
      "outputs": []
    },
    {
      "cell_type": "code",
      "metadata": {
        "colab": {
          "base_uri": "https://localhost:8080/",
          "height": 269
        },
        "id": "d8NwJ2VIykS_",
        "outputId": "4e030c30-9660-4d9d-a968-04fbcd5bbb0a"
      },
      "source": [
        "plot_vectors([v], [\"lightblue\"])\n",
        "plt.xlim(-2,15)\n",
        "plt.ylim(-2, 10)\n",
        "plt.show()"
      ],
      "execution_count": 5,
      "outputs": [
        {
          "output_type": "display_data",
          "data": {
            "image/png": "[encoded data removed]",
            "text/plain": [
              "<Figure size 432x288 with 1 Axes>"
            ]
          },
          "metadata": {
            "tags": [],
            "needs_background": "light"
          }
        }
      ]
    },
    {
      "cell_type": "markdown",
      "metadata": {
        "id": "6GczfjQ6zdsn"
      },
      "source": [
        "## Multiplication with identity matrix\n",
        "\n",
        "Multiplying a matrix with a vector can linearly transform the vector i.e. rotate or scale it. Only applying an identity matrix does not change the vector."
      ]
    },
    {
      "cell_type": "code",
      "metadata": {
        "colab": {
          "base_uri": "https://localhost:8080/"
        },
        "id": "cqg9uikvzG-S",
        "outputId": "16b27c0f-3f76-4a44-d4b4-58701781d492"
      },
      "source": [
        "I = np.array([[1,0], [0,1]])\n",
        "I"
      ],
      "execution_count": 6,
      "outputs": [
        {
          "output_type": "execute_result",
          "data": {
            "text/plain": [
              "array([[1, 0],\n",
              "       [0, 1]])"
            ]
          },
          "metadata": {
            "tags": []
          },
          "execution_count": 6
        }
      ]
    },
    {
      "cell_type": "code",
      "metadata": {
        "colab": {
          "base_uri": "https://localhost:8080/"
        },
        "id": "jLMzNbvUzxWK",
        "outputId": "052f9538-cc8b-485e-9fc1-8a40179edc5a"
      },
      "source": [
        "Iv = np.dot(I, v)\n",
        "Iv"
      ],
      "execution_count": 7,
      "outputs": [
        {
          "output_type": "execute_result",
          "data": {
            "text/plain": [
              "array([11,  7])"
            ]
          },
          "metadata": {
            "tags": []
          },
          "execution_count": 7
        }
      ]
    },
    {
      "cell_type": "code",
      "metadata": {
        "colab": {
          "base_uri": "https://localhost:8080/"
        },
        "id": "PYfNapB51FV8",
        "outputId": "2a2126be-5536-4c80-b5dc-51ab9098fa44"
      },
      "source": [
        "v == Iv"
      ],
      "execution_count": 8,
      "outputs": [
        {
          "output_type": "execute_result",
          "data": {
            "text/plain": [
              "array([ True,  True])"
            ]
          },
          "metadata": {
            "tags": []
          },
          "execution_count": 8
        }
      ]
    },
    {
      "cell_type": "code",
      "metadata": {
        "colab": {
          "base_uri": "https://localhost:8080/",
          "height": 269
        },
        "id": "F8hJjfv91HNR",
        "outputId": "8df9ca0d-31e6-477a-a302-f5f794ce6aad"
      },
      "source": [
        "plot_vectors([Iv], [\"blue\"])\n",
        "plt.xlim(-2,15)\n",
        "plt.ylim(-2, 10)\n",
        "plt.show()"
      ],
      "execution_count": 9,
      "outputs": [
        {
          "output_type": "display_data",
          "data": {
            "image/png": "[encoded data removed]",
            "text/plain": [
              "<Figure size 432x288 with 1 Axes>"
            ]
          },
          "metadata": {
            "tags": [],
            "needs_background": "light"
          }
        }
      ]
    },
    {
      "cell_type": "markdown",
      "metadata": {
        "id": "Hicr0nDP13Ac"
      },
      "source": [
        "## Reflection: Multiplication to flip over x-axis"
      ]
    },
    {
      "cell_type": "code",
      "metadata": {
        "colab": {
          "base_uri": "https://localhost:8080/"
        },
        "id": "QrnVnP1b1MQU",
        "outputId": "73709989-3390-4f4e-e3bc-1df790812b93"
      },
      "source": [
        "E = np.array([[1,0], [0,-1]])\n",
        "E"
      ],
      "execution_count": 10,
      "outputs": [
        {
          "output_type": "execute_result",
          "data": {
            "text/plain": [
              "array([[ 1,  0],\n",
              "       [ 0, -1]])"
            ]
          },
          "metadata": {
            "tags": []
          },
          "execution_count": 10
        }
      ]
    },
    {
      "cell_type": "code",
      "metadata": {
        "colab": {
          "base_uri": "https://localhost:8080/"
        },
        "id": "nDGaags91_TP",
        "outputId": "5322428a-a20a-4f30-95fc-493bc3343265"
      },
      "source": [
        "Ev = np.dot(E,v)\n",
        "Ev"
      ],
      "execution_count": 11,
      "outputs": [
        {
          "output_type": "execute_result",
          "data": {
            "text/plain": [
              "array([11, -7])"
            ]
          },
          "metadata": {
            "tags": []
          },
          "execution_count": 11
        }
      ]
    },
    {
      "cell_type": "code",
      "metadata": {
        "colab": {
          "base_uri": "https://localhost:8080/",
          "height": 269
        },
        "id": "uSAUrWIn2C41",
        "outputId": "68bd70eb-59a4-45ca-de3e-97401f2a120d"
      },
      "source": [
        "plot_vectors([v, Ev], [\"lightblue\", \"blue\"])\n",
        "plt.xlim(-2,15)\n",
        "plt.ylim(-10, 10)\n",
        "plt.show()"
      ],
      "execution_count": 12,
      "outputs": [
        {
          "output_type": "display_data",
          "data": {
            "image/png": "[encoded data removed]",
            "text/plain": [
              "<Figure size 432x288 with 1 Axes>"
            ]
          },
          "metadata": {
            "tags": [],
            "needs_background": "light"
          }
        }
      ]
    },
    {
      "cell_type": "markdown",
      "metadata": {
        "id": "W60DafPr2L80"
      },
      "source": [
        "## Reflection: Multiplication to flip over y-axis"
      ]
    },
    {
      "cell_type": "code",
      "metadata": {
        "colab": {
          "base_uri": "https://localhost:8080/"
        },
        "id": "ob0bk4M92GSL",
        "outputId": "da46dc0d-1639-43fa-ed2e-14c890acca8a"
      },
      "source": [
        "F = np.array([[-1,0], [0,1]])\n",
        "F"
      ],
      "execution_count": 13,
      "outputs": [
        {
          "output_type": "execute_result",
          "data": {
            "text/plain": [
              "array([[-1,  0],\n",
              "       [ 0,  1]])"
            ]
          },
          "metadata": {
            "tags": []
          },
          "execution_count": 13
        }
      ]
    },
    {
      "cell_type": "code",
      "metadata": {
        "colab": {
          "base_uri": "https://localhost:8080/"
        },
        "id": "1_xrV0Rq2eB6",
        "outputId": "fce69819-2b98-481e-e4ef-27c02a2eb95b"
      },
      "source": [
        "Fv = np.dot(F,v)\n",
        "Fv"
      ],
      "execution_count": 14,
      "outputs": [
        {
          "output_type": "execute_result",
          "data": {
            "text/plain": [
              "array([-11,   7])"
            ]
          },
          "metadata": {
            "tags": []
          },
          "execution_count": 14
        }
      ]
    },
    {
      "cell_type": "code",
      "metadata": {
        "colab": {
          "base_uri": "https://localhost:8080/",
          "height": 269
        },
        "id": "xlpIM7XN2gdj",
        "outputId": "db77f295-c634-4e11-e04d-f6837e72d08c"
      },
      "source": [
        "plot_vectors([v, Fv], [\"lightblue\", \"blue\"])\n",
        "plt.xlim(-15,15)\n",
        "plt.ylim(-2, 10)\n",
        "plt.show()"
      ],
      "execution_count": 15,
      "outputs": [
        {
          "output_type": "display_data",
          "data": {
            "image/png": "[encoded data removed]",
            "text/plain": [
              "<Figure size 432x288 with 1 Axes>"
            ]
          },
          "metadata": {
            "tags": [],
            "needs_background": "light"
          }
        }
      ]
    },
    {
      "cell_type": "markdown",
      "metadata": {
        "id": "kF6Z9vg48DQ2"
      },
      "source": [
        "## Vector concatenation & linearly independent transformation of columns (vectors)"
      ]
    },
    {
      "cell_type": "code",
      "metadata": {
        "colab": {
          "base_uri": "https://localhost:8080/"
        },
        "id": "DrKC3r_x2k5R",
        "outputId": "a37f3ba0-49da-4b69-dee1-f165f798c3db"
      },
      "source": [
        "v"
      ],
      "execution_count": 16,
      "outputs": [
        {
          "output_type": "execute_result",
          "data": {
            "text/plain": [
              "array([11,  7])"
            ]
          },
          "metadata": {
            "tags": []
          },
          "execution_count": 16
        }
      ]
    },
    {
      "cell_type": "code",
      "metadata": {
        "colab": {
          "base_uri": "https://localhost:8080/"
        },
        "id": "LKFztSlz8ms6",
        "outputId": "3de05140-2014-42c7-d0d7-bf3d28bbd535"
      },
      "source": [
        "v.shape"
      ],
      "execution_count": 17,
      "outputs": [
        {
          "output_type": "execute_result",
          "data": {
            "text/plain": [
              "(2,)"
            ]
          },
          "metadata": {
            "tags": []
          },
          "execution_count": 17
        }
      ]
    },
    {
      "cell_type": "code",
      "metadata": {
        "colab": {
          "base_uri": "https://localhost:8080/"
        },
        "id": "Mu3F7kE58hWd",
        "outputId": "7f842938-6ad2-4ded-87f3-980ddf94389a"
      },
      "source": [
        "np.matrix(v).shape"
      ],
      "execution_count": 18,
      "outputs": [
        {
          "output_type": "execute_result",
          "data": {
            "text/plain": [
              "(1, 2)"
            ]
          },
          "metadata": {
            "tags": []
          },
          "execution_count": 18
        }
      ]
    },
    {
      "cell_type": "code",
      "metadata": {
        "colab": {
          "base_uri": "https://localhost:8080/"
        },
        "id": "c5E9Fige8oN1",
        "outputId": "5411baa4-f824-416f-a817-e339963562b7"
      },
      "source": [
        "np.matrix(v).T"
      ],
      "execution_count": 19,
      "outputs": [
        {
          "output_type": "execute_result",
          "data": {
            "text/plain": [
              "matrix([[11],\n",
              "        [ 7]])"
            ]
          },
          "metadata": {
            "tags": []
          },
          "execution_count": 19
        }
      ]
    },
    {
      "cell_type": "code",
      "metadata": {
        "colab": {
          "base_uri": "https://localhost:8080/"
        },
        "id": "2XsBgt7j8rUW",
        "outputId": "ea0862f1-f5c2-4949-e8ab-6e36d43a5859"
      },
      "source": [
        "np.matrix(v).T.shape"
      ],
      "execution_count": 20,
      "outputs": [
        {
          "output_type": "execute_result",
          "data": {
            "text/plain": [
              "(2, 1)"
            ]
          },
          "metadata": {
            "tags": []
          },
          "execution_count": 20
        }
      ]
    },
    {
      "cell_type": "code",
      "metadata": {
        "id": "5c5jd3bB8SMk"
      },
      "source": [
        "v2 = np.array([-4, -4])\n",
        "v3 = np.array([0, 6])"
      ],
      "execution_count": 21,
      "outputs": []
    },
    {
      "cell_type": "code",
      "metadata": {
        "colab": {
          "base_uri": "https://localhost:8080/"
        },
        "id": "jUsq2xeN8u6b",
        "outputId": "381309f2-33e4-4b43-9214-e6c63c28c9c9"
      },
      "source": [
        "V = np.concatenate((np.matrix(v).T,\n",
        "                    np.matrix(v2).T,\n",
        "                    np.matrix(v3).T), axis=1)\n",
        "V"
      ],
      "execution_count": 22,
      "outputs": [
        {
          "output_type": "execute_result",
          "data": {
            "text/plain": [
              "matrix([[11, -4,  0],\n",
              "        [ 7, -4,  6]])"
            ]
          },
          "metadata": {
            "tags": []
          },
          "execution_count": 22
        }
      ]
    },
    {
      "cell_type": "code",
      "metadata": {
        "colab": {
          "base_uri": "https://localhost:8080/"
        },
        "id": "RDv0Ko1j9A1g",
        "outputId": "67eef642-12ef-4449-c918-0656a29b020c"
      },
      "source": [
        "V.shape"
      ],
      "execution_count": 23,
      "outputs": [
        {
          "output_type": "execute_result",
          "data": {
            "text/plain": [
              "(2, 3)"
            ]
          },
          "metadata": {
            "tags": []
          },
          "execution_count": 23
        }
      ]
    },
    {
      "cell_type": "code",
      "metadata": {
        "colab": {
          "base_uri": "https://localhost:8080/"
        },
        "id": "wbmh9pY_88UA",
        "outputId": "dfde08c6-0ee9-49b9-dda1-a5a662274dde"
      },
      "source": [
        "I"
      ],
      "execution_count": 24,
      "outputs": [
        {
          "output_type": "execute_result",
          "data": {
            "text/plain": [
              "array([[1, 0],\n",
              "       [0, 1]])"
            ]
          },
          "metadata": {
            "tags": []
          },
          "execution_count": 24
        }
      ]
    },
    {
      "cell_type": "code",
      "metadata": {
        "colab": {
          "base_uri": "https://localhost:8080/"
        },
        "id": "YIIZbXGp8_HP",
        "outputId": "6829555c-5a28-433e-ffdf-79a0b5c2a251"
      },
      "source": [
        "I.shape"
      ],
      "execution_count": 25,
      "outputs": [
        {
          "output_type": "execute_result",
          "data": {
            "text/plain": [
              "(2, 2)"
            ]
          },
          "metadata": {
            "tags": []
          },
          "execution_count": 25
        }
      ]
    },
    {
      "cell_type": "code",
      "metadata": {
        "colab": {
          "base_uri": "https://localhost:8080/"
        },
        "id": "wLLMXQ8-9ADP",
        "outputId": "a99d2922-1401-426f-8989-27b4812e7cf9"
      },
      "source": [
        "IV = np.dot(I,V)\n",
        "IV"
      ],
      "execution_count": 26,
      "outputs": [
        {
          "output_type": "execute_result",
          "data": {
            "text/plain": [
              "matrix([[11, -4,  0],\n",
              "        [ 7, -4,  6]])"
            ]
          },
          "metadata": {
            "tags": []
          },
          "execution_count": 26
        }
      ]
    },
    {
      "cell_type": "code",
      "metadata": {
        "colab": {
          "base_uri": "https://localhost:8080/"
        },
        "id": "km5AOYbw9F_g",
        "outputId": "e56cbe5d-0255-4e2b-82e1-68e7a49727b1"
      },
      "source": [
        "A = np.array([[-3, 2], [0.5, -1.5]])\n",
        "A"
      ],
      "execution_count": 27,
      "outputs": [
        {
          "output_type": "execute_result",
          "data": {
            "text/plain": [
              "array([[-3. ,  2. ],\n",
              "       [ 0.5, -1.5]])"
            ]
          },
          "metadata": {
            "tags": []
          },
          "execution_count": 27
        }
      ]
    },
    {
      "cell_type": "code",
      "metadata": {
        "colab": {
          "base_uri": "https://localhost:8080/"
        },
        "id": "9s6-YO6X9Ia3",
        "outputId": "517f2491-9de8-446c-f1b1-7a414e7cde2e"
      },
      "source": [
        "A.shape"
      ],
      "execution_count": 28,
      "outputs": [
        {
          "output_type": "execute_result",
          "data": {
            "text/plain": [
              "(2, 2)"
            ]
          },
          "metadata": {
            "tags": []
          },
          "execution_count": 28
        }
      ]
    },
    {
      "cell_type": "code",
      "metadata": {
        "colab": {
          "base_uri": "https://localhost:8080/"
        },
        "id": "hqatJq-g9UIi",
        "outputId": "d6631560-f79d-43ec-e187-7535e3e0eb2a"
      },
      "source": [
        "AV = np.dot(A,V)\n",
        "AV"
      ],
      "execution_count": 29,
      "outputs": [
        {
          "output_type": "execute_result",
          "data": {
            "text/plain": [
              "matrix([[-19.,   4.,  12.],\n",
              "        [ -5.,   4.,  -9.]])"
            ]
          },
          "metadata": {
            "tags": []
          },
          "execution_count": 29
        }
      ]
    },
    {
      "cell_type": "code",
      "metadata": {
        "id": "bbAmaoRh9XMJ"
      },
      "source": [
        "# function to convert column of matrix to 1D vector: \n",
        "def vectorfy(mtrx, clmn):\n",
        "    return np.array(mtrx[:,clmn]).reshape(-1)"
      ],
      "execution_count": 30,
      "outputs": []
    },
    {
      "cell_type": "code",
      "metadata": {
        "colab": {
          "base_uri": "https://localhost:8080/"
        },
        "id": "jzlSBIxe9hfo",
        "outputId": "60786e22-96e2-40c6-8fc6-d37f70093793"
      },
      "source": [
        "vectorfy(V, 0)"
      ],
      "execution_count": 31,
      "outputs": [
        {
          "output_type": "execute_result",
          "data": {
            "text/plain": [
              "array([11,  7])"
            ]
          },
          "metadata": {
            "tags": []
          },
          "execution_count": 31
        }
      ]
    },
    {
      "cell_type": "code",
      "metadata": {
        "colab": {
          "base_uri": "https://localhost:8080/"
        },
        "id": "RxMm1u3j9kFE",
        "outputId": "68189d60-2281-412b-d85b-7f9e29c21857"
      },
      "source": [
        "vectorfy(V,0) == v"
      ],
      "execution_count": 32,
      "outputs": [
        {
          "output_type": "execute_result",
          "data": {
            "text/plain": [
              "array([ True,  True])"
            ]
          },
          "metadata": {
            "tags": []
          },
          "execution_count": 32
        }
      ]
    },
    {
      "cell_type": "code",
      "metadata": {
        "colab": {
          "base_uri": "https://localhost:8080/",
          "height": 269
        },
        "id": "eZDRaXOS9oVz",
        "outputId": "3295d8cf-0817-4f51-f5f2-0ac980e62cab"
      },
      "source": [
        "plot_vectors([vectorfy(V, 0), vectorfy(V, 1), vectorfy(V, 2),\n",
        "             vectorfy(AV, 0), vectorfy(AV, 1), vectorfy(AV, 2)], \n",
        "            ['lightblue', 'lightgreen', 'orange',\n",
        "             'blue', 'green', 'red'])\n",
        "plt.xlim(-20, 20)\n",
        "plt.ylim(-20, 20)\n",
        "plt.show()"
      ],
      "execution_count": 33,
      "outputs": [
        {
          "output_type": "display_data",
          "data": {
            "image/png": "[encoded data removed]",
            "text/plain": [
              "<Figure size 432x288 with 1 Axes>"
            ]
          },
          "metadata": {
            "tags": [],
            "needs_background": "light"
          }
        }
      ]
    },
    {
      "cell_type": "code",
      "metadata": {
        "id": "YICAx0Zs93Wb"
      },
      "source": [
        ""
      ],
      "execution_count": 33,
      "outputs": []
    }
  ]
}